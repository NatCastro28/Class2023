{
  "nbformat": 4,
  "nbformat_minor": 0,
  "metadata": {
    "colab": {
      "provenance": [],
      "include_colab_link": true
    },
    "kernelspec": {
      "name": "python3",
      "display_name": "Python 3"
    },
    "language_info": {
      "name": "python"
    }
  },
  "cells": [
    {
      "cell_type": "markdown",
      "metadata": {
        "id": "view-in-github",
        "colab_type": "text"
      },
      "source": [
        "<a href=\"https://colab.research.google.com/github/NatCastro28/Class2023/blob/main/Regex%26TextAnalysis.ipynb\" target=\"_parent\"><img src=\"https://colab.research.google.com/assets/colab-badge.svg\" alt=\"Open In Colab\"/></a>"
      ]
    },
    {
      "cell_type": "markdown",
      "source": [
        "#Paquetería"
      ],
      "metadata": {
        "id": "IKnJQi8EM94Z"
      }
    },
    {
      "cell_type": "code",
      "source": [
        "!pip install pdftools"
      ],
      "metadata": {
        "colab": {
          "base_uri": "https://localhost:8080/"
        },
        "id": "T8BtpwtHP-yX",
        "outputId": "b7b5754c-2b16-48bf-8dc1-bb0a06d11ef5"
      },
      "execution_count": null,
      "outputs": [
        {
          "output_type": "stream",
          "name": "stdout",
          "text": [
            "Looking in indexes: https://pypi.org/simple, https://us-python.pkg.dev/colab-wheels/public/simple/\n",
            "Requirement already satisfied: pdftools in /usr/local/lib/python3.10/dist-packages (2.0.2)\n",
            "Requirement already satisfied: PyPdf2 in /usr/local/lib/python3.10/dist-packages (from pdftools) (3.0.1)\n"
          ]
        }
      ]
    },
    {
      "cell_type": "code",
      "source": [
        "!pip install rpy2==3.5.1\n",
        "!pip install pdfminer.six"
      ],
      "metadata": {
        "colab": {
          "base_uri": "https://localhost:8080/"
        },
        "id": "rCCXgGnz5GaR",
        "outputId": "33606bcd-5e4d-484f-b0dc-dbad5e2c73ec"
      },
      "execution_count": null,
      "outputs": [
        {
          "output_type": "stream",
          "name": "stdout",
          "text": [
            "Looking in indexes: https://pypi.org/simple, https://us-python.pkg.dev/colab-wheels/public/simple/\n",
            "Requirement already satisfied: rpy2==3.5.1 in /usr/local/lib/python3.10/dist-packages (3.5.1)\n",
            "Requirement already satisfied: cffi>=1.10.0 in /usr/local/lib/python3.10/dist-packages (from rpy2==3.5.1) (1.15.1)\n",
            "Requirement already satisfied: jinja2 in /usr/local/lib/python3.10/dist-packages (from rpy2==3.5.1) (3.1.2)\n",
            "Requirement already satisfied: pytz in /usr/local/lib/python3.10/dist-packages (from rpy2==3.5.1) (2022.7.1)\n",
            "Requirement already satisfied: tzlocal in /usr/local/lib/python3.10/dist-packages (from rpy2==3.5.1) (4.3)\n",
            "Requirement already satisfied: pycparser in /usr/local/lib/python3.10/dist-packages (from cffi>=1.10.0->rpy2==3.5.1) (2.21)\n",
            "Requirement already satisfied: MarkupSafe>=2.0 in /usr/local/lib/python3.10/dist-packages (from jinja2->rpy2==3.5.1) (2.1.2)\n",
            "Requirement already satisfied: pytz-deprecation-shim in /usr/local/lib/python3.10/dist-packages (from tzlocal->rpy2==3.5.1) (0.1.0.post0)\n",
            "Requirement already satisfied: tzdata in /usr/local/lib/python3.10/dist-packages (from pytz-deprecation-shim->tzlocal->rpy2==3.5.1) (2023.3)\n",
            "Looking in indexes: https://pypi.org/simple, https://us-python.pkg.dev/colab-wheels/public/simple/\n",
            "Requirement already satisfied: pdfminer.six in /usr/local/lib/python3.10/dist-packages (20221105)\n",
            "Requirement already satisfied: charset-normalizer>=2.0.0 in /usr/local/lib/python3.10/dist-packages (from pdfminer.six) (2.0.12)\n",
            "Requirement already satisfied: cryptography>=36.0.0 in /usr/local/lib/python3.10/dist-packages (from pdfminer.six) (40.0.2)\n",
            "Requirement already satisfied: cffi>=1.12 in /usr/local/lib/python3.10/dist-packages (from cryptography>=36.0.0->pdfminer.six) (1.15.1)\n",
            "Requirement already satisfied: pycparser in /usr/local/lib/python3.10/dist-packages (from cffi>=1.12->cryptography>=36.0.0->pdfminer.six) (2.21)\n"
          ]
        }
      ]
    },
    {
      "cell_type": "code",
      "source": [
        "# activate R magic\n",
        "%load_ext rpy2.ipython\n",
        "     "
      ],
      "metadata": {
        "id": "WYzMsS385F2q"
      },
      "execution_count": null,
      "outputs": []
    },
    {
      "cell_type": "code",
      "source": [
        "import rpy2.robjects as robjects\n",
        "from rpy2.robjects.packages import importr\n",
        "\n",
        "# Instalar paquetes en R\n",
        "packages = [\"syuzhet\", \"stringr\", \"dplyr\", \"rtweet\", \"twitteR\", \"tibble\", \"pdftools\",\"gsub\", \"quanteda\", \"tm\", \"stopwords\", \"RColorBrewer\", \"ggplot2\", \"wordcloud\"]\n",
        "utils = importr(\"utils\")\n",
        "utils.chooseCRANmirror(ind=1)\n",
        "utils.install_packages(robjects.StrVector(packages))\n",
        "\n"
      ],
      "metadata": {
        "colab": {
          "base_uri": "https://localhost:8080/"
        },
        "id": "9aQYBqVoSGTG",
        "outputId": "9929e8cd-bbe2-42db-97b7-870b590375b9"
      },
      "execution_count": null,
      "outputs": [
        {
          "output_type": "stream",
          "name": "stderr",
          "text": [
            "WARNING:rpy2.rinterface_lib.callbacks:R[write to console]: Installing packages into ‘/usr/local/lib/R/site-library’\n",
            "(as ‘lib’ is unspecified)\n",
            "\n",
            "WARNING:rpy2.rinterface_lib.callbacks:R[write to console]: trying URL 'https://cloud.r-project.org/src/contrib/syuzhet_1.0.6.tar.gz'\n",
            "\n",
            "WARNING:rpy2.rinterface_lib.callbacks:R[write to console]: Content type 'application/x-gzip'\n",
            "WARNING:rpy2.rinterface_lib.callbacks:R[write to console]:  length 3059075 bytes (2.9 MB)\n",
            "\n",
            "WARNING:rpy2.rinterface_lib.callbacks:R[write to console]: =\n",
            "WARNING:rpy2.rinterface_lib.callbacks:R[write to console]: =\n",
            "WARNING:rpy2.rinterface_lib.callbacks:R[write to console]: =\n",
            "WARNING:rpy2.rinterface_lib.callbacks:R[write to console]: =\n",
            "WARNING:rpy2.rinterface_lib.callbacks:R[write to console]: =\n",
            "WARNING:rpy2.rinterface_lib.callbacks:R[write to console]: =\n",
            "WARNING:rpy2.rinterface_lib.callbacks:R[write to console]: =\n",
            "WARNING:rpy2.rinterface_lib.callbacks:R[write to console]: =\n",
            "WARNING:rpy2.rinterface_lib.callbacks:R[write to console]: =\n",
            "WARNING:rpy2.rinterface_lib.callbacks:R[write to console]: =\n",
            "WARNING:rpy2.rinterface_lib.callbacks:R[write to console]: =\n",
            "WARNING:rpy2.rinterface_lib.callbacks:R[write to console]: =\n",
            "WARNING:rpy2.rinterface_lib.callbacks:R[write to console]: =\n",
            "WARNING:rpy2.rinterface_lib.callbacks:R[write to console]: =\n",
            "WARNING:rpy2.rinterface_lib.callbacks:R[write to console]: =\n",
            "WARNING:rpy2.rinterface_lib.callbacks:R[write to console]: =\n",
            "WARNING:rpy2.rinterface_lib.callbacks:R[write to console]: =\n",
            "WARNING:rpy2.rinterface_lib.callbacks:R[write to console]: =\n",
            "WARNING:rpy2.rinterface_lib.callbacks:R[write to console]: =\n",
            "WARNING:rpy2.rinterface_lib.callbacks:R[write to console]: =\n",
            "WARNING:rpy2.rinterface_lib.callbacks:R[write to console]: =\n",
            "WARNING:rpy2.rinterface_lib.callbacks:R[write to console]: =\n",
            "WARNING:rpy2.rinterface_lib.callbacks:R[write to console]: =\n",
            "WARNING:rpy2.rinterface_lib.callbacks:R[write to console]: =\n",
            "WARNING:rpy2.rinterface_lib.callbacks:R[write to console]: =\n",
            "WARNING:rpy2.rinterface_lib.callbacks:R[write to console]: =\n",
            "WARNING:rpy2.rinterface_lib.callbacks:R[write to console]: =\n",
            "WARNING:rpy2.rinterface_lib.callbacks:R[write to console]: =\n",
            "WARNING:rpy2.rinterface_lib.callbacks:R[write to console]: =\n",
            "WARNING:rpy2.rinterface_lib.callbacks:R[write to console]: =\n",
            "WARNING:rpy2.rinterface_lib.callbacks:R[write to console]: =\n",
            "WARNING:rpy2.rinterface_lib.callbacks:R[write to console]: =\n",
            "WARNING:rpy2.rinterface_lib.callbacks:R[write to console]: =\n",
            "WARNING:rpy2.rinterface_lib.callbacks:R[write to console]: =\n",
            "WARNING:rpy2.rinterface_lib.callbacks:R[write to console]: =\n",
            "WARNING:rpy2.rinterface_lib.callbacks:R[write to console]: =\n",
            "WARNING:rpy2.rinterface_lib.callbacks:R[write to console]: =\n",
            "WARNING:rpy2.rinterface_lib.callbacks:R[write to console]: =\n",
            "WARNING:rpy2.rinterface_lib.callbacks:R[write to console]: =\n",
            "WARNING:rpy2.rinterface_lib.callbacks:R[write to console]: =\n",
            "WARNING:rpy2.rinterface_lib.callbacks:R[write to console]: =\n",
            "WARNING:rpy2.rinterface_lib.callbacks:R[write to console]: =\n",
            "WARNING:rpy2.rinterface_lib.callbacks:R[write to console]: =\n",
            "WARNING:rpy2.rinterface_lib.callbacks:R[write to console]: =\n",
            "WARNING:rpy2.rinterface_lib.callbacks:R[write to console]: =\n",
            "WARNING:rpy2.rinterface_lib.callbacks:R[write to console]: =\n",
            "WARNING:rpy2.rinterface_lib.callbacks:R[write to console]: =\n",
            "WARNING:rpy2.rinterface_lib.callbacks:R[write to console]: =\n",
            "WARNING:rpy2.rinterface_lib.callbacks:R[write to console]: =\n",
            "WARNING:rpy2.rinterface_lib.callbacks:R[write to console]: =\n",
            "WARNING:rpy2.rinterface_lib.callbacks:R[write to console]: \n",
            "\n",
            "WARNING:rpy2.rinterface_lib.callbacks:R[write to console]: downloaded 2.9 MB\n",
            "\n",
            "\n",
            "WARNING:rpy2.rinterface_lib.callbacks:R[write to console]: trying URL 'https://cloud.r-project.org/src/contrib/stringr_1.5.0.tar.gz'\n",
            "\n",
            "WARNING:rpy2.rinterface_lib.callbacks:R[write to console]: Content type 'application/x-gzip'\n",
            "WARNING:rpy2.rinterface_lib.callbacks:R[write to console]:  length 175699 bytes (171 KB)\n",
            "\n",
            "WARNING:rpy2.rinterface_lib.callbacks:R[write to console]: =\n",
            "WARNING:rpy2.rinterface_lib.callbacks:R[write to console]: =\n",
            "WARNING:rpy2.rinterface_lib.callbacks:R[write to console]: =\n",
            "WARNING:rpy2.rinterface_lib.callbacks:R[write to console]: =\n",
            "WARNING:rpy2.rinterface_lib.callbacks:R[write to console]: =\n",
            "WARNING:rpy2.rinterface_lib.callbacks:R[write to console]: =\n",
            "WARNING:rpy2.rinterface_lib.callbacks:R[write to console]: =\n",
            "WARNING:rpy2.rinterface_lib.callbacks:R[write to console]: =\n",
            "WARNING:rpy2.rinterface_lib.callbacks:R[write to console]: =\n",
            "WARNING:rpy2.rinterface_lib.callbacks:R[write to console]: =\n",
            "WARNING:rpy2.rinterface_lib.callbacks:R[write to console]: =\n",
            "WARNING:rpy2.rinterface_lib.callbacks:R[write to console]: =\n",
            "WARNING:rpy2.rinterface_lib.callbacks:R[write to console]: =\n",
            "WARNING:rpy2.rinterface_lib.callbacks:R[write to console]: =\n",
            "WARNING:rpy2.rinterface_lib.callbacks:R[write to console]: =\n",
            "WARNING:rpy2.rinterface_lib.callbacks:R[write to console]: =\n",
            "WARNING:rpy2.rinterface_lib.callbacks:R[write to console]: =\n",
            "WARNING:rpy2.rinterface_lib.callbacks:R[write to console]: =\n",
            "WARNING:rpy2.rinterface_lib.callbacks:R[write to console]: =\n",
            "WARNING:rpy2.rinterface_lib.callbacks:R[write to console]: =\n",
            "WARNING:rpy2.rinterface_lib.callbacks:R[write to console]: =\n",
            "WARNING:rpy2.rinterface_lib.callbacks:R[write to console]: =\n",
            "WARNING:rpy2.rinterface_lib.callbacks:R[write to console]: =\n",
            "WARNING:rpy2.rinterface_lib.callbacks:R[write to console]: =\n",
            "WARNING:rpy2.rinterface_lib.callbacks:R[write to console]: =\n",
            "WARNING:rpy2.rinterface_lib.callbacks:R[write to console]: =\n",
            "WARNING:rpy2.rinterface_lib.callbacks:R[write to console]: =\n",
            "WARNING:rpy2.rinterface_lib.callbacks:R[write to console]: =\n",
            "WARNING:rpy2.rinterface_lib.callbacks:R[write to console]: =\n",
            "WARNING:rpy2.rinterface_lib.callbacks:R[write to console]: =\n",
            "WARNING:rpy2.rinterface_lib.callbacks:R[write to console]: =\n",
            "WARNING:rpy2.rinterface_lib.callbacks:R[write to console]: =\n",
            "WARNING:rpy2.rinterface_lib.callbacks:R[write to console]: =\n",
            "WARNING:rpy2.rinterface_lib.callbacks:R[write to console]: =\n",
            "WARNING:rpy2.rinterface_lib.callbacks:R[write to console]: =\n",
            "WARNING:rpy2.rinterface_lib.callbacks:R[write to console]: =\n",
            "WARNING:rpy2.rinterface_lib.callbacks:R[write to console]: =\n",
            "WARNING:rpy2.rinterface_lib.callbacks:R[write to console]: =\n",
            "WARNING:rpy2.rinterface_lib.callbacks:R[write to console]: =\n",
            "WARNING:rpy2.rinterface_lib.callbacks:R[write to console]: =\n",
            "WARNING:rpy2.rinterface_lib.callbacks:R[write to console]: =\n",
            "WARNING:rpy2.rinterface_lib.callbacks:R[write to console]: =\n",
            "WARNING:rpy2.rinterface_lib.callbacks:R[write to console]: =\n",
            "WARNING:rpy2.rinterface_lib.callbacks:R[write to console]: =\n",
            "WARNING:rpy2.rinterface_lib.callbacks:R[write to console]: =\n",
            "WARNING:rpy2.rinterface_lib.callbacks:R[write to console]: =\n",
            "WARNING:rpy2.rinterface_lib.callbacks:R[write to console]: =\n",
            "WARNING:rpy2.rinterface_lib.callbacks:R[write to console]: =\n",
            "WARNING:rpy2.rinterface_lib.callbacks:R[write to console]: =\n",
            "WARNING:rpy2.rinterface_lib.callbacks:R[write to console]: =\n",
            "WARNING:rpy2.rinterface_lib.callbacks:R[write to console]: \n",
            "\n",
            "WARNING:rpy2.rinterface_lib.callbacks:R[write to console]: downloaded 171 KB\n",
            "\n",
            "\n",
            "WARNING:rpy2.rinterface_lib.callbacks:R[write to console]: trying URL 'https://cloud.r-project.org/src/contrib/dplyr_1.1.2.tar.gz'\n",
            "\n",
            "WARNING:rpy2.rinterface_lib.callbacks:R[write to console]: Content type 'application/x-gzip'\n",
            "WARNING:rpy2.rinterface_lib.callbacks:R[write to console]:  length 1083348 bytes (1.0 MB)\n",
            "\n",
            "WARNING:rpy2.rinterface_lib.callbacks:R[write to console]: =\n",
            "WARNING:rpy2.rinterface_lib.callbacks:R[write to console]: =\n",
            "WARNING:rpy2.rinterface_lib.callbacks:R[write to console]: =\n",
            "WARNING:rpy2.rinterface_lib.callbacks:R[write to console]: =\n",
            "WARNING:rpy2.rinterface_lib.callbacks:R[write to console]: =\n",
            "WARNING:rpy2.rinterface_lib.callbacks:R[write to console]: =\n",
            "WARNING:rpy2.rinterface_lib.callbacks:R[write to console]: =\n",
            "WARNING:rpy2.rinterface_lib.callbacks:R[write to console]: =\n",
            "WARNING:rpy2.rinterface_lib.callbacks:R[write to console]: =\n",
            "WARNING:rpy2.rinterface_lib.callbacks:R[write to console]: =\n",
            "WARNING:rpy2.rinterface_lib.callbacks:R[write to console]: =\n",
            "WARNING:rpy2.rinterface_lib.callbacks:R[write to console]: =\n",
            "WARNING:rpy2.rinterface_lib.callbacks:R[write to console]: =\n",
            "WARNING:rpy2.rinterface_lib.callbacks:R[write to console]: =\n",
            "WARNING:rpy2.rinterface_lib.callbacks:R[write to console]: =\n",
            "WARNING:rpy2.rinterface_lib.callbacks:R[write to console]: =\n",
            "WARNING:rpy2.rinterface_lib.callbacks:R[write to console]: =\n",
            "WARNING:rpy2.rinterface_lib.callbacks:R[write to console]: =\n",
            "WARNING:rpy2.rinterface_lib.callbacks:R[write to console]: =\n",
            "WARNING:rpy2.rinterface_lib.callbacks:R[write to console]: =\n",
            "WARNING:rpy2.rinterface_lib.callbacks:R[write to console]: =\n",
            "WARNING:rpy2.rinterface_lib.callbacks:R[write to console]: =\n",
            "WARNING:rpy2.rinterface_lib.callbacks:R[write to console]: =\n",
            "WARNING:rpy2.rinterface_lib.callbacks:R[write to console]: =\n",
            "WARNING:rpy2.rinterface_lib.callbacks:R[write to console]: =\n",
            "WARNING:rpy2.rinterface_lib.callbacks:R[write to console]: =\n",
            "WARNING:rpy2.rinterface_lib.callbacks:R[write to console]: =\n",
            "WARNING:rpy2.rinterface_lib.callbacks:R[write to console]: =\n",
            "WARNING:rpy2.rinterface_lib.callbacks:R[write to console]: =\n",
            "WARNING:rpy2.rinterface_lib.callbacks:R[write to console]: =\n",
            "WARNING:rpy2.rinterface_lib.callbacks:R[write to console]: =\n",
            "WARNING:rpy2.rinterface_lib.callbacks:R[write to console]: =\n",
            "WARNING:rpy2.rinterface_lib.callbacks:R[write to console]: =\n",
            "WARNING:rpy2.rinterface_lib.callbacks:R[write to console]: =\n",
            "WARNING:rpy2.rinterface_lib.callbacks:R[write to console]: =\n",
            "WARNING:rpy2.rinterface_lib.callbacks:R[write to console]: =\n",
            "WARNING:rpy2.rinterface_lib.callbacks:R[write to console]: =\n",
            "WARNING:rpy2.rinterface_lib.callbacks:R[write to console]: =\n",
            "WARNING:rpy2.rinterface_lib.callbacks:R[write to console]: =\n",
            "WARNING:rpy2.rinterface_lib.callbacks:R[write to console]: =\n",
            "WARNING:rpy2.rinterface_lib.callbacks:R[write to console]: =\n",
            "WARNING:rpy2.rinterface_lib.callbacks:R[write to console]: =\n",
            "WARNING:rpy2.rinterface_lib.callbacks:R[write to console]: =\n",
            "WARNING:rpy2.rinterface_lib.callbacks:R[write to console]: =\n",
            "WARNING:rpy2.rinterface_lib.callbacks:R[write to console]: =\n",
            "WARNING:rpy2.rinterface_lib.callbacks:R[write to console]: =\n",
            "WARNING:rpy2.rinterface_lib.callbacks:R[write to console]: =\n",
            "WARNING:rpy2.rinterface_lib.callbacks:R[write to console]: =\n",
            "WARNING:rpy2.rinterface_lib.callbacks:R[write to console]: =\n",
            "WARNING:rpy2.rinterface_lib.callbacks:R[write to console]: =\n",
            "WARNING:rpy2.rinterface_lib.callbacks:R[write to console]: \n",
            "\n",
            "WARNING:rpy2.rinterface_lib.callbacks:R[write to console]: downloaded 1.0 MB\n",
            "\n",
            "\n",
            "WARNING:rpy2.rinterface_lib.callbacks:R[write to console]: trying URL 'https://cloud.r-project.org/src/contrib/rtweet_1.1.0.tar.gz'\n",
            "\n",
            "WARNING:rpy2.rinterface_lib.callbacks:R[write to console]: Content type 'application/x-gzip'\n",
            "WARNING:rpy2.rinterface_lib.callbacks:R[write to console]:  length 2988701 bytes (2.9 MB)\n",
            "\n",
            "WARNING:rpy2.rinterface_lib.callbacks:R[write to console]: =\n",
            "WARNING:rpy2.rinterface_lib.callbacks:R[write to console]: =\n",
            "WARNING:rpy2.rinterface_lib.callbacks:R[write to console]: =\n",
            "WARNING:rpy2.rinterface_lib.callbacks:R[write to console]: =\n",
            "WARNING:rpy2.rinterface_lib.callbacks:R[write to console]: =\n",
            "WARNING:rpy2.rinterface_lib.callbacks:R[write to console]: =\n",
            "WARNING:rpy2.rinterface_lib.callbacks:R[write to console]: =\n",
            "WARNING:rpy2.rinterface_lib.callbacks:R[write to console]: =\n",
            "WARNING:rpy2.rinterface_lib.callbacks:R[write to console]: =\n",
            "WARNING:rpy2.rinterface_lib.callbacks:R[write to console]: =\n",
            "WARNING:rpy2.rinterface_lib.callbacks:R[write to console]: =\n",
            "WARNING:rpy2.rinterface_lib.callbacks:R[write to console]: =\n",
            "WARNING:rpy2.rinterface_lib.callbacks:R[write to console]: =\n",
            "WARNING:rpy2.rinterface_lib.callbacks:R[write to console]: =\n",
            "WARNING:rpy2.rinterface_lib.callbacks:R[write to console]: =\n",
            "WARNING:rpy2.rinterface_lib.callbacks:R[write to console]: =\n",
            "WARNING:rpy2.rinterface_lib.callbacks:R[write to console]: =\n",
            "WARNING:rpy2.rinterface_lib.callbacks:R[write to console]: =\n",
            "WARNING:rpy2.rinterface_lib.callbacks:R[write to console]: =\n",
            "WARNING:rpy2.rinterface_lib.callbacks:R[write to console]: =\n",
            "WARNING:rpy2.rinterface_lib.callbacks:R[write to console]: =\n",
            "WARNING:rpy2.rinterface_lib.callbacks:R[write to console]: =\n",
            "WARNING:rpy2.rinterface_lib.callbacks:R[write to console]: =\n",
            "WARNING:rpy2.rinterface_lib.callbacks:R[write to console]: =\n",
            "WARNING:rpy2.rinterface_lib.callbacks:R[write to console]: =\n",
            "WARNING:rpy2.rinterface_lib.callbacks:R[write to console]: =\n",
            "WARNING:rpy2.rinterface_lib.callbacks:R[write to console]: =\n",
            "WARNING:rpy2.rinterface_lib.callbacks:R[write to console]: =\n",
            "WARNING:rpy2.rinterface_lib.callbacks:R[write to console]: =\n",
            "WARNING:rpy2.rinterface_lib.callbacks:R[write to console]: =\n",
            "WARNING:rpy2.rinterface_lib.callbacks:R[write to console]: =\n",
            "WARNING:rpy2.rinterface_lib.callbacks:R[write to console]: =\n",
            "WARNING:rpy2.rinterface_lib.callbacks:R[write to console]: =\n",
            "WARNING:rpy2.rinterface_lib.callbacks:R[write to console]: =\n",
            "WARNING:rpy2.rinterface_lib.callbacks:R[write to console]: =\n",
            "WARNING:rpy2.rinterface_lib.callbacks:R[write to console]: =\n",
            "WARNING:rpy2.rinterface_lib.callbacks:R[write to console]: =\n",
            "WARNING:rpy2.rinterface_lib.callbacks:R[write to console]: =\n",
            "WARNING:rpy2.rinterface_lib.callbacks:R[write to console]: =\n",
            "WARNING:rpy2.rinterface_lib.callbacks:R[write to console]: =\n",
            "WARNING:rpy2.rinterface_lib.callbacks:R[write to console]: =\n",
            "WARNING:rpy2.rinterface_lib.callbacks:R[write to console]: =\n",
            "WARNING:rpy2.rinterface_lib.callbacks:R[write to console]: =\n",
            "WARNING:rpy2.rinterface_lib.callbacks:R[write to console]: =\n",
            "WARNING:rpy2.rinterface_lib.callbacks:R[write to console]: =\n",
            "WARNING:rpy2.rinterface_lib.callbacks:R[write to console]: =\n",
            "WARNING:rpy2.rinterface_lib.callbacks:R[write to console]: =\n",
            "WARNING:rpy2.rinterface_lib.callbacks:R[write to console]: =\n",
            "WARNING:rpy2.rinterface_lib.callbacks:R[write to console]: =\n",
            "WARNING:rpy2.rinterface_lib.callbacks:R[write to console]: =\n",
            "WARNING:rpy2.rinterface_lib.callbacks:R[write to console]: \n",
            "\n",
            "WARNING:rpy2.rinterface_lib.callbacks:R[write to console]: downloaded 2.9 MB\n",
            "\n",
            "\n",
            "WARNING:rpy2.rinterface_lib.callbacks:R[write to console]: trying URL 'https://cloud.r-project.org/src/contrib/twitteR_1.1.9.tar.gz'\n",
            "\n",
            "WARNING:rpy2.rinterface_lib.callbacks:R[write to console]: Content type 'application/x-gzip'\n",
            "WARNING:rpy2.rinterface_lib.callbacks:R[write to console]:  length 215838 bytes (210 KB)\n",
            "\n",
            "WARNING:rpy2.rinterface_lib.callbacks:R[write to console]: =\n",
            "WARNING:rpy2.rinterface_lib.callbacks:R[write to console]: =\n",
            "WARNING:rpy2.rinterface_lib.callbacks:R[write to console]: =\n",
            "WARNING:rpy2.rinterface_lib.callbacks:R[write to console]: =\n",
            "WARNING:rpy2.rinterface_lib.callbacks:R[write to console]: =\n",
            "WARNING:rpy2.rinterface_lib.callbacks:R[write to console]: =\n",
            "WARNING:rpy2.rinterface_lib.callbacks:R[write to console]: =\n",
            "WARNING:rpy2.rinterface_lib.callbacks:R[write to console]: =\n",
            "WARNING:rpy2.rinterface_lib.callbacks:R[write to console]: =\n",
            "WARNING:rpy2.rinterface_lib.callbacks:R[write to console]: =\n",
            "WARNING:rpy2.rinterface_lib.callbacks:R[write to console]: =\n",
            "WARNING:rpy2.rinterface_lib.callbacks:R[write to console]: =\n",
            "WARNING:rpy2.rinterface_lib.callbacks:R[write to console]: =\n",
            "WARNING:rpy2.rinterface_lib.callbacks:R[write to console]: =\n",
            "WARNING:rpy2.rinterface_lib.callbacks:R[write to console]: =\n",
            "WARNING:rpy2.rinterface_lib.callbacks:R[write to console]: =\n",
            "WARNING:rpy2.rinterface_lib.callbacks:R[write to console]: =\n",
            "WARNING:rpy2.rinterface_lib.callbacks:R[write to console]: =\n",
            "WARNING:rpy2.rinterface_lib.callbacks:R[write to console]: =\n",
            "WARNING:rpy2.rinterface_lib.callbacks:R[write to console]: =\n",
            "WARNING:rpy2.rinterface_lib.callbacks:R[write to console]: =\n",
            "WARNING:rpy2.rinterface_lib.callbacks:R[write to console]: =\n",
            "WARNING:rpy2.rinterface_lib.callbacks:R[write to console]: =\n",
            "WARNING:rpy2.rinterface_lib.callbacks:R[write to console]: =\n",
            "WARNING:rpy2.rinterface_lib.callbacks:R[write to console]: =\n",
            "WARNING:rpy2.rinterface_lib.callbacks:R[write to console]: =\n",
            "WARNING:rpy2.rinterface_lib.callbacks:R[write to console]: =\n",
            "WARNING:rpy2.rinterface_lib.callbacks:R[write to console]: =\n",
            "WARNING:rpy2.rinterface_lib.callbacks:R[write to console]: =\n",
            "WARNING:rpy2.rinterface_lib.callbacks:R[write to console]: =\n",
            "WARNING:rpy2.rinterface_lib.callbacks:R[write to console]: =\n",
            "WARNING:rpy2.rinterface_lib.callbacks:R[write to console]: =\n",
            "WARNING:rpy2.rinterface_lib.callbacks:R[write to console]: =\n",
            "WARNING:rpy2.rinterface_lib.callbacks:R[write to console]: =\n",
            "WARNING:rpy2.rinterface_lib.callbacks:R[write to console]: =\n",
            "WARNING:rpy2.rinterface_lib.callbacks:R[write to console]: =\n",
            "WARNING:rpy2.rinterface_lib.callbacks:R[write to console]: =\n",
            "WARNING:rpy2.rinterface_lib.callbacks:R[write to console]: =\n",
            "WARNING:rpy2.rinterface_lib.callbacks:R[write to console]: =\n",
            "WARNING:rpy2.rinterface_lib.callbacks:R[write to console]: =\n",
            "WARNING:rpy2.rinterface_lib.callbacks:R[write to console]: =\n",
            "WARNING:rpy2.rinterface_lib.callbacks:R[write to console]: =\n",
            "WARNING:rpy2.rinterface_lib.callbacks:R[write to console]: =\n",
            "WARNING:rpy2.rinterface_lib.callbacks:R[write to console]: =\n",
            "WARNING:rpy2.rinterface_lib.callbacks:R[write to console]: =\n",
            "WARNING:rpy2.rinterface_lib.callbacks:R[write to console]: =\n",
            "WARNING:rpy2.rinterface_lib.callbacks:R[write to console]: =\n",
            "WARNING:rpy2.rinterface_lib.callbacks:R[write to console]: =\n",
            "WARNING:rpy2.rinterface_lib.callbacks:R[write to console]: =\n",
            "WARNING:rpy2.rinterface_lib.callbacks:R[write to console]: =\n",
            "WARNING:rpy2.rinterface_lib.callbacks:R[write to console]: \n",
            "\n",
            "WARNING:rpy2.rinterface_lib.callbacks:R[write to console]: downloaded 210 KB\n",
            "\n",
            "\n",
            "WARNING:rpy2.rinterface_lib.callbacks:R[write to console]: trying URL 'https://cloud.r-project.org/src/contrib/tibble_3.2.1.tar.gz'\n",
            "\n",
            "WARNING:rpy2.rinterface_lib.callbacks:R[write to console]: Content type 'application/x-gzip'\n",
            "WARNING:rpy2.rinterface_lib.callbacks:R[write to console]:  length 565982 bytes (552 KB)\n",
            "\n",
            "WARNING:rpy2.rinterface_lib.callbacks:R[write to console]: =\n",
            "WARNING:rpy2.rinterface_lib.callbacks:R[write to console]: =\n",
            "WARNING:rpy2.rinterface_lib.callbacks:R[write to console]: =\n",
            "WARNING:rpy2.rinterface_lib.callbacks:R[write to console]: =\n",
            "WARNING:rpy2.rinterface_lib.callbacks:R[write to console]: =\n",
            "WARNING:rpy2.rinterface_lib.callbacks:R[write to console]: =\n",
            "WARNING:rpy2.rinterface_lib.callbacks:R[write to console]: =\n",
            "WARNING:rpy2.rinterface_lib.callbacks:R[write to console]: =\n",
            "WARNING:rpy2.rinterface_lib.callbacks:R[write to console]: =\n",
            "WARNING:rpy2.rinterface_lib.callbacks:R[write to console]: =\n",
            "WARNING:rpy2.rinterface_lib.callbacks:R[write to console]: =\n",
            "WARNING:rpy2.rinterface_lib.callbacks:R[write to console]: =\n",
            "WARNING:rpy2.rinterface_lib.callbacks:R[write to console]: =\n",
            "WARNING:rpy2.rinterface_lib.callbacks:R[write to console]: =\n",
            "WARNING:rpy2.rinterface_lib.callbacks:R[write to console]: =\n",
            "WARNING:rpy2.rinterface_lib.callbacks:R[write to console]: =\n",
            "WARNING:rpy2.rinterface_lib.callbacks:R[write to console]: =\n",
            "WARNING:rpy2.rinterface_lib.callbacks:R[write to console]: =\n",
            "WARNING:rpy2.rinterface_lib.callbacks:R[write to console]: =\n",
            "WARNING:rpy2.rinterface_lib.callbacks:R[write to console]: =\n",
            "WARNING:rpy2.rinterface_lib.callbacks:R[write to console]: =\n",
            "WARNING:rpy2.rinterface_lib.callbacks:R[write to console]: =\n",
            "WARNING:rpy2.rinterface_lib.callbacks:R[write to console]: =\n",
            "WARNING:rpy2.rinterface_lib.callbacks:R[write to console]: =\n",
            "WARNING:rpy2.rinterface_lib.callbacks:R[write to console]: =\n",
            "WARNING:rpy2.rinterface_lib.callbacks:R[write to console]: =\n",
            "WARNING:rpy2.rinterface_lib.callbacks:R[write to console]: =\n",
            "WARNING:rpy2.rinterface_lib.callbacks:R[write to console]: =\n",
            "WARNING:rpy2.rinterface_lib.callbacks:R[write to console]: =\n",
            "WARNING:rpy2.rinterface_lib.callbacks:R[write to console]: =\n",
            "WARNING:rpy2.rinterface_lib.callbacks:R[write to console]: =\n",
            "WARNING:rpy2.rinterface_lib.callbacks:R[write to console]: =\n",
            "WARNING:rpy2.rinterface_lib.callbacks:R[write to console]: =\n",
            "WARNING:rpy2.rinterface_lib.callbacks:R[write to console]: =\n",
            "WARNING:rpy2.rinterface_lib.callbacks:R[write to console]: =\n",
            "WARNING:rpy2.rinterface_lib.callbacks:R[write to console]: =\n",
            "WARNING:rpy2.rinterface_lib.callbacks:R[write to console]: =\n",
            "WARNING:rpy2.rinterface_lib.callbacks:R[write to console]: =\n",
            "WARNING:rpy2.rinterface_lib.callbacks:R[write to console]: =\n",
            "WARNING:rpy2.rinterface_lib.callbacks:R[write to console]: =\n",
            "WARNING:rpy2.rinterface_lib.callbacks:R[write to console]: =\n",
            "WARNING:rpy2.rinterface_lib.callbacks:R[write to console]: =\n",
            "WARNING:rpy2.rinterface_lib.callbacks:R[write to console]: =\n",
            "WARNING:rpy2.rinterface_lib.callbacks:R[write to console]: =\n",
            "WARNING:rpy2.rinterface_lib.callbacks:R[write to console]: =\n",
            "WARNING:rpy2.rinterface_lib.callbacks:R[write to console]: =\n",
            "WARNING:rpy2.rinterface_lib.callbacks:R[write to console]: =\n",
            "WARNING:rpy2.rinterface_lib.callbacks:R[write to console]: =\n",
            "WARNING:rpy2.rinterface_lib.callbacks:R[write to console]: =\n",
            "WARNING:rpy2.rinterface_lib.callbacks:R[write to console]: =\n",
            "WARNING:rpy2.rinterface_lib.callbacks:R[write to console]: \n",
            "\n",
            "WARNING:rpy2.rinterface_lib.callbacks:R[write to console]: downloaded 552 KB\n",
            "\n",
            "\n",
            "WARNING:rpy2.rinterface_lib.callbacks:R[write to console]: trying URL 'https://cloud.r-project.org/src/contrib/pdftools_3.3.3.tar.gz'\n",
            "\n",
            "WARNING:rpy2.rinterface_lib.callbacks:R[write to console]: Content type 'application/x-gzip'\n",
            "WARNING:rpy2.rinterface_lib.callbacks:R[write to console]:  length 936280 bytes (914 KB)\n",
            "\n",
            "WARNING:rpy2.rinterface_lib.callbacks:R[write to console]: =\n",
            "WARNING:rpy2.rinterface_lib.callbacks:R[write to console]: =\n",
            "WARNING:rpy2.rinterface_lib.callbacks:R[write to console]: =\n",
            "WARNING:rpy2.rinterface_lib.callbacks:R[write to console]: =\n",
            "WARNING:rpy2.rinterface_lib.callbacks:R[write to console]: =\n",
            "WARNING:rpy2.rinterface_lib.callbacks:R[write to console]: =\n",
            "WARNING:rpy2.rinterface_lib.callbacks:R[write to console]: =\n",
            "WARNING:rpy2.rinterface_lib.callbacks:R[write to console]: =\n",
            "WARNING:rpy2.rinterface_lib.callbacks:R[write to console]: =\n",
            "WARNING:rpy2.rinterface_lib.callbacks:R[write to console]: =\n",
            "WARNING:rpy2.rinterface_lib.callbacks:R[write to console]: =\n",
            "WARNING:rpy2.rinterface_lib.callbacks:R[write to console]: =\n",
            "WARNING:rpy2.rinterface_lib.callbacks:R[write to console]: =\n",
            "WARNING:rpy2.rinterface_lib.callbacks:R[write to console]: =\n",
            "WARNING:rpy2.rinterface_lib.callbacks:R[write to console]: =\n",
            "WARNING:rpy2.rinterface_lib.callbacks:R[write to console]: =\n",
            "WARNING:rpy2.rinterface_lib.callbacks:R[write to console]: =\n",
            "WARNING:rpy2.rinterface_lib.callbacks:R[write to console]: =\n",
            "WARNING:rpy2.rinterface_lib.callbacks:R[write to console]: =\n",
            "WARNING:rpy2.rinterface_lib.callbacks:R[write to console]: =\n",
            "WARNING:rpy2.rinterface_lib.callbacks:R[write to console]: =\n",
            "WARNING:rpy2.rinterface_lib.callbacks:R[write to console]: =\n",
            "WARNING:rpy2.rinterface_lib.callbacks:R[write to console]: =\n",
            "WARNING:rpy2.rinterface_lib.callbacks:R[write to console]: =\n",
            "WARNING:rpy2.rinterface_lib.callbacks:R[write to console]: =\n",
            "WARNING:rpy2.rinterface_lib.callbacks:R[write to console]: =\n",
            "WARNING:rpy2.rinterface_lib.callbacks:R[write to console]: =\n",
            "WARNING:rpy2.rinterface_lib.callbacks:R[write to console]: =\n",
            "WARNING:rpy2.rinterface_lib.callbacks:R[write to console]: =\n",
            "WARNING:rpy2.rinterface_lib.callbacks:R[write to console]: =\n",
            "WARNING:rpy2.rinterface_lib.callbacks:R[write to console]: =\n",
            "WARNING:rpy2.rinterface_lib.callbacks:R[write to console]: =\n",
            "WARNING:rpy2.rinterface_lib.callbacks:R[write to console]: =\n",
            "WARNING:rpy2.rinterface_lib.callbacks:R[write to console]: =\n",
            "WARNING:rpy2.rinterface_lib.callbacks:R[write to console]: =\n",
            "WARNING:rpy2.rinterface_lib.callbacks:R[write to console]: =\n",
            "WARNING:rpy2.rinterface_lib.callbacks:R[write to console]: =\n",
            "WARNING:rpy2.rinterface_lib.callbacks:R[write to console]: =\n",
            "WARNING:rpy2.rinterface_lib.callbacks:R[write to console]: =\n",
            "WARNING:rpy2.rinterface_lib.callbacks:R[write to console]: =\n",
            "WARNING:rpy2.rinterface_lib.callbacks:R[write to console]: =\n",
            "WARNING:rpy2.rinterface_lib.callbacks:R[write to console]: =\n",
            "WARNING:rpy2.rinterface_lib.callbacks:R[write to console]: =\n",
            "WARNING:rpy2.rinterface_lib.callbacks:R[write to console]: =\n",
            "WARNING:rpy2.rinterface_lib.callbacks:R[write to console]: =\n",
            "WARNING:rpy2.rinterface_lib.callbacks:R[write to console]: =\n",
            "WARNING:rpy2.rinterface_lib.callbacks:R[write to console]: =\n",
            "WARNING:rpy2.rinterface_lib.callbacks:R[write to console]: =\n",
            "WARNING:rpy2.rinterface_lib.callbacks:R[write to console]: =\n",
            "WARNING:rpy2.rinterface_lib.callbacks:R[write to console]: =\n",
            "WARNING:rpy2.rinterface_lib.callbacks:R[write to console]: \n",
            "\n",
            "WARNING:rpy2.rinterface_lib.callbacks:R[write to console]: downloaded 914 KB\n",
            "\n",
            "\n",
            "WARNING:rpy2.rinterface_lib.callbacks:R[write to console]: trying URL 'https://cloud.r-project.org/src/contrib/quanteda_3.3.1.tar.gz'\n",
            "\n",
            "WARNING:rpy2.rinterface_lib.callbacks:R[write to console]: Content type 'application/x-gzip'\n",
            "WARNING:rpy2.rinterface_lib.callbacks:R[write to console]:  length 4242312 bytes (4.0 MB)\n",
            "\n",
            "WARNING:rpy2.rinterface_lib.callbacks:R[write to console]: =\n",
            "WARNING:rpy2.rinterface_lib.callbacks:R[write to console]: =\n",
            "WARNING:rpy2.rinterface_lib.callbacks:R[write to console]: =\n",
            "WARNING:rpy2.rinterface_lib.callbacks:R[write to console]: =\n",
            "WARNING:rpy2.rinterface_lib.callbacks:R[write to console]: =\n",
            "WARNING:rpy2.rinterface_lib.callbacks:R[write to console]: =\n",
            "WARNING:rpy2.rinterface_lib.callbacks:R[write to console]: =\n",
            "WARNING:rpy2.rinterface_lib.callbacks:R[write to console]: =\n",
            "WARNING:rpy2.rinterface_lib.callbacks:R[write to console]: =\n",
            "WARNING:rpy2.rinterface_lib.callbacks:R[write to console]: =\n",
            "WARNING:rpy2.rinterface_lib.callbacks:R[write to console]: =\n",
            "WARNING:rpy2.rinterface_lib.callbacks:R[write to console]: =\n",
            "WARNING:rpy2.rinterface_lib.callbacks:R[write to console]: =\n",
            "WARNING:rpy2.rinterface_lib.callbacks:R[write to console]: =\n",
            "WARNING:rpy2.rinterface_lib.callbacks:R[write to console]: =\n",
            "WARNING:rpy2.rinterface_lib.callbacks:R[write to console]: =\n",
            "WARNING:rpy2.rinterface_lib.callbacks:R[write to console]: =\n",
            "WARNING:rpy2.rinterface_lib.callbacks:R[write to console]: =\n",
            "WARNING:rpy2.rinterface_lib.callbacks:R[write to console]: =\n",
            "WARNING:rpy2.rinterface_lib.callbacks:R[write to console]: =\n",
            "WARNING:rpy2.rinterface_lib.callbacks:R[write to console]: =\n",
            "WARNING:rpy2.rinterface_lib.callbacks:R[write to console]: =\n",
            "WARNING:rpy2.rinterface_lib.callbacks:R[write to console]: =\n",
            "WARNING:rpy2.rinterface_lib.callbacks:R[write to console]: =\n",
            "WARNING:rpy2.rinterface_lib.callbacks:R[write to console]: =\n",
            "WARNING:rpy2.rinterface_lib.callbacks:R[write to console]: =\n",
            "WARNING:rpy2.rinterface_lib.callbacks:R[write to console]: =\n",
            "WARNING:rpy2.rinterface_lib.callbacks:R[write to console]: =\n",
            "WARNING:rpy2.rinterface_lib.callbacks:R[write to console]: =\n",
            "WARNING:rpy2.rinterface_lib.callbacks:R[write to console]: =\n",
            "WARNING:rpy2.rinterface_lib.callbacks:R[write to console]: =\n",
            "WARNING:rpy2.rinterface_lib.callbacks:R[write to console]: =\n",
            "WARNING:rpy2.rinterface_lib.callbacks:R[write to console]: =\n",
            "WARNING:rpy2.rinterface_lib.callbacks:R[write to console]: =\n",
            "WARNING:rpy2.rinterface_lib.callbacks:R[write to console]: =\n",
            "WARNING:rpy2.rinterface_lib.callbacks:R[write to console]: =\n",
            "WARNING:rpy2.rinterface_lib.callbacks:R[write to console]: =\n",
            "WARNING:rpy2.rinterface_lib.callbacks:R[write to console]: =\n",
            "WARNING:rpy2.rinterface_lib.callbacks:R[write to console]: =\n",
            "WARNING:rpy2.rinterface_lib.callbacks:R[write to console]: =\n",
            "WARNING:rpy2.rinterface_lib.callbacks:R[write to console]: =\n",
            "WARNING:rpy2.rinterface_lib.callbacks:R[write to console]: =\n",
            "WARNING:rpy2.rinterface_lib.callbacks:R[write to console]: =\n",
            "WARNING:rpy2.rinterface_lib.callbacks:R[write to console]: =\n",
            "WARNING:rpy2.rinterface_lib.callbacks:R[write to console]: =\n",
            "WARNING:rpy2.rinterface_lib.callbacks:R[write to console]: =\n",
            "WARNING:rpy2.rinterface_lib.callbacks:R[write to console]: =\n",
            "WARNING:rpy2.rinterface_lib.callbacks:R[write to console]: =\n",
            "WARNING:rpy2.rinterface_lib.callbacks:R[write to console]: =\n",
            "WARNING:rpy2.rinterface_lib.callbacks:R[write to console]: =\n",
            "WARNING:rpy2.rinterface_lib.callbacks:R[write to console]: \n",
            "\n",
            "WARNING:rpy2.rinterface_lib.callbacks:R[write to console]: downloaded 4.0 MB\n",
            "\n",
            "\n",
            "WARNING:rpy2.rinterface_lib.callbacks:R[write to console]: trying URL 'https://cloud.r-project.org/src/contrib/tm_0.7-11.tar.gz'\n",
            "\n",
            "WARNING:rpy2.rinterface_lib.callbacks:R[write to console]: Content type 'application/x-gzip'\n",
            "WARNING:rpy2.rinterface_lib.callbacks:R[write to console]:  length 312543 bytes (305 KB)\n",
            "\n",
            "WARNING:rpy2.rinterface_lib.callbacks:R[write to console]: =\n",
            "WARNING:rpy2.rinterface_lib.callbacks:R[write to console]: =\n",
            "WARNING:rpy2.rinterface_lib.callbacks:R[write to console]: =\n",
            "WARNING:rpy2.rinterface_lib.callbacks:R[write to console]: =\n",
            "WARNING:rpy2.rinterface_lib.callbacks:R[write to console]: =\n",
            "WARNING:rpy2.rinterface_lib.callbacks:R[write to console]: =\n",
            "WARNING:rpy2.rinterface_lib.callbacks:R[write to console]: =\n",
            "WARNING:rpy2.rinterface_lib.callbacks:R[write to console]: =\n",
            "WARNING:rpy2.rinterface_lib.callbacks:R[write to console]: =\n",
            "WARNING:rpy2.rinterface_lib.callbacks:R[write to console]: =\n",
            "WARNING:rpy2.rinterface_lib.callbacks:R[write to console]: =\n",
            "WARNING:rpy2.rinterface_lib.callbacks:R[write to console]: =\n",
            "WARNING:rpy2.rinterface_lib.callbacks:R[write to console]: =\n",
            "WARNING:rpy2.rinterface_lib.callbacks:R[write to console]: =\n",
            "WARNING:rpy2.rinterface_lib.callbacks:R[write to console]: =\n",
            "WARNING:rpy2.rinterface_lib.callbacks:R[write to console]: =\n",
            "WARNING:rpy2.rinterface_lib.callbacks:R[write to console]: =\n",
            "WARNING:rpy2.rinterface_lib.callbacks:R[write to console]: =\n",
            "WARNING:rpy2.rinterface_lib.callbacks:R[write to console]: =\n",
            "WARNING:rpy2.rinterface_lib.callbacks:R[write to console]: =\n",
            "WARNING:rpy2.rinterface_lib.callbacks:R[write to console]: =\n",
            "WARNING:rpy2.rinterface_lib.callbacks:R[write to console]: =\n",
            "WARNING:rpy2.rinterface_lib.callbacks:R[write to console]: =\n",
            "WARNING:rpy2.rinterface_lib.callbacks:R[write to console]: =\n",
            "WARNING:rpy2.rinterface_lib.callbacks:R[write to console]: =\n",
            "WARNING:rpy2.rinterface_lib.callbacks:R[write to console]: =\n",
            "WARNING:rpy2.rinterface_lib.callbacks:R[write to console]: =\n",
            "WARNING:rpy2.rinterface_lib.callbacks:R[write to console]: =\n",
            "WARNING:rpy2.rinterface_lib.callbacks:R[write to console]: =\n",
            "WARNING:rpy2.rinterface_lib.callbacks:R[write to console]: =\n",
            "WARNING:rpy2.rinterface_lib.callbacks:R[write to console]: =\n",
            "WARNING:rpy2.rinterface_lib.callbacks:R[write to console]: =\n",
            "WARNING:rpy2.rinterface_lib.callbacks:R[write to console]: =\n",
            "WARNING:rpy2.rinterface_lib.callbacks:R[write to console]: =\n",
            "WARNING:rpy2.rinterface_lib.callbacks:R[write to console]: =\n",
            "WARNING:rpy2.rinterface_lib.callbacks:R[write to console]: =\n",
            "WARNING:rpy2.rinterface_lib.callbacks:R[write to console]: =\n",
            "WARNING:rpy2.rinterface_lib.callbacks:R[write to console]: =\n",
            "WARNING:rpy2.rinterface_lib.callbacks:R[write to console]: =\n",
            "WARNING:rpy2.rinterface_lib.callbacks:R[write to console]: =\n",
            "WARNING:rpy2.rinterface_lib.callbacks:R[write to console]: =\n",
            "WARNING:rpy2.rinterface_lib.callbacks:R[write to console]: =\n",
            "WARNING:rpy2.rinterface_lib.callbacks:R[write to console]: =\n",
            "WARNING:rpy2.rinterface_lib.callbacks:R[write to console]: =\n",
            "WARNING:rpy2.rinterface_lib.callbacks:R[write to console]: =\n",
            "WARNING:rpy2.rinterface_lib.callbacks:R[write to console]: =\n",
            "WARNING:rpy2.rinterface_lib.callbacks:R[write to console]: =\n",
            "WARNING:rpy2.rinterface_lib.callbacks:R[write to console]: =\n",
            "WARNING:rpy2.rinterface_lib.callbacks:R[write to console]: =\n",
            "WARNING:rpy2.rinterface_lib.callbacks:R[write to console]: =\n",
            "WARNING:rpy2.rinterface_lib.callbacks:R[write to console]: \n",
            "\n",
            "WARNING:rpy2.rinterface_lib.callbacks:R[write to console]: downloaded 305 KB\n",
            "\n",
            "\n",
            "WARNING:rpy2.rinterface_lib.callbacks:R[write to console]: trying URL 'https://cloud.r-project.org/src/contrib/stopwords_2.3.tar.gz'\n",
            "\n",
            "WARNING:rpy2.rinterface_lib.callbacks:R[write to console]: Content type 'application/x-gzip'\n",
            "WARNING:rpy2.rinterface_lib.callbacks:R[write to console]:  length 177712 bytes (173 KB)\n",
            "\n",
            "WARNING:rpy2.rinterface_lib.callbacks:R[write to console]: =\n",
            "WARNING:rpy2.rinterface_lib.callbacks:R[write to console]: =\n",
            "WARNING:rpy2.rinterface_lib.callbacks:R[write to console]: =\n",
            "WARNING:rpy2.rinterface_lib.callbacks:R[write to console]: =\n",
            "WARNING:rpy2.rinterface_lib.callbacks:R[write to console]: =\n",
            "WARNING:rpy2.rinterface_lib.callbacks:R[write to console]: =\n",
            "WARNING:rpy2.rinterface_lib.callbacks:R[write to console]: =\n",
            "WARNING:rpy2.rinterface_lib.callbacks:R[write to console]: =\n",
            "WARNING:rpy2.rinterface_lib.callbacks:R[write to console]: =\n",
            "WARNING:rpy2.rinterface_lib.callbacks:R[write to console]: =\n",
            "WARNING:rpy2.rinterface_lib.callbacks:R[write to console]: =\n",
            "WARNING:rpy2.rinterface_lib.callbacks:R[write to console]: =\n",
            "WARNING:rpy2.rinterface_lib.callbacks:R[write to console]: =\n",
            "WARNING:rpy2.rinterface_lib.callbacks:R[write to console]: =\n",
            "WARNING:rpy2.rinterface_lib.callbacks:R[write to console]: =\n",
            "WARNING:rpy2.rinterface_lib.callbacks:R[write to console]: =\n",
            "WARNING:rpy2.rinterface_lib.callbacks:R[write to console]: =\n",
            "WARNING:rpy2.rinterface_lib.callbacks:R[write to console]: =\n",
            "WARNING:rpy2.rinterface_lib.callbacks:R[write to console]: =\n",
            "WARNING:rpy2.rinterface_lib.callbacks:R[write to console]: =\n",
            "WARNING:rpy2.rinterface_lib.callbacks:R[write to console]: =\n",
            "WARNING:rpy2.rinterface_lib.callbacks:R[write to console]: =\n",
            "WARNING:rpy2.rinterface_lib.callbacks:R[write to console]: =\n",
            "WARNING:rpy2.rinterface_lib.callbacks:R[write to console]: =\n",
            "WARNING:rpy2.rinterface_lib.callbacks:R[write to console]: =\n",
            "WARNING:rpy2.rinterface_lib.callbacks:R[write to console]: =\n",
            "WARNING:rpy2.rinterface_lib.callbacks:R[write to console]: =\n",
            "WARNING:rpy2.rinterface_lib.callbacks:R[write to console]: =\n",
            "WARNING:rpy2.rinterface_lib.callbacks:R[write to console]: =\n",
            "WARNING:rpy2.rinterface_lib.callbacks:R[write to console]: =\n",
            "WARNING:rpy2.rinterface_lib.callbacks:R[write to console]: =\n",
            "WARNING:rpy2.rinterface_lib.callbacks:R[write to console]: =\n",
            "WARNING:rpy2.rinterface_lib.callbacks:R[write to console]: =\n",
            "WARNING:rpy2.rinterface_lib.callbacks:R[write to console]: =\n",
            "WARNING:rpy2.rinterface_lib.callbacks:R[write to console]: =\n",
            "WARNING:rpy2.rinterface_lib.callbacks:R[write to console]: =\n",
            "WARNING:rpy2.rinterface_lib.callbacks:R[write to console]: =\n",
            "WARNING:rpy2.rinterface_lib.callbacks:R[write to console]: =\n",
            "WARNING:rpy2.rinterface_lib.callbacks:R[write to console]: =\n",
            "WARNING:rpy2.rinterface_lib.callbacks:R[write to console]: =\n",
            "WARNING:rpy2.rinterface_lib.callbacks:R[write to console]: =\n",
            "WARNING:rpy2.rinterface_lib.callbacks:R[write to console]: =\n",
            "WARNING:rpy2.rinterface_lib.callbacks:R[write to console]: =\n",
            "WARNING:rpy2.rinterface_lib.callbacks:R[write to console]: =\n",
            "WARNING:rpy2.rinterface_lib.callbacks:R[write to console]: =\n",
            "WARNING:rpy2.rinterface_lib.callbacks:R[write to console]: =\n",
            "WARNING:rpy2.rinterface_lib.callbacks:R[write to console]: =\n",
            "WARNING:rpy2.rinterface_lib.callbacks:R[write to console]: =\n",
            "WARNING:rpy2.rinterface_lib.callbacks:R[write to console]: =\n",
            "WARNING:rpy2.rinterface_lib.callbacks:R[write to console]: =\n",
            "WARNING:rpy2.rinterface_lib.callbacks:R[write to console]: \n",
            "\n",
            "WARNING:rpy2.rinterface_lib.callbacks:R[write to console]: downloaded 173 KB\n",
            "\n",
            "\n",
            "WARNING:rpy2.rinterface_lib.callbacks:R[write to console]: trying URL 'https://cloud.r-project.org/src/contrib/RColorBrewer_1.1-3.tar.gz'\n",
            "\n",
            "WARNING:rpy2.rinterface_lib.callbacks:R[write to console]: Content type 'application/x-gzip'\n",
            "WARNING:rpy2.rinterface_lib.callbacks:R[write to console]:  length 11638 bytes (11 KB)\n",
            "\n",
            "WARNING:rpy2.rinterface_lib.callbacks:R[write to console]: =\n",
            "WARNING:rpy2.rinterface_lib.callbacks:R[write to console]: =\n",
            "WARNING:rpy2.rinterface_lib.callbacks:R[write to console]: =\n",
            "WARNING:rpy2.rinterface_lib.callbacks:R[write to console]: =\n",
            "WARNING:rpy2.rinterface_lib.callbacks:R[write to console]: =\n",
            "WARNING:rpy2.rinterface_lib.callbacks:R[write to console]: =\n",
            "WARNING:rpy2.rinterface_lib.callbacks:R[write to console]: =\n",
            "WARNING:rpy2.rinterface_lib.callbacks:R[write to console]: =\n",
            "WARNING:rpy2.rinterface_lib.callbacks:R[write to console]: =\n",
            "WARNING:rpy2.rinterface_lib.callbacks:R[write to console]: =\n",
            "WARNING:rpy2.rinterface_lib.callbacks:R[write to console]: =\n",
            "WARNING:rpy2.rinterface_lib.callbacks:R[write to console]: =\n",
            "WARNING:rpy2.rinterface_lib.callbacks:R[write to console]: =\n",
            "WARNING:rpy2.rinterface_lib.callbacks:R[write to console]: =\n",
            "WARNING:rpy2.rinterface_lib.callbacks:R[write to console]: =\n",
            "WARNING:rpy2.rinterface_lib.callbacks:R[write to console]: =\n",
            "WARNING:rpy2.rinterface_lib.callbacks:R[write to console]: =\n",
            "WARNING:rpy2.rinterface_lib.callbacks:R[write to console]: =\n",
            "WARNING:rpy2.rinterface_lib.callbacks:R[write to console]: =\n",
            "WARNING:rpy2.rinterface_lib.callbacks:R[write to console]: =\n",
            "WARNING:rpy2.rinterface_lib.callbacks:R[write to console]: =\n",
            "WARNING:rpy2.rinterface_lib.callbacks:R[write to console]: =\n",
            "WARNING:rpy2.rinterface_lib.callbacks:R[write to console]: =\n",
            "WARNING:rpy2.rinterface_lib.callbacks:R[write to console]: =\n",
            "WARNING:rpy2.rinterface_lib.callbacks:R[write to console]: =\n",
            "WARNING:rpy2.rinterface_lib.callbacks:R[write to console]: =\n",
            "WARNING:rpy2.rinterface_lib.callbacks:R[write to console]: =\n",
            "WARNING:rpy2.rinterface_lib.callbacks:R[write to console]: =\n",
            "WARNING:rpy2.rinterface_lib.callbacks:R[write to console]: =\n",
            "WARNING:rpy2.rinterface_lib.callbacks:R[write to console]: =\n",
            "WARNING:rpy2.rinterface_lib.callbacks:R[write to console]: =\n",
            "WARNING:rpy2.rinterface_lib.callbacks:R[write to console]: =\n",
            "WARNING:rpy2.rinterface_lib.callbacks:R[write to console]: =\n",
            "WARNING:rpy2.rinterface_lib.callbacks:R[write to console]: =\n",
            "WARNING:rpy2.rinterface_lib.callbacks:R[write to console]: =\n",
            "WARNING:rpy2.rinterface_lib.callbacks:R[write to console]: =\n",
            "WARNING:rpy2.rinterface_lib.callbacks:R[write to console]: =\n",
            "WARNING:rpy2.rinterface_lib.callbacks:R[write to console]: =\n",
            "WARNING:rpy2.rinterface_lib.callbacks:R[write to console]: =\n",
            "WARNING:rpy2.rinterface_lib.callbacks:R[write to console]: =\n",
            "WARNING:rpy2.rinterface_lib.callbacks:R[write to console]: =\n",
            "WARNING:rpy2.rinterface_lib.callbacks:R[write to console]: =\n",
            "WARNING:rpy2.rinterface_lib.callbacks:R[write to console]: =\n",
            "WARNING:rpy2.rinterface_lib.callbacks:R[write to console]: =\n",
            "WARNING:rpy2.rinterface_lib.callbacks:R[write to console]: =\n",
            "WARNING:rpy2.rinterface_lib.callbacks:R[write to console]: =\n",
            "WARNING:rpy2.rinterface_lib.callbacks:R[write to console]: =\n",
            "WARNING:rpy2.rinterface_lib.callbacks:R[write to console]: =\n",
            "WARNING:rpy2.rinterface_lib.callbacks:R[write to console]: =\n",
            "WARNING:rpy2.rinterface_lib.callbacks:R[write to console]: =\n",
            "WARNING:rpy2.rinterface_lib.callbacks:R[write to console]: \n",
            "\n",
            "WARNING:rpy2.rinterface_lib.callbacks:R[write to console]: downloaded 11 KB\n",
            "\n",
            "\n",
            "WARNING:rpy2.rinterface_lib.callbacks:R[write to console]: trying URL 'https://cloud.r-project.org/src/contrib/ggplot2_3.4.2.tar.gz'\n",
            "\n",
            "WARNING:rpy2.rinterface_lib.callbacks:R[write to console]: Content type 'application/x-gzip'\n",
            "WARNING:rpy2.rinterface_lib.callbacks:R[write to console]:  length 3153811 bytes (3.0 MB)\n",
            "\n",
            "WARNING:rpy2.rinterface_lib.callbacks:R[write to console]: =\n",
            "WARNING:rpy2.rinterface_lib.callbacks:R[write to console]: =\n",
            "WARNING:rpy2.rinterface_lib.callbacks:R[write to console]: =\n",
            "WARNING:rpy2.rinterface_lib.callbacks:R[write to console]: =\n",
            "WARNING:rpy2.rinterface_lib.callbacks:R[write to console]: =\n",
            "WARNING:rpy2.rinterface_lib.callbacks:R[write to console]: =\n",
            "WARNING:rpy2.rinterface_lib.callbacks:R[write to console]: =\n",
            "WARNING:rpy2.rinterface_lib.callbacks:R[write to console]: =\n",
            "WARNING:rpy2.rinterface_lib.callbacks:R[write to console]: =\n",
            "WARNING:rpy2.rinterface_lib.callbacks:R[write to console]: =\n",
            "WARNING:rpy2.rinterface_lib.callbacks:R[write to console]: =\n",
            "WARNING:rpy2.rinterface_lib.callbacks:R[write to console]: =\n",
            "WARNING:rpy2.rinterface_lib.callbacks:R[write to console]: =\n",
            "WARNING:rpy2.rinterface_lib.callbacks:R[write to console]: =\n",
            "WARNING:rpy2.rinterface_lib.callbacks:R[write to console]: =\n",
            "WARNING:rpy2.rinterface_lib.callbacks:R[write to console]: =\n",
            "WARNING:rpy2.rinterface_lib.callbacks:R[write to console]: =\n",
            "WARNING:rpy2.rinterface_lib.callbacks:R[write to console]: =\n",
            "WARNING:rpy2.rinterface_lib.callbacks:R[write to console]: =\n",
            "WARNING:rpy2.rinterface_lib.callbacks:R[write to console]: =\n",
            "WARNING:rpy2.rinterface_lib.callbacks:R[write to console]: =\n",
            "WARNING:rpy2.rinterface_lib.callbacks:R[write to console]: =\n",
            "WARNING:rpy2.rinterface_lib.callbacks:R[write to console]: =\n",
            "WARNING:rpy2.rinterface_lib.callbacks:R[write to console]: =\n",
            "WARNING:rpy2.rinterface_lib.callbacks:R[write to console]: =\n",
            "WARNING:rpy2.rinterface_lib.callbacks:R[write to console]: =\n",
            "WARNING:rpy2.rinterface_lib.callbacks:R[write to console]: =\n",
            "WARNING:rpy2.rinterface_lib.callbacks:R[write to console]: =\n",
            "WARNING:rpy2.rinterface_lib.callbacks:R[write to console]: =\n",
            "WARNING:rpy2.rinterface_lib.callbacks:R[write to console]: =\n",
            "WARNING:rpy2.rinterface_lib.callbacks:R[write to console]: =\n",
            "WARNING:rpy2.rinterface_lib.callbacks:R[write to console]: =\n",
            "WARNING:rpy2.rinterface_lib.callbacks:R[write to console]: =\n",
            "WARNING:rpy2.rinterface_lib.callbacks:R[write to console]: =\n",
            "WARNING:rpy2.rinterface_lib.callbacks:R[write to console]: =\n",
            "WARNING:rpy2.rinterface_lib.callbacks:R[write to console]: =\n",
            "WARNING:rpy2.rinterface_lib.callbacks:R[write to console]: =\n",
            "WARNING:rpy2.rinterface_lib.callbacks:R[write to console]: =\n",
            "WARNING:rpy2.rinterface_lib.callbacks:R[write to console]: =\n",
            "WARNING:rpy2.rinterface_lib.callbacks:R[write to console]: =\n",
            "WARNING:rpy2.rinterface_lib.callbacks:R[write to console]: =\n",
            "WARNING:rpy2.rinterface_lib.callbacks:R[write to console]: =\n",
            "WARNING:rpy2.rinterface_lib.callbacks:R[write to console]: =\n",
            "WARNING:rpy2.rinterface_lib.callbacks:R[write to console]: =\n",
            "WARNING:rpy2.rinterface_lib.callbacks:R[write to console]: =\n",
            "WARNING:rpy2.rinterface_lib.callbacks:R[write to console]: =\n",
            "WARNING:rpy2.rinterface_lib.callbacks:R[write to console]: =\n",
            "WARNING:rpy2.rinterface_lib.callbacks:R[write to console]: =\n",
            "WARNING:rpy2.rinterface_lib.callbacks:R[write to console]: =\n",
            "WARNING:rpy2.rinterface_lib.callbacks:R[write to console]: =\n",
            "WARNING:rpy2.rinterface_lib.callbacks:R[write to console]: \n",
            "\n",
            "WARNING:rpy2.rinterface_lib.callbacks:R[write to console]: downloaded 3.0 MB\n",
            "\n",
            "\n",
            "WARNING:rpy2.rinterface_lib.callbacks:R[write to console]: trying URL 'https://cloud.r-project.org/src/contrib/wordcloud_2.6.tar.gz'\n",
            "\n",
            "WARNING:rpy2.rinterface_lib.callbacks:R[write to console]: Content type 'application/x-gzip'\n",
            "WARNING:rpy2.rinterface_lib.callbacks:R[write to console]:  length 42454 bytes (41 KB)\n",
            "\n",
            "WARNING:rpy2.rinterface_lib.callbacks:R[write to console]: =\n",
            "WARNING:rpy2.rinterface_lib.callbacks:R[write to console]: =\n",
            "WARNING:rpy2.rinterface_lib.callbacks:R[write to console]: =\n",
            "WARNING:rpy2.rinterface_lib.callbacks:R[write to console]: =\n",
            "WARNING:rpy2.rinterface_lib.callbacks:R[write to console]: =\n",
            "WARNING:rpy2.rinterface_lib.callbacks:R[write to console]: =\n",
            "WARNING:rpy2.rinterface_lib.callbacks:R[write to console]: =\n",
            "WARNING:rpy2.rinterface_lib.callbacks:R[write to console]: =\n",
            "WARNING:rpy2.rinterface_lib.callbacks:R[write to console]: =\n",
            "WARNING:rpy2.rinterface_lib.callbacks:R[write to console]: =\n",
            "WARNING:rpy2.rinterface_lib.callbacks:R[write to console]: =\n",
            "WARNING:rpy2.rinterface_lib.callbacks:R[write to console]: =\n",
            "WARNING:rpy2.rinterface_lib.callbacks:R[write to console]: =\n",
            "WARNING:rpy2.rinterface_lib.callbacks:R[write to console]: =\n",
            "WARNING:rpy2.rinterface_lib.callbacks:R[write to console]: =\n",
            "WARNING:rpy2.rinterface_lib.callbacks:R[write to console]: =\n",
            "WARNING:rpy2.rinterface_lib.callbacks:R[write to console]: =\n",
            "WARNING:rpy2.rinterface_lib.callbacks:R[write to console]: =\n",
            "WARNING:rpy2.rinterface_lib.callbacks:R[write to console]: =\n",
            "WARNING:rpy2.rinterface_lib.callbacks:R[write to console]: =\n",
            "WARNING:rpy2.rinterface_lib.callbacks:R[write to console]: =\n",
            "WARNING:rpy2.rinterface_lib.callbacks:R[write to console]: =\n",
            "WARNING:rpy2.rinterface_lib.callbacks:R[write to console]: =\n",
            "WARNING:rpy2.rinterface_lib.callbacks:R[write to console]: =\n",
            "WARNING:rpy2.rinterface_lib.callbacks:R[write to console]: =\n",
            "WARNING:rpy2.rinterface_lib.callbacks:R[write to console]: =\n",
            "WARNING:rpy2.rinterface_lib.callbacks:R[write to console]: =\n",
            "WARNING:rpy2.rinterface_lib.callbacks:R[write to console]: =\n",
            "WARNING:rpy2.rinterface_lib.callbacks:R[write to console]: =\n",
            "WARNING:rpy2.rinterface_lib.callbacks:R[write to console]: =\n",
            "WARNING:rpy2.rinterface_lib.callbacks:R[write to console]: =\n",
            "WARNING:rpy2.rinterface_lib.callbacks:R[write to console]: =\n",
            "WARNING:rpy2.rinterface_lib.callbacks:R[write to console]: =\n",
            "WARNING:rpy2.rinterface_lib.callbacks:R[write to console]: =\n",
            "WARNING:rpy2.rinterface_lib.callbacks:R[write to console]: =\n",
            "WARNING:rpy2.rinterface_lib.callbacks:R[write to console]: =\n",
            "WARNING:rpy2.rinterface_lib.callbacks:R[write to console]: =\n",
            "WARNING:rpy2.rinterface_lib.callbacks:R[write to console]: =\n",
            "WARNING:rpy2.rinterface_lib.callbacks:R[write to console]: =\n",
            "WARNING:rpy2.rinterface_lib.callbacks:R[write to console]: =\n",
            "WARNING:rpy2.rinterface_lib.callbacks:R[write to console]: =\n",
            "WARNING:rpy2.rinterface_lib.callbacks:R[write to console]: =\n",
            "WARNING:rpy2.rinterface_lib.callbacks:R[write to console]: =\n",
            "WARNING:rpy2.rinterface_lib.callbacks:R[write to console]: =\n",
            "WARNING:rpy2.rinterface_lib.callbacks:R[write to console]: =\n",
            "WARNING:rpy2.rinterface_lib.callbacks:R[write to console]: =\n",
            "WARNING:rpy2.rinterface_lib.callbacks:R[write to console]: =\n",
            "WARNING:rpy2.rinterface_lib.callbacks:R[write to console]: =\n",
            "WARNING:rpy2.rinterface_lib.callbacks:R[write to console]: =\n",
            "WARNING:rpy2.rinterface_lib.callbacks:R[write to console]: =\n",
            "WARNING:rpy2.rinterface_lib.callbacks:R[write to console]: \n",
            "\n",
            "WARNING:rpy2.rinterface_lib.callbacks:R[write to console]: downloaded 41 KB\n",
            "\n",
            "\n",
            "WARNING:rpy2.rinterface_lib.callbacks:R[write to console]: \n",
            "\n",
            "WARNING:rpy2.rinterface_lib.callbacks:R[write to console]: \n",
            "WARNING:rpy2.rinterface_lib.callbacks:R[write to console]: The downloaded source packages are in\n",
            "\t‘/tmp/RtmpygEnq8/downloaded_packages’\n",
            "WARNING:rpy2.rinterface_lib.callbacks:R[write to console]: \n",
            "WARNING:rpy2.rinterface_lib.callbacks:R[write to console]: \n",
            "\n"
          ]
        },
        {
          "output_type": "execute_result",
          "data": {
            "text/plain": [
              "<rpy2.rinterface_lib.sexp.NULLType object at 0x7f66835e08c0> [RTYPES.NILSXP]"
            ]
          },
          "metadata": {},
          "execution_count": 4
        }
      ]
    },
    {
      "cell_type": "code",
      "source": [
        "%%R\n",
        "require(\"tibble\")\n",
        "require(\"dplyr\")\n",
        "require(\"stringr\")\n",
        "require(\"syuzhet\")\n",
        "require(\"rtweet\")\n",
        "require(\"twitteR\")\n",
        "require(\"pdftools\")\n",
        "require(\"gsub\")\n",
        "require(\"quanteda\")\n",
        "require(\"tm\")\n",
        "require(\"stopwords\")\n",
        "require(\"RColorBrewer\")\n",
        "require(\"ggplot2\")\n",
        "require(\"wordcloud\")"
      ],
      "metadata": {
        "id": "8mdWyvWjAj-a",
        "colab": {
          "base_uri": "https://localhost:8080/"
        },
        "outputId": "a14b3fea-6702-4faa-e9a3-7ef3c0227a66"
      },
      "execution_count": null,
      "outputs": [
        {
          "output_type": "stream",
          "name": "stderr",
          "text": [
            "WARNING:rpy2.rinterface_lib.callbacks:R[write to console]: Loading required package: tibble\n",
            "\n",
            "WARNING:rpy2.rinterface_lib.callbacks:R[write to console]: Loading required package: dplyr\n",
            "\n",
            "WARNING:rpy2.rinterface_lib.callbacks:R[write to console]: \n",
            "Attaching package: ‘dplyr’\n",
            "\n",
            "\n",
            "WARNING:rpy2.rinterface_lib.callbacks:R[write to console]: The following objects are masked from ‘package:stats’:\n",
            "\n",
            "    filter, lag\n",
            "\n",
            "\n",
            "WARNING:rpy2.rinterface_lib.callbacks:R[write to console]: The following objects are masked from ‘package:base’:\n",
            "\n",
            "    intersect, setdiff, setequal, union\n",
            "\n",
            "\n",
            "WARNING:rpy2.rinterface_lib.callbacks:R[write to console]: Loading required package: stringr\n",
            "\n",
            "WARNING:rpy2.rinterface_lib.callbacks:R[write to console]: Loading required package: syuzhet\n",
            "\n",
            "WARNING:rpy2.rinterface_lib.callbacks:R[write to console]: Loading required package: rtweet\n",
            "\n",
            "WARNING:rpy2.rinterface_lib.callbacks:R[write to console]: \n",
            "Attaching package: ‘rtweet’\n",
            "\n",
            "\n",
            "WARNING:rpy2.rinterface_lib.callbacks:R[write to console]: The following object is masked from ‘package:syuzhet’:\n",
            "\n",
            "    get_tokens\n",
            "\n",
            "\n",
            "WARNING:rpy2.rinterface_lib.callbacks:R[write to console]: Loading required package: twitteR\n",
            "\n",
            "WARNING:rpy2.rinterface_lib.callbacks:R[write to console]: \n",
            "Attaching package: ‘twitteR’\n",
            "\n",
            "\n",
            "WARNING:rpy2.rinterface_lib.callbacks:R[write to console]: The following object is masked from ‘package:rtweet’:\n",
            "\n",
            "    lookup_statuses\n",
            "\n",
            "\n",
            "WARNING:rpy2.rinterface_lib.callbacks:R[write to console]: The following objects are masked from ‘package:dplyr’:\n",
            "\n",
            "    id, location\n",
            "\n",
            "\n",
            "WARNING:rpy2.rinterface_lib.callbacks:R[write to console]: Loading required package: pdftools\n",
            "\n",
            "WARNING:rpy2.rinterface_lib.callbacks:R[write to console]: Loading required package: gsub\n",
            "\n",
            "WARNING:rpy2.rinterface_lib.callbacks:R[write to console]: Loading required package: quanteda\n",
            "\n",
            "WARNING:rpy2.rinterface_lib.callbacks:R[write to console]: Package version: 3.3.1\n",
            "Unicode version: 13.0\n",
            "ICU version: 66.1\n",
            "\n",
            "WARNING:rpy2.rinterface_lib.callbacks:R[write to console]: Parallel computing: 2 of 2 threads used.\n",
            "\n",
            "WARNING:rpy2.rinterface_lib.callbacks:R[write to console]: See https://quanteda.io for tutorials and examples.\n",
            "\n",
            "WARNING:rpy2.rinterface_lib.callbacks:R[write to console]: Loading required package: tm\n",
            "\n",
            "WARNING:rpy2.rinterface_lib.callbacks:R[write to console]: Loading required package: NLP\n",
            "\n",
            "WARNING:rpy2.rinterface_lib.callbacks:R[write to console]: \n",
            "Attaching package: ‘NLP’\n",
            "\n",
            "\n",
            "WARNING:rpy2.rinterface_lib.callbacks:R[write to console]: The following objects are masked from ‘package:quanteda’:\n",
            "\n",
            "    meta, meta<-\n",
            "\n",
            "\n",
            "WARNING:rpy2.rinterface_lib.callbacks:R[write to console]: \n",
            "Attaching package: ‘tm’\n",
            "\n",
            "\n",
            "WARNING:rpy2.rinterface_lib.callbacks:R[write to console]: The following object is masked from ‘package:quanteda’:\n",
            "\n",
            "    stopwords\n",
            "\n",
            "\n",
            "WARNING:rpy2.rinterface_lib.callbacks:R[write to console]: Loading required package: stopwords\n",
            "\n",
            "WARNING:rpy2.rinterface_lib.callbacks:R[write to console]: \n",
            "Attaching package: ‘stopwords’\n",
            "\n",
            "\n",
            "WARNING:rpy2.rinterface_lib.callbacks:R[write to console]: The following object is masked from ‘package:tm’:\n",
            "\n",
            "    stopwords\n",
            "\n",
            "\n",
            "WARNING:rpy2.rinterface_lib.callbacks:R[write to console]: Loading required package: RColorBrewer\n",
            "\n",
            "WARNING:rpy2.rinterface_lib.callbacks:R[write to console]: Loading required package: ggplot2\n",
            "\n",
            "WARNING:rpy2.rinterface_lib.callbacks:R[write to console]: \n",
            "Attaching package: ‘ggplot2’\n",
            "\n",
            "\n",
            "WARNING:rpy2.rinterface_lib.callbacks:R[write to console]: The following object is masked from ‘package:NLP’:\n",
            "\n",
            "    annotate\n",
            "\n",
            "\n",
            "WARNING:rpy2.rinterface_lib.callbacks:R[write to console]: Loading required package: wordcloud\n",
            "\n"
          ]
        }
      ]
    },
    {
      "cell_type": "markdown",
      "source": [
        "Este código me va a dar el largo de un conjunto de elementos. "
      ],
      "metadata": {
        "id": "hPs1hNM-ELmg"
      }
    },
    {
      "cell_type": "code",
      "source": [
        "%%R\n",
        "\n",
        "x = c(\"why\", \"video\", \"cross\", \"extra\", \"deal\", \"authority\")\n",
        "str_length(x)"
      ],
      "metadata": {
        "colab": {
          "base_uri": "https://localhost:8080/"
        },
        "id": "aSRQ18qUCECp",
        "outputId": "01ee8c11-d1f2-4eff-8ea7-f880ea669c54"
      },
      "execution_count": null,
      "outputs": [
        {
          "output_type": "stream",
          "name": "stdout",
          "text": [
            "[1] 3 5 5 5 4 9\n"
          ]
        }
      ]
    },
    {
      "cell_type": "code",
      "source": [
        "x = [\"why:P\", \"video\", \"cross\", \"extra\", \"deal\", \"authority\"]\n",
        "lengths = [len(i) for i in x]\n",
        "print(lengths)"
      ],
      "metadata": {
        "colab": {
          "base_uri": "https://localhost:8080/"
        },
        "id": "VXSInmOxCvBx",
        "outputId": "4594597b-f2ff-4f39-cc55-659f46829420"
      },
      "execution_count": null,
      "outputs": [
        {
          "output_type": "stream",
          "name": "stdout",
          "text": [
            "[5, 5, 5, 5, 4, 9]\n"
          ]
        }
      ]
    },
    {
      "cell_type": "code",
      "source": [
        "%%R\n",
        "\n",
        "concatenated = str_c(x, collapse= \", \")\n",
        "concatenated "
      ],
      "metadata": {
        "colab": {
          "base_uri": "https://localhost:8080/"
        },
        "id": "fu4uxxp3DePZ",
        "outputId": "391ab0c1-5912-4811-fc58-12a05dd05fc2"
      },
      "execution_count": null,
      "outputs": [
        {
          "output_type": "stream",
          "name": "stdout",
          "text": [
            "[1] \"why, video, cross, extra, deal, authority\"\n"
          ]
        }
      ]
    },
    {
      "cell_type": "code",
      "source": [
        "x = [\"why\", \"video\", \"cross\", \"extra\", \"deal\", \"authority\"]\n",
        "concatenated = \", \".join(x)\n",
        "print(concatenated)"
      ],
      "metadata": {
        "colab": {
          "base_uri": "https://localhost:8080/"
        },
        "id": "wPaFoHNeD0Gs",
        "outputId": "8109c4a7-37e2-4584-804a-3d5291cc25ad"
      },
      "execution_count": null,
      "outputs": [
        {
          "output_type": "stream",
          "name": "stdout",
          "text": [
            "why, video, cross, extra, deal, authority\n"
          ]
        }
      ]
    },
    {
      "cell_type": "markdown",
      "source": [
        "Ahora vamos a extraer una cadena de texto, en este caso vamos a crear un string para poder realizar la búsqueda y después vamos a identificar los patrones. "
      ],
      "metadata": {
        "id": "oXmjscw-Ibn2"
      }
    },
    {
      "cell_type": "code",
      "source": [
        "%%R\n",
        "\n",
        "word = \"The best programing course ever!\"\n",
        "str_sub(string = word, start = 2, end = 20)"
      ],
      "metadata": {
        "colab": {
          "base_uri": "https://localhost:8080/"
        },
        "id": "PSSLlJwIG554",
        "outputId": "5a5f19e3-a3e4-43e2-b67f-33b3739ded43"
      },
      "execution_count": null,
      "outputs": [
        {
          "output_type": "stream",
          "name": "stdout",
          "text": [
            "[1] \"he best programing \"\n"
          ]
        }
      ]
    },
    {
      "cell_type": "code",
      "source": [
        "word = \"The best programing course ever!\"\n",
        "substring = word[1:19]\n",
        "print(substring)"
      ],
      "metadata": {
        "colab": {
          "base_uri": "https://localhost:8080/"
        },
        "id": "YMmeWNLVIQGU",
        "outputId": "ae1f2874-622f-4de1-910f-477af4b87ce6"
      },
      "execution_count": null,
      "outputs": [
        {
          "output_type": "stream",
          "name": "stdout",
          "text": [
            "he best programing\n"
          ]
        }
      ]
    },
    {
      "cell_type": "code",
      "source": [
        "%%R\n",
        "\n",
        "word = \"En esto, le vino al pensamiento cómo le haría, y fue que rasgó una gran tira de las faldas de la camisa, que andaban colgando, y diole once ñudos, el uno más gordo que los demás, y esto le sirvió de rosario el tiempo que allí estuvo, donde rezó un millón de avemarí Y lo que le fatigaba mucho era no hallar por allí otro ermitaño que le confesase y con quien consolarse; y, se entretenía paseándose por el pradecillo, escribiendo y grabando por las cortezas de los árboles y por la menuda arena muchos versos, todos acomodados a su tristeza, y algunos en alabanza de Dulcinea.\"\n",
        "str_extract_all(string = word, pattern = \"[aeiou]\") #Dentro de las commillas vá cualquier regex qe ustedes deseen buscar."
      ],
      "metadata": {
        "colab": {
          "base_uri": "https://localhost:8080/"
        },
        "id": "9j_N3dK-Jjqg",
        "outputId": "75ba1a42-25e1-46ba-f039-a4fdd1c94ccd"
      },
      "execution_count": null,
      "outputs": [
        {
          "output_type": "stream",
          "name": "stdout",
          "text": [
            "[[1]]\n",
            "  [1] \"e\" \"o\" \"e\" \"i\" \"o\" \"a\" \"e\" \"a\" \"i\" \"e\" \"o\" \"o\" \"e\" \"a\" \"a\" \"u\" \"e\" \"u\"\n",
            " [19] \"e\" \"a\" \"u\" \"a\" \"a\" \"i\" \"a\" \"e\" \"a\" \"a\" \"a\" \"e\" \"a\" \"a\" \"i\" \"a\" \"u\" \"e\"\n",
            " [37] \"a\" \"a\" \"a\" \"o\" \"a\" \"o\" \"i\" \"o\" \"e\" \"o\" \"e\" \"u\" \"o\" \"e\" \"u\" \"o\" \"o\" \"o\"\n",
            " [55] \"u\" \"e\" \"o\" \"e\" \"e\" \"o\" \"e\" \"i\" \"i\" \"e\" \"o\" \"a\" \"i\" \"o\" \"e\" \"i\" \"e\" \"o\"\n",
            " [73] \"u\" \"e\" \"a\" \"e\" \"u\" \"o\" \"o\" \"e\" \"e\" \"u\" \"i\" \"e\" \"a\" \"e\" \"a\" \"o\" \"u\" \"e\"\n",
            " [91] \"e\" \"a\" \"i\" \"a\" \"a\" \"u\" \"o\" \"e\" \"a\" \"o\" \"a\" \"a\" \"o\" \"a\" \"o\" \"o\" \"e\" \"i\"\n",
            "[109] \"a\" \"o\" \"u\" \"e\" \"e\" \"o\" \"e\" \"a\" \"e\" \"o\" \"u\" \"i\" \"e\" \"o\" \"o\" \"a\" \"e\" \"e\"\n",
            "[127] \"e\" \"e\" \"e\" \"a\" \"a\" \"e\" \"o\" \"e\" \"o\" \"e\" \"a\" \"e\" \"i\" \"o\" \"e\" \"i\" \"i\" \"e\"\n",
            "[145] \"o\" \"a\" \"a\" \"o\" \"o\" \"a\" \"o\" \"e\" \"a\" \"e\" \"o\" \"o\" \"e\" \"o\" \"a\" \"e\" \"u\" \"a\"\n",
            "[163] \"a\" \"e\" \"a\" \"u\" \"o\" \"e\" \"o\" \"o\" \"o\" \"a\" \"o\" \"o\" \"a\" \"o\" \"a\" \"u\" \"i\" \"e\"\n",
            "[181] \"a\" \"a\" \"u\" \"o\" \"e\" \"a\" \"a\" \"a\" \"a\" \"e\" \"u\" \"i\" \"e\" \"a\"\n",
            "\n"
          ]
        }
      ]
    },
    {
      "cell_type": "code",
      "source": [
        "import re #rees el paquete de python que más se usa para analitica de textos, hay que tenerlo en cuenta. \n",
        "\n",
        "x = \"The best programming course ever!\"\n",
        "a = re.findall(\"[aeiou]\", x)\n",
        "print(a)"
      ],
      "metadata": {
        "colab": {
          "base_uri": "https://localhost:8080/"
        },
        "id": "aPI0CFe3KAXO",
        "outputId": "f0255dc8-ca60-4114-8afd-1fc1041db389"
      },
      "execution_count": null,
      "outputs": [
        {
          "output_type": "stream",
          "name": "stdout",
          "text": [
            "['e', 'e', 'o', 'a', 'i', 'o', 'u', 'e', 'e', 'e']\n"
          ]
        }
      ]
    },
    {
      "cell_type": "markdown",
      "source": [
        "Extraigo un conjunto de datos de una lista de elementos, vector o conjunto de datos. "
      ],
      "metadata": {
        "id": "MxODTwJeRHwp"
      }
    },
    {
      "cell_type": "code",
      "source": [
        "%%R\n",
        "\n",
        "x = c(\"why\", \"video\", \"cross\", \"extra\", \"deal\", \"authority\")\n",
        "str_subset( string = x, pattern = \"[aeiou]\")"
      ],
      "metadata": {
        "colab": {
          "base_uri": "https://localhost:8080/"
        },
        "id": "riJfSxCeM7j3",
        "outputId": "a95f64d6-5143-498e-ffd7-78c0fbddc347"
      },
      "execution_count": null,
      "outputs": [
        {
          "output_type": "stream",
          "name": "stdout",
          "text": [
            "[1] \"video\"     \"cross\"     \"extra\"     \"deal\"      \"authority\"\n"
          ]
        }
      ]
    },
    {
      "cell_type": "code",
      "source": [
        "x = [\"why\", \"video\", \"cross\", \"extra\", \"deal\", \"authority\"]\n",
        "output = [palabra for palabra in x if re.search(\"[aeiou]\", palabra)]\n",
        "\n",
        "print(output)"
      ],
      "metadata": {
        "colab": {
          "base_uri": "https://localhost:8080/"
        },
        "id": "TjVZWuEmPZEE",
        "outputId": "8c9e5ff6-64e6-4b1b-eb77-5a3cfbf70140"
      },
      "execution_count": null,
      "outputs": [
        {
          "output_type": "stream",
          "name": "stdout",
          "text": [
            "['video', 'cross', 'extra', 'deal', 'authority']\n"
          ]
        }
      ]
    },
    {
      "cell_type": "markdown",
      "source": [
        "Contando la ubicación de un caracter que he decidido dentro de un conjunto de elementos, en este caso una lista o vector de elementos. "
      ],
      "metadata": {
        "id": "_MmNCRiXQ-mz"
      }
    },
    {
      "cell_type": "code",
      "source": [
        "%%R\n",
        "x = c(\"why\", \"video\", \"cross\", \"extra\", \"deal\", \"authority\")\n",
        "str_count( string = x, pattern = \"[aeiou]\")"
      ],
      "metadata": {
        "colab": {
          "base_uri": "https://localhost:8080/"
        },
        "id": "kxPGyP1QOvv7",
        "outputId": "aa945997-1c4b-478a-e740-d858e97cc6d3"
      },
      "execution_count": null,
      "outputs": [
        {
          "output_type": "stream",
          "name": "stdout",
          "text": [
            "[1] 0 3 1 2 2 4\n"
          ]
        }
      ]
    },
    {
      "cell_type": "code",
      "source": [
        "x = [\"why\", \"video\", \"cross\", \"extra\", \"deal\", \"authority\"]\n",
        "output = [len(re.findall(\"[aeiou]\", s)) for s in x]\n",
        "print(output)\n"
      ],
      "metadata": {
        "colab": {
          "base_uri": "https://localhost:8080/"
        },
        "id": "Wgs4asyTQ6IS",
        "outputId": "b0934719-f8fe-4a44-9c76-ad429a322f87"
      },
      "execution_count": null,
      "outputs": [
        {
          "output_type": "stream",
          "name": "stdout",
          "text": [
            "[0, 3, 1, 2, 2, 4]\n"
          ]
        }
      ]
    },
    {
      "cell_type": "markdown",
      "source": [
        "Ahora vamos a trabajar con valores de verdad"
      ],
      "metadata": {
        "id": "dVIUjwsoRU4b"
      }
    },
    {
      "cell_type": "code",
      "source": [
        "%%R\n",
        "x = c(\"why\", \"video\", \"cross\", \"extra\", \"deal\", \"authority\")\n",
        "str_detect( string = x, pattern = \"[aeiou]\")"
      ],
      "metadata": {
        "colab": {
          "base_uri": "https://localhost:8080/"
        },
        "id": "NeW-SuX7RYG_",
        "outputId": "04b950d9-1962-45b9-92a2-489347dd0f39"
      },
      "execution_count": null,
      "outputs": [
        {
          "output_type": "stream",
          "name": "stdout",
          "text": [
            "[1] FALSE  TRUE  TRUE  TRUE  TRUE  TRUE\n"
          ]
        }
      ]
    },
    {
      "cell_type": "code",
      "source": [
        "x = [\"why\", \"video\", \"cross\", \"extra\", \"deal\", \"authority\"]\n",
        "output = [bool(re.search(\"[aeiou]\", s)) for s in x]\n",
        "print(output)"
      ],
      "metadata": {
        "colab": {
          "base_uri": "https://localhost:8080/"
        },
        "id": "EhBCYedQRfPN",
        "outputId": "2b7b526a-c99e-44c0-f1c0-17fba0fb2acc"
      },
      "execution_count": null,
      "outputs": [
        {
          "output_type": "stream",
          "name": "stdout",
          "text": [
            "[False, True, True, True, True, True]\n"
          ]
        }
      ]
    },
    {
      "cell_type": "markdown",
      "source": [
        "Ahora vamos por un ejercicio un poco más real. "
      ],
      "metadata": {
        "id": "wlSuvG-SSI_Z"
      }
    },
    {
      "cell_type": "code",
      "source": [
        "%%R\n",
        "\n",
        "data = mtcars\n",
        "#Lo que hacemos aquí es simplemente cambiar el nombre de los vehículos a una columna independiente\n",
        "data = data %>% rownames_to_column(var = \"Model\")\n",
        "print(data%>% head())"
      ],
      "metadata": {
        "colab": {
          "base_uri": "https://localhost:8080/"
        },
        "id": "p71M4G59RtrY",
        "outputId": "af4cc174-56f4-4e73-a702-81ee6ba52ffc"
      },
      "execution_count": null,
      "outputs": [
        {
          "output_type": "stream",
          "name": "stdout",
          "text": [
            "              Model  mpg cyl disp  hp drat    wt  qsec vs am gear carb\n",
            "1         Mazda RX4 21.0   6  160 110 3.90 2.620 16.46  0  1    4    4\n",
            "2     Mazda RX4 Wag 21.0   6  160 110 3.90 2.875 17.02  0  1    4    4\n",
            "3        Datsun 710 22.8   4  108  93 3.85 2.320 18.61  1  1    4    1\n",
            "4    Hornet 4 Drive 21.4   6  258 110 3.08 3.215 19.44  1  0    3    1\n",
            "5 Hornet Sportabout 18.7   8  360 175 3.15 3.440 17.02  0  0    3    2\n",
            "6           Valiant 18.1   6  225 105 2.76 3.460 20.22  1  0    3    1\n"
          ]
        }
      ]
    },
    {
      "cell_type": "code",
      "source": [
        "import pandas as pd\n",
        "from statsmodels.datasets import get_rdataset\n",
        "import seaborn as sns\n",
        "data = sns.load_dataset('mpg')\n",
        "data = data.reset_index().rename(columns={\"name\": \"Model\"})\n",
        "print(data.head())"
      ],
      "metadata": {
        "colab": {
          "base_uri": "https://localhost:8080/"
        },
        "id": "QvuDyQHZSCIz",
        "outputId": "d732d39e-132c-45b9-c26c-b58ea5272500"
      },
      "execution_count": null,
      "outputs": [
        {
          "output_type": "stream",
          "name": "stdout",
          "text": [
            "   index   mpg  cylinders  displacement  horsepower  weight  acceleration  \\\n",
            "0      0  18.0          8         307.0       130.0    3504          12.0   \n",
            "1      1  15.0          8         350.0       165.0    3693          11.5   \n",
            "2      2  18.0          8         318.0       150.0    3436          11.0   \n",
            "3      3  16.0          8         304.0       150.0    3433          12.0   \n",
            "4      4  17.0          8         302.0       140.0    3449          10.5   \n",
            "\n",
            "   model_year origin                      Model  \n",
            "0          70    usa  chevrolet chevelle malibu  \n",
            "1          70    usa          buick skylark 320  \n",
            "2          70    usa         plymouth satellite  \n",
            "3          70    usa              amc rebel sst  \n",
            "4          70    usa                ford torino  \n"
          ]
        }
      ]
    },
    {
      "cell_type": "code",
      "source": [
        "%%R\n",
        "filtered_data <- data %>% filter(str_detect(string= Model, pattern = \"(erc)\"))\n",
        "head(filtered_data)"
      ],
      "metadata": {
        "colab": {
          "base_uri": "https://localhost:8080/"
        },
        "id": "PORw_CHUTt0f",
        "outputId": "e0dbb8be-934c-4826-8f63-b60035a66cf7"
      },
      "execution_count": null,
      "outputs": [
        {
          "output_type": "stream",
          "name": "stdout",
          "text": [
            "       Model  mpg cyl  disp  hp drat   wt qsec vs am gear carb\n",
            "1  Merc 240D 24.4   4 146.7  62 3.69 3.19 20.0  1  0    4    2\n",
            "2   Merc 230 22.8   4 140.8  95 3.92 3.15 22.9  1  0    4    2\n",
            "3   Merc 280 19.2   6 167.6 123 3.92 3.44 18.3  1  0    4    4\n",
            "4  Merc 280C 17.8   6 167.6 123 3.92 3.44 18.9  1  0    4    4\n",
            "5 Merc 450SE 16.4   8 275.8 180 3.07 4.07 17.4  0  0    3    3\n",
            "6 Merc 450SL 17.3   8 275.8 180 3.07 3.73 17.6  0  0    3    3\n"
          ]
        }
      ]
    },
    {
      "cell_type": "code",
      "source": [
        "filtered_data = data[data[\"Model\"].str.contains(\"erc\", flags=re.IGNORECASE)]\n",
        "print(filtered_data.head())"
      ],
      "metadata": {
        "colab": {
          "base_uri": "https://localhost:8080/"
        },
        "id": "65ZyBGRrVFgE",
        "outputId": "35e3e04a-b7b8-4a0e-bf26-0b78fd9a8150"
      },
      "execution_count": null,
      "outputs": [
        {
          "output_type": "stream",
          "name": "stdout",
          "text": [
            "     index   mpg  cylinders  displacement  horsepower  weight  acceleration  \\\n",
            "49      49  23.0          4         122.0        86.0    2220          14.0   \n",
            "67      67  11.0          8         429.0       208.0    4633          11.0   \n",
            "90      90  12.0          8         429.0       198.0    4952          11.5   \n",
            "113    113  21.0          6         155.0       107.0    2472          14.0   \n",
            "154    154  15.0          6         250.0        72.0    3432          21.0   \n",
            "\n",
            "     model_year origin                     Model  \n",
            "49           71    usa        mercury capri 2000  \n",
            "67           72    usa           mercury marquis  \n",
            "90           73    usa  mercury marquis brougham  \n",
            "113          73    usa          mercury capri v6  \n",
            "154          75    usa           mercury monarch  \n"
          ]
        }
      ]
    },
    {
      "cell_type": "code",
      "source": [
        "%%R\n",
        "x = c(\"why\", \"video\", \"cross\", \"extra\", \"deal\", \"authority\")\n",
        "str_replace( string = x, pattern = \"[aeiou]\", replacement = \"  \")"
      ],
      "metadata": {
        "colab": {
          "base_uri": "https://localhost:8080/"
        },
        "id": "RyVSdWwxVczT",
        "outputId": "1a2f74ee-77ec-4b0c-e79e-94dc0a6847c4"
      },
      "execution_count": null,
      "outputs": [
        {
          "output_type": "stream",
          "name": "stdout",
          "text": [
            "[1] \"why\"        \"v  deo\"     \"cr  ss\"     \"  xtra\"     \"d  al\"     \n",
            "[6] \"  uthority\"\n"
          ]
        }
      ]
    },
    {
      "cell_type": "code",
      "source": [
        "x = [\"why\", \"video\", \"cross\", \"extra\", \"deal\", \"authority\"]\n",
        "result = [re.sub(\"[aeiou]\", \"remplase por este texto\", palabra) for palabra in x]\n",
        "print(result)"
      ],
      "metadata": {
        "colab": {
          "base_uri": "https://localhost:8080/"
        },
        "id": "6qtv8JowV9r8",
        "outputId": "54ac8460-b4d2-4af8-e5e1-743f179bdc0e"
      },
      "execution_count": null,
      "outputs": [
        {
          "output_type": "stream",
          "name": "stdout",
          "text": [
            "['why', 'vremplase por este textodremplase por este textoremplase por este texto', 'crremplase por este textoss', 'remplase por este textoxtrremplase por este texto', 'dremplase por este textoremplase por este textol', 'remplase por este textoremplase por este textothremplase por este textorremplase por este textoty']\n"
          ]
        }
      ]
    },
    {
      "cell_type": "code",
      "source": [
        "%%R\n",
        "a = c(\"a,b\", \"c,d,e\", \"Hola\", \"Hola a todos\")\n",
        "str_split( string = a, pattern = \",\")"
      ],
      "metadata": {
        "colab": {
          "base_uri": "https://localhost:8080/"
        },
        "id": "LhpB_A-OVx64",
        "outputId": "3dbca080-9ddc-4ea5-c196-8090dbf7c2b8"
      },
      "execution_count": null,
      "outputs": [
        {
          "output_type": "stream",
          "name": "stdout",
          "text": [
            "[[1]]\n",
            "[1] \"a\" \"b\"\n",
            "\n",
            "[[2]]\n",
            "[1] \"c\" \"d\" \"e\"\n",
            "\n",
            "[[3]]\n",
            "[1] \"Hola\"\n",
            "\n",
            "[[4]]\n",
            "[1] \"Hola a todos\"\n",
            "\n"
          ]
        }
      ]
    },
    {
      "cell_type": "code",
      "source": [
        "a = [\"a,b\", \"c,d,e\", \"Hola\", \"Hola a todos\"]\n",
        "split_a = [re.split(\",\", x) for x in a]\n",
        "print(split_a)"
      ],
      "metadata": {
        "id": "SbayS2f3W0Ju",
        "outputId": "cf119965-b8df-45fd-84ff-ac9211512792",
        "colab": {
          "base_uri": "https://localhost:8080/"
        }
      },
      "execution_count": null,
      "outputs": [
        {
          "output_type": "stream",
          "name": "stdout",
          "text": [
            "[['a', 'b'], ['c', 'd', 'e'], ['Hola'], ['Hola a todos']]\n"
          ]
        }
      ]
    },
    {
      "cell_type": "markdown",
      "source": [
        "#Importación libro"
      ],
      "metadata": {
        "id": "6WWsY6hlNEEd"
      }
    },
    {
      "cell_type": "code",
      "source": [
        "from google.colab import drive\n",
        "drive.mount('/content/drive')\n"
      ],
      "metadata": {
        "colab": {
          "base_uri": "https://localhost:8080/"
        },
        "id": "Tbgdgt0aSqVU",
        "outputId": "5abf2c25-3bde-4d51-f541-039cfc2ad88b"
      },
      "execution_count": null,
      "outputs": [
        {
          "output_type": "stream",
          "name": "stdout",
          "text": [
            "Drive already mounted at /content/drive; to attempt to forcibly remount, call drive.mount(\"/content/drive\", force_remount=True).\n"
          ]
        }
      ]
    },
    {
      "cell_type": "code",
      "source": [
        "from pdfminer.high_level import extract_text\n",
        "\n",
        "with open('/content/drive/MyDrive/Databases/Entendiendo-correctamente-el-libertarismo.pdf', 'rb') as pdf_file:\n",
        "    libro = extract_text(pdf_file)\n",
        "\n",
        "print(libro[1:100])\n"
      ],
      "metadata": {
        "colab": {
          "base_uri": "https://localhost:8080/"
        },
        "id": "Q1L_ElzGXP1z",
        "outputId": "7640e16d-7882-4f8c-e4f1-c450bb495174"
      },
      "execution_count": null,
      "outputs": [
        {
          "output_type": "stream",
          "name": "stdout",
          "text": [
            "ntendiendo \n",
            "correctamente el \n",
            "libertarismo \n",
            "Hans-Hermann Hoppe \n",
            "\n",
            "CENTRO MISES\n",
            "\n",
            " \n",
            " \n",
            "\f\fEntendiendo \n",
            "c\n"
          ]
        }
      ]
    },
    {
      "cell_type": "markdown",
      "source": [
        "#Ahora trabajemos sobre python. "
      ],
      "metadata": {
        "id": "r6iK7GfYH2z7"
      }
    },
    {
      "cell_type": "code",
      "source": [
        "# Importar biblioteca tweepy\n",
        "import tweepy\n",
        "\n",
        "# Configurar credenciales de Twitter API\n",
        "consumer_key = \"6gMch1lkCfn3W5PZho3X4jh8W\"\n",
        "consumer_secret = \"eBosfeWmQVBLQ87WiVMaRXousYRdyOkyhLkvCUzw7ioz0EMCWY\"\n",
        "access_token = \"284827529-UENNMA2jVHCRBYwcddd6obAAZvaJ0hUVSapYYmwZ\"\n",
        "access_secret = \"sb1fgjDG9CSugsU5qsWJWkBOvP91FxJmcm7hKCyajrndT\"\n",
        "\n",
        "# Autenticar con la API de Twitter\n",
        "auth = tweepy.OAuth1UserHandler(\n",
        "    consumer_key, consumer_secret,\n",
        "    access_token, access_secret\n",
        ")\n",
        "\n",
        "# Crear objeto API de tweepy\n",
        "api = tweepy.API(auth)\n",
        "\n",
        "# Realizar una solicitud a la API de Twitter\n",
        "public_tweets = api.user_timeline(screen_name=\"elonmusk\", count=100)\n",
        "\n",
        "# Iterar sobre los tweets y obtener el texto\n",
        "tweet_text = [tweet.text for tweet in public_tweets]\n",
        "tweet_text\n"
      ],
      "metadata": {
        "id": "qN15NZpaFIM1",
        "colab": {
          "base_uri": "https://localhost:8080/"
        },
        "outputId": "8f353b87-b9b8-4bef-9bb7-d351cffe9bb1"
      },
      "execution_count": null,
      "outputs": [
        {
          "output_type": "execute_result",
          "data": {
            "text/plain": [
              "['@ehikian Voice &amp; video chat coming soon',\n",
              " '@Scobleizer @alirocketeer Cool!\\n\\nImproved video features should land almost every week.',\n",
              " '@EvaFoxU High time this happened',\n",
              " '@krassenstein It should not be socially acceptable to call someone an [anything] supremacist, unless there is unequ… https://t.co/tanekoWv6f',\n",
              " '@imjdsharp @krassenstein Exactly',\n",
              " 'RT @Starlink: Over one-third of secondary schools and two-thirds of primary schools around the world are not connected to the internet.\\n\\nOn…',\n",
              " '@WholeMarsBlog There are some jobs that can be done effectively at home, but it is super out of touch to suggest th… https://t.co/rOABkR8pIx',\n",
              " '@krassenstein @SquawkCNBC @JGreenblattADL I mostly agree with that statement, but talk is cheap – results are what… https://t.co/WZgdDnSwy4',\n",
              " '@SquawkCNBC @JGreenblattADL *Jonathan',\n",
              " '@WholeMarsBlog There’s probably some really embarrassing stuff in the book 🤣',\n",
              " '@mysteriouskat True (sigh)',\n",
              " '@aaronsibarium This is dumb',\n",
              " '@SquawkCNBC @JGreenblattADL In fairness, I must concede that Joel has a good point and I will endeavor to be more t… https://t.co/liF5dF1uZH',\n",
              " '@Austen What!? This is messed up. I’m no vegetarian, but I do want animals to have a happy life.',\n",
              " '@ehikian 🤣',\n",
              " 'Walter is incredibly thorough in his research. Highly recommend his other books! https://t.co/QBddy6xWs7',\n",
              " 'Happens a lot https://t.co/2IjXLXJ4P3',\n",
              " 'Was the Internet Archive manipulated for nepotistic reasons? https://t.co/YS6j979nUu',\n",
              " '@thackerpd Her uncle owns the Wayback machine &amp; you’re saying he deleted information for nepotism? That’s a big deal.',\n",
              " '@thackerpd @SteveDeaceShow @BretWeinstein This is the most embarrassing thing to come out of The Twitter Files!',\n",
              " '@tim_zaman @O42nl This platform is a great place to recruit!',\n",
              " '@WallStreetSilv Dutch farmers are incredibly skilled – some of the highest productivity &amp; most efficient farming on Earth!',\n",
              " 'Twitter Blue Verified subscribers can now upload 2 hour videos (8GB)!',\n",
              " '@mualphaxi @JTLonsdale @georgesoros Exactly',\n",
              " '@AdamSinger Yup',\n",
              " '@dvorahfr I subscribed!',\n",
              " 'RT @SpaceX: Ship 25 moved to a suborbital pad at Starbase for an upcoming static fire of its six Raptor engines https://t.co/5pPGl0SlkV',\n",
              " '@micsolana Kara has become so shrill at this point that only dogs can hear her',\n",
              " '@WholeMarsBlog 😵\\u200d💫',\n",
              " 'Why is sleep so hard!? Perhaps we will never know. https://t.co/Jv7liqxj8I',\n",
              " '@micsolana A really complicated password',\n",
              " '@slashdot I subscribed!',\n",
              " '@TheRabbitHole84 @shellenberger @georgesoros Exactly',\n",
              " '@vincent13031925 Optimus Team is making excellent progress',\n",
              " '@alx 🤣',\n",
              " '@KanekoaTheGreat I subscribed!',\n",
              " '@DimaZeniuk @Starlink @SpaceX @SpaceXStarlink Temporary experiment to test price elasticity of demand',\n",
              " 'RT @Starlink: 150+ cruise ships and counting around the world are set to use Starlink, helping to make their passengers travel experience e…',\n",
              " '@gurgavin !',\n",
              " '@lee_ohanian @HooverInst !',\n",
              " '@TRHLofficial 🎯',\n",
              " '@realchrisrufo Thank goodness',\n",
              " '@bennyjohnson Does the public realize that Soros wants open borders? Literally not even checking to see if they’re… https://t.co/MTfEFb9QqK',\n",
              " '@Timcast !',\n",
              " '@kevinnbass Correct',\n",
              " '@Teslaconomics lol',\n",
              " '@RichardHanania …',\n",
              " '@Bigfoot_USA 🤨',\n",
              " '@zerohedge 🧐',\n",
              " '@zerohedge !',\n",
              " '@WallStreetSilv Interest payments on national debt exceeding defense spending is a mind-blowing threshold to pass',\n",
              " '@thackerpd Good thread',\n",
              " '@GerberKawasaki Yup',\n",
              " '@krassenstein Regulatory oversight of AI is important to protect the public from companies potentially cutting corners on safety',\n",
              " '@KanekoaTheGreat Small world',\n",
              " '@RichardHanania !',\n",
              " '@BillFOXLA @BreitbartNews !',\n",
              " 'RT @Starlink: With Starlink, users can engage in online gaming which historically wasn’t possible with satellite internet. \\n\\nBack in Decemb…',\n",
              " 'RT @Starlink: ¡Starlink ya está disponible en Panamá!',\n",
              " '@StarshipGazer @SpaceX We’re getting great use out of Massey’s gun range!',\n",
              " 'https://t.co/FxOptt5Rgb',\n",
              " '@SethDillon And contradicted by statistics',\n",
              " '@slashdot !',\n",
              " '@realMeetKevin @Tesla @VancityReynolds Nice',\n",
              " '@atensnut Absolutely',\n",
              " '@micsolana We’re getting spammed with these like crazy!',\n",
              " '@enriquebrgn True!',\n",
              " '@a_newsman @ggreenwald @bellingcat “Great journalistic organization” 🤣🤣',\n",
              " '@ggreenwald @bellingcat Exactly',\n",
              " '@teslaownersSV No door handles &amp; side mirrors can be removed at discretion of owner',\n",
              " '@stillgray Just have kids one way or another or humanity with die with a whimper in adult diapers!',\n",
              " '@DimaZeniuk Frankly, I am pathologically optimistic – it’s a mental condition! \\n\\nKinda have to be to try to do all… https://t.co/0BaHv9J2tt',\n",
              " '@DimaZeniuk He is very mature for his age lol',\n",
              " '@jimcramer @davidfaber Thanks Jim!',\n",
              " '@stillgray At the risk of bragging a little, I do an incredible job of digging my own grave!',\n",
              " '@stillgray Lmao',\n",
              " 'To heir is human, \\nTo procreate divine',\n",
              " '@Teslaconomics Will give it a shot',\n",
              " '@GailAlfarATX @Tesla @Tesla_Optimus @Tesla_Megapack 👍🏻',\n",
              " '@krassenstein Thanks!',\n",
              " 'Love to see Starlink providing great connectivity to those who had little or nothing before. \\n\\nAs soon as you can a… https://t.co/08UWdnmPD7',\n",
              " '@LibertyCappy Cybertruck option packages &amp; third-party add-ons will be 🔥🔥',\n",
              " '@cb_doge I strive to entertain humanity, whom I love',\n",
              " '@Teslaconomics All real &amp; hot of the presses. Tesla Optimus team cranked super hard through the weekend to get it done. They are awesome!',\n",
              " '@unusual_whales 🧐',\n",
              " 'RT @ThomasAlxDmy: Once you’ve tasted the full phone to car and technological experience of a Tesla you can’t go back to any other cars. The…',\n",
              " 'It was really unfair to Magneto',\n",
              " 'I’d like apologize for this post',\n",
              " '@waitbutwhy Super crazy times',\n",
              " '@KanekoaTheGreat Wow, what a coincidence …',\n",
              " '@shellenberger @georgesoros True',\n",
              " '@TheBabylonBee 🤣',\n",
              " '@Teslaconomics Welcome back @jbstraubel!',\n",
              " '@WallStreetSilv Yeah, this is tragic',\n",
              " '@andst7 Absolutely']"
            ]
          },
          "metadata": {},
          "execution_count": 39
        }
      ]
    },
    {
      "cell_type": "markdown",
      "source": [
        "A partir del avance que has compartido, lo siguiente sería guardar la información de los tweets en un DataFrame utilizando la librería pandas.\n",
        "\n",
        "Para ello vamos a crear un diccionario con las columnas que deseas incluir en el DataFrame y la información de los tweets:"
      ],
      "metadata": {
        "id": "k2xbBHMrhXVU"
      }
    },
    {
      "cell_type": "code",
      "source": [
        "tweet_dict = {\n",
        "    \"ID\": [tweet.id for tweet in public_tweets],\n",
        "    \"Fecha\": [tweet.created_at for tweet in public_tweets],\n",
        "    \"Texto\": [tweet.text for tweet in public_tweets],\n",
        "    \"Usuario\": [tweet.user.screen_name for tweet in public_tweets],\n",
        "    \"Seguidores\": [tweet.user.followers_count for tweet in public_tweets],\n",
        "    \"Likes\": [tweet.favorite_count for tweet in public_tweets],\n",
        "    \"Retweets\": [tweet.retweet_count for tweet in public_tweets],\n",
        "    \"Favorited\": [tweet.favorited for tweet in public_tweets],\n",
        "    \"Retweeted\": [tweet.retweeted for tweet in public_tweets]\n",
        "}"
      ],
      "metadata": {
        "id": "bzphUym5m7hX"
      },
      "execution_count": null,
      "outputs": []
    },
    {
      "cell_type": "code",
      "source": [
        "tweet_df = pd.DataFrame(tweet_dict)\n",
        "print(tweet_df.head())"
      ],
      "metadata": {
        "id": "RJbdBlOnm-_Q",
        "colab": {
          "base_uri": "https://localhost:8080/"
        },
        "outputId": "076423a6-192c-4220-949a-9837bb5b494a"
      },
      "execution_count": null,
      "outputs": [
        {
          "output_type": "stream",
          "name": "stdout",
          "text": [
            "                    ID                     Fecha  \\\n",
            "0  1659332812980338688 2023-05-18 22:59:06+00:00   \n",
            "1  1659315068037738498 2023-05-18 21:48:35+00:00   \n",
            "2  1659314565543256066 2023-05-18 21:46:35+00:00   \n",
            "3  1659310997872558082 2023-05-18 21:32:25+00:00   \n",
            "4  1659309549440888832 2023-05-18 21:26:39+00:00   \n",
            "\n",
            "                                               Texto   Usuario  Seguidores  \\\n",
            "0        @ehikian Voice &amp; video chat coming soon  elonmusk   140031936   \n",
            "1  @Scobleizer @alirocketeer Cool!\\n\\nImproved vi...  elonmusk   140031936   \n",
            "2                   @EvaFoxU High time this happened  elonmusk   140031936   \n",
            "3  @krassenstein It should not be socially accept...  elonmusk   140031936   \n",
            "4                   @imjdsharp @krassenstein Exactly  elonmusk   140031936   \n",
            "\n",
            "   Likes  Retweets  Favorited  Retweeted  \n",
            "0    685       103      False      False  \n",
            "1    736        56      False      False  \n",
            "2   1192        84      False      False  \n",
            "3  19398      2145      False      False  \n",
            "4   1087        73      False      False  \n"
          ]
        }
      ]
    },
    {
      "cell_type": "markdown",
      "source": [
        "Esta línea de código quita signos de puntuación, números, symbolos, quita URLs, separadores, entre otros pero además, deja el documento separado en tokens."
      ],
      "metadata": {
        "id": "7OHY8Btfd1V9"
      }
    },
    {
      "cell_type": "markdown",
      "source": [
        "#Analizando documentos de texto en python. "
      ],
      "metadata": {
        "id": "l5LK3sFwdsIX"
      }
    },
    {
      "cell_type": "code",
      "source": [
        "import nltk\n",
        "nltk.download('punkt')\n",
        "from nltk.tokenize import word_tokenize\n",
        "import re\n",
        "\n",
        "# Remove mentions, urls, emojis, numbers, punctuation, etc.\n",
        "text = re.sub(r\"@\\w+\", \"\", libro)\n",
        "text = re.sub(r\"https?://\\S+\", \"\", text)\n",
        "text = re.sub(r\"\\d+\\w*\\d*\", \"\", text)\n",
        "text = re.sub(r\"#\\w+\", \"\", text)\n",
        "text = re.sub(r\"[^\\x01-\\x7F]\", \"\", text)\n",
        "text = re.sub(r\"[^\\w\\s]\", \" \", text)\n",
        "\n",
        "# Remove spaces and newlines\n",
        "text = re.sub(r\"\\n\", \" \", text)\n",
        "text = re.sub(r\"^\\s+|\\s+$\", \"\", text)\n",
        "text = re.sub(r\"[ \\t]+\", \" \", text)\n",
        "\n",
        "# Second round of cleaning\n",
        "# Remove \"rt\"\n",
        "text = re.sub(r\"rt\", \"\", text)\n",
        "# Remove \"@username\"\n",
        "text = re.sub(r\"@\\w+\", \"\", text)\n",
        "# Remove punctuation\n",
        "text = re.sub(r\"[^\\w\\s]\", \"\", text)\n",
        "# Remove numbers\n",
        "text = re.sub(r\"\\d\", \"\", text)\n",
        "# Remove links (http)\n",
        "text = re.sub(r\"http\\w+\", \"\", text)\n",
        "# Remove tabs\n",
        "text = re.sub(r\"[ \\t]{2,}\", \"\", text)\n",
        "# Remove blank spaces at the beginning and end\n",
        "text = re.sub(r\"^ | $\", \"\", text)\n",
        "# Remove unusual characters\n",
        "text = re.sub(r\"[^\\x01-\\x7F]\", \"\", text)\n",
        "# Convert to lowercase\n",
        "text = text.lower()\n",
        "\n",
        "# Dividir el texto en palabras\n",
        "tokens = word_tokenize(text)\n",
        "# Remover caracteres de puntuación\n",
        "tokens = [token for token in tokens if token.isalnum()]\n",
        "# Remover símbolos\n",
        "tokens = [token for token in tokens if token.isalpha()]\n",
        "# Remover números\n",
        "tokens = [token for token in tokens if not token.isdigit()]\n",
        "# Imprimir los primeros 10 tokens\n",
        "print(tokens[:100])"
      ],
      "metadata": {
        "colab": {
          "base_uri": "https://localhost:8080/"
        },
        "id": "katz56NFdo35",
        "outputId": "a71b0228-1445-4e5e-e3c3-6096a5944061"
      },
      "execution_count": null,
      "outputs": [
        {
          "output_type": "stream",
          "name": "stderr",
          "text": [
            "[nltk_data] Downloading package punkt to /root/nltk_data...\n",
            "[nltk_data]   Package punkt is already up-to-date!\n"
          ]
        },
        {
          "output_type": "stream",
          "name": "stdout",
          "text": [
            "['entendiendo', 'correctamente', 'el', 'libearismo', 'hans', 'hermann', 'hoppe', 'centro', 'mises', 'entendiendo', 'correctamente', 'el', 'libearismo', 'introduccin', 'los', 'escritos', 'recogidos', 'en', 'este', 'libro', 'son', 'en', 'su', 'mayora', 'la', 'propey', 'and', 'discursos', 'realizados', 'en', 'bodrum', 'en', 'freedom', 'society', 'de', 'la', 'cual', 'el', 'profesor', 'hoppe', 'es', 'fundador', 'y', 'presidente', 'tuve', 'la', 'suee', 'de', 'escuchrselos', 'leer', 'en', 'la', 'reunin', 'y', 'me', 'siento', 'profundamente', 'honrado', 'de', 'que', 'me', 'hayan', 'pedido', 'que', 'presente', 'una', 'las', 'versiones', 'publicadas', 'introduccin', 'a', 'voy', 'a', 'dividir', 'mi', 'introduccin', 'en', 'tres', 'secciones', 'primero', 'dar', 'una', 'breve', 'descripcin', 'de', 'los', 'primeros', 'aos', 'de', 'vida', 'y', 'el', 'desarrollo', 'intelectual', 'de', 'hoppe', 'segundo', 'escribir', 'ms', 'extensamente']\n"
          ]
        }
      ]
    },
    {
      "cell_type": "markdown",
      "source": [
        "Hasta ahora ya tenemos todo el documento listo y separado en palabras para poder trabajarlo y así poder desarrollar diferentes análisis... cada étapa no es consecutiva y se puede ir hacia adelante y hacá atras entre ellas para poder comprender o modificar diferentes procesos. "
      ],
      "metadata": {
        "id": "V0TcOq1Gwuq8"
      }
    },
    {
      "cell_type": "markdown",
      "source": [
        "#retirar stopwords del documento Python.\n",
        "Bien sea stopwords seleccionadas o un diccionario de stopwords completo. "
      ],
      "metadata": {
        "id": "PRYCEodhk5Ff"
      }
    },
    {
      "cell_type": "code",
      "source": [
        "\n",
        "nltk.download('stopwords')\n",
        "from nltk.corpus import stopwords\n",
        "\n",
        "discurso = ' '.join(tokens)\n",
        "\n",
        "# Additional words and patterns to remove\n",
        "words_to_remove = [\n",
        "    \"hp2pdfmnfa\", \"@iandresrm\", \"va\", \"https://\", \"@\", \":\", \"…\", \"t.co/\", \"👁\",\n",
        "    \"@christi11079874\", \"📢\", \"jajajajjaja\", \"“\", \"n\", \"cad…\", \"@lafm\", \"plat…\",\n",
        "    \"…\", \"indra\", \"dos\", \"día\", \"🇨🇴\", \"de\", \"la\", \"aos\", \"el\", \"y\", \"las\", \"nes\",\n",
        "    \"ser\"\n",
        "]\n",
        "\n",
        "# Remove additional words and patterns\n",
        "for word in words_to_remove:\n",
        "    discurso = discurso.replace(word, '')\n",
        "\n",
        "# Remove unwanted characters and spaces\n",
        "discurso = re.sub(r\"[^\\w\\s]\", \"\", discurso)\n",
        "discurso = re.sub(r\"\\s+\", \" \", discurso).strip()\n",
        "\n",
        "# Print the cleaned text\n",
        "print(discurso)"
      ],
      "metadata": {
        "colab": {
          "base_uri": "https://localhost:8080/"
        },
        "id": "C4TM2zhwkmFc",
        "outputId": "2900dba1-baae-4586-c5e0-b809b748e91c"
      },
      "execution_count": null,
      "outputs": [
        {
          "output_type": "stream",
          "name": "stdout",
          "text": [
            "etediedo correctamete libearismo has herma hoppe cetro mises etediedo correctamete libearismo itroducci los escritos recogi e este libro so e su maora prope ad discursos realiza e bodrum e freedom societ cual profesor hoppe es fudador presite tuve suee escuchrsos leer e reui me sieto profudamete horado que me haa pedido que presete ua s versioes publicadas itroducci a vo a dividir mi itroducci e tres seccioes primero dar ua breve scripci los primeros vida sarrollo itectual hoppe segudo escribir ms extesamete sobre trabajo acadmico que lo ha colocado a cabeza l movimieto libeario iteracioal tercero explicar tema o los temas pricipales que ri presete colecci hoppe io l asetamieto alemaia occital has herma hoppe aci septiembre e peie ua ciudad e sector britico alemaia ocupada spus asistir a rias escues locales primero fue a uiversidad saard e saarbrcke s aqu se trasd a uiversidad goethe e frakfu do estudi co otable eo marxista jrge habermas quie tambi actu como asesor pricipal tesis doctoral hoppe e filosofa sobre david hume e immau kat e aqulos das hoppe era u marxista o tea diferecias ias co su maestro dijo ms tar lo que me gustaba l marxismo es que haba itetado ofrecer u sistema riguroso ductivo para cualquier obdor extero estaba siguiedo u camio seguido por muchos miles su geeraci bera e curso ormal s cosas haber termiado e u puesto permaete e que su ber bajo justificaci difudir safecto era predicar coformidad co uevo or cosas e alemaia occital si embargo lo que proto le disgust acerca l marxismo fue su fracaso como sistema itectual su secato fue u proceso gradual pas por u perodo e que fue ifluido por karl popper e icluso fue u socialmcrata e poltica su ruptura fial co izquierdismo tesis lleg mietras escriba habilitaci sobre los fudametos sociologa ecooma comez co oci que auque cieas su the prite prope orr a iterview with has herma hoppe austria ecoomics ewsletter dispoible aqu prope orr iterview has herma hoppe verdas sobre mudo pue coocerse a priori s lees ecooma sociologa se cooce al meos e gra pae por iducci luego rechaz esto pasado a opii que ecooma al cotrario que sociologa es ua ciecia completamete ducti esto lo llev etoces al scubrimieto ludwig vo mises aqu haba u sistema que haca s mismas afirmacioes ambiciosas que marxismo austricismo era u cojuto teoras etrezadas e gra pae ductis sobre ecooma poltica recho mucho ms a diferecia l marxismo se matea uido itectualmete tambi geeraba u verdaro coocimieto sobre mudo ltimo paso restate e este uevo e imprecible camio fue scubrir a murra rothbard hoppe termi dcada como u libre mercado al jar libeario radical bieveido e todas s uiversidas alemaia occital e se fue a los esta ui hoppe herero rothbard hasta ese e ue ork bajo supervisi rothbard trabajado viviedo a su do e cotacto persoal costate e imediato luego se mudaro jutos para esear e uiversidad eda e s vegas aqu se ubicaro e cleo lo que se covii e crculo s vegas ua agrupaci ecoomistas filsofos libearios ta brilte producti como que ms e toda historia l movimieto libeario otros miembros l crculo icluero a uri maltsev doug frech lee iglod hoppe permaeci e s vegas como profesor hasta pero admite que ada fue igual spus prematura muee rothbard e vio a rothbard como su eseate pricipal metor maestro su ms querido amigo pateral a pesar que produjo mucho ms trabajo durate su tiempo co rothbard spus su cotribuci ms impoate tato al libearismo como a filosofa e geeral es probablemete su trabajo sobre lo que lma iologa secur parece argumetaci tica toda scasar sobre bases iestables libearismo libre mercado o es ua excepci por qu bera jarse e paz a s persoas por qu bera libres pomos argumetar que libead permite que s persoas se haga ms fices lo que a otra maera pomos argumetar que les permite ms ricos respuesta es pregutar por qu s persoas bera fices o ricas estos pue biees evites pero o siempre se cosira otra objeci es comezar a abrir agujeros e fiici medici ficidad o pomos afirmar que todo humao ace co cieos rechos aturales e ialieables que estos iclue los rechos a vida libead propiedad objeci aqu es pregutar por qu si dios como otorgate estos rechos recma so al ms que u ejercicio ftulecia verbal haek vo mises los hombres que ms hiciero durate mitad l siglo xx para mateer liberalismo clsico vivo como iologa fuero rios tipos utilitaristas rothbard que tom ecooma austraca fusio co radicalismo ativo americao para crear libeario moro compai ua movimieto creecia co a rad e los rechos aturales durate muchos hasta que surgiero ms disputas prcticas s spus l fial reuioes libearias iclua u esao s diferecias etre s escues fudacioales guerra fra casi todas lo que hoppe iteta co su tica argumetaci es trascer este bate al hacer esto se basa e sus primeros trabajos co habermas e tradici katiaa filosofa alemaa e s escrituras ticas rothbard comieza co obci que ha formas solucioar cualquier disputa ua es fuerza otra es argumetaci cualquiera s paes e ua disputa que ija fuerza se ha salido s ormas civilizaci que iclue evitar fuerza agresi o tiee recho a quejarse si se le trata co mucha dureza cualquiera que ija argumetaci por otro do ha aceptado estas ormas por tato si argumeta a favor rectitud fuerza como u medio para obteer lo que quiere los ms se est ivolucrado e ua cotradicci lgica e resume quie rechaza pricipio tambi ecesariamete rechaza s ormas l discurso racioal quie afirme aceptar estas ormas tambi be aceptar pricipio o agresi libeario agresi o habdo mucho spus primera publicaci hoppe eg que esto fuera ua retirada los rechos aturales itetaba hacer que los primeros captulos tica libead rothbard fuera ms sli que lo que era eso a su vez dara ms peso a todo lo que sigui tea algo isatisfacci co rigor co que se haba llegado a los supuestos ticos iiciales teora poltica libearia ituitimete pareca pusibles pero pu ver que u efoque ligeramete diferete podra ms slido murra uca cosir mis revisioes como ua ameaza su resuve ica preocupaci esto era ver por ejemplo has herma hoppe the ultimate justificatio of the prite prope ethic libe setptiembre dispoible aqu cotet uploads publicatios pdf fiitimete estuvo acuerdo e que lo haca cuesti e ltima istacia hecho rothbard le dio a teora su maor ogio calific como u ace slumbrate para filosofa poltica e geeral para libearismo e paicur hoppe ha logrado trascer famosa dicotoma ber hecho lor que ha pgado a filosofa s los das lledo al los escolsticos que haba libearismo moro a u puto mueo agotador si rothbard era pricipal itectual l movimieto libeario hoppe era su sucesor obvio egido e mometo muee rothbard haba hecho cotribucioes slidas o solo a tica fudametal sio tambi a ecooma poltica recho fue u maestro ispirador u orador pblico recmado e todo mudo o haba adie e esta ui o e mudo e geeral mejor calificado para cotiuar do rothbard se haba quedado etoces se covii e editor the joural of libearia studies coeditor l quaerl joural of austria ecoomics propio rothbard si embargo o fue aceptado uiversalmete tro l movimieto libeario uo sus umerosos taletos haba sido crearse eemigos tea muchos motivos para crearse o simplemete atraer eemigos era u aiscioista e ua poca e que the prite prope orr simposio has herma hoppes argumetatio ethics breakthrough or bucombe libe oviembre e dispoible pdf recha estadouise se fia a s misma por su oposici al comuismo ui sovitica era escptico ate s gras empresas e u movimieto que estaba e gra pae eamorado l capitalismo estadouise era u aarquista etre los ecoomistas que se icliaba por camio hacia pritizaci sreguci vio cada paso l asceso esta ui al por mudial como ua traici al estilo vida estadouise resultaba estar aliado co izquierdistas co ultracodores estaba e guerra abiea co los estatistas utilitarios los fesores l diero barato escue chicago e seguida se siti icmodo co istituto cato que haba hecho mucho para fudar era mordaz e su sprecio por correcci poltica ia misma ua igualdad uiversal que fuera ms all igualdad los rechos egativos hoppe es ua figura a ms divisi u codor cultural crado o tiee tiempo para s riedas ms hedoistas o izquierdistas l libearismo s pricipio su libearismo ha puesto ms fasis e los rechos propiedad que e toleracia e moarqua mocracia or atural escribe que e su comuidad ial habra poca o igua toleracia apeura metal ta querida por los libearios izquierda e cambio estara e camio correcto hacia restauraci libead asociaci exclusi implcita e istituci propiedad prida aa has herma hoppe mocrac the god that failed ew bruswick j trasactio publishers p los pacto cocluido etre dueo arredatarios co objetivo proteger su propiedad prida o pue coteer ada parecido a u recho a libead ilimitada expresi los arredatarios i siquiera e posesi cada cual pue afirmarse lo que se quiera patrociar casi cualquier ia pero a adie le est permitido fer ias como mocracia o comuismo cotrarias a los objetivos ltimos l pacto codor propiedad prida u or social libeario o pue tolerar i a los mcratas i a los comuistas los ms ecesario apaarlos fsicamete expulsarlos sociedad l mismo modo e u pacto istituido co fialidad proteger a familia o pue tolerarse a quiees promueve formas vida alteratis o basadas e familia i e paretesco icompatibles co aqu meta tambi estas formas vida alterati hedoismo idividualista parasitismo social culto al medio ambiete homosexualidad o comuismo tedr que erradicadas sociedad si se quiere mateer u or libeario estas cracioes otras su tipo ha sido sigue siedo polmicas tro l movimieto libeario creo que o es exagerado cir que casi todo mudo e movimieto s aproximadamete se ha fiido a s mismo por lo que piesa hoppe alguos lo cosira maor libeario vivo otros como u diablo ico puto acuerdo es que es u pesador que o pue igorado ibd pp presete colecci siedo as presete colecci til como ua breve acraci d se ecuetra hoppe e los asutos ms impoates tro l movimieto los temas ms impoates uestra poca so cosciete que auque muchos omite los prlogos otros juzga u libro por su prlogo por lo tato so ms cosciete ecesidad u resume ua explicaci breves precisos los cotei que sigue a mi itroducci e rios lugares hoppe reafirma efatiza su opii que los fudametos l libearismo se ri ua caa razoamieto ductivo premisas iegables vivimos e u mudo escasez o los recursos so escasos o tiempo para usarlos es escaso to teemos diferetes ias sobre cmo se usar estos recursos por lo tato si seamos vivir e u mudo do coflicto por los recursos se miimiza los rechos propiedad bemos acordar trasferecia be darse por setado que somos dueos osotros mismos recmar lo cotrario lle a ua ihumaidad obvia aumeta al meos potecial coflicto ilimitado sobre qui posee a qui e lo que respecta a los recursos exteros soluci ial es que peeezca a quie primero se los apropie l estado aturaleza que luego sea trasferi por cosetimieto es cir por veta doaci o herecia esta es por supuesto soluci ial e gra pae l mudo propiedad tierra ha estado e posesi durate miles ha sido cofiscada reasigada e repetidas ocasioes o ha ua pulgada cuadrada igterra o europa occital cuo ttulo rive su apropiador origial soluci prctica etoces es ua presuci refutable a favor ttulos existetes siedo refutaci ua buea evicia l ttulo rido ua caa posesi aterior excepci es propiedad estatal esta be restituirse a los poseedores su ltimo ttulo razoable o esto es irrefutable o egarlo coduce a u coflicto maor que jar s cosas como est aqu termia si embargo aturaleza evite l libearismo cieas proposicioes adicioales ridas ecooma cotia caa verdad evite pero otras discusioes sobre efoque o forma ua sociedad libearia compromiso pragmtico cuestioes ivolucra si toda raza humaa se pareciera pesara ms o meos igual activismo libeario a ua cuesti alcace idiscrimiado o isivo pero raza humaa tal como existe es ifiitamete diversa ha diferecias apariecia diferecias habilidad diferecias creecia expectati estas diferecias so cras etre los idividuos so cras etre diferetes grupos idividuos o somos ua tabu rasa e cual espritu era pue escribir como quiera acemos diferetes os volvemos ms diferetes a e forma e que respomos a lo que sea que sigifique espritu era a rgo pzo hoppe sus cicos est totalmete acuerdo espera co asia ua humaidad ica uida e respeto por vida libead propiedad todo lo eriquecido co los beeficios culturales materiales que se ri u mudo libead uiversal por mometo esta humaidad ica o existe i es probable que exista o bemos teer e cueta estos hechos diferecia o o lo haremos si o lo hacemos etoces os itiles itermiablemete habdo etre osotros co adie ms sobre reci etre pricipio o agresi frustraci cotractual o os doctria coveiremos itectuales e coveiremos e itectuales pigrosos abogado por polticas que e ombre l pricipio o agresi o reduce sio que aumeta probabilidad coflicto por los recursos si egimos tomar e cueta estas diferecias etoces os ecotramos firmemete e do impopur casi todas s pregutas que fie edad e que vivimos si ha espacio para bate sobre s causas u hecho est cro que s sociedas ms libres prsperas que haa existido algua vez so aqus domiadas por roes geeralmete heterosexuales los cazadores recolectores que se scedietes asetaro e europa occital cetral e oe asia hecho si ha espacio para bate sobre s causas causa ms probable algo que se pue egar por los productos ua educaci uiversitaria rga costosa es algo iherete a estos pueblos e lugar u cojuto circustacias cotigetes locales los ltimos miles esto o quiere cir que estos grupos sea mejores que otros e u setido abstracto o quiere cir que to los miembros estos grupos muestre misma aptitud para prer sus res sociales tradicioales o adquiri tampoco sigifica que to los miembros otros grupos sea igualmete icapaces adquirir o prer los res sociales retes cieamete o es que ivitemos a pesar mal esos otros grupos hoppe siempre ha sido cro e esto sus coferecias bodrum so absolutamete diversas es simplemete ua cuesti efretarse a los hechos geerales ha mujeres barbudas ha hombres co pechos o to los igleses so putuales o to s igora au as basar uestra coducta e excepcioes e lugar geeralidas est stiado tar o temprao a resultar icoveiete los igeri ua cosecuecia este efoque es que hoppe se opoe a s lees cotra discrimiaci si hubiera ua le que permitiera a los roes heterosexuales cristi bcos ejercer como mdicos l uciara l mismo modo que al comiezo su sistema uciaba cualquier cse escvitud dichas lees vio cororio egativo l recho a libead asociaci si queremos libres asociaros como lo seamos etoces bemos libres para o asociaros a veces uestras cisioes se basar e s realidas sociales que acabamos mecioar a veces o e cualquier caso so uestras cisioes o bera impedidas por le ua seguda cosecuecia es que be haber u fi para cambio rgime costrucci aci e otras paes l mudo e esta colecci actual hoppe mecioa pasada su oposici a uestras itervecioes medio oriete pero su oposici es profuda firme s supuestas razoes estas itervecioes so todas metiras probadas o probables icluso lo cotrario proecto expoar uestras solucioes a lugares do o se sea i ha ller a ms aptitus para recibirlos solo pue rramamieto sagre que jar a s persoas a su aire s tercera cosecuecia es que se opoe a froteras abieas esto me vuve al puto hoppe sobre aplicaci pragmtica teora libearia ha libearios que memoriza algua craci cocisa l pricipio o agresi e imediatamete coclue que todas s froteras so imorales este efoque igora s realidas actuales imigraci masi s fuera efectos s evitemete egativos aumeta crime sor amp e gra medida rol los solicitates regioes mecioadas ates tiee asistecia social proporcioa u ectorado creciete para los polticos cuas carreras so u cotiuo ataque a vida libead propiedad s froteras abieas e s mismas e este mometo especialmete s froteras abieas ms u estado bieestar uestras itermiables guerras agresi que produce oleadas itermiables refugia so u ataque a civilizaci tampoco ha igua raz para creer que ua sociedad verdaramete libearia permitira lo que ahora pasa por froteras abieas s persoas tiee recho a comerciar etre s o a establecerse do como quiera ua s afirmacioes bsicas teora libearia es que to los costos pue be pritiza pues bie cualquier paicipate ua comuidad libearia pue impoer costos que supera los beeficios su presecia si es as u recho iegable los propietarios esa comuidad es disuadir a los uevos paicipates que cosira por cualquier raz como iseables aqulos que ija o hacerlo estar sujetos a pleitos por permitir ua molestia e su propiedad u mudo libeario a u mosaico comuidas estas atera todo tipo cocebible gustos maora s si embargo probablemete a ms bie exclusis e sus polticas etrada habra espacio para bieveida a to los visitates co los brazos abieos visi hoppe si embargo es que estas a ua miora comuidas que su fracaso a u ejemplo para otros s comuidas que dara ahora bie este es u argumeto sobre u mudo que o existe pue que o exista e mucho tiempo vivimos e u mudo acioes esta to co froteras qu se be hacer co respecto a imigraci e u mudo as hoppe acepta ilegitimidad bsica l presete or cosas pero acepta que es or presete si civilizaci be sobrevivir icluso e su codici fectuosa actual es ecesario isistir e que los esta be actuar como fiicomisarios quiees los fiacia esto o sigifica ua prohibici total imigraci u hostilidad hacia s persoas e fuci su apariecia pero s sigifica u cotrol estricto s froteras poaci los imigrates iseables tambi sigifica precios ms altos por uso propiedad pblica para aqulos que o ha cotribuido e ada a su sarrollo sigifica que o ha acceso a asistecia social que auque sea maera pobci asetada cualquier cosa meos que eso se scribe o atidiscrimiaci sio como itegraci forzada isesata pueda estar dispoible para igualdad mejor como o co ha que ver izquierda maora los ataques polmicos hoppe e los los teido ltimos estos libearios autoomia combia aceptaci s ias izquierdistas igualdad atidiscrimiaci co algua creecia e libre mercado al mismo tiempo o se cosira e ig setido como u lr lo que se lma recha alterati esta es ua coalici amplia acioalsocialistas acioalistas bcos codores diversos tipos libearios secata salt a fama e por su apoo a doald trump se hizo otoria e por motaje sefreado que provoc e maifestaci charlottesville hoppe acepta que recha alterati los libearios compae ua oposici a s lites hichadas malvos bicistas que gobiera maora los pases occitales ha abieo u dilogo co alguos los lres recha alterati ms razoables pero sigue siedo cautoso co recha alterati e su cojuto o le gusta su misticismo frecuete aper a ua sabidura superior al racioalismo prute ilustraci o le gusta su obsesi co raza e lugar ua visi cra s diferecias reales etre idividuos idividuos le disgusta especialmete sus grupos cocesioes al socialismo socialismo mietras sus beeficiarios sea bcos si recha alterati evolucioa hacia u ataque amplio cotra males iegables tato mejor si como parece probable se coveir e ua coalici cultos totalitarios o semi totalitarios o quiere teer ada que ver co eso coclusi hoppe mecioa rias veces e esta colecci que est evejeciedo que cotiuar trabajado mietras su salud lo permita espero que cotie por muchos ms pero teemos que aceptar que vida es iciea por tato que maaa pueda o estar etre osotros a ua prdida terrible al mismo tiempo o tego meor duda que sobre base lo que ha logrado hasta ahora mudo itectual se ha hecho u lugar mejor por presecia hoppe e l espero creo que ispiraci que proporcioa su trabajo alg da cotribuir al surgimieto u mudo mejor para toda humaidad si esta breve recopici sus escritos mi breve itroducci pue formar pae esta cotribuci o se habr publicado e o sea gabb al abril u libearismo realista libeios imoralistas libearismo es lgicamete cosistete co casi cualquier actitud hacia cultura sociedad rigi o pricipio moral e lgica estricta doctria poltica libearia pue separarse todas s ms cosiracioes lgicamete uo pue hecho maora los libearios so hedoistas eemigos militates rigi e geeral cristiaismo e paicur sigue siedo paidarios costates poltica libearia hecho e ua lgica estricta uo pue u voto coherete los rechos propiedad polticamete u gorr u estafador prctica como sivergeza licuete e libearios estrictamete resulta masia lgico uo pue hacer estas cosas pero psicolgicamete sociolgicamete e prctica simplemete o fucioa esa maera permtame comezar co alguas obcioes sobre libearismo como teora pura ducti si o hubiera escasez e mudo los coflictos hum a imposibles los coflictos iterpersoales so siempre e todas paes coflictos co respecto a cosas escasas o quiero hacer x co ua cosa termiada usted quiere hacer co misma cosa bido a tales coflictos porque somos capaces comuicaros discutir uos co otros buscamos ormas compoamieto co fi evitar estos coflictos propsito s ormas es evitar coflicto si o quisiramos evitar los coflictos bsqueda ormas simplemete coducta o pearamos lucharamos setido tedra a falta ua armoa perfecta to los itereses los coflictos recioa co los recursos escasos solo pue evitarse si to los recursos escasos se asiga como propiedad prida exclusi a ua persoa actuar etoces especfica ipedietemete co mis propias cosas ti co tus propias cosas si que t o etremos e coflicto puedo solo pero qui posee qu recurso escaso como su propiedad prida qui o primero cada persoa posee su cuerpo fsico que solo l adie ms cotro directamete o puedo cotror tu cuerpo solo idirectamete primero cotrodo directamete mi cuerpo viceversa que solo l cotro tambi directamete e paicur cuado discute argumeta preguta e cuesti lo cotrario si posesi l cuerpo fuera asigada a alg cotrodor corporal idirecto coflicto se volvera ievitable a que cotrodor corporal directo o pue reuciar a su cotrol directo sobre su cuerpo mietras est vivo e paicur imposible que persoas como los cotedietes e cualquier disputa sobre ua propiedad pueda algua vez discutir batir preguta cua volutad es precer a que argumetar discutir presupoe que tato propoete como opoete tiee cotrol exclusivo sobre sus respectivos cuerpos por lo tato llega al juicio correcto por s mismos si luchar e ua forma iteracci libre coflictos lo cotrario a segudo e cuato a los recursos escasos que pue cotrorse solo maera idirecta que be asigarse co uestro propio cuerpo dado por aturaleza es cir si apropiarse cotrol exclusivo propiedad es adquirido por aqu persoa que se apropi primero l recurso e cuesti o que lo adquiri a travs u itercambio volutario libre coflictos co su dueo aterior solo primer apropiador u recurso to los propietarios posteriores coecta a l a travs ua caa itercambios volutarios pue adquirir gaar cotrol sobre l si coflicto es lo cotrario si cotrol cir pacficamete exclusivo se asiga e su lugar a los reci llega o se evitar coflicto sio que cotrario al propsito mismo ievitables permaetes s ormas que se hace permtame efatizar que cosiro que esta teora es esecialmete irrefutable como ua verdad a priori e mi opii esta teora represeta uo los logros ms gras sio ms gra l pesamieto social formu codifica s regs bsicas imutables para todas s persoas e todas paes que see vivir jutos e paz si embargo esta teora o os dice mucho sobre vida real es verdad que os dice que todas s sociedas reales e medida e que se caracteriza por recioes pacficas se adhiere cosciete o icoscietemete a estas regs por lo tato se gua por ua visi racioal pero o os dice e qu medida este es caso tampoco os dice icluso si adhesi a estas regs fuera completa cmo vive realmete s persoas o os dice qu ta cerc o lej vive si cudo qu ta frecuetes prologa co qu fies se ecuetra e iteracta etc para usar ua aaloga aqu coocer s iteraccioes pacficas es como coocer s regs regs l pesamieto correcto lgica razoamieto si embargo al igual que coocimieto idispesable como es para pesamieto correcto o os dice ada sobre pesamieto humao real sobre s pabras reales los s coceptos los argumetos s regs iferecias lgica ta libearia teora jutas s s coclusioes utilizadas formudas por lo que lgica iteracci pacfica libearismo o os dice ada sobre vida acci humaas reales por lo tato as como todo lgico que quiera hacer u bue uso su coocimieto be dirigir su ateci al pesamieto al razoamieto reales terico libeario be dirigir su ateci a s accioes s persoas reales e lugar u mero terico tambi be coveirse e socilogo psiclogo teer e cueta realidad social emprica es cir mudo como realmete es esto me lle al tema izquierda recha diferecia etre recha izquierda como ha seado a meudo paul gottfried es u sacuerdo fudametal co respecto a ua cuesti emprica recha recooce hecho existecia diferecias diversidas humaas idividuales s acepta como aturales mietras que izquierda iega existecia tales diferecias diversidas o iteta explicars e cualquier caso s cosira como algo o atural que be rectificado para establecer u estado atural igualdad humaa recha recooce existecia diferecias humaas idividuales o solo co respecto a ubicaci fsica composici l etoro humao l cuerpo humao idividual su altura fuerza peso edad gero color pi cablo u ojo rasgos faciales etc etc ms impoate a existecia diferecias e composici metal s persoas es cir e sus habilidas cogitis taletos disposicioes psicolgicas moticioes recooce existecia persoas briltes aburridas itigetes totas coa rga visi ocupadas perezosas agresis pacficas dciles e ivetis impulsis pacietes escrupulosas scuidadas etc etc tambi recooce recha recha recooce que estas diferecias metales resultates iteracci l etoro fsico cuerpo humao fsico so resultado factores ambietales fisiolgicos biolgicos recha ams recooce que s persoas est uidas o separadas tato fsicamete e espacio geogrfico como emocioalmete por sagre caractersticas recioes biolgicas por idioma rigi as como por s costumbres tradicioes ams recha o se limita a recoocer existecia estas diferecias diversidas tambi se da cueta que resultado s diferecias etrada asimismo diferete resultar e persoas co mucha o poca propiedad e ricos pobres e persoas alto o bajo estatus social rago ifluecia o autoridad acepta estos diferetes resulta diferetes isumos como ormales aturales izquierda por otro do est covecida igualdad fudametal l hombre que to los hombres so crea iguales por supuesto o iega lo cramete obvio que existe diferecias ambietales fisiolgicas es cir que alguas persoas vive e s motaas otras e costa o que alguos hombres so altos otros bajos alguos bcos otros egros alguos hombres otras mujeres etc pero izquierda iega existecia diferecias metales o e medida e que stas so masiado evites para egadas por completo trata explicars como accitales es cir izquierda explica tales diferecias como icamete termiadas s puto vista ambietal maera que u cambio e s circustacias ambietales mover a ua persoa s motaas a oril l mar viceversa por ejemplo o darle a cada persoa ateci preatal postatal idticas producira u resultado igual iega que estas diferecias sea causadas tambi por alguos factores biolgicos comparatimete itratables o bie e aqulos casos e los que o se pue egar que los factores biolgicos sempea u pap causal e termiaci l xito o fracaso e vida diero fama por ejemplo cuado u hombre pies altura o pue gaar ua medal oro olmpica e carrera metros o ua chica gorda fea o pue coveirse e miss uiverso izquierda cosira estas diferecias como pura suee resultado resultate l xito o fracaso idividual como imerecido e cualquier caso a sea por circustacias ambietales vetajosas o svetajosas o por atributos biolgicos todas s diferecias humaas obbles idividuales be iguadas do esto o se pue hacer literalmete a que o pomos mover motaas mares o hacer que u hombre alto sea bajo o u hombre egro bco izquierda isiste e que merecidamete afouado be compesar al safouado para que a cada persoa se le otorgue ua posici igual e vida e correspocia co igualdad atural to los hombres co esta breve caracterizaci recha izquierda vuvo al tema l libearismo es compatible teora libearia co cosmovisi recha es libearismo compatible co los putos vista izquierdistas libeario que e cuato a recha respuesta es u eftico solo est gamete s todo familiarizado co realidad social o tedr igua dificultad e recoocer verdad fudametal cosmovisi rechista pue a vista evicia emprica hecho be estar acuerdo co afirmaci emprica recha acerca sigualdad fudametal o solo fsica sio tambi metal l hombre e paicur tambi pue estar acuerdo co afirmaci ormati jar hacer recha es cir que esta sigualdad humaa atural ievitablemete tambi dar como resultado resulta siguales que ada pue o be hacerse al respecto si embargo solo ha ua adveecia impoate si bie recha pue aceptar todas s sigualdas humaas a sea por putos paida o resulta como atural libeario isistira e que solo esas sigualdas so aturales o se be iterferir co s que ha surgido siguiedo s regs bsicas iteracci humaa pacfica mecioada al pricipio s sigualdas que so resultado viocioes estas regs si embargo requiere ua acci correcti be imiarse ams libeario isistira e que como cuesti hecho emprico existe bastates etre s iumerables sigualdas humaas obbles que so resultado tales viocioes s regs como los hombres ricos que be su foua al trabajo duro previsi taleto empresarial o bie u regalo volutario o herecia pero o a robo frau o privilegio moopolio otorgado por estado acci correcti requerida e tales casos si embargo o est motida por igualitarismo sio por u seo restituci quie pue mostrar que ha sido robado fraudado o legalmete e svetaja solo l be reparado por quiees ha cometido estos litos cotra l su propiedad solo aqulos iclui tambi los casos e que restituci geere ua sigualdad a maor como cuado u hombre pobre frauda be restituir a u rico por otro do e cuato a izquierda respuesta es u o igualmete eftico afirmaci emprica izquierda es que o existe diferecias metales sigificatis etre idividuos por implicaci etre rios grupos persoas que lo que parece tales diferecias se be icamete a factores ambietales lo que izquierda libearismo objetivo saparecera si solo se iguara etoro se cotradice co todas s experiecias vida cotidiaa motaas ivestigaci social emprica los hombres o so i pue iguales se itete lo que se itete a este s sigualdas siempre resurgir si respecto embargo es e paicur recmo ormativo implcito hace ageda activista icompatible co izquierda iguar a to o iguar estaci e vida to es icompatible co propiedad prida a sea e cuerpo uo o e cosas exteras e lugar ua cooperaci pacfica geera u coflicto itermiable coduce al establecimieto cididamete o igualitario ua cse domiate permaete que establece que resto gete es su material para formul murra iguarse dado que como rothbard o ha persoas uiformes o iguales e ig setido e aturaleza o e los resulta ua sociedad volutaria para lograr mateer tal imposici igualdad ecesariamete se requiere permaete ua lite e por armada co u por coercitivo stador lo existe diferecias iumerables humaas idividuales existe a ms diferecias etre los diferetes grupos idividuos a que cada idividuo pue ecajar e iumerables grupos diferetes es que termia cul estas lite e por diferecias a sea idividuos o grupos se cosira como vetajosa afouada o svetajosa safouada o por cotrario como irrete es lite e por que termia cmo etre s iumerables formas posibles hacer iguaci los afoua safoua es cir qu cuto tomar los afoua dar a los safoua para lograr igualdad e paicur es lite e por fiie a s misma como safouada lo dado que termia qu cuto tomar los afoua mateerlo para s mismo uca se producir iguaci reapareciedo costatemete iumerables ues diferecias sigualdas tarea iguaci lite e por uca pue llegar a u fial atural sio que be cotiuar para siempre si fi est que si embargo cosmovisi igualitaria izquierda o solo es icompatible co libearismo est ta fuera cotacto co realidad que uo be pregutarse cmo alguie pue tomar e io hombre calle cieamete o cree e igualdad to los hombres setido com prejuicio sesato se iterpoe e su camio esto a ms covecido que iguo los verdaros fesores doctria igualitaria realmete e fodo cree lo que procma si embargo cmo pudo visi l mudo izquierda coveirse e iologa domiate uestra era al meos para u libeario respuesta bera obvia doctria igualitaria logr este estatus o porque cobeura sea verdad sio porque proporcioa itectual perfecta para impulso hacia cotrol social totalitario por pae ua lite goberate lite goberate por lo tato cot co auda itligetsia o cse chartaa se coloc e mia o se subsidi otro modo a cambio etreg mesaje igualitario seado que si embargo sabe que est mal pero es eormemete beeficioso para sus propias perspectis empleo as que los fesores ms etusiastas s toteras igualitarias se pue ecotrar etre cse itectual dado etoces que libearismo igualitarismo que profesa izquierda so obviamete icompatibles be ua sorpresa es u testimoio los imesos pores iolgicos s lites goberates sus itectuales coe que muchos los que ho se lma libearios so se cosira a s mismos pae izquierda cmo es posible tal cosa lo que uifica iolgicamete a estos libearios izquierda es su promoci acti rias polticas ati discrimiaci su fesa ua poltica imigraci libre o discrimiatoria estos libearios seal rothbard est fervietemete comprometi co ia que si bie cada idividuo pue o igual que otro cada grupo cotigete tico raza gero o e alguos casos especies cocebibles so hecho be iguales cada uo tiee rechos que o be estar sujetos a restriccioes por cualquier forma discrimiaci pero cmo es posible recociliar esta postura atidiscrimiatoria co propiedad prida que se supoe que to los libearios be cosirar como piedra agur su filosofa que spus todo sigifica propiedad exclusi por lo tato lgicamete implica discrimiaci los izquierdistas tradicioales por supuesto o tiee este problema o piesa i se preocupa por propiedad prida dado que to so iguales a to los ms mudo todo lo que existe e l peeece a to por igual toda propiedad es propiedad com como copropietarios l mudo to tiee por supuesto mismo recho acceso a todas paes a todo si ua armoa perfecta to los itereses si embargo o se pue permitir que to tega misma propiedad mismo acceso a todo e todas paes si provocar u coflicto permaete por lo tato para evitar este problema es ecesario istituir u estado es cir u moopolista territorial toma fial cisioes propiedad com es cir requiere u estado se coveir e propiedad l estado es estado que fialmete termia o solo qui posee qu sio que es tambi estado etoces que termia e ltima istacia asigaci espacial todas s persoas qui be vivir e d teer permitido reuirse teer acceso a qui propiedad prida be coarse spus todo a los izquierda los que cotrora estado pero esta escape o est abiea a adie que se haga lmar libeario be tomar e io propiedad prida psicolgica o sociolgicamete atracci s polticas o discrimiaci para los libearios pue explicarse por hecho que u gra mero proporcioalmete excesivo los so iadapta o simplemete raros o por usar scripci rothbard hedoistas libeios imoralistas eemigos militates rigi vividores estafadores licuetes mafiosos que se sitiero atra por libearismo bido a su supuesta toleracia hacia los iadapta atpicos que ahora quiere usarlo como u vehculo para liberarse toda discrimiaci tpica e vida cotidiaa repai a su gusto pero cmo lo hace lgicamete los libearios izquierda los bleedig hea coraz sagrate libearios los libearios humaistas simplemete izquierdistas cooce propiedad prida si embargo cmo pue aparetemete cociliar oci propiedad prida co su promoci polticas cotra discrimiaci e paicur su propagaci ua poltica imigraci si discrimiaci so impoacia esecial cosmopolitas o lgicamete so estatales recoocera e respuesta coa es colocado toda propiedad prida actual su distribuci etre persoas distitas bajo sospecha moral co esta afirmaci los libearios izquierdistas cae e error opuesto al cometido por recha o libearia como se idic recha o libearia comete error cosirar todas o al meos casi todas s posesioes actuales propiedas icluedo e paicur s posesioes propiedas l estado como aturales justas e cra oposici u libeario isistira e que alguas propiedas actuales todas o al meos maora s mostrablemete posesioes atiaturales e requiere ijustas como restituci o imizaci a iversa los libearios izquierda afirma que o solo todas o maora s teecias l estado so atiaturales e ijustas esta admisi ri su ttulo libeario sio que tambi todas o maora s propiedas pridas so atiaturales e ijustas e apoo esta ltima afirmaci sea hecho que todas s posesioes propiedad prida actuales su distribuci etre rias persoas se ha visto afectadas alteradas distorsioadas por acci legisci ateriores l estado que todo a diferete adie estara e mismo lugar posici e que se ecuetra actualmete si o hubiera sido por tales iterferecias previas l estado tales si duda esta obci es correcta estado e su rga historia ha hecho que alguas persoas sea ms ricas otras ms pobres lo que hubiera sido otra maera mat a alguas persoas j que otras sobreviviera trasdaba a gete u lugar a otro promovi alguas profesioes idustrias o regioes previo o retras cambi sarrollo otras otorg privilegios moopolios a alguas persoas discrimi legalmete a otras persoas e svetaja as ijusticias pasadas sucesimete gaadores perdores perpetradores vctimas o tiee fi lista pero este hecho idiscutible o se sigue que todas o maora s propiedas actuales sea moralmete sospechosas ecesite ua rectificaci es verdad que fue propiedad estatal be restituirse porque sus a ijustamete be volverse adquirida propietarios aturales es cir a s persoas o sus hereros que fuero obliga a fiaciar dicha propiedad pblica etregado pae su propiedad prida al estado si embargo o me ocupar ahora este tema paicur pritizaci ms bie es afirmaci maor alcace que s ijusticias l pasado tambi hace que todas s propiedas pridas actuales sea moralmete sospechosas lo que o se duce e idudablemete o es verdad hecho es probable que maora s teecias pridas sea justas ipedietemete su historial salvo e los casos e que u recmate especfico pueda mostrar que o lo es salvo e los casos e que lo haga si embargo carga prueba recae e quiequiera que cuestioe s posesioes distribuci propiedas actuales be mostrar que posee u ttulo ms atiguo propiedad e cuesti que su dueo actual lo cotrario si u recmate o pue probar esto todo be permaecer como est actualmete cocebible persoas o para ms especficos realistas por hecho que peter o paul o sus padres como miembros fuero cualquier grupo asesia spza roba asalta o legalmete discrimia e pasado sus propiedas actuales s posicioes sociales habra sido diferetes si o hubiera sido por tales ijusticias pasadas o se sigue que ig miembro presete este grupo tega u recho justo imizaci cotra propiedad actual otra persoa i s tro i s fuera su grupo ms bie e cada caso peter o paul tedra que mostrar u caso tras otro que l persoalmete tiee u mejor recho porque tiee u ttulo ms atiguo para ua propiedad especfica que u propietario actual ombrado e itificado presuto perpetrador cieamete existe u mero cosirable casos e los que se pue hacer esto se be ua imizaci o compesaci pero co misma ceeza co esta carga prueba para cualquiera que discuta cualquier distribuci propiedad actual o se pue azar mucho e ua ageda legal o discrimiatoria por cotrario mudo occital cotemporeo est repleto lees acci afirmati que otorga privilegios legales a rios grupos protegi a costa otros respectimete correspodietes sprotegi discrimia se producira ms o meos discrimiaci sigualdad si como exigira justicia a to los que hecho pueda proporcioar dicha prueba idividualizada su victimizaci se les permitiera permitido hacerlo por pae l estado as etabr ua mada solicitar reparaci a su victimario grupos pero los libearios izquierda coraz sagrate los libearios humaistas cosmopolitas o so exactamete cooci como luchadores cotra acci afirmati ms bie al cotrario para llegar a coclusi a que quiere llegar se reja o presci por completo l requisito que alguie recme vctima ofrecer pruebas idividualizadas victimizaci por lo geeral para mateer su estatus itectual como libearios los libearios izquierda lo hace maera sileciosa subrepticia e icluso si saberlo pero e prctica al reuciar a este requisito propiedad fudametal justicia reempza prida los rechos propiedad s viocioes rechos por cofusa oci rechos civiles vioci los rechos civiles rechos idividuales co rechos grupo por lo tato se coviee e socialistas dado que estado ha peurbado distorsioado todas s propiedas distribucioes propiedad prida si requisito ua prueba idividualizada victimizaci to to los grupos imagiables pue recmar maera fcil si masiado esfuerzo itectual cieo victimismo frete a cualquier otra persoa o cualquier otro grupo e los libres restriccioes alivia carga prueba idividualizada izquierda queda libearios victimismo esecialmete su scubrimieto ues vctimas victimarios acuerdo co sus propias suposicioes igualitarias presupuestas ha que admitir que recooce al estado como u victimario istitucioal e isor los rechos propiedad prida uevo esto se ri su afirmaci libearios pero ve muchas ms ijusticias istitucioales estructurales distorsioes sociales muchas ms vctimas victimarios mucha ms ecesidad restituci compesaci redistribuci propiedad cocomitate e mudo actual que solo aqus ijusticias distorsioes cometidas causadas por estado que be resolverse istacia rectificarse smatedo pritizado todas s posesioes fucioes l estado fuera tar smatedo duraros su rga existecia aterior o cieas codicioes previas al estado se matedra otras distorsioes istitucioales que requera rectificaci para crear ua sociedad justa sostiee como efectos icluso si estado reduciedo ltima e s opiioes que sostiee los libearios izquierda e este setido o so completamete uiformes pero ormalmete difiere poco s promovidas por los marxistas culturales asume como atural si mucho o ig apoo emprico hecho cotra ua evicia abrumadora lo cotrario ua sociedad e gra pae pa horizotal iguales es cir homogea esecialmete uiversal mudial persoas co ias afies taletosas u estatus posici social ecomica ms o meos simires cosira que todas s sviacioes sistemticas este molo so resultado discrimiaci origia recho a alg tipo imizaci restituci e cosecuecia estructura jerrquica s familias tradicioales los roles sexuales divisi l trabajo etre hombres mujeres se cosira atiatural hecho se ve co sospecha todas s jerarquas sociales res autoridad rago veical jefes jefes c patrociadores obles aristcratas rees obispos carales jefes e geeral sus respectivos subalteros o cosira subordia maera gras o atiaturales excesis igresos riqueza l lmado por ecomico existecia tato ua cse oprimida como ua cse superior persoas familias super ricas ams s gras corporacioes idustriales fiacieras los coglomera se cosira criaturas aificiales l estado tambi so sospechosas atiaturales s asociacioes sociedas cogregacioes iglesias clubes exclusivos toda segregaci separaci secesi territorial a sea por cse gero raza etia liaje idioma rigi profesi itereses costumbres o tradici s disparidas ecesita reparaci simir todas todas se s ese puto vista los grupos vctimas sus victimarios so fcilmete itificables resulta que s vctimas costitue gra maora humaidad to cada grupo cocebible es ua vctima excepto ua pequea pae humaidad compuesta bcos los roes heterosexuales iclui los l oe asia lle ua vida familiar tradicioal burguesa estos especialmete los ms creativos exitosos etre los excluedo maera iteresate solo a s cebridas ricas e poes o mudo l espectculo so los victimarios to los ms ambos grupos solo difiere e causa este estado estructural victimizaci simirmete itificado scrito plorado para los marxistas culturales causa este estado afiidad es propiedad prida capitalismo sefreado basado e los rechos propiedad prida para los respuesta cmo reparar dao causado es cra fcil toda restituci compesaci redistribuci ecesarias be realizadas por estado que presumiblemete cotro para los libearios izquierda esta respuesta o fucioa se supoe que est a favor propiedad prida pritizaci propiedad estatal o pue hacer que estado haga restituci porque como libearios se supoe que be smater e ltima istacia abolir estado si embargo quiere ms restituci que solo resultate pritizaci to los lma biees pblicos abolir estado o es suficiete para crear ua sociedad justa se ecesita ms cosas para compesar a gra maora vctimas que acabamos mecioar pero qu por qu motivo siempre que haa ua prueba idividualizada victimizaci es cir si algua persoa a pue mostrar que otra persoa b idi o tom propiedad a o viceversa o existe ig problema caso es cro pero a falta tal prueba qu otra cosa es que los victimarios be a sus vctimas por qu motivos cmo termiar qui le be a qui cuto qu cmo imptar este esquema restituci e ausecia u estado si pisotear los rechos propiedad prida otra persoa esto ptea problema itectual cetral para cualquier autoomiado libeario izquierda o es sorprete que respuesta dada por estos a este safo resulte esi ga todo lo que puedo colegir o es ms que ua exhoaci como lo ha resumido u agudo obdor escea itectual s amable ms exactamete t tu pequeo grupo victimizadores siempre bes especialmete amable idulgete e iclusivo co respecto a to los miembros gra maora s vctimas es cir rga familiar lista to excepto los hombres bcos heterosexuales e cuato a aplicaci le to los victimarios que o muestre bido respeto a alg miembro cse vctima es cir los victimarios que so sagradables impcables o exclusivos o que dice cosas sagradables o irrespetuosas rechaza be humil someti a obediecia sobre los a primera vista u odo esta propuesta cmo hacer ua restituci como cabe esperar persoas bueas pue parecer bueo bieitecioado iofesivo secilmete agradable hecho si embargo es todo meos u cosejo bueo e iofesivo es icorrecto pigroso e primer lugar por qu alguie bera paicurmete amable co alguie ms apae respetar los respectivos rechos propiedad prida e cieos medios fsicos biees especficos amable es ua acci liberada toma u esfuerzo como todas s accioes ha costos opouidad mismo esfuerzo podra tambi realizarse para otros fies hecho muchas si o maora uestras actividas se lle a cabo sos e silecio si igua iteracci directa co los ms como cuado preparamos uestra comida maejamos uestro auto o leemos escribimos tiempo dicado a amabilidad co los ms es tiempo perdido para hacer otras cosas tal vez ms liosas ams amabilidad be estar justificada por qu bera so sagradables comigo coesa be merecida amabilidad idiscrimiada dismiue e ltima istacia extigue distici etre coducta meritoria s fectuosa se dar masiada amabilidad a los lo merece mu poca a persoas que o merecedores por lo que iv geeral maldad aumetar vida pblica cada vez ms sagradable s persoas que amable co ams tambi ha persoas geuiamete maldas que hace cosas verdaramete maldas a los propietarios reales biees pri sobre todo a s lites goberates a cargo l aparato estatal como todo libeario tedra que admitir seguramete uo o tiee obligaci amable co los si embargo al recompesar a gra maora s vctimas co amor cario ateci adicioales se logra precisamete esto se dica meos tiempo esfuerzo a exhibir u compoamieto sagradable hacia quiees realmete lo merece as por l estado o se ver bilitado por amabilidad uiversal sio que se foalecer por qu es e paicur pequea miora hombres bcos heterosexuales especialmete sus miembros ms exitosos que le be u poco bodad extra a gra maora todas s ms persoas por qu o al revs spus todo maora si o todas s ivecioes tcicas mquias herramietas aparatos e uso actual e cualquier lugar e cualquier lugar los cuales pe e gra medida maera cisi uestros estdares vida comodidas actuales se origiaro e los todas s ms persoas e geeral solo imitaro lo que estos haba ivetado costruido primero to los ms heredaro coocimieto icorporado e los productos los ivetores forma gratuita o es hogar familiar jerrquico bco tpico l padre madre sus hijos comues los posibles hereros su coducta estilo vida burgueses es cir todo lo que izquierda sprecia difama molo ecomico ms exitoso orgaizaci social que mudo ha visto co maor acumuci biees capital riqueza los ms altos estdares vida o es solo por los gras logros ecomicos esta miora victimarios que u mero cada vez maor vctimas pueda itegrarse paicipar e s vetajas ua red mudial divisi l trabajo o es solo por xito l tradicioal molo familia bca burguesa que los lma estilos vida alterativos ha podido aparecer mateerse a lo rgo l tiempo etoces maora s vctimas ho o be literalmete sus vidas su vida actual a los logros sus presutos victimarios por qu s vctimas o tiee u respeto especial hacia sus victimarios por qu o otorgar u hoor especial al logro ecomico al xito e lugar al fracaso por qu o abar especialmete los estilos vida coducta tradicioales ormales e lugar cualquier alterati aormal que requiera como codici ecesaria su propia existecia cotiua ua preexistecia ua sociedad circudate domiate persoas ormales co estilos vida ormales llegar e breve a respuesta aparete a estas pregutas retricas ates si embargo bo abordarse brevemete u segudo error estratgico e cosejo libeario izquierda sobre ua especial amabilidad hacia s vctimas histricas curiosamete los grupos vctimas itifica por los libearios izquierda los marxistas culturales difiere poco o ada los grupos itifica como sfavoreci que ecesita compesaci tambi por pae l estado si bie esto o represeta u problema para los marxistas culturales pue iterpretarse como u idicador l grado cotrol que a ha adquirido l aparato estatal para los libearios izquierda esta coicicia bera motivo preocupaci itectual por qu estado perseguira mismo o simir fi o discrimiaci s vctimas por los victimarios que los tambi quiere lograr auque solo sea por diferetes medios los libearios izquierda sue ajeos a esta preguta si embargo para cualquiera que tega u poco setido com respuesta be evite para alcazar cotrol total sobre cada persoa idividual estado be perseguir ua poltica divi et impera be bilitar socar e ltima istacia struir a to los ms cetros riles autoridad social lo ms impoate es que be bilitar hogar familiar tradicioal patriarcal especialmete hogar familiar cetros automos toma cisioes al sembrar legisr coflictos etre esposas esposos hijos padres mujeres hombres ricos pobres ams todas s res jerrquicas los ragos autoridad social todas s asociacioes exclusis todas s lealtas vculos persoales a sea a ua familia comuidad etia tribu aci raza idioma rigi costumbre o tradici e ipedietemete como rico paicur excepto apego a u estado cual sujeto ciudadao titur pasapoe be bilitadas fialmete struidas qu mejor maera hacer esto que aprobar lees cotra discrimiaci e prctica al prohibir toda discrimiaci basada e gero orietaci sexual edad raza rigi orige acioal etc u gra mero persoas so cradas vctimas ceificadas por estado s lees cotra discrimiaci por tato so u lmamieto oficial a todas s vctimas para que ecuetre culpas se queje al estado sus opresores favoritos especialmete los ms ricos etre los sus opresis maquiacioes es cir su sexismo homofobia choviismo ativismo racismo xeofobia o lo que sea para que estado respoda a tales quejas reduciedo tamao los opresores es cir spojdolos sucesimete sus propiedas su autoridad e cosecuecia expadir foalecer su propio por mooplico frete a ua sociedad cada vez ms bilitada fragmetada fraccioada shomogeizada por tato paradjicamete cotrariamete a su autoprocmado objetivo querer reducir o icluso imiar al estado los libearios izquierdistas co su peculiar e igualitaria victimologa se coviee e cmplices l estado cotribue efectimete al egracimieto su por hecho visi libearia izquierda ua sociedad multicultural libre discrimiaci es por usar frase peter brimow viagra para estado lo que me lle a mi tema fial pap l libearismo izquierda como viagra para estado se hace a ms evite cuado se cosira su postura sobre cuesti cada vez ms viruleta migraci los libearios izquierda so tpicamete fesores ardietes e paicur ua poltica imigraci libre o discrimiatoria si critica poltica imigraci l estado o es por hecho que sus restriccioes etrada sea s restriccioes equivocadas es cir porque o sirve para proteger los rechos propiedad los ciudad acioales sio por hecho que impoe restriccioes a imigraci e geeral pero por qu motivo bera existir u recho a imigraci libre si restriccioes adie tiee recho a mudarse a u lugar a ocupado por otra persoa a meos que haa sido ivitado por ocupate actual si to los lugares a est ocupa toda migraci es solo por ivitaci recho a imigraci libre existe solo para pas virge para frotera abiea ha solo maeras tratar soear esta coclusi au as rescatar oci imigraci libre primero es colocar a to los ocupates l lugar actual sus ocupacioes bajo sospecha moral para este propsito se hab mucho l hecho que todas s ocupacioes lugares actuales ha sido afectadas por accioes previas l estado guerra coquista es cieo que s froteras estatales se ha trazado rediseado sido spzadas poadas asesiadas reasetadas los proectos camios ifraestructura istacioes traspoe pblico etc ha afectado lor precio retivo casi to los lugares ha alterado distacia viaje costo etre los si embargo como a se explic e u cotexto ligeramete diferete este hecho idiscutible o se sigue que fiacia por estado s persoas ha ig ocupate presete tega recho a migrar a ig otro lugar excepto por supuesto cuado posea ese lugar o tega permiso su actual propietario mudo o peeece a to seguda salida posible es afirmar que todas s lmadas propiedas pblicas propiedas cotrodas por gobiero local regioal o cetral so simires a frotera abiea co acceso libre si restriccioes si embargo esto es cieamete erreo l hecho que propiedad l estado es ilegtima porque se basa e expropiacioes ateriores o se duce que sea propiedad exclusi gratuita para to ha sido fiaciada a travs pagos locales regioales acioales o ferales so por tato los que paga estos impuestos adie ms los que so los dueos legtimos toda propiedad pblica o pue ejercer su recho ese recho ha sido arrogado por estado pero los so los legtimos propietarios impuestos e u mudo do to lugares so los propiedad prida problema imigraci saparece o existe recho a imigraci slo existe recho a comerciar comprar o alquir rios lugares si embargo qu pasa co imigraci e mudo real co propiedad pblica admiistrada por gobieros estatales locales regioales o cetrales e primer lugar cmo a s polticas imigraci si estado como se supoe que be hacer acte como fiicomisario propiedad pblica los cotribuetes qu pasa co imigraci si estado acta como admiistrador propiedad comuitaria propiedad cojuta fiaciada por los miembros ua asociaci vivieda o comuidad cerrada al meos e pricipio respuesta es cra pauta u fiicomisario co respecto a imigraci a costo total al pricipio es cir imigrate o su resite acogedor be pagar costo total l uso que imigrate haga to los biees o istacioes pblicos durate su presecia costo propiedad comuitaria fiaciada por los cotribuetes resites o be aumetar o su calidad dismiuir bido a presecia imigrates por cotrario si es posible presecia u imigrate bera geerar gaacias para los resites propietarios a sea e forma impuestos ms bajos o tarifas comuitarias o ua calidad ms alta propiedad comuitaria por lo tato casi to los lores propiedad ms altos restrigida por completo a los costos asocia co qu implica e cocreto aplicaci l pricipio l costo total pe s circustacias histricas es cir e paicur presi imigraci si presi es baja etrada iicial e s s pblicas los pue o estar extrajeros to los imigrates so totalmete asumi por los resites acioales co expectati los beeficios acioales toda los discrimiaci posterior se jara a propietarios resites idividuales esto por cieo se parece mucho al estado cosas tal como exista e mudo occital hasta primera guerra mudial pero icluso as misma geerosidad probablemete o se extera al uso que hace los imigrates hospitales pblicos escues uiversidas viviedas piscias parques etc etrada a tales istacioes o a gratuita para los imigrates por cotrario a los imigrates se les cobrara u precio ms alto por su uso que a locales que ha fiaciado estas istacioes a fi reducir carga tributaria acioal si u visitate imigrate temporal quisiera coveirse e u resite permaete cabra esperar que pague u precio admisi que se remitir los propietarios resites a los propietarios actuales como compesaci por uso adicioal que se haga su propiedad comuidad por otro do si presi imigraci es alta como ocurre actualmete e todo mudo occital domiado por hombres bcos heterosexuales es posible que ba emplearse medidas ms restrictis co mismo propsito proteger propiedad prida com los dueos resites pue haber cotroles itidad o solo e los pueos etrada sio tambi a iv local a fi mateer aleja a los licuetes cooci por lo ms a getuza iseable apae s restriccioes especficas impuestas a los visitates por los propietarios resites idividuales co respecto al uso sus diversas existir propiedas restriccioes igreso alguas comuidas especialmete atractis pue cobrar ua tarifa etrada para cada visitate excepto para los ivita los resites que se remitir a los propietarios resites o requerir u cieo cdigo coducta co respecto a todas s propiedas comuidad los requisitos resicia permaete propiedad para alguas comuidas pue mu restrictivos e itesivos ivolucrar exmees atecetes u alto precio admisi como sigue siedo caso e alguas comuidas suizas pue locales ms geerales para pridas tambi pero cro esto o es lo que hace estado s polticas imigraci los esta que se efreta a maor presi imigraci los esta ui s europa occital tiee poca semejaza co accioes u fiicomisario o sigue pricipio l costo total o le dice al imigrate esecialmete que pague o se a por cotrario le dice ua vez tro pues quedae usar o solo todas s carreteras sio todo tipo istacioes vicios pblicos gratuitos o a precios reduci icluso si o pagas es cir subsidia a los imigrates o ms bie obliga a los cotribuetes acioales a subvecioarlos e paicur tambi subsidia a los empleadores acioales que impoa trabajadores extrajeros ms baratos bido a que dichos empleadores pue exteralizar pae los costos totales asocia co su empleo uso gratuito que be realizar sus emplea extrajeros todas s propiedas e istacioes pblicas resites a otros cotribuetes acioales a ms subsidia imigraci migraci itera a expesas los cotribuetes resites para prohibir por medio s lees o discrimiaci o solo todas locales etrada sio s restriccioes iteras tambi cada vez ms restriccioes recioadas co etrada uso toda propiedad prida itera todas s e cuato a etrada iicial imigrates a sea los esta o como visitates o como resites discrimia sobre base caractersticas idividuales como lo hara u fiicomisario como lo hara todo propietario prido co respecto a su propiedad sio sobre base grupos o cses persoas es cir sobre base acioalidad etia etc o aplica u estdar admisi uiforme verificar itidad l imigrate realizar alg tipo verificaci crdito posiblemete cobrarle ua tarifa igreso e su lugar permite que alguas cses extrajeros igrese gratis si ig requisito visado como si fuera resites que regresa por lo tato por ejemplo to los rum o blgaros ipedietemete sus caractersticas idividuales so libres emigrar a alemaia o los pases bajos permaecer all para hacer uso to los biees e istacioes pblicos icluso si o paga vive a costa los cotribuetes alemaes u hoses pasa lo mismo co los pueorriqueos frete a esta ui los cotribuetes estadouises tambi co los mexic a quiees e prctica se les permite igresar ilegalmete a los esta ui como itrusos o ivita o itifica por otro do otras cses extrajeros est sujetas a restriccioes miuciosas visado as por ejemplo to los turcos uevo ipedietemete sus caractersticas idividuales be someterse a u procedimieto impedir por itimidate visado se completo viajar a alemaia o los pases bajos icluso si ha sido ivita cueta co fo suficietes para pagar to los costes asocia a su presecia les pue doblemete los cotribuetes resites propietarios se ve as perjudica icluir idiscrimiadamete a alguas cses imigrates icluso si o pue pagar por otra pae excluedo idiscrimiadamete a otras cses imigrates icluso si pue ua vez al si embargo los libearios izquierda o critica esta poltica imigraci por cotraria a u fiicomisario ua propiedad pblica que e ltima istacia es propiedad los cotribuetes iteros pri es cir por o aplicar pricipio l costo total por lo tato discrimiar erreamete sio por discrimiar imigraci gratuita o discrimiatoria para los sigifica que etrada si visado resicia permaete estara dispoibles para to es cir para igualdad imigrate potecial e codicioes e ipedietemete s caractersticas idividuales o capacidad pagar costo total estada to est ivita a permaecer e alemaia los pases bajos suiza o los esta ui por ejemplo a hacer uso gratuito todas s istacioes vicios pblicos acioales todo ha que recoocer que los libearios izquierda recooce alguas s cosecuecias que esta poltica tedra e mudo actual ausete cualquier otra restricci etrada itera o local recioada co uso biees vicios pblicos acioales cada vez tambi ms ausetes todas s restriccioes etrada recioadas co uso propiedad prida acioal bido a iumerables lees cotra discrimiaci resultado precible a ua afluecia masi imigrates l tercer segudo mudo a los esta ui europa occital rpido copso l actual sistema domstico bieestar pblico los impuestos tedra que aumetarse cosirablemete reduciedo a ms ecooma producti los biees vicios pblicos se teriorara drsticamete se geerara ua crisis fiaciera magitud si paralo si embargo por qu a este u objetivo seable para cualquiera que se lme libeario es cieo que sistema bieestar pblico fiaciado co impuestos be imiado raz rama pero ievitable crisis que provocara ua poltica imigraci gratuita o produce este resultado todo lo cotrario s crisis como es sabido por to los que est familiariza co historia so usualmete utilizadas co frecuecia ivetadas por los esta para aumetar a ms su propio por seguramete crisis producida por ua poltica imigraci libre a extraordiaria lo que los libearios izquierda sue igorar e su apreciaci idiferete o icluso simptica crisis precible es hecho que los imigrates que causaro copso toda est fsicamete presetes cuado ocurre para los libearios izquierda bido a sus precocepcioes igualitarias este hecho o implica ig problema para los todas s persoas so ms o meos iguales por lo tato u aumeto e mero imigrates o tiee ms impacto que u aumeto pobci acioal a travs ua tasa atalidad ms alta si embargo para to los realistas sociales para to los que tega setido com esta premisa es evitemete falsa potecialmete pigrosa u mill ms igeri o rabes que vive e alemaia o u mill ms mexic o hutus o tutsis que resi e los esta ui es ua cosa bastate diferete a u mill ms alemaes o estadouises cria e casa co milloes imigrates l tercer segudo mudo presetes cuado llega crisis ja llegar los cheques pago es altamete improbable que se produzca u resultado pacfico que surja u or social atural basado e propiedad prida ms bie es mucho ms probable hecho casi seguro que estalr guerras civiles saqueos dalismo guerras padils tribales o ticas se volver cada vez ms icofudible lmado a u estado hombre fuee por qu etoces podra pregutarse uo estado o adopta poltica imigraci libre izquierda libearia aprovecha opouidad que ofrece crisis previsible para foalecer a ms su propio por a pesar sus polticas iteras o discrimiaci tambi sus polticas actuales imigraci estado a ha hecho mucho por fragmetar a pobci itera aumetar as su propio por ua poltica libre imigraci multiculturalismo o discrimiatorio foalecera a ms tecia hacia s homogeeizaci social divisi fragmetaci bilitara a ms al tradicioal hombre bco heterosexual que domiaba or social cultura burguesa asocia co occite agregara eorme is otra si embargo respuesta a por qu o parece secil e cotraste co los libearios izquierda s toda trastoros sociales lo suficietemete ites goberates so realistas como para darse cueta que ams s gras opouidas para crecimieto l estado crisis precible tambi collera u riesgo icalcuble tales podra coducir a proporcioes que los mismos podra barri fuera l por reempza por otras lites extrajeras e cosecuecia s ites goberates solo aza gradualmete paso a paso e su camio hacia u multiculturalismo o discrimiatorio si embargo est cotetos co propagada imigraci libre izquierda libearia porque auda al estado o solo a mateer rumbo actual divi et impera sio para seguir ate a u ritmo acerado a as sus que propios cotrariamete prouciamietos pretesioes atiestatistas peculiar victimologa libearia izquierda su mada amabilidad idiscrimiada iclusi co respecto a rga familiar lista vctimas histricas icluedo e paicur tambi a to los extrajeros e cuato imigrates poteciales e realidad resulta ua receta para u maor crecimieto l por estatal los marxistas culturales lo sabe esa es raz por que adoptaro libearios izquierda aparetemete o lo sabe por lo tato so totos tiles los marxistas culturales e su marcha hacia cotrol social totalitario misma victimologa los permtame llegar a ua coclusi volver al libearismo al tema izquierda recha por lo tato tambi respor a mis pregutas retricas ateriores sobre peculiar victimologa izquierda su sigificaci o pue haber u libeario izquierda coherete porque doctria libearia izquierda auque o itecioada promueve estatismo es cir los fies o libearios a pair esto muchos libearios ha llegado a coclusi que libearismo o es i izquierda i recha eso es simplemete libearismo diluido o acepto esta coclusi tampoco aparetemete lo hizo murra rothbard cuado termi cita ates expuesta diciedo pero psicolgicamete sociolgicamete e prctica simplemete o fucioa esa maera hecho me cosiro u libeario recha o si eso pue soar ms atractivo u libeario realista o setido com coherete co lo es verdad que doctria libearia es ua teora puramete apriorstica ducti como tal o dice i implica ada acerca s afirmacioes efretadas recha izquierda co respecto a existecia alcace s causas s sigualdas humaas es ua cuesti emprica pero e esta preguta izquierda es e gra pae irrealista equivocada carece setido realista com mietras que esecialmete correcta sesata por lo tato o pue haber ada malo e aplicar ua correcta teora apriorista cmo es posible cooperaci humaa realista es cir pacfica para ua scripci fudametalmete correcta l mudo porque solo sobre base suposicioes empricas correctas sobre hombre es posible llegar a ua uaci correcta co respecto a implemetaci prctica sosteibilidad u or social libeario recha es etoces maera realista u libeario recha o solo recooce que s capacidas fsicas metales se distribue maera sigual etre los distitos sociedad que e idividuos tro cada se caracterizar por cosecuecia cada sociedad icotables sigualdas por estratificaci social por ua multitud res ragos cumplimieto autoridad tambi recooce que tales capacidas est distribuidas maera sigual etre s diferetes sociedas que coexiste e mudo que e cosecuecia tambi mudo e su cojuto se locales caracterizar por sigualdas regioales disparidas estratificaci res ragos e cuato a los idividuos tampoco todas s sociedas so iguales i est a par ams adviee que etre estas habilidas distribuidas maera sigual tato tro ua sociedad termiada como etre diferetes sociedas est tambi capacidad metal recoocer cooperaci pacfica se da cueta que coducta locales sus respectis lites por que ha surgido diferetes sociedas pue vir como u bue idicador los diversos gra sviaci l recoocimieto los pricipios libearios e tales sociedas los diversos esta regioales o los beeficios los requisitos ms especficamete ota maera realista que libearismo como sistema itectual se sarroll por primera vez fue ms sarroldo e mudo occital por hombres bcos e sociedas s domiadas por hombres bcos esto es e sociedas domiadas por hombres heterosexuales bcos do adhesi a los pricipios libearios es ms gra s sviacioes los meos severa estado como comparatimete meos maldas extorsioadoras es cir so los hombres heterosexuales bcos los que ha mostrado maor igeio idustria streza ecomica so s sociedas domiadas por hombres heterosexuales bcos e paicur por los ms exitosos etre los que ha producido acumudo maor catidad biees capital ha alcazado los ives vida promedio ms altos polticas idica l s lo a luz esto como libeario recha s luego dira e primer lugar a mis hijos estudiates respete siempre o ida uca los rechos propiedad prida otros recoozca al estado como u eemigo hecho attesis propiedad prida pero o me quedara ah o dira o isiuara e silecio que ua vez que se haa cumplido co este requisito todo le que es ms o meos lo que los libearios dilui parece estar diciedo o a u retivista cultural como lo so al meos implcitamete maora los libearios dilui e su lugar aadira como mimo s haz lo que te haga fiz pero te siempre e cueta que mietras seas pae itegrate divisi mudial l trabajo tu existecia bieestar per maera cisi existecia cotiua los ms especialmete existecia cotiua sociedas domiadas por hombres heterosexuales bcos sus estructuras familiares patriarcales su estilo vida coducta burguesa o aristocica por lo tato icluso si o seas paicipar e eso recooce que toda eres u beeficiario este molo occital estdar orgaizaci social por tu propio bie o haga ada para socarlo sio apalo como algo que ha que respetar proteger a rga lista vctimas les dira haz lo tuo vive tu propia vida siempre cuado lo hagas maera pacfica si idir los rechos propiedad prida otras persoas si e medida e que se itegre e divisi iteracioal l trabajo o bes imizar a adie i adie te be imizar tu coexistecia co sus supuestos victimarios es mutuamete beeficiosa pero te e cueta que si bie los victimarios podra vivir prescidir ti auque e u iv vida ms bajo lo los cotrario o es cieo saparici victimarios podra e pigro tu propia existecia por lo tato icluso si o quieres moe e ejemplo proporcioado por cultura masculia bca te e cueta que solo bido a existecia cotiua este molo pue mateerse culturas alteratis e su iv actual vida que co saparici este molo occital como leitkultur eficaz a iv mudial existecia muchas si o todas s ms vctimas estara e pigro todas s eso o sigifica que o se tega que criticar al mudo occital domiado por los hombres bcos spus todo icluso estas sociedas que sigue ms cerca este molo tambi tiee a sus diversos esta resposables actos agresi represibles o solo cotra sus propios propietarios acioales sio tambi cotra extrajeros pero i e lugar do vives i e ig otro lugar se be cofudir al estado co gete o es estado occital sio estilo vida tradicioal ormal estdar etc coducta los pueblos occitales que a est siedo ataca cada vez ms por sus propios goberates l estado e su impulso hacia cotrol social totalitario que merece tu respeto l cual eres u beeficiario otas cursis mas murra rothbard big govermet libearias e lew rockwl ed the irrepressible rothbard aubur al isitituto mises p murra rothbard egalitariaism ad the ites review of austria ecoomics o murra rothbard los ha eumerado acadmicos modores opii periodistas escritores lites mediticas trabajadores sociales burcratas cosejeros psiclogos cosultores persoal especialmete para los siempre aceradores l uevo igualitarismo grupal u verdaro ejrcito terapeutas etreadores sesibilidad ams por ilogos e ivestigadores para imagiar scubrir uevos grupos que ecesita l igualitarismo ibid p supuesto posici adoptada durate e cuato a aqulos ho e da lma libearios es cosirado como izquierdista ha ua prueba fuego s primarias presiciales recietes sobre dr ro paul quie es si duda ms puro los libearios que jams haa gaado recoocimieto acioal poltico e icluso ateci recoocimieto iteracioal los libearios btwa alredor cato george maso reaso rias otras orgaizacioes l kochtopus spidiero a ro paul o icluso lo atacaro por su racismo su falta sesibilidad social toleracia es cir e resume por u stacado burgus recha lledo ua vida persoal profesioal ejempr rothbard igualitarismo s lites pg ver sobre este tema has herma hoppe of prite commo ad public prope ad the ratioale for total pritizatio libearia papers o caractersticamete esta trasformaci sigilosa l libearismo e socialismo secreto a travs cofusa oci rechos civiles a fue itificada hace dcadas por murra rothbard por citarlo a lo rgo l movimieto libeario oficial libearios izquierda los rechos civiles se ha adoptado si cuestioar audo completamete los rechos geuios propiedad prida e alguos casos aceptaci u recho a o discrimiado ha sido explcita e otros cuado los libearios quiere cuadrar sus uevos halzgos co sus pricipios ms atiguos o tiee aversi al sofisma e icluso al absurdo toma camio ms astuto que abri america civil libeies uio que si existe al meos ua pizca gobiero ivolucrado a sea e uso s calles pblicas o u poco los cotribuetes etoces lmado recho acceso igualitario be aur propiedad prida o cualquier tipo s setido com rothbard lites pp fiaciamieto igualitarismo mocracia scivilizaci bsqueda ua ue cotracultura como cada acci requiere uso medios fsicos especficos u cuerpo espacio para estar pie objetos exteros be surgir coflicto etre diferetes actores cada vez que estos itete usar los mismos medios fsicos para lograr diferetes propsitos fuete l coflicto es siempre iriablemete misma escasez o rilidad los medios fsicos actores o pue al mismo tiempo usar los mismos medios fsicos los mismos cuerpos espacios objetos para propsitos alterativos si iteta hacerlo be chocar por lo tato para evitar coflicto o resolverlo si ocurre se requiere u pricipio u criterio justicia o le procesables es cir u pricipio que regule lo justo lo legal o lo apropiado cotra lo ijusto lo ilegal o u uso cotrol propiedad iapropia medios fsicos escasos lgicamete est cro lo que se requiere para evitar todo coflicto solo es ecesario que todo bie sea siempre e todo mometo propiedad prida es cir est cotrodo exclusimete por alg idividuo especfico asociaci o asociaci idividual que siempre se pueda recoocer qu bie est posedo qui lo posee cul est o o lo est por alg otro los pes propsitos los diversos actores empresarios e busca beeficios pue ta diferetes como sea posible si embargo o surgir coflictos siempre cuado sus accioes respectis implique ica exclusimete uso su propia propiedad prida se pue si embargo cmo pue lograr prcticamete este estado s cosas pritizaci completa cramete si ambigedas to los biees cmo pue s cosas fsicas coveirse e propiedad prida e primer lugar cmo se pue evitar coflicto e estos actos iiciales pritizaci existe ua ica soluci praxeolgica para este problema que ha sido esecialmete coocida por humaidad s sus iicios auque solo haa sido leta gradualmete eborada lgicamete recostruida para evitar coflictos s pricipio es ecesario que propiedad prida se base e actos apropiaci origial propiedad be establecerse a travs actos e lugar simples pabras cretos o cracioes porque solo a travs accioes que tiee lugar e tiempo e espacio se pue establecer u vculo objetivo itersubjetimete etre ua persoa e paicur ua cosa e paicur solo primer apropiador ua cosa previamete o asigada pue adquirir esta cosa como su propiedad si coflicto porque por fiici como primer apropiador o pue haber etrado e coflicto co adie para apropiarse l bie e cuesti a que to los ms apareciero e escea solo ms tar uable esto implica que si bie cada persoa es propietaria exclusi su propio cuerpo fsico como su pricipal medio acci igua persoa pue propietaria ig otro cuerpo a que pomos usar cuerpo otra persoa solo maera idirecta es cir al usar uestro cuerpo propio directamete apropiado cotrodo primero por lo tato apropiaci directa temporal lgica prece a apropiaci idirecta e cosecuecia cualquier uso o cosetido l cuerpo otra persoa es ua apropiaci ibida ijusta algo que a se ha apropiado directamete otra persoa lo tato por tato toda propiedad justa legtima se remota directa o idirectamete a travs ua caa trasferecias ttulos propiedad mutuamete beeficiosas por libres coflictos a apropiadores actos apropiaci ateriores fialmete origiales mutatis mutadis s recmacioes usos s cosas por pae ua persoa que o se haa apropiado estas cosas o s haa producido ateriormete i s haa adquirido a travs u itercambio si coflictos co u propietario aterior so ijustas ilegtimas todas permtame efatizar que cosiro que estas ias emetales so irrefutables s puto vista argumetativo por lo tato verdaras a priori si sea vivir e paz co otras persoas se muestra que sea hacerlo discutiedo co s solo existe ua soluci be haber propiedad prida exclusi e todo lo que sea escaso acuado como medio o bie bsqueda fies hum objetivos e propiedad prida e tales cosas be basarse e actos apropiaci origial apropiaci trasferecia volutaria dicha propiedad u propietario aterior a u propietario posterior limitaci recoocible o recursos escasos o bie e pomos cir etoces que estas regs expresa explica le atural atural dado objetivo icamete humao iteracci pacfica atural porque estas lees so dadas simplemete scubieas como tales por hombre e realidad o so lees que se ivete aificiales o cretadas hecho toda le hecha por hombre e lugar scubiea o ecotrada es cir toda legisci o es le e absoluto sio ua perversi le res madatos o prescripcioes que o coduce a paz sio a coflictos por lo tato so disfucioales l propsito mismo s lees icorrectamete le atural se resu to esto o sigifica que co scubrimieto los los pricipios problemas l or social saparezca toda fricci los coflictos pue ocurrir ocurre icluso si to sabe cmo evitarlos e to los casos coflicto etre o ms paes e coflicto be aplicarse por tato le para esto es ecesaria jurisprucia juicio adjudicaci e cotraste co jurisdicci aqu pue haber disputas sobre si usted o o hemos los pricipios e casos aplicado especficos co respecto a medios paicures pue haber sacuer sobre los hechos verdaros u caso qui fue d cudo qui tom posesi esto o aqulo e tales tales mometos lugares pue tedioso leto establecer orar estos hechos se be ivestigar disputas previas posteriores los cotratos pue examia pue surgir dificultas e los pricipios a los recursos subterreos al agua al aire especialmete a los flujos agua aire ams siempre est cuesti castigar co ua pea u lito termiado es cir ecotrar medida apropiada restituci o imizaci que u victimario be a su vctima luego hacer cumplir los veredictos le aplicaci si embargo a pesar que estos problemas pue ocasioales los pricipios rectores que be seguirse e bsqueda ua soluci so siempre cros est fuera discusi e to los casos coflictos los tribuales e busca juicio presuci siempre est a favor l poseedor actual l recurso e cuesti mutatis mutadis carga ua prueba a lo cotrario lle a correspo siempre al opoete alg estado actual s cosas posesioes opoete be mostrar que cotrariamete a apariecia prima facie tiee u recho sobre alg bie especfico que es ms atiguo que recho l poseedor actual si solo si u opoete pue mostrar esto co xito posesi e cuesti be volvrse como su propiedad por otro do si opoete o pue fer su caso etoces o solo posesi permaece como propiedad co su dueo actual sio que poseedor actual a su vez ha adquirido u recho legal cotra su opoete porque cuerpo tiempo l poseedor actual fue malversado por opoete durate su argumetaci fallida rechazada podra haber hecho otras cosas preferidas co su tiempo cuerpo distitas ferse cotra su opoete s tato impair justicia seg lo que es tambi impoate procedimieto que se seccioe para leas idicadas est cro e implcito e objetivo mismo resoluci pacfica argumetati coflictos bido a que ambos cotedietes e cualquier disputa propiedad joh jim hace o matiee afirmacioes realmete cotrarias o joh so propietario legtimo tal tal recurso frete a o o jim so propietario legtimo este mismo recurso por lo tato iteresa parcialmete o sesga a favor u resultado paicur l juicio solo a u tercero eutral o siteresado se le pue cofiar tarea impair justicia este procedimieto o garatiza que siempre se haga justicia por supuesto pero asegura que se miimice probabilidad veredictos ijustos que los errores juicio sea ms probables fciles corregir as que e resume be vlido para todas cada ua s disputas propiedad etre o ms paes cotedietes igua s paes pue juzgar joh como jim est actuar como u juez fial e cualquier disputa e que se ivolucre a s mismo ms bie cada apeci a justicia siempre be hacerse a extr es cir a jueces terceros imparciales pomos lmar al or social que surge aplicaci estos pricipios procedimietos u or atural u sistema justicia atural ua sociedad recho prido o ua costituci libead s prescripcioes curiosamete auque los requisitos u or atural parece ituitimete pusibles razoablemete poco exigetes e sus paes costituetes es cir e osotros como actores idividuales hecho habitamos e u mudo que se s radicalmete tal or si duda toda ha vestigios le atural justicia e vida civil maejo s disputas civiles pero le atural se ha ido formado distorsioado corrompiedo iudado sumergiedo cada vez ms e motaas cada vez ms altas legistis es cir e regs procedimietos e sacuerdo co le atural justicia lees o es masiado difcil itificar causa raz esta sviaci cada vez ms perceptible realidad social u or atural explicar esta trasformaci como cosecuecia ecesaria u error emetal fudametal origial este error pecado origial si as se quiere es moopolizaci fuci judicial su adjudicaci e efecto pecado origial es sigar a ua persoa o agecia pero a adie ms para que acte como juez fial e to los coflictos iclui los coflictos que se recioa co s mismos istituci tal moopolio aparetemete cumple co fiici clsica u estado como moopolista toma cisioes fial violecia sobre alg territorio que o adquiri a travs actos apropiaci origial i a travs ua trasferecia volutaria propietario u aterior estado adie ms es ombrado se le permite juzgar sus propias accioes hacer cumplir co fuerza violeta su propio juicio esto implica e s mismo ua doble vioci le atural justicia por u do bido a que estado prohbe a todas s persoas ivolucradas e ua disputa propiedad cotra l aper a justicia cualquier posible juez extero mutatis mutadis porque estado exclue a to los ms excepto a s mismo para ofrecer sus vicios resoluci e tales coflictos los moopolios protegi por otra pae a pair l error origial sigue s cosecuecias precibles como reg uiversal to cada uo competecia coduce a precios ms altos a ua meor calidad l producto o vicio e cuesti lo que a caso e caso especial u moopolio judicial paicur vicio resoluci esto sigifica por u do que bajar calidad le justicia por otro que le atural reempzada sucesimete por ua legisci creada por moopolistas es cir habr perversioes legales como era esperar moopolista usar su posici como que toma s cisioes fiales o solo para resolver coflicto etre los propietarios cotedietes sio tambi para iiciar o provocar coflictos co los propietarios pri para luego cidir tales coflictos a su propio favor es cir para expropiar propiedad justa otros e su propio beeficio sobre base sus propias lees ivetadas por otro do precio a pagar por justicia aumetar hecho precio justicia o simplemete u precio ms alto que los buscadores justicia pue o o estar dispuestos a pagar como a caso cualquier otro moopolio sio u impuesto que los solicitates justicia be pagar est acuerdo co lo o o e efecto los propietarios pri ivolucra e disputas propiedad co estado o solo expropia a travs legisci sio que tambi ber pagar al estado por este vicio expropiaci lo que agrega isulto a ijuria se toda prida propiedad e prctica co establecimieto u moopolio coviee judicial esecialmete e propiedad fiduciaria es cir propiedad prida otorgada por estado propiedad prida solo es prida est bajo cotrol prido provisioalmete es cir solo hasta que algua le o reguci hecha por estado cida lo cotrario creado u ambiete permaete iceidumbre legal causado u aumeto e tasa social preferecia temporal permtame omiar este proceso que se poe e marcha co istituci u estado sviaci progresi u or atural u sistema justicia creciete erosi to los rechos propiedad prida correspodiete crecimieto los pores legistivos regudores l estado es proceso scivilizaci auque estable e su direcci proceso scivilizaci iiciado co establecimieto u estado pue procer a diferetes vocidas e diferetes mometos o lugares a veces ms letamete otras a u ritmo ms rpido si embargo se pue itificar otro error adicioal que resultar e ua aceraci l proceso scivilizaci este segudo error es trasformaci l estado e u estado implica ig mocico esta trasformaci o cambio e estatus l estado como moopolio judicial implica u doble cambio si embargo au as sigificativo etrada al estado posici juez fial se impoe a todo habitate adulto u territorio dado fial se ejerce solo temporalmete por u breve perodo tiempo establecido por gaador eccioes peridicas recurretes secretas aimas u hombre u voto fuci juez como es precible este cambio coducir a ua aceraci sistemtica l proceso scivilizaci s por u do como hmut schoeck ha mostrado ampliamete setimieto evidia es ua s fuerzas moticioales civilizaci ms difudidas porosas todas rigioes pricipales ha coado por lo tato seo propiedad uestros vecios como pecamiosos e u or atural o u sistema le atural justicia s persoas tambi alguas ms otras meos se ve tetadas expropiar propiedad otros para su propio beeficio pero e u or atural bastate acuerdo co s prescripcioes rigiosas tales tetatis se cosira imorales e ilegtimas se espera que to suprima cualquiera tales seos co u estado e vigor a alguas uas pocas persoas se les permite cer a tales seos imorales por u perodo itermiado usar legisci los impuestos como medio para satisfacer su propio seo propiedad otros si embargo solo co mocracia es cir co acceso libre si restriccioes al estado se imia todas s restriccioes e ihibicioes morales e cotra toma propiedad legal otros to tiee libead disfrutar tales tetacioes propoer promover cualquier medida cocebible legisci e impuestos para obteer vetajas a costa otras persoas es cir mietras que e u or atural se espera que to dique su tiempo exclusimete a producci o al cosumo e codicioes mocicas cada vez se dica ms tiempo a poltica es cir a fesa promoci actividas que o so productis i cosumibles sio explotadoras parasitarias sobre propiedad otros hecho icluso los opositores a tal evoluci pier cada vez ms su tiempo e esfuerzos improductivos es cir e poltica auque solo sea para ferse a s mismos sus propiedas o tomar medidas prevetis cotra tales icursioes hecho bajo codicioes mocicas emerge ua ue cse persoas los polticos cua profesi es propoer promover lees cretos e impuestos disea para expropiar propiedad alguos e beeficio otros icluso ate todo los mismos ams bido a s eccioes peridicas politizaci sociedad uca llega a su fi sio que se reiicia cotia costatemete iceidumbre legal o crimialidad legal aumeta s preferecias temporales sociales aumetar a ms es cir acoar cada vez ms horizote temporal que se tiee e cueta e los pes acci e proceso competecia poltica es cir e competecia por posici mximo resposable toma cisioes etre dichos polticos pai polticos llegar a cima quiees tega meos escrpulos morales mejores habilidas como magogos es cir propoer propagar suido ms popur madas imorales e ilegales ua ofea casi ilimitada tales madas e opii pblica por otro do como otra cara misma moeda mocracia coducir a u aumeto corrupci co acceso abieo al estado resistecia cotra gobiero l estado se reduce tamao l estado aumetar mero emplea admiistradores l estado aumetar bido a que sus igresos medios vida pe cotiuaci l por impuestos l estado o los legisci ecesariamete pero se toda probabilidad co coveir e paidarios cofiables leales l estado e paicur cse los itectuales es cir los productores pabras forjadores pabras e cotraste co los productores cosas fabricates se comprar corromper bido a que solo ha ua mada mima pabras e mercado o cosas los itectuales siempre est sespera por obteer cualquier auda para mateerse a flote estado e permaete ecesidad apoo iolgico para su impcable ataque cotra le atural justicia estar masiado dispuesto a ofrecer esa auda emplearlos como educadores pblicos a cambio propagada apropiada si embargo o so solo los emplea l estado los que est ta corrompi los igresos por impuestos rago cotrol l estado sobre otros activos lo teecias o moetarias superar co creces ecesario para emplear equipar a sus trabajadores estado tambi pue dispersar los igresos auda a diversos miembros sociedad civil lealtad los pobres oprimi se pue asegurar a travs los lma programas bieestar social los ricos los capitaes baca idustria e idirectamete tambi sus emplea pue corromperse a travs los privilegios guberametales los cotratos los boos los gobieros que geera itereses esta misma poltica pue usarse tambi co propsito dividir a los miembros sociedad civil a fi cotror ms fcilmete a ua pobci cada vez ms fraccioada o atomizada divi et impera si bie direcci pricipal evoluci social se pue precir co seguridad sobre base alguas suposicioes emetales sobre aturaleza l hombre estado mocracia e paicur to los talles recioa co proceso smovilizaci sigue siedo icieos poco cros para ms especficos se be cosultar historia e paicur alredor los ltimos cie se be cosirarse historia s fial primera guerra mudial e cuado mocracia mora etr spzado al atiguo estado morquico si bie esta historia cofirma predicci geeral los resulta reales so realmete terribles superado los peores temores e lo que respecta a geeraci moral corrupci teiedo e cueta solo a ee uu como ejemplo molo domiate u estado mocico alguos idicadores pue vir como ejemplo todo producci e ee uu o exista u cdigo regucioes ferales u documeto que eumera todas s regs regucioes guberametales al comiezo l perodo hasta e cdigo haba alcazado s pgias e haba aumetado hasta u total pgias subdivididas e ttulos lo regudo co talle imagiable s agricultura aeroutica hasta traspoe vida silvestre pesca mietras que le pricipios atural compoe trasferecia autopropiedad apropiaci origial cotractual propiedad u propietario aterior a u propietario posterior ho spus cie mocracia ig aspecto producci cosumo est libre sregudo ams al comiezo l perodo o exista ms que u puado litos ferales e reci co asutos tales como traici o soboro fucioarios ferales mietras que to los litos ormales fuero cra persegui e los esta idividuales solo tres se para mero crmees ferales a haba aumetado a uos para haba llegado a crimializado o solo accioes o toiceras crmees si vctimas sio tambi cada vez ms motivos pesamietos pabras discursos los ives como segudo idicador l grado corrupci es revedor compara mero total pobci co mero pedietes l estado actualmete pobci total los ee uu es uos milloes o uos milloes si restamos mero persoas meores o egibles para votar e comparaci mero persoas que pe total o pricipalmete sus medios subsistecia fiaciaci estatal iclue lo siguiete mero los to emplea estatales gobieros es aproximadamete milloes cuareta seis milloes persoas recibe cupoes alimetos seseta seis milloes persoas recibe seguridad social ocho milloes persoas recibe u seguro sempleo gasto l gobiero feral solo e empresas co imo lucro ascie a uos mil milloes seg u clculo charles murra para aproximadamete por cieto fuerza boral estadouise o alredor milloes persoas por ltimo s orgaizacioes si imo lucro s og co igresos auales billoes casi milloes emplea recibe aproximadamete u tercio su fiaciaci l estado lo que represeta alredor otros milloes pedietes lo que hace que total pedietes l estado sea aproximadamete milloes persoas e realidad solo se pue cir que milloes persoas o aproximadamete u tercio pobci adulta maores los esta ui milloes o alredor l por cieto pobci total milloes so fiacieramete total o e gra pae ipedietes l estado mietras que cerca l por cieto pobci adulta los ee uu por cieto pobci total se cueta como pedietes l estado fialmete como tercer idicador geeraci moral corrupci es istructi ua mirada a pae superior l sistema estatal mocico a los polticos pai polticos que dirige dirige escpctaculo mocico e este setido a miremos a esta ui o a cualquiera sus esta satlites e europa e todo mudo paorama es igualmete iequvoco cro e igualmete sombro si se mi seg los estdares le atural justicia to los polticos e todas s paes viualmete si excepci idirectamete algua so culpables directa o asesiato homicidio trasgresi isi expropiaci frau cercado productos roba a ua esca masi cotiua cada ue geeraci polticos pai parece peor acumu a ms atrocidas perversioes e cima motaa a existete por lo que uo se siete casi ostlgico por pasado to bera estar colga o e crc para que se pudra u obliga a dar algua imizaci pero e cambio sfi e pblico durate todo da se procma a s mismos maera pomposa presutuosa arrogate hechida como satos beefactores como bueos samarit vidores pblicos altruistas beefactores saldores humaidad civilizaci humaa asisti por ua itigecia le dice al pblico e itermiables bucles riacioes que como e mudo maravilloso alicia ada es lo que parece cotratada cuado uso ua pabra dijo humpt dumpt e too spectivo sigifica lo que quiero que sigifique i ms i meos problema es dijo alicia si pues hacer que s pabras sigifique tatas cosas diferetes problema es dijo humpt dumpt saber qui es que mada eso es todo so los polticos quiees mada quiees estipu que agresi isi asesiato guerra so e realidad fesa propia mietras que fesa propia es agresi isi asesiato guerra libead es coerci coerci es libead ahorro iversi so cosumo cosumo es ahorro e iversi diero es pap pap es diero los impuestos so pagos volutarios los precios paga volutariamete so impuestos explotaci los cotratos o so cotratos los o cotratos so cotratos los productores so parsitos los parsitos so productores expropiaci es ua restituci restituci es ua expropiaci hecho lo que pomos ver escuchar o setir otra maera o existe lo que o pomos ver escuchar o setir otra maera lo hace lo ormal es aormal lo aormal es ormal egro es bco bco es egro macho es hembra hembra es macho etc peor a abrumadora maora l pblico que supera co creces icluso al mero pedietes l estado se embesa co esta totera los polticos o so sprecia i ridiculiza sio que so mu aprecia apudi admira e icluso glorifica por s masas e su presecia e paicur frete a los polticos pricipales maora s persoas se muestra aoada sumisos viles hecho icluso aqulos que se opoe o ucia a u poltico o paido e paicur lo hace casi siempre solo para propoer o ogiar a otro poltico o paido diferete igual absurdo cofuso itligetsia ecotrado su propio rumor verbal repetido e s pabras este o aqu poltico o paido poltico prcticamete babea sobre los por otro do mero aqulos que a se aferra a los pricipios le atural justicia como base todo juicio moral que e mudo cotemporeo como u absurdist es cir u maicomio admiistrado por megalm oqueci o represeta ms que ua miscu miora pobci ms pequea e tamao que ifame por cieto los sper ricos fama izquierdista co poca o igua superposici co este ltimo grupo a ms pequea es miora aqulos que recooce tambi auque sea gamete causa sistemtica este resultado to estos s pocas persoas abadoadas e maicomio est bajo ameaza costate los guardiaes protectores este absurdist lmado mocracia so califica como eaales reaccioarios extremistas pre ilustra totos socipatas o escoria lo que me lle a sociedad propiedad libead pfs por sus sigs e igls porque ree a propsito a tales eaales margia persoas que pue ver a travs l schmieretheater ma muee pasado ate sus ojos que se ha efretado a to los polticos faticos los medios comuicaci que e cosecuecia tiee u solo seo huir es cir optar por salir l sistema legal que les impoe estado mocico pero doquiera que resida estos eaales se ecuetra e salida est misma situaci bloqueada o completamete prohibida o est permitida secesi l territorio l estado uo pue emigrar u pas a otro por lo tato jar u estado jurisdicci a para ir a otra jurisdicci b si embargo propiedad imueble sigue estado sujeta a jurisdicci a tambi especialmete e caso veta tambi queda trasferecia to los biees muebles sujetos a jurisdicci a es cir adie e igua pae pue salir co su propiedad itacta a sea para quedarse o mudarse a otra pae o solo se prohbe secesi i se cosira tratable por pae los polticos sio que se cosira ilegtima como ua maora usi abrumadora l pblico educado o ms bie do cerebro por lo tato situaci parece o dar igua esperaza a los eaales tambi por los beres pfs o pue ofrecer ua salida a esta situaci por supuesto sus reuioes tambi be realizarse e alg lugar como tales est sujetas a le jurisdicci l estado i siquiera se pue dar por setado que reuioes como uestra pueda teer lugar siempre e todas paes s reuioes l pfs o pue ofrecer ms que u breve escape u respiro uestra vida real como presos u maicomio si o e terreo al meos e realidad viual ias pesamietos argumetos pero por supuesto estas reuioes tiee u propsito real quiere lograr u cambio e mudo s cosas como mimo quiere evitar que se extiga por completo cultura l eaal es cir cultura le atural or justicia quiere audar a sosteer proporcioar alimeto itectual para esta especie cada vez ms rara persoas cultura si embargo maera ms ambiciosa pfs quiere audar a estos eaales su cultura a recuperar fuerza opii pblica al mostrarlos e pblico mostrarlos excepcioalmete atractis fasciates especie como ua cotracultura a para resulta jurdico sea retivismo moral lograr este objetivo pfs aparete ivolucra e ua poltica paradjicamete se discrimiaci estricta es cir exclusi e iclusi por u do pfs exclue discrimia sistemticamete a to los represetates promotores actual cultura estatal mocica domiate cotra to los polticos profesioales jueces l estado fiscales jueces carceros asesios cobradores impuestos baqueros to bicistas fesores l socialismo positivismo igualitarismo opouidas por otra pae positimete pfs busca solo admite persoas que ha adoptado por s mismas dicho thomas jefferso que o existe ua verdad que temo o que seara scoocida para todo mudo que por cosiguiete o cooce ig tab itectual que o tiee correcci poltica quiees est comprometi e cambio co u radicalismo itectual itrasigete dispuestos a seguir los dicta raz doquiera que estos pueda coducir ms especficamete pfs busca admite solo a persoas dicadas al recoocimieto propiedad prida los rechos propiedad adquiri co libead libead cotrataci asociaci disociaci libre comercio paz justicia o siguiedo esta estricta poltica discrimiaci pfs spus diez existecia se ha cosolidado como u verdaro moopolio e mudo s sociedas itectuales ua sociedad formada por persoas excepcioales todas s edas atecetes libre o itectuales profesioales acioes cotamiado por to los estatistas todo lo que es amplitud profudidad estatista si ril e iterdiscipliar su radicalismo reui e u blo etoro ui e u espritu covivecia camarara ua sociedad difamada spreciada e icluso odiada si embargo evidiada secretamete por to los sospechosos habituales si embargo acmada por to aqulos que ha teido sabidura foua ver experimetar si embargo a diferecia otros moopolios regures o es mi objetivo prer mateer posici moopolio actual pfs todo lo cotrario al dar u ejemplo al producir u producto atractivo hecho hermoso u bie pblico producido e forma prida si queris espero que actual posici moopolio pfs solo sea temporal que su ejemplo sir ejemplo e ispiraci para los ms que surgir ms ms asociacioes reuioes simires que falta cultura mocica domiate se podr cada vez ms a fesi se abrir al ridculo pblico que e ltima istacia los los propoetes los expoetes o cultura mocica reiate se cosirar margia e sociedad educada ha alguos sigos positivos los evetos u da l crculo mises e s pricipales ciudas los ee uu s reuioes weewischaft rahim taghiza ga e austria s coferecias eigetuemlich frei adre lichtschg e alemaia si embargo me temo que iguar logro l pfs ua tarea difcil que matedr su estado ico durate bastate tiempo persoalmete esto peado cotiuar este proecto foaleza siempre cuado se matega mi especialmete tambi gli lo que es ms impoate siempre cuado siga asistiedo apoado maera efecti producto itectual empresa que es pfs libearismo alt right e busca ua estrategia libearia para cambio social coocemos stio l trmio liberal liberalismo se ha dado a coocer a tatas persoas diferetes posicioes que ha perdido todo su sigificado se ha coveido e ua etiqueta ca o scripti mismo stio ahora tambi ameaza cada vez ms trmio libeario libearismo que se ivet para recuperar algo precisi coceptual perdida co saparici s etiquetas ateriores libro hacia ua ue si embargo historia l libearismo moro es toda bastate jove comez e sa estar murra rothbard ecotr su primera expresi casi caica e su libead maifiesto libeario publicado e toda tego esperaza o esto dispuesto a reuciar al libearismo tal como est fiido explicado por rothbard co cridad precisi coceptuales icomparables a pesar los iumerables itetos los lma libearios para eturbiar agua maliterpretar bue ombre l libearismo para algo completamete diferete cleo terico e irrefutable doctria libearia es secillo directo a lo he explicado repetidamete aqu si o hubiera escasez e mudo los coflictos hum o ms precisamete los choques fsicos a imposibles los coflictos iterpersoales so siempre coflictos recioa co cosas escasas o quiero hacer a co ua cosa termiada t quieres hacer b co misma cosa bido a tales coflictos porque somos capaces comuicaros discutir uos co otros buscamos ormas compoamieto co fi evitar estos coflictos propsito s ormas es evitar coflicto si o quisiramos evitar bsqueda ormas coducta o tedra setido simplemete pearamos lucharamos los coflictos a falta ua armoa perfecta to los itereses los coflictos recioa co los recursos escasos solo se pue evitar si to los recursos escasos se asiga como propiedad prida exclusi a alg idividuo o grupo persoas especfico solo as o podra actuar forma ipediete co mis propias cosas t co tus propias cosas si que t o os efretemos pero qui posee qu recurso escaso como su propiedad prida qui o primero cada persoa posee su cuerpo fsico que solo l adie ms cotro directamete segudo e cuato a los escasos recursos que pue cotrorse solo maera idirecta que be asigarse co uestro propio cuerpo dado por aturaleza cotrol exclusivo propiedad es adquirido asigado a aqu persoa que se apropi primero l recurso e cuesti o que lo adquiri a travs u itercambio volutario libre coflictos co su dueo aterior solo primer apropiador u recurso to los propietarios posteriores coecta a l a travs ua caa itercambios volutarios pue adquirir obteer cotrol sobre l si coflicto es cir pacficamete lo cotrario si cotrol exclusivo se asiga e su lugar a los reci llega coflicto o se evita sio que es cotrario al propsito mismo s ormas que so ievitables permaetes ate esta audiecia o ecesito etrar e ms talles excepto para agregar esto si sea vivir e paz co otras persoas evitar to los choques fsicos si tales choques ocurre itetar resolverlos pacficamete se be u aarquista o ms precisamete u aarquista propiedad prida u aarcocapitalista o u fesor ua sociedad recho prido maera implcita etoces otra vez si ms prembulos alguie cualquiera o es u libeario o es simplemete u libeario falso que fie fie uo o ms lo siguiete ecesidad u estado cualquier estado biees pblicos estatales impuestos para vivir e paz o existecia capacidad justa los lma rechos hum o rechos civiles distitos los rechos propiedad prida como rechos s mujeres rechos los homosexuales rechos s mioras recho a o discrimiado recho a imigraci libre si restriccioes recho a u igreso mimo ateci mdica gratuita o garatizado o a recho a estar libre discursos pesamietos sagradables los fesores todo esto pue lmarse a s mismos lo que quiera como libearios bie pomos cooperar co los e medida e que dicha cooperaci os ofrece promesa acercaros a uestro objetivo fial pero o so libearios o so solo falsos libearios ahora algo extrao sucedi e camio hacia foro mietras rothbard o siguiedo sus pasos uca os sviamos estas creecias fudametales tericamete ridas o solo o libearios sio e paicur tambi falsos libearios es cir persoas que afirma falsamete libearios e icluso muchos libearios posiblemete siceros pero a vez totos os ha egido igrado como sus betes oires favoritos ecaracioes l mal rothbard rector l espritu l libearismo moro ha sido calificado por esta lmada multitud atifascista como reaccioario racista sexista autoritario itista como xefobo culmiaci como u judo azi que se odia a s mismo fascista he heredado to estos ttulos hoorficos ams alguos ms excepto cuesti judo etoces qu cosa diveida ha sucedido aqu tratar sarrolr ua respuesta a esta preguta me lle al tema este discurso reci etre libearismo recha alterati o alt right que ha gaado otoriedad acioal e iteracioal spus que hilr clito durate campaa s eccioes presiciales itificara como ua s fuetes ispiraci trs cesta plorables aletadores trump cuo lirazgo ha que recoocer spus victoria ectoral trump se rompi rpidamete co trump cuado result simplemete otro presite bicista movimieto alt right es esecialmete sucesor l movimieto paleo codor que lleg a fama a pricipios los co columista autor libros ms vedido patrick buchaa como su represetate ms coocido qued algo iactivo a fies dcada recietemete a luz l dao cada vez maor hecho a esta ui su reputaci por s sucesis admiistracioes bush i clito bush ii obama ha resurgido ms vigorosamete que uca bajo ue etiqueta l alt right muchas s luces pricipales asociadas co alt right ha aparecido aqu e uestras reuioes e trascurso los paul gottfried quie primero acu trmio peter brimow richard l jared talor joh rbshire steve sailer richard specer ams ombre sea gabb mo se mecioa regurmete e reci co alt right mi trabajo se ha vicudo eorreaccioario movimieto tambi estrechamete recioado ispirado por cuis arvi tambi coocido como mecius moldbug su a co fallecido blog uqualified retios e resume estas recioes asociacioes persoales me ha lido rias mecioes hoorables por pae liga calumias difamaci ms famosa esta ui splc tambi coocido como cetro metira pobreza sovitica tericas ahora qu ha reci etre libearismo alt right mis razoes para ivitar a los pricipales represetates s reuioes co alt right a libearios los libearios est ui por s creecias fudametales irrefutables mecioadas al pricipio tiee cro objetivo que quiere lograr pero doctria libearia o implica gra cosa si es que tiee algo co respecto a estas pregutas primero cmo mateer u or libeario ua vez logrado segudo cmo obteer u or libeario s u puto paida o libeario que requiere a que uo be scribir correctamete este puto paida b itificar correctamete los obstculos ptea e camio los fies libearios uo mismo mediate este puto paida para respor a estas pregutas ams tambi se ecesita alg coocimieto psicologa sociologa humaa o al meos u mimo setido com si embargo muchos libearios falsos libearios igora cramete psicologa sociologa humaas o icluso carece toda setido com acepta ciegamete cotra evicia emprica ua visi igualitaria e bco aturaleza humaa que todas s persoas todas s iguales e sociedas culturas so esecialmete itercambiables teora si bie gra pae l libearismo cotemporeo se pue caracterizar etoces como teora tericos si psicologa sociologa gra pae o icluso maor pae alt right pue scribirse e cotraste como psicologa sociologa si teora los aptos a alt right o est ui por ua teora com o existe ada que se parezca ligeramete a u texto caico que alt right est fia su sigificado ms bie esecialmete uida e su scripci l mudo cotemporeo e paicur e los esta ui lmado mudo occital itificaci diagstico sus patologas sociales hecho se ha seado correctamete que alt right est mucho ms uida por lo que est e cotra que por lo que est a favor est e cotra hecho odia co pasi a s lites que cotro estado los medios comuicaci domiates uiversidad por qu porque to promueve geeraci social lo tato promueve se opoe patologa por vigorosamete al igualitarismo a acci afirmati tambi coocida como o discrimiaci al multiculturalismo a imigraci masi libre como u medio para lograr multiculturalismo ams alt right odia todo lo que tega que ver co marxismo cultural o gramsciaismo toda correcci poltica estratgicamete prute se ecoge hombros si ig perd e absoluto a todas s acusacioes racista sexista itista supremacista homofbicos xeofbicos etc etc alt right tambi re como irremediablemete igeuo l lema programtico los lma libearios que mi jove amigo alem adre lichtschg ha calificado como libearios liberal paz amor libead traducida apropiadamete al freu alem por eierkuche e u marcado cotraste co esto los aptos a alt right isiste e que vida tambi se trata coflictos odio esfuerzo lucha o solo etre idividuos sio tambi etre rios grupos persoas actuado e com acuerdo milleial woes coli lichtschg frie como robeso ha resumido aceadamete a alt right igualdad es ua totera jerarqua es esecial s razas so diferetes los sexos so diferetes moralidad impoa geeraci es real todas s culturas o so iguales o estamos obliga a pesar que lo so hombre es ua criatura cada ha ms e vida que materialismo hueco fialmete raza bca impoa civilizaci es preciosa esto es alt right tiee icliacioes si embargo a falta ua teora uificadora ha mucho meos acuerdo etre alt right sobre objetivo que e ltima istacia quiere lograr muchas sus luces pricipales cramete libearias especialmete s que ha veido aqu lo cual por supuesto fue raz para habers ivitado ac icluso si o so por cieto o se itificara como tales to los miembros alt right que ha aparecido aqu por ejemplo ha estado familiariza co rothbard su trabajo mietras que cadidato presicial ms reciete l paido libeario uca haba odo habr l ombre rothbard to los que o sepa fuero paidarios abieos ro paul durate su campaa primaria para omiaci l cadidato presicial paido republicao mietras que muchos autoprocma libearios atacaro trataro difamar a ro paul por sus a bis saber d viee putos vista supuestamete racistas como icompatibles co si embargo rios los lres alt right muchos sus seguidores tambi ha respaldado opiioes libearismo como buchaa ates trump ahora est coveci complemetar ua poltica imigraci restricti altamete secti discrimiatoria que es totalmete compatible co libearismo su seo libead comercio estrite asociaci oposici a itegraci forzada co ua poltica restrigido proteccioismo ecomico araces protecci que so atitticas al libearismo adversas a prosperidad humaa permtame apresurarme a agregar aqu que a pesar mis dudas sobre su ecooma toda cosiro a pat buchaa u gra hombre otros se sviaro a ms l terreo como richard specer que primero popuriz trmio alt right mietras tato bido a rios trucos publicitarios recietes que le ha gaado cieo grado otoriedad e los ee uu specer ha recmado rago lr mximo u movimieto supuestamete poroso u esfuerzo por cieo que ha sido ridiculizado por taki theodoracopulos u veterao fesor l movimieto paleo codor coveido e alt right atiguo empleador specer cuado specer apareci aqu hace rios toda exhiba fuees icliacioes libearias safouadamete si embargo esto ha cambiado specer ahora ucia si igua cualificaci a to los libearios todo lo libeario ha llegado icluso a apoar socialismo siempre que sea qu horrible socialismo por para cepci los bcos dada falta ua base terica esta divisi l movimieto alt right e faccioes riles difcilmete pue cosirarse ua sorpresa si embargo este hecho o be iducir a error a uo que lo sestime porque alt right ha presetado muchas ias que so impoacia cetral para abordar ua respuesta a s pregutas ates mecioadas si respuesta teora libearia cmo mateer u or social libeario cmo llegar a tal or s cididamete o libeario status quo actual alt right o scubri estas ias se haba establecido mucho ates hecho e gra pae o so ms que setido com pero e los ltimos tiempos estas percepcioes ha sido eterradas bajo motaas propagada igualitaria a alt right be recoocrse mrito por habers trado vuta a luz para ilustrar impoacia tales ias permtame respor primero a primera preguta si respuesta muchos libearios sostiee opii que todo lo que se ecesita para mateer u or social libeario es aplicaci estricta l pricipio o agresi ap por sus sigs e igls por tato seg su puto vista siempre cuado uo se abstega agresi bera mateerse pricipio vive ja vivir si embargo auque este vivir jar vivir suea atractivo para los adolescetes e rebi cotra autoridad patera toda coveci cotrol social muchos jvees se ha setido iicialmete atra por libearismo creedo que vivir jar vivir es esecia l libearismo auque pricipio s se sostiee se aplica a s persoas que vive lejos que se trata etre s maera idirecta remota o se sostiee i se aplica o ms bie es isuficiete cuado se trata persoas que vive cerca etre s como vecios cohabitates misma comuidad u ejemplo secillo vir para eter esto supogamos ha u uevo vecio este vecio o te agre a ti i a tu propiedad igua maera pero es u vecio malo est tirado basura e propiedad su vecio coviido e u mot basura por lo que ves se dica habitualmete al sacrificio ritual aimales coviee su casa e u freuhaus u burl co clietes que viee todo da toda oche uca ofrece echar ua mao uca cumple igua promesa que haa hecho o o pue o se iega a habe e tu propio idioma etc etc tu vida se coviee e ua pesadil si embargo o pues usar violecia cotra l porque o te ha agredido qu pues hacer pues rehuirlo aisrlo pero a tu vecio o le impoa e cualquier caso si solo t le castigas le supoe poca o igua diferecia tiees que teer respeto autoridad comuidad o tiees que dirigirse a alguie que lo tega para persuadir covecer a to o al meos a maora los miembros tu comuidad para que haga lo mismo coviea al vecio malo e u margiado social a fi ejercer suficiete presi sobre l para que veda su propiedad se a masiado para los libearios que ams su ial vive ja vivir tambi acma lema o respetar igua autoridad lecci covivecia pacfica etre vecios persoas e cotacto directo regur etre s e alg territorio u or social traquilo cordial tambi requiere u carcter com cultura idioma rigi costumbre covecioes pue haber coexistecia pacfica diferetes culturas e territorios distates multiculturalismo heterogeeidad cultural o pue existir e u mismo lugar territorio si ller a dismiuci cofiaza social al aumeto tesi e ltima istacia al lmado por u hombre fuee strucci cualquier cosa que se parezca a u or social libeario fsicamete separa pero ams al igual que u or libeario be estar siempre e guardia cotra los vecios malos icluso si o so agresivos por medio l ostracismo social es cir por ua cultura com que o so bievei aqu por lo tato e icluso ms vigite be estar protegido cotra los vecios que abieamete aboga por comuismo socialismo sidicalismo o mocracia e cualquier forma o maera por lo tato al todas s represetar ua ameaza abiea para propiedas pridas los dueos propiedas o solo be rechaza sio que por usar u meme hoppe bastate famoso be imia fsicamete si es ecesario por violecia obliga a salir a buscar otros horizotes o hacerlo coduce ievitablemete al bueo comuismo socialismo sidicalismo o mocracia por lo tato a lo opuesto a u or social libeario co estos rechistas o como dira o co ias sesatas comues e mete me refiero ahora a preguta ms safiate cmo pasar aqu l statu quo a all para esto podra istructivo cosirar brevemete respuesta dada por los liberal paz amor libead frie freu eierkuche o libearios capitalismo es amor reve mismo igualitarismo fudametal si bie forma ligeramete diferete que que exhibe tambi los libearios vivir jar vivir estos como acabo tratar mostrar fie lo que podramos lmar problema l mal vecio lo que es simplemete ua cuesti pocas pabras para problema geeral que ptea coexistecia distitas ajeas mutuamete peurbadoras culturas molestas extraas hostiles simplemete fuera existecia hecho si asume e cotra toda evicia emprica que so esecialmete iguales etoces por fiici o existe tal cosa como u problema l mal vecio s persoas e todas paes todas los mismo libearios igualitarismo o como liberal prefiere lmarlo espritu humaitario tambi lma a preguta ua estrategia libearia e resume su cosejo es siguiete amables habr co to luego a rga vecer los mejores argumetos libearios si embargo fuera l mudo fatasa igualitaria e mudo real los libearios be sobre todo realistas recoocer s pricipio como lo hace alt right sigualdad o solo los idividuos sio s diferetes culturas como u dato tambi imposible erradicar existecia humaa bemos recoocer ams que existe muchos eemigos libead seg lo fiido por libearismo que los o osotros est a cargo los asutos mud que e muchas paes l mudo cotemporeo su cotrol sobre pobci es ta completo que s ias libead or social libeario so prcticamete scoocidas o cosiradas impesables excepto como u juego itectual ocioso o gimasia metal por alguos idividuos exticos que es esecialmete solo e occite e los pases europa occital cetral e s tierras pobdas por su gete do ia libead est ta profudamete arraigada que estos eemigos a pue safia abieamete limitado uestras cosiracioes estratgicas aqu solo a occite pomos etoces itificar ms o meos como alt right estos actores e istitucioes como uestros pricipales eemigos lo ha hecho so e primer lugar s ites goberates que cotro aparato l estado e paicur estado profudo o lmada catedral los militares los vicios secretos los bacos cetrales los tribuales supremos ams iclue a los lres l complejo militar idustrial es cir empresas omialmete pridas que be su propia existecia al estado como comprador exclusivo o domiate sus productos tambi iclue a los lres los gras bacos comerciales que be su privilegio crear diero crdito ada a existecia l baco cetral su pap como prestamista ltimo recurso jutos etoces estado los gras egocios gra baca forma ua extremadamete porosa icluso e ua pequea sociedad admiraci mutua forma cojuta saquea a eorme masa cotribuetes lle a cabo a gra esca a sus expesas por formado educadores itectuales segudo u grupo mucho ms gra eemigos est edcratas s los ives acadmicos ms altos hasta iv escues primarias jardies ifacia fiacia casi exclusimete a sea directa o idirectamete por estado estos e su abrumadora maora se ha coveido e s herramietas los ejecutores volutarios e m lite goberate sus sigios para por absoluto cotrol total e tercer lugar est los periodistas los gras medios comuicaci como los productos dciles l sistema pblica popurizadores iformaci l estado educaci receptores los igual impoacia e sarrollo ua estrategia libearia es siguiete preguta quies so s vctimas respuesta libearia estdar a esto es los cotribuetes frete a los cosumidores impuestos si embargo si bie esto es esecialmete correcto e mejor los casos es solo ua pae respuesta los libearios podra aprer algo al respecto a travs alt right porque apae l aspecto ecomico estrecho tambi ha u aspecto cultural ms amplio que be teerse e cueta e s vctimas itificaci para expadir aumetar su por s ites domiates ha estado realizado durate muchas dcadas lo que pat buchaa ha itificado como ua ua sistemtica guerra trasfiguraci to los lores strucci to los vculos e istitucioes aturales o si se cultural dirigida a s acioes icluso ms fue prefiere orgicos como s familias s comuidas los grupos ticos recioadas geealgicamete para crear ua pobci cada vez ms atomizada cuo ico vculo caracterstico uificador compaido es su com pecia existecial e estado primer paso e esta direcci tomada a hace medio siglo o itroducci l bieestar pblico seguridad social a su vez cse baja los aci se coviiero e pedietes l estado se hizo dismiuir bilitar lor impoacia comuidad ms familia recietemete ha proliferado pasos maor alcace e esta direcci se ha procmado promovido ua ue victimologa s mujeres e paicur s madres solteras egras mutas tias homosexuales lesbiaas bisexuales trasexuales ha recibido estatus vctima se les ha otorgado privilegios legales a travs o discrimiaci o cretos discrimiaci positi ams ms recietemete dichos privilegios tambi se ha ampliado a imigrates extrajeros a sea legales o ilegales e medida e que cae e ua s categoras que acabamos mecioar o que so miembros rigioes o cristiaas como ism por ejemplo resultado o solo o se ha evitado o solucioado problema l vecio malo mecioado ateriormete sio que se ha promovido e itesificado sistemticamete se ha struido homogeeidad cultural libead asociaci segregaci fsica volutaria separaci diferetes persoas comuidas culturas tradicioes ha sido sistema omipresete reempzadas por u itegraci social forzada ams cada grupo vctimas mecioado se ha efretado a to los ms to se ha efretado a hombres bcos heterosexuales cristi e paicur a los casa co hijos como ico grupo que a o tiee protecci legal frete a supuestos victimarios por lo tato como resultado trasfiguraci to los lores promovi por s lites goberates mudo se ha vuto l revs istituci u hogar familiar co u padre ua madre sus hijos que ha formado base civilizaci occital como civilizaci ms libre ms idustrial igeiosa cosumada coocida por humaidad es cir misma istituci s persoas que ms bie ha hecho e historia humaidad ha sido estigmatizadas cosiradas oficialmete como fuete to los males sociales s ha hecho al grupo ms sfavorecido icluso perseguido por impcable poltica divi et impera s lites eemigas e cosecuecia dada actual cofiguraci s cosas cualquier estrategia libearia prometedora como ha recoocido buea pae alt right e primer lugar be adaptarse dirigirse a este grupo s persoas ms gravemete victimizadas los matrimoios bcos co hijos e paicur si peeece tambi a cse cotribuetes e lugar a los cosumidores impuestos to los que ms se parece o aspira a esta forma estdar or social orgaizaci pue realsticamete audiecia ms recepti l mesaje libeario mietras que se be esperar que meor apoo provega los grupos legalmete ms protegi como por ejemplo s madres solteras musulmaas egras que recibe asistecia social dada esta costeci perpetradores eemigos cotra vctimas e occite cotemporeo puedo ahora abordar tarea fial tratar liear ua estrategia libearia realista para cambio cua especificaci tedr que veir precedida por cosiracioes geerales por u do dado que cse itectuales s cima acamia hasta los difusi periodistas que mo opii e los gras medios comuicaci so fiacia est mu vicu al sistema l estado es cir que so pae l problema tampoco se espera que sempee u pap impoate si tiee alguo e soluci l problema e cosecuecia lmada estrategia haekiaa para cambio social que cotemp ias libearias correctas comezado por lo alto co los filsofos pricipales luego s all a los periodistas fialmete a s gras masas si formaci be cosirarse irrealista por cotrario cualquier estrategia libearia realista para cambio bera ua estrategia populista e otras s lites pabras itectuales domiates dirigirse a s masas directamete para spear su idigaci sprecio hacia s lites goberates libearios be udir a fudametalmete los segudo mietras que los pricipales stiatarios u mesaje populista libeario bera los grupos mecioa bcos ativos spose margia creo que es u grave error estratgico hacer bcura criterio exclusivo sobre cual basar s cisioes estratgicas propias como ha sugerido hacer alguas leas alt right spus todo so los hombres bcos ite goberate los que os ha impuesto sastre actual s diversas mioras protegidas es cieo que mecioadas ateriormete aprovecha al mximo los privilegios legales que les ha sido otorga cada vez est ms aletadas a pedir cada vez ms protecci pero iguo los i to jutos posea i posee streza itectual que hubiera hecho posible este resultado o haber sido por auda istrumetal que recibiero est recibiedo los hombres bcos los que coforma ahora siguiedo uestros pasos los movimietos buchaa paul trump a los talles ua estrategia popur para cambio libeario e ig or especfico excepto primero que actualmete ha asumido maor urgecia e mete pblica uo teer imigraci masi s oleadas imigrates que actualmete iuda mudo occital lo ha cargado co hordas parsitos l bieestar trajero terroristas aumetaro crime llero a proliferaci reas prohibidas diero lugar a iumerables malos vecios que basa e su educaci cultura tradicioes ajeas carece compresi apreciaci libead est obliga a coveirse e paidarios si setido l futuro l estatismo bieestar imigraci adie est e cotra ivitate be establecer u vculo co los imigrates per se pero imigraci be solo por ivitaci to los imigrates be persoas productis por tato estar exclui to los pagos asistecia social para asegurar esto los o su pae comuidad e cual se a asetar que se be mostrar coducir a poaci l imigrate si algua vez se coviee e ua carga pblica ams cada imigrate persoa ivitate o empleador o solo be pagar mateimieto o sario l imigrate sio que tambi be pagar a comuidad resicial sgaste adicioal sus istacioes pblicas asociadas co presecia l imigrate para evitar socializaci to cada uo los costes icurri co su asetamieto ams icluso ates su admisi cada posible imigrate be uado verificado cuidaamete o solo por su productividad sio tambi por su uidad cultural o buea vecidad co resultado empricamete precible ua maora pero igua maera exclusimete cadidatos imigrates bcos occitales cualquier comuista o socialista coocido cualquier color omiaci o pas orige be excluido l asetamieto permaete salvo que por supuesto comuidad e que posible imigrate quiera resolver oficialmete apruebe saqueo propiedad sus resites por s ues llegadas l extrajero lo que o es mu probable que se apruebe al meos icluso tro s comuas comuistas a existetes breve mesaje a to los libearios a favor s liberal quiees seguramete froteras abieas etiquetar esto adivio como fascista e u or libeario totalmete pritizado o existe u recho a imigraci libre propiedad prida implica froteras recho l propietario a excluir a volutad propiedad pblica tiee froteras tambi o est si dueo es propiedad los cotribuetes acioales fiitimete o es propiedad extrajeros si bie es cieo que estado es ua orgaizaci crimial que cofiarle tarea cotrol froteras ievitablemete dar los resites acioales como para los extrajeros tambi es cieo que estado hace algo cuado ci o hacer ada co respecto al cotrol frotera que e s circustacias actuales o hacer ada al respecto coducir a ms ms ijusticias ms graves e paicur a ciudadaa domstica ijusticias tato para lugar a umerosas jar atacar matar bombarar a persoas e pases extrajeros ua causa pricipal auque igua maera ica para isi actual los pases occitales por imigrates extrajeros so s guerras iiciadas sarroldas e oriete medio e otros s lites goberates esta ui sus ites tteres s hordas lugares por los ataques subordiadas ams occitales terroristas aparetemete ormales omipresetes e ombre l ism e todo mudo occital so e gra medida represalias estas guerras cosiguiete c e todo oriete medio oe frica o bera haber igua duda e lmar a estos goberates occitales lo que so asesios o cmplices asesiatos e masa bemos exigir recmar co vigor e cambio ua poltica exterior estricta o iterveci retirarse todas s orgaizacioes iteracioales supraacioales como s acioes uidas ota ue que imiscue a u pas e los asutos iteros otro teer toda auda estado a estado prohibir todas s vetas armas a esta extrajeros hagamos que esta ui sea primero igterra primero alemaia primero italia primero as sucesimete es cir cada pas que comerciado co otros adie iterfiriedo e los asutos domsticos otros expoer los bacos cetrales itectuales los espldi tres jar fiaciar a s lites goberates sus difudir guardaespaldas ampliamete su beeficios pesioes acuer paralos soboros dieros recibi por s lites goberates por los altos cargos e gobiero s burocracias guberametales s coes supremas los vicios s agecias espioaje por polticos secretos asesores parmetarios cosultores polticos por compiches educadores pblicos presites uiversidas cometaristas estrs acadmicas stacar que toda su brilte gloria lujo se fiacia co diero extorsioado a los cotribuetes e cosecuecia istar a que se reduzca to los impuestos impuestos sobre reta impuestos a propiedad impuestos a s vetas impuestos a herecia etc etc lres pai capitalistas cuatro termiar co fed to los bacos cetrales seguda fuete fiaciaci para s lites goberates ams l diero extrado l pblico e forma impuestos proviee los bacos cetrales los bacos cetrales pue crear pap moeda ada esto reduce por adquisitivo l diero strue los ahorros s persoas ormales o eriquece i pue eriquecer a sociedad e su cojuto pero redistribue igreso riqueza tro sociedad los primeros receptores l diero reci creado es cir s ites goberates se hace ms ricos los ltimos receptores es cir ciudadao promedio se hace ms pobres maipuci s tasas iters por pae l baco cetral es causa los ciclos auge clive baco cetral permite acumuci ua uda pblica cada vez maor que se spre como ua carga para los futuros cotribuetes scooci o simplemete se imia como facilitadores uda pblica los bacos cetrales so tambi los facilitadores s termiar guerras esta mostruosidad be reempzada por u sistema baca libre competiti que se base e diero ua mercaca auttica como oro o pta cico abolir todas s lees regucioes acci afirmati o discrimiatoria to estos edictos so viocioes fgrates l pricipio igualdad ate le que al meos e occite se percibe recooce ituitimete como u pricipio fudametal justicia como propietarios pri s persoas be teer libead asociarse o sasociarse co otros icluir o excluir itegrar o segregar uirse o separarse uificar e icorporar o suir salir separarse cierre to los paametos uiversitarios estudios egros tios mujeres gero homosexualidad etc que sea icompatibles co ciecia rechazar sus itectuales o caals facultas como impostores los comisarios acci ams exigir que to afirmati diversidad recursos hum s uiversidas hasta escues jardies ifacia sea expulsa se vea obliga a aprer alg oficio til seis apstar a mafia atifascista trasfiguraci to los lores e todo occite iveci cada vez ms grupos vctimas difusi los programas acci afirmati promoci impcable correcci poltica ha lledo al surgimieto ua mafia atifascista tcitamete apoada e idirectamete fiaciada por s lites goberates esta autoomiada mafia guerreros justicia social ha asumido tarea itesificar lucha cotra privilegio bco a travs actos libera terror dirigi cotra cualquiera cualquier cosa cosirada racista recha fascista o recostruida tales eemigos l progreso so agredi fsicamete por mafia atifascista sus autos so icedia sus propiedas stadas sus empleadores ameaza co spi ruia e sus polica tiee madato carreras mietras retirarse o los litos cometi i procesar i castigar a los licuetes e vista esta idigaci se be spear ira l pblico be haber cmores e todas paes para que polica se sate esta mafia sea atacada hasta sumisi reaccioaria icorregible ivestigar o preguta a los liberal libearios los estpi por libead quiees seguramete objetar esta mada sobre base que a polica solicitada para apstar a mafia atifascista so policas estatales a tambi objeta usted por los mismos motivos que polica arreste a asesios o viodores o so estas tareas legtimas ejecutadas tambi e cualquier or libeario por polica prida si polica o be hacer ada co esta mafia o est bie etoces que objetivo sus ataques recha racista ba asumir tarea dar a los guerreros justicia social ua ariz esagretada favoreci simplemete siete apstar a los licuetes callejeros s badas al prescidir l pricipio igualdad ate le otorgar todo tipo privilegios grupales excepto al ico grupo cristi bcos casa sus familias s lites goberates tambi ha prescidido l pricipio igualdad castigo a igualdad lito alguos grupos favoreci por estado recibe u castigo ms leve por mismo lito que otros alguos grupos especialmete pue oquecer prcticamete quedar impues lo que hecho promueve e prctica lito ams se ha permitido que se cree reas prohibidas do esecialmete ha jado existir alg esfuerzo por hacer cumplir le do los matoes violetos s padils callejeras se ha hecho los amos e vista esto be provocarse furor pblico be exigirse si ig gero duda que polica tome medidas duras cotra cualquier dr atracador viodor asesio imie si piedad todas s reas prohibidas actuales badas violetas huga cir que esta poltica be ciega a los colores pero si suce como hecho lo hace que maora los licuetes callejeros o miembros padils so hombres jvees egros o tios o e europa jvees roes imigrates frica oriete medio los balcaes o europa l este etoces que as sea ese espcime humao bera que ms promietemete se esucie ariz o hace falta cir tambi que para ferse cotra crime a sea u crime callejero ordiario o actos terrorismo todas s prohibicioes cotra propiedad armas para los ciudad hora bera abolirse ocho shaceros to los parsitos gos asistecia social para cimetar su propia posici cse domiate ha puesto a cse baja e subsidio por lo tato ha coveido e fuete ms fiable apoo gete a pblico supuestamete para audar a letarse ascer cse baja para coveirse e persoas que se sostiee a s mismas efecto real realmete previsto lmada poltica social l estado es exactamete cotrario ha hecho que estatus subcse ua persoa sea ms permaete ha hecho que cse baja crezca costatemete co catidad asistetes sociales esto tambi terapeutas fiacia co impuestos asiga para audar apoar porque acuerdo co le ecomica iexorable cada subveci otorgada a causa ua supuesta ecesidad o ficiecia produce ms o meos l problema que se supoe que be aliviar o imiar por lo tato causa raz l estado cse iferior ua persoa su bajo cotrol sus impulsos su alta preferecia tiempo es cir su seo icotrodo gratificaci imediata s diversas maifestacioes asociadas esta causa como sempleo pobreza alcoholismo abuso drogas violecia divorcio los hogares ecabeza por mujeres los acimietos fuera l matrimoio los acompaates masculios rotativos abuso ifatil egligecia licuecia meor o se alivia i se imia promueve sistemticamete e lugar cotiuar expadir este sastre social cada vez ms atiesttico be abolirse se be exigir e voz alta que se tega e cueta exhoaci bblica que que pue pero o trabaja tampoco be comer que que realmete o pueda foalece sio que se trabajar bido a ficiecias metales o fsicas severas atedido por familia comuidad caridad volutaria ueve sacar al estado educaci maora si o todas s patologas sociales que pga al occite cotemporeo tiee su raz com e istituci educaci pblica cuado se diero los primeros pasos hace ms siglos e prusia para suplemetar fialmete reempzar u sistema educaci atiguo completamete prido co u sistema uiversal educaci pblica obligatoria tiempo pasado e s escues estatales e maora los casos o exceda los cuatro ho e todo mudo occital tiempo que se pasa e istitucioes educaci pblica es como mimo uos diez e muchos casos cada vez ms veite o icluso treita es cir ua gra pae o icluso maor pae l tiempo durate perodo ms formativo vida ua persoa se gasta e istitucioes fiaciadas por estado supervisadas por estado cuo propsito pricipal s pricipio o fue educar a u pblico ilustrado sio etrear a bueos solda bueos vidores pblicos o ipedietes maduros o mdige brger sio staats brger subordia viles resultado adoctriamieto ha fucioado cuato ms tiempo pasa ua persoa tro l sistema educaci pblica ms se compromete co s ias igualitarias izquierda se ha tragado e iteriorizado todo coraz doctria oficial ageda correcci poltica hecho especialmete etre los profesores profesores ciecias sociales s persoas que o se cueta a s mismas como pae izquierda prcticamete ha jado existir e cosecuecia se be exigir que cotrol s escues uiversidas se aleje l estado e ltima cetral e u primer mometo se vu a s autoridas regioales o mejor a local localmete fiaciadas se pritice completamete a fi reempzar u sistema uiformidad coformidad obligatorias co u sistema educaci scetralizada que refleje riaci atural multiplicidad diversidad los taletos e itereses hum istacia a coflictos iterpersoales diez o poer uestra cofiaza e poltica o los pai polticos as como o se pue esperar que acamia mudo acadmico juegue u pap sigificativo e ua estrategia libearia para cambio social tampoco e poltica los pai polticos spus todo objetivo ltimo l libearismo es poer fi a todas s polticas someter todas s recioes los procedimietos l recho prido civil si duda bajo s codicioes actuales totalmete politizadas o se pue evitar por completo ua paicipaci e poltica e poltica los pai si embargo e cualquier implicaci este tipo ha que mu cosciete protegerse cotra ifluecia corruptora l por atractivo l diero s vetajas que colle para miimizar este riesgo tetaci es acosejable cocetrar los esfuerzos e iv poltica regioal local e lugar e acioal promover ua ageda radical scetralizaci auci separaci pacfica segregaci secesi lo ms impoate si embargo es que bemos prestar ateci al lema vida ludwig vo mises o cer ate mal sio procer cada vez ms audazmete cotra l es cir bemos habr do sea cuado sea a sea e reuioes formales o iformales cotra cualquiera que os ofeda co este tipo toteras polticamete correctas e izquierdistas igualitarias e iequvocamete cir o o diablos bes estar bromeado mietras tato dado cotrol metal casi completo ejercido por s lites goberates mudo acadmico los pricipales medios comuicaci a se requiere ua buea is coraje para hacerlo pero si o somos lo suficietemete lietes como para hacerlo ahora por lo tato o establecemos u ejemplo para que otros lo siga s cosas cada vez peores ms pigrosas e futuro osotros civilizaci occital s ias occitales libead libead aiquidas saparecer madurado co murra cooc a murra rothbard e verao tea etoces murra tea durate los siguietes diez hasta muee prematura murra e estara asociado co murra primero e ciudad ue ork luego e s vegas e uiversidad eda s vegas ulv e cotacto ms cercao ms imediato directo que cualquier otra persoa excepto su esposa joe por supuesto al casi ta viejo como murra e mometo su muee me pareci apropiado aprovechar esta ocasi para habr reflexioar u poco sobre lo que apred durate mis diez co murra a era u adulto cuado cooc a murra o solo e setido biolgico sio tambi metal e itectualmete si embargo solo crec cuado estaba asociado co l quiero habr sobre esta experiecia ates coocer a murra a haba completado mi doctorado alcazado rago pritdozet profesor uiversitario titur o remuerado mismo rago por cieo que ludwig vo mises tuvo e viea apae mi erkee ud hal a haba tesis doctoral completado libros uo kritik r kausalwissescha liche sozialforschug que me rev como misesiao otro a puto publicarse e ao siguiete eigetum aarchie ud staat que me rev como rothbardiao a haba ledo todas s obras tericas mises rothbard si embargo a o haba ledo volumioso trabajo periodstico murra que e ese mometo o estaba dispoible para m por lo tato o fue mi ecuetro persoal co murra lo que me covii e misesiao rothbardiao itectualmete o a era misesiao rothbardiao ates coocer persoalmete a murra as a pesar l hecho que o sobre todo u terico o quiero habr aqu acerca l gra edificio itectual austro libeario que os ha trasmitido mises como sucesor rothbard o sobre mis pequeas cotribucioes a este sistema sio sobre mi rga experiecia persoal co murra sobre s leccioes prcticas existeciales que apred a travs mis ecuetros co l que me hiciero pasar u adulto a u hombre maor edad me mud a ciudad ue ork porque cosiraba a murra como ms gra to los tericos sociales cieamete l siglo xx posiblemete to los tiempos al igual que cosiraba a mises ms gra to los ecoomistas co mises sparecido s haca mucho tiempo fuera mi alcace quera reuirme coocer trabajar co este hombre rothbard toda sostego esta opii acerca graza mises rothbard hecho ho toda ms que hace s etoces o ha habido u segudo mises o rothbard i siquiera alguie cercao es posible que tegamos que esperar mucho tiempo para que esto suceda as que me mud a ue ork coociedo trabajo murra pero si saber casi ada sobre hombre recuer esto fue e toda estaba escribiedo a mao luego usado ua mquia escribir familiarizdome co ua computadora por primera vez solo durate ao siguiete e ulv murra uca us ua computadora sio que se qued co ua mquia escribir ctrica hasta fial su vida o haba tfoos cures i correos ectricos i iteret i google i wikipedia i outube al pricipio i siquiera exista los faxes mi correspocia co murra ates mi llegada a ue ork era por atiguo correo ormal murra expres su etusiasmo por mi seo reuirme co l trabajar co l se ofreci imediato a coseguir auda buo blume hecho bu fue gra auda para facilitar mi trasdo europa a los ee uu maravilloso bu blume dueo camio cois fudador l origial cetro estudios libearios que fialmete se fusioara co istituto mises fue uo los amigos cofites ms queri murra tambi fue u gra beefactor u gra amigo mo haba visto alguas fotos murra saba que l al igual que mises era judo que eseaba e istituto politcico brookl que luego fue rebautizado como uiversidad politcica ue ork actualmete es istituto politcico uiversidad ue ork que era editor l mu admirado joural of libear studies que estaba estrechamete asociado como director acadmico al istituto ludwig vo mises que lew rockwl haba fudado recietemete hace e eso era todo as ambos si estar prepara os coocimos e spacho murra e uiversidad ah estaba o rubio cool l oe por citar u aucio popur sobre uas cervezas l oe alemaia jve alto atltico algo isociable seco co u setido seco l humor ms u estilo cotute sarcstico cofrotativo perfecto material wehrmacht por as cirlo all estaba murra euico gra ciudad por usar ttulo alem comedia aie hall wood alle ua geeraci ms atigua bajo rechocho o atltico icluso torpe excepto para escribir sociable diveido uca primido sio siempre alegre e su vida persoal bastate al cotrario que e sus escritos siempre eemigo l icluso dcil o era efretamieto calmado e exactamete l tipo wehrmacht por tato e cuato a persoalidad o podamos ms diferetes hecho ramos ua pareja bastate extraa si embargo os camos bie s pricipio dada rga especial reci etre los alemaes los ju especialmete durate perodo l gobiero l paido acioalsocialista e alemaia o como u jove alem que se reua co u judo maor edad e esta ui tema que esta historia podra coveirse e ua fuete potecial tesi o lo fue todo lo cotrario sobre tema rigi e s hubo acuerdo geeral ambos ramos agsticos pero co u profudo iters por sociologa rigi putos vista bastate simires sobre rigi comparati si embargo murra profudiz e gra medida e mi compresi l pap rigi e historia a travs su gra trabajo metablemete icompleto durate ltima dcada su vida sobre historia l pesamieto ecomico ams e uestras iumerables coversacioes apred murra acerca impoacia complemetar teora austro libearia co historia revisioista para por obteer ua uaci verdaramete realista los acotecimietos histricos los asutos globales era o etoces como alguie que haba crecido e alemaia occital rrotada stada spus seguda guerra mudial co etoces toda historia oficial eseada e todas s escues uiversidas alemaas a setirse culpable avergozado historia alemaa alemaa b creer que esta ui capitalismo mocico estadouise era cosa ms gra s o icluso ates iveci l pa rebaado que tuvo que revisar a pesar to s teoras austro libearias sus opiioes etoces ms bie igeuas sobre los asutos l mudo e geeral historia esta ui alemaia e paicur hecho murra me hizo cambiar fudametalmete mi visi bastate optimista los esta ui a pesar vietam todo eso me aud por primera vez a setirme cosodo coteto e icluso fiz alem sarrolr ua preocupaci especial por alemaia stio l pueblo alem as que para mi sorpresa iicial e ltima istacia para mi gra agradable alivio murra era u auttico germafilo cooca apreciaba s cotribucioes alemaas a filosofa s matemticas ciecia igeiera historia acadmica literatura su querido maestro mises haba escrito origialmete e alem era u producto cultura alemaa a murra le ecataba msica alemaa le ecataba s iglesias barrocas alemaas le ecataba ambiete l jard cervecero bro tradici iglesia al jard cerveza su esposa joe era ascecia alemaa su aplido soltera era joa schumacher joe era miembro sociedad richard wager ua aficioada a pera toda vida ams maora los amigos murra que coocera co tiempo resultaro germafilos etre los ralph raico gra historiador l liberalismo clsico a quie esperaba ver uevo e esta ocasi pero que metablemete os ha jado para siempre hace casi u ao cooc a ralph solo uos meses spus mi llegada a ue ork e ua fiesta cebrada e apaameto murra e upper westsi imediatamete eted su custico sarcasmo co los sarrolmos ua estrecha amistad ams uestras muchas reuioes e rios evetos l istituto mises toda recuerdo co mucho cario uestros viajes cojutos prologa e oe italia especialmete cuado e ua coferecia e mil patrociada por alguos amigos u ece alguie que ua vez fue pero a o u secesioista liga oe alguos autoprocma qui lo habra adiviado maifestates atifascistas apareciero frete al hot coferecia para uciaros para uestra gra diversi como fascisti libeari ralph tambi fue quie me preset habl beca revisioista sobre primera guerra mudial seguda guerra mudial as como durate todo perodo etreguerras fue ralph quie me ese historia l liberalismo alem e paicur sus represetates liberales radicales l siglo xix que haba sido casi completamete olvida e alemaia cotemporea por cieo lew rockwl tambi mostr sus creciales germafis s pricipio cuado os coocimos por primera vez e ue ork e otoo coduca u merces luego se svi uos coduciedo ua camioeta fabricaci estadouise pero fialmete regres al pliegue coduciedo u mii cooper fabricado por bmw pero sobre todo fue murra quie me ese a o cofiar uca e historia oficial iriablemete escrita por los vecedores sio por cotrario a realizar toda ivestigaci histrica como u tective que ivestiga u crime siempre e primer lugar como primera aproximaci ha que seguir al diero e busca los motivos qui a gaar a sea e trmios diero biees races o por absoluto co esta medida o otra e maora los casos respor a esta preguta os ller directamete al mismo actor o grupo actores resposables medida o poltica e cuesti si embargo por ms secil que sea esta preguta los hechos cocretos respor es mucho ms difcil requiere ua ivestigaci ardua seterrar bajo ua gra coia humo retrica aparetemete bieitecioada propagada piaa los idicadores los flujos diero s gaacias bieestar para probar realmete u lito e itificar sacar a sus perpetradores murra fue u maestro e esto eso e u mometo e que o teas acceso a computadoras iteret mquias bsqueda como google para hacer trabajo este tective como apred murra se be ir ms all los documetos oficiales los msm los gras famosos ombres s estrs acadmicas s publicacioes prestigiosas e resume todo lo que todo mudo cosira respetable polticamete correcto tambi se be e paicur prestar ateci al trabajo forasteros extremistas margia es cir persoas irrespetuosas o plorables publicacioes oscuras que se supoe que bes igorar o que i siquiera cooces hasta este da he prestado ateci hecho he disfrutado siguiedo este cosejo cualquier persoa que pudiera ver mi lista marcadores los sitios web visita co frecuecia se sorprera cualquier creador o izquierdista e paicur se sorprera tembra sagrado co esta perspecti geeral perspecti s cosas a los revisioistas como murra o mismo os acusa regur sosamete tericos cospiraci ate esta acusaci murra respora ormalmete primero expresado maera fraca sarcstica icluso si uo fuera u paraoico ceificado esto o pue tomarse como prueba que adie a realmete cotra ti tu diero segudo ms so meos sistemticamete probables por supuesto cuato maor sea mero supuestos cospiradores ams es igeuo asumir cospiracioes s los social icluso cotradictorias es cir existecia solo ua gra cospiraci que abarca todo que est dirigida por u grupo cospiradores todoporosos pero s cospiracioes a meudo riles o itetos coficiales rios grupos persoas que acta cosuo e bsqueda cieo objetivo com so hecho ua caracterstica siempre presete realidad tales cospiracioes pue teer xito o pue falr pue ller a cosecuecias que los cospiradores o pretediero pero habdo maera realista maora si o to los evetos histricos so ms o meos exactamete lo que alguas persoas o grupos persoas cocieo itificables que acta e prete que sea hecho asumir lo cotrario es supoer icreblemete que historia o es ms que ua secuecia accites iitigibles cualquier acci como ams al aprer murra sobre ecesidad complemetar teora austro libearia co historia revisioista para obteer ua image completa realista los asutos mudiales mud tambi recib ua l capacitaci costate e ae l juicio prute juicioso loraci persoas accioes evetos teora pura os permite hacer juicios bastate cros cieo o falso correcto o icorrecto eficaz coducete a meta pretedida o ieficaz pero muchas si o maora s accioes evetos que provoca o sata uestros juicios o etra e categora asutos que pue uarse as estamos roa o mejor a circuda por ua cse persoas polticos agetes estatales que da tras da toma aplica cisioes que impacta afecta sistemticamete a uestra propiedad e cosecuecia toda uestra coducta e vida si uestro cosetimieto e icluso cotra uestra protesta explcita e resume os efretamos a ua lite goberates e lugar por cotrario ua lite icalcubles e juicio se refiere a uaci comparati agetes efreta co los polticos s cisioes polticas etoces uestro uaci e mejor los casos segudas mejores opcioes preguta o es ciea o falsa correcta o icorrecta eficaz o ieficaz ms bie es esta dado que s cisioes polticas so por s falsas erreas e ieficaces cul estas cisioes es meos falsa icorrecta eficaz comparatimete ms cercaa a verdad lo correcto lo bueo qu persoa represeta u mal meor o maor que otra esas pregutas o permite ua respuesta cietfica porque respors iumerables implica riables icomesurables e cualquier caso los hechos reci scubieos sobre pasado o evoluci futura pue rever cualquier juicio como erreo pero respuesta tampoco es arbitraria lo que es verdaro correcto efectivo est dado como putos fijos be proporcioarse razoes a sea basadas e evicia lgica o emprica para ubicar s diversas segudas mejores opcioes como ms cerc o ms distates a tales putos ms bie toma cisioes e asutos como estos es u ae difcil al igual que espritu empresarial o es ua ciecia sio u ae e igual que alguas persoas so bueas otras mas e empredimieto empresarial algo que se idica s por perdidas o gaacias moetarias alguas persoas so bueas juzgado los acotecimietos actores polticos otras mas gaado o perdiedo reputaci jueces sabios prutes murra por supuesto o era ifalible e sus juicios por ejemplo a fies dcada pricipios dcada juzg mal postura atibicista ue izquierda creedo que tea ms pricipios los que realmete tea algo que hecho l mismo recooci como u error coozco al meos u caso ms bie persoal do juicio joe fue mejor ms aceado que suo si embargo o me parece que o haa ecotrado a adie co u juicio ms sesato cosecuetemete justificado que murra co esto quiero pasar a seguda lecci impoate que apred durate mi rga asociaci co murra mietras que primera lecci sobre revisioismo se refera a cuestioes prctica mtodo seguda lecci se refera a cuestioes existeciales fracotirador ates coocer a murra saba por supuesto que era u radical e ua acamia predomiatemete liberal izquierdista esperaba estaba dispuesto a aceptar para m mismo que esto implicara alguos sacrificios es cir que uo ba pagar u precio por u rothbardiao o solo pero tambi e trmios diero pero me sorpredi bastate darme cueta cu alto era este precio saba que politcico brookl o era ua uiversidad prestigiosa pero esperaba que murra ocupara u puesto cmodo bie pagado por otra pae e ese mometo toda crea que los esta ui era u basti u baluae libre empresa e cosecuecia esperaba que murra como pricipal fesor itectual l capitalismo attesis persoal marx tuviera ua alta estima si o e mudo acadmico por supuesto al meos fuera l e mudo l comercio los egocios por cosiguiete recompesado co u cieo grado riqueza hecho e politcico brookl murra ocupaba ua oficia pequea sucia si vetaas que tea que compair co u profesor historia e alemaia ivestigaci disfrutaba u etoro ms cmodo por o habr los los profesores profesores co sarios ms bajos e su escue hecho mi beca fudaci acioal ciecias titures murra estaba etre los asistetes icluso cosirablemete ms alta que alemaia e ese mometo ua beca heiseberg result sario uiversitario murra algo que me avergozaba masiado reverle ua vez lo scubr apaameto murra e mahatta gra lleo libros hasta techo estaba oscuro teriorado cieamete ada como tico que haba imagiado que ocupara esta situaci mejor sigificatimete co su mudaza e a los a s vegas ulv mietras que mi sario bajaba all e comparaci co mis igresos ateriores murra subi bruscamete pero a estaba por bajo los se pudo comprar ua casa espaciosa pero espaaa si embargo icluso como titur ua ctedra dotada e ulv murra o tea al mado a ig audate ivestigaci i a u secretario persoal si embargo murra uca se quej i mostr amargura i sigos evidia sio que siempre se actu co alegra sigui ate co sus escritos fue ua lecci dura aprer toda tego dificultas para seguir a veces ua propuesta joe murra ua vez me dijero rie que cuado a estaba saliedo ambos esperaba que otro fuera u bue paido joe porque murra era judo murra porque joe era getil solo para scubrir que ambos estaba equivoca e sus expectatis ams a pesar sus gras logros como fesor itectual l capitalismo libre mercado murra uca ga premios recoocimietos i hoores los que habr por supuesto o ga u premio ob ecooma spus todo gra mises tampoco lo ga pero solo e los ee uu exista doceas istitucioes fudacioes asociacioes empresariales cetros ivestigaci expeos grupos uiversidas que profesaba su dicaci al libre mercado libead iguo los le otorg a murra ig premio impoate o premio hoorfico al mismo tiempo que cubra co diero premios a persoas que haba hecho poco ms que sugerir atrevidamete algua reforma icremetal como digamos reducir tasa impositi margial l al o reducci l presupuesto epa e alguos putos porcetuales o quiees simplemete haba expresado su amor persoal por libead libre empresa lo suficietemete fuee efticamete ada esto scoce a murra e lo ms mimo hecho o esperaba ada ms por razoes que o a tea que aprer murra se daba cueta a a tea que aprer que rechazo oposici ms feroces vociferates al austro libearismo o provedra izquierda socialista tradicioal sio estos autoprocma atisocialistas gobiero limitado estado mimo pro empresa prida pro libead sus poavoces itectuales sobre todo lo que se cooce los libearios l btwa simplemete o como pudiero sopoar hecho que murra haba mostrado co lgica la que sus doctrias o era ms que icosistetes trampas e busca apusos itectuales que era to tambi para usar veredicto mises co respecto a milto friedma su compaa ua pada socialistas a pesar sus protestas vehemetes e como argumetaba murra ua vez que se admite existecia u estado cualquier estado fiido como moopolista territorial toma cisioes fiiti e to los casos coflicto iclui los coflictos que ivolucra al propio estado etoces toda propiedad prida se ha abolido e prctica auque siga siedo cotra porque forma provisioal qua garata estatal omialmete prida e cambio se ha reempzado por u sistema colectivo o ms bie propiedad estatal estado cualquier estado sigifica socialismo fiido como propiedad colecti los factores producci istituci u estado es praxeolgicamete icompatible co propiedad prida empresa basada e propiedad prida es mismsima tesis propiedad prida cualquier fesor propiedad prida empresa prida be por lgica u aarquista e este setido como e muchos otros murra o estaba dispuesto al compromiso o a itrasigir como dira sus tractores porque e teora e pesamieto compromiso es iadmisible e vida cotidiaa compromiso es ua caracterstica permaete ubicua por supuesto pero e teora compromiso es pecado fial u estricto absoluto o o o est permitido por ejemplo comprometer etre s proposicioes icompatibles que o que aceptar que es cada proposici o es ciea o es falsa o pue haber u ecuetro medio etre verdad falsedad aqu co respecto al radicalismo itrasigete murra parece apropiada ua pequea acdota cotada por ralph raico citado a ralph murra era alguie especial recooc ese hecho primera oche que lo cooc fue spus l semiario mises u amigo mo o habamos sido ivita a asistir luego murra sugiri que tomramos u caf charlramos mi amigo o estbamos slumbra por gra mises murra aturalmete se alegr ver uestro etusiasmo os asegur que mises era como mimo maor ecoomista l siglo si o toda historia l pesamieto ecomico si embargo e lo que se refiere a poltica murra dijo bajado voz maera coceada bueo cuado se trata poltica alguos osotros cosiramos a mises u miembro izquierda o comuista s fue fcil ver que habamos coocido a alguie mu especial tales realizar a diferecia murra bastates idividuos que aprediero esecialmete todo lo que saba murra e paicur su hombre ecooma estado compromisos estaba dispuestos a itectuales fuero recompesa ricamete por su flexibilidad itectual toleracia pero murra o era as e cosecuecia fue sigue siedo igorado excluido o uciado por s autoridas idustria limitado qued esecialmete si ig apoo istitucioal como u lero solitario hasta aparici lew rockwl istituto mises libre mercado l gobiero experimet esta rothbardfobia seguda mao por as cirlo ta proto como se supo que reci llegado alem era chico murra tambi pareca bastate itrasigete me ecotr imediatamete e s mismas listas egras que l as que rpidamete apred ua primera lecci impoate vida real lo que sigifica u rothbardiao otra lecci fue e humildad murra tea ua ledo digerido ua gra eorme biblioteca haba catidad literatura por cosiguiete era u hombre humil siempre fue reacio mu escptico a asumir o recoocer cualquier recmaci origialidad saba que s afirmacioes origialidad est hechas co maor frecuecia por persoas co bibliotecas pequeas poca lectura e cro cotraste murra fue mu geeroso e recoocer a los ms fue igualmete geeroso al acosejar a cualquiera que pregutara hecho e casi cualquier tema cocebible estaba listo e lo alto su cabeza para proporcioar ua extesa bibliografa ams aletaba cualquier seal productividad icluso etre sus estudiates ms humils si bie siempre itet seguir este ejemplo o pu llegar ta lejos como lo hizo murra porque pes sigo creedo que humildad murra era excesi que era humil casi por completo sus estudiates e politcico brookl por ejemplo e su maora estudiates igeiera o como murra scribi a los estudiates mises e u estudiates empaque o tea ia qui era porque uca mecio sus propios trabajos quedaro realmete sorpredi al saber por m qui era su alegre profesor cuado le sustitu e cse mietras estaba fuera ciudad e ulv situaci o era mu diferete mietras lo promo actimete como su agete recioes pblicas murra su autosprecio a pesar que haba escrito sobre casi cualquier tema imagiable e s ciecias sociales al sugerir o asigar trabajos fiales a sus estudiates solo mecioara sus propios escritos e todo caso como ua especie ocurrecia o por solicitud especfica cotiuaba co si embargo extrema mostia murra tambi tuvo otro efecto safouado cuado os mudamos a s vegas e esperbamos coveir a ulv e u basti ecooma austriaca e ese mometo equipo balocesto ulv los rui rebs bajo mado l etreador jerr tarkaia era ua potecia acioal siempre algo escadalosa pero imposible pasar por alto esperbamos coveiros e los rui rebs ecooma e ulv se haba trasferido rios estudiates se haba matricudo e uiversidad e previsi esa evoluci pero estas esperazas sapareciero rpidamete a a uestra llegada a ulv composici l paameto ecooma haba cambiado sigificatimete luego oper orma maora mocracia para equilibrar ifluecia austriaca solo u ao spus maora paametal cidi cotra uestra oposici cotratar a u marxista si prestigio le ped a murra que usara su posici reputaci para iterferir co los altos ma uiversidad evitar este ombramieto a excepci jerr tarkaia murra fue ica persoa recoocida a iv acioal e ulv ocup ica uiversidad coocamos ctedra dotada socialmete al presite al director uiversidad estbamos e trmios cordiales co ambos e cosecuecia crea que haba ua posibilidad realista revocar cisi l paameto pero o pu covecer a murra sus propios pores spus esta opouidad perdida s cosas empeoraro paameto cotiu cotratado a cualquiera que o fuera austriaco o simpatizate austriaco uestros estudiates fuero maltrata discrimia paameto cao escue egocios me egaro permaecia e cargo cisi que fue rechazada por rector presite uiversidad sobre todo por s protestas estudiatiles rios doates iterveci masis uiversitarios presite l paameto escribi ua uaci aual escadalosa sagradable e isultate sobre actuaci docete murra sobre cual admiistraci uiversidad oblig a este presite a reuciar a su cargo como cosecuecia surgi ua seguda opouidad para que cambisemos s cosas se sarrolro pes se discutiero co rector para dividir paameto establecer u paameto ecooma separado e colegio aes liberales esta vez murra se ivolucr pero impulso iicial para uestra vetaja se haba perdido mietras tato spus s primeras seales resistecia murra rpidamete reuci se ridi o estaba dispuesto a quitarse proecto secesioista proto se covii e ua rrota los guates uestro que suger hipotticamete para acabar rpidamete co uestra saga ulv spus muee murra e cotiu trabajado e ulv durate otra dcada e u etoro cada vez ms hostil ua vez cambi admiistraci protectora uiversidad me set cada vez meos apreciado fuera lugar icluso mi gra popuridad etre los estudiates fue usada e mi cotra como prueba l pigro que emaaba mi eseaza e me vi evuto e u escdalo e ua los coferecia homosexuales e promedio bido a su carecia caracterstica hijos tea u grado comparatimete maor preferecia temporal es cir orietaci al presete u estudiate llor se quej comisario acci admiistrati uiversidad imediatamete como si solo hubiera esperado esta opouidad iici u procedimieto oficial cotra m ameazado co severas medidas puitis si o me retractaba al istate pblicamete me disculpaba itrasigete como era me egu a hacerlo esto seguro que fue solo mi costate rechazo a pedir perd lo que spus todo u ao hostigamieto admiistrativo hizo que al fial saliera victorioso esta batal co polica l pesamieto admiistraci uiversidad sufri ua vergozosa rrota u ao ms tar reuci a mi cargo ulv los esta ui para siempre volviedo a murra aturalmete me cepcioaro los acotecimietos e ulv pero o tuviero meor efecto sobre uestra cooperaci cotiua tal vez murra tea raz fue ms realista todo tiempo era o qui sufra masiado optimismo juveil e cualquier caso hubo ua lecci ms impoate sobre esquema ms amplio cosas que a tea que aprer libre mercado etre mietras que maora s persoas tie a volverse ms tibias ms tolerates e sus putos vista a medida que evejece murra se volvi cada vez ms radical meos tolerate co tiempo o e su trato persoal como a subra e este setido murra fue se matuvo hasta fial como tempdo meos e sus discursos escritos radicalizaci aumeto itrasigecia viiero e respuesta a evoluci e mudo poltica los esta ui e idustria l geeral e paicur tro mercado los limitado l lma libearios reui e toro a carretera circuci washigto dc los btwa aqu e todas paes se poda obr ua ri leta pero sistemtica hacia izquierda s ias izquierdistas ua ri que s etoces hasta da ho o ha hecho ms que gaar impulso fuerza poco a poco se scubra adoptaba uevos rechos e paicur tambi por los lma libearios rechos hum rechos civiles rechos s los homosexuales mujeres rechos recho a o discrimiado recho a imigraci libre si restriccioes recho a u almuerzo gratuito ateci salud gratuita recho a estar libre discursos pesamietos sagradables murra moli todo este alegato humaitario o para usar u trmio alem esta char gutmesche como basura itectual al mostrar que iguo estos supuestos rechos era compatible co los rechos propiedad prida que como be saber sobre todo los libearios solo los rechos propiedad prida es cir recho toda persoa e posesi su cuerpo fsico los objetos exteros adquiri propiedad to rechos pacficamete maera justa pue ferse argumetatimete hum como uiversales compatibles por tato murra mostraba ua otra vez que excepto los rechos propiedad falsos o prida uiversalizables todo lmado a rechos hum distitos los rechos propiedad prida est motido e ltima istacia por igualitarismo como tal represeta ua revuta cotra aturaleza humaa so rechos to los los ial libearios ams murra se spz a ms a recha acuerdo co dictame erik vo kuehdt leddih que lo correcto es recha al sear que para establecer mateer fer u or social libeario hace falta ms que mera adhesi al pricipio o izquierda o agresi modales como los lmaba murra vive ja vivir mietras o agredas a adie suea atractivo para los adolescetes e rebda cotra autoridad patera cualquier coveci cotrol social pue suficiete para s persoas que vive lejos que se trata comercia etre s maera idirecta remota pero es cididamete isuficiete cuado se trata persoas que vive mu cerca uas otras como vecios cohabitates misma comuidad covivecia pacfica etre vecios etre persoas e cotacto directo regur etre s e alg territorio requiere tambi u carcter com cultura idioma rigi costumbre coveci pue existir coexistecia pacfica diferetes culturas e territorios distates multiculturalismo heterogeeidad cultural o pue existir e mismo lugar territorio si dar lugar a ua dismiuci cofiaza social u aumeto l coflicto e ltima istacia strucci cualquier cosa que se parezca a u or social libeario fsicamete separa pero si murra haba sido igorado scuidado o atacado ates por los sospechosos habituales etoces co esta postura e cotra todo lo que se cosira polticamete correcto fue atacado se ecotr co u odio o disimudo a estas alturas solo le segua ua letaa masiado familiar trmios uciadores murra era reaccioario racista sexista autoritario itista xefobo fascista para colmo u egosta judo azi que se odiaba a s mismo murra se ecoga hombros hecho se rea eso hecho para costeraci bada difamaci como lmaba murra al frete popur uido sus tractores atifascistas su ifluecia o ha hecho ms que crecer ha seguido creciedo a ms s su muee pue que o sea ampliamete recoocido pero si murra o habra u ro paul como lo coocemos lo digo si sear que dismiua o se meosprecie e lo ms mimo pap persoal ro logros extraordiarios o habra ig paul sus movimieto ro paul o habra ua ageda libearia populista o popur como sue preferir cir bada difamaci e cuato a m mis opiioes tambi se radicalizaro juto co s murra mi mocracia dios que fracas fue primera documetaci impoate esta evoluci itectual e todo caso mi itoleracia radical co respecto a todo lo que es libeario izquierdas polticamete correcto ha estado creciedo s etoces casi o hace falta cir que o tambi he recibido mismo e icluso alguos ttulos hoorarios extra como murra excepto l odio l judo a s mismo si embargo tambi he apredido a ecogerme hombros como haba visto hacer a murra como ralph cotiu acosejdome ams me aud recordar u dicho siempre me alet raico popur alem vi feid vi ehr hecho xito cotiuo mi sal coferecias aual sociedad propiedad libead ahora e su ao se cebr se llev a cabo co u espritu geuiamete rothbardiao ha mostrado fracaso total todas s campaas difamaci dirigidas cotra m e todo caso me ha audado e lugar impedirme que atrajera a u crculo cada vez ms gra amigos itectuales afilia seguidores bo agregar que durate ltima dcada ms o meos bajo sabia estricta gua mi ecatadora esposa gli tambi he logrado gras aces e combiaci l radicalismo itectual si compromisos co amabilidad persoal auque mi aturaleza disposici atural me ha impedido acercarme a murra e este setido he dicho masiado poco aqu acerca lew me disculpo siceramete pero bo cir esto lew apae murra ha sido ua s persoas ms impoates que me ha audado a coveirme e hombre que so ho a murra quie esto seguro que os est obdo ho s lo alto le digo gracias murra eres mi hroe o volver a verlo igual espero que est coteto co su alumo siempre set ua tremeda alegra cuado me dijiste gra has bravo e icluso si o pudiera escuchae e este mometo ada me dara maor pcer que si lo dijeras otra vez ahora mismo do est reui los rees l pesamieto dice itroducci u libearismo realista mocracia scivilizaci bsqueda ua ue cotracultura libearismo alt right e busca ua estrategia libearia para cambio social madurado co murra\n"
          ]
        },
        {
          "output_type": "stream",
          "name": "stderr",
          "text": [
            "[nltk_data] Downloading package stopwords to /root/nltk_data...\n",
            "[nltk_data]   Package stopwords is already up-to-date!\n"
          ]
        }
      ]
    },
    {
      "cell_type": "markdown",
      "source": [
        "#Todo el proceso de tratamiento de datos sobre R"
      ],
      "metadata": {
        "id": "o-WouKFyIqMI"
      }
    },
    {
      "cell_type": "code",
      "source": [
        "from pdfminer.high_level import extract_text\n",
        "import rpy2.robjects as robjects\n",
        "from rpy2.robjects import pandas2ri\n",
        "\n",
        "# Configurar la conversión automática de objetos de pandas a R\n",
        "pandas2ri.activate()\n"
      ],
      "metadata": {
        "id": "VWhJBMl5b_3j"
      },
      "execution_count": null,
      "outputs": []
    },
    {
      "cell_type": "code",
      "source": [
        "# Crear una instancia de R\n",
        "r = robjects.r\n",
        "\n",
        "# Transferir la variable text a R\n",
        "r.assign('lobror', libro)"
      ],
      "metadata": {
        "colab": {
          "base_uri": "https://localhost:8080/",
          "height": 57
        },
        "id": "d9KiICKKcCDu",
        "outputId": "27c73ac6-d265-45eb-b60f-f68d70131d65"
      },
      "execution_count": null,
      "outputs": [
        {
          "output_type": "execute_result",
          "data": {
            "text/plain": [
              "<rpy2.robjects.vectors.StrVector object at 0x7f66838cad00> [RTYPES.STRSXP]\n",
              "R classes: ('character',)\n",
              "['Entendiendo \\ncorrectamente el \\nlibertarismo \\n...]"
            ],
            "text/html": [
              "\n",
              "        <span>StrVector with 1 elements.</span>\n",
              "        <table>\n",
              "        <tbody>\n",
              "          <tr>\n",
              "          \n",
              "            <td>\n",
              "            'Entendiendo \\ncorrectamente el \\nlibertarismo \\n...\n",
              "            </td>\n",
              "          \n",
              "          </tr>\n",
              "        </tbody>\n",
              "        </table>\n",
              "        "
            ]
          },
          "metadata": {},
          "execution_count": 31
        }
      ]
    },
    {
      "cell_type": "markdown",
      "source": [
        "#Twitter sore R"
      ],
      "metadata": {
        "id": "r42o1EpjH8NN"
      }
    },
    {
      "cell_type": "code",
      "source": [
        "%%R\n",
        "\n",
        "setup_twitter_oauth(\"6gMch1lkCfn3W5PZho3X4jh8W\",#api key\n",
        "                    \"eBosfeWmQVBLQ87WiVMaRXousYRdyOkyhLkvCUzw7ioz0EMCWY\",#api secret key\n",
        "                    \"284827529-UENNMA2jVHCRBYwcddd6obAAZvaJ0hUVSapYYmwZ\",#acces token\n",
        "                    \"sb1fgjDG9CSugsU5qsWJWkBOvP91FxJmcm7hKCyajrndT\")#acces token secret"
      ],
      "metadata": {
        "colab": {
          "base_uri": "https://localhost:8080/"
        },
        "id": "HOuTz4DZAelH",
        "outputId": "3a6d3fd8-b87d-4c09-f24d-7242564ec547"
      },
      "execution_count": null,
      "outputs": [
        {
          "output_type": "stream",
          "name": "stdout",
          "text": [
            "[1] \"Using direct authentication\"\n"
          ]
        }
      ]
    },
    {
      "cell_type": "code",
      "source": [
        "%%R\n",
        "\n",
        "a<- searchTwitter(\"Nike\", n=50)\n",
        "a[1:10]"
      ],
      "metadata": {
        "colab": {
          "base_uri": "https://localhost:8080/"
        },
        "id": "mrua0yWRDrq3",
        "outputId": "5b4dadc8-22c4-4e3c-f028-d68b50c58485"
      },
      "execution_count": null,
      "outputs": [
        {
          "output_type": "stream",
          "name": "stdout",
          "text": [
            "[[1]]\n",
            "[1] \"Tweets_n_Nike: RT @BrandonHonaker1: In 15 NBA Finals games during the Lakers three-peat, Shaq scored under 30 points once. This was game 2 against Philade…\"\n",
            "\n",
            "[[2]]\n",
            "[1] \"kanawa799333643: Nike SNKRSでチェック：https://t.co/vOSVhrraHb\"\n",
            "\n",
            "[[3]]\n",
            "[1] \"eki_nike: 面倒くさくて後回しにしてた仕事をやろうと思って資料を見たらおおむね出来てるんだよね。誰?妖精!?って思ったけどたぶん自分でやって忘れてるんだよなあ。頭の老化がヤバいけどとりあえずヨシ!👉\"\n",
            "\n",
            "[[4]]\n",
            "[1] \"Moonman989: RT @key2ursole: If the shoe fits, buy it or w.e they said 🥴😂\\U{01faf6}🏼\\n\\n👟: #UNDS Nike Air Trainer 1 “Honeydew” 🍈\\nAbsolutely love this pair 😩 I love…\"\n",
            "\n",
            "[[5]]\n",
            "[1] \"hayaltemrini_: RT @TheTennisLetter: “Crazy dreams take crazy effort.”\\n\\nA look at Rafa Nadal’s journey from teenager to legend.\\n\\nAlthough he’s not 100% cer…\"\n",
            "\n",
            "[[6]]\n",
            "[1] \"saechow_snkrs: RT @snkr_twitr: AD: WMNS Nike Cortez 23 ‘Triple Black’ drops tomorrow at 7am PT/10am ET\\n\\nSNKRS US -&gt; https://t.co/NfPSbhYCzo\\n\\nLive now on M…\"\n",
            "\n",
            "[[7]]\n",
            "[1] \"nike_6l: RT @lemonpie0720: こんなおぱんちゅうさぎな事あるんか https://t.co/A7GqvptTVI\"\n",
            "\n",
            "[[8]]\n",
            "[1] \"JavierC64188897: RT @BolsaGeneral: 🔴Este ACTIVO es muy 📈 Directo Consultorio de bolsa Capital Radio📻martes 16 de mayo David Galán\\n▶Análisis del Ibex, Dax, D…\"\n",
            "\n",
            "[[9]]\n",
            "[1] \"1similac: RT @iam_johnw: Ja morant losing a Nike shoe deal because he flashed a gun for a second time on his friends Instagram live that had less tha…\"\n",
            "\n",
            "[[10]]\n",
            "[1] \"_obviousone: RT @DroGueDeLui: NIKE 💓 https://t.co/ZZGR78yIDW\"\n",
            "\n"
          ]
        }
      ]
    },
    {
      "cell_type": "code",
      "source": [
        "%%R\n",
        "\n",
        "nike=twListToDF(a)"
      ],
      "metadata": {
        "id": "Oh_SCEzMD0mS"
      },
      "execution_count": null,
      "outputs": []
    },
    {
      "cell_type": "code",
      "source": [
        "%%R\n",
        "\n",
        "nike %>% head()"
      ],
      "metadata": {
        "id": "Jsn6mtVhHihc",
        "colab": {
          "base_uri": "https://localhost:8080/"
        },
        "outputId": "d606c32f-22ce-47de-c1a8-11b66e7d8a5c"
      },
      "execution_count": null,
      "outputs": [
        {
          "output_type": "stream",
          "name": "stdout",
          "text": [
            "                                                                                                                                                                                    text\n",
            "1                                           RT @BrandonHonaker1: In 15 NBA Finals games during the Lakers three-peat, Shaq scored under 30 points once. This was game 2 against Philade…\n",
            "2                                                                                                                                          Nike SNKRSでチェック：https://t.co/vOSVhrraHb\n",
            "3 面倒くさくて後回しにしてた仕事をやろうと思って資料を見たらおおむね出来てるんだよね。誰?妖精!?って思ったけどたぶん自分でやって忘れてるんだよなあ。頭の老化がヤバいけどとりあえずヨシ!👉\n",
            "4                         RT @key2ursole: If the shoe fits, buy it or w.e they said 🥴😂\\U{01faf6}🏼\\n\\n👟: #UNDS Nike Air Trainer 1 “Honeydew” 🍈\\nAbsolutely love this pair 😩 I love…\n",
            "5                                       RT @TheTennisLetter: “Crazy dreams take crazy effort.”\\n\\nA look at Rafa Nadal’s journey from teenager to legend.\\n\\nAlthough he’s not 100% cer…\n",
            "6                                    RT @snkr_twitr: AD: WMNS Nike Cortez 23 ‘Triple Black’ drops tomorrow at 7am PT/10am ET\\n\\nSNKRS US -&gt; https://t.co/NfPSbhYCzo\\n\\nLive now on M…\n",
            "  favorited favoriteCount replyToSN             created truncated replyToSID\n",
            "1     FALSE             0      <NA> 2023-05-18 23:02:41     FALSE       <NA>\n",
            "2     FALSE             0      <NA> 2023-05-18 23:02:36     FALSE       <NA>\n",
            "3     FALSE             0      <NA> 2023-05-18 23:02:36     FALSE       <NA>\n",
            "4     FALSE             0      <NA> 2023-05-18 23:02:32     FALSE       <NA>\n",
            "5     FALSE             0      <NA> 2023-05-18 23:02:30     FALSE       <NA>\n",
            "6     FALSE             0      <NA> 2023-05-18 23:02:30     FALSE       <NA>\n",
            "                   id replyToUID\n",
            "1 1659333715070255111       <NA>\n",
            "2 1659333695168471040       <NA>\n",
            "3 1659333693171986432       <NA>\n",
            "4 1659333678676279298       <NA>\n",
            "5 1659333669654233093       <NA>\n",
            "6 1659333667892891648       <NA>\n",
            "                                                                          statusSource\n",
            "1   <a href=\"http://twitter.com/download/iphone\" rel=\"nofollow\">Twitter for iPhone</a>\n",
            "2 <a href=\"http://twitter.com/download/android\" rel=\"nofollow\">Twitter for Android</a>\n",
            "3              <a href=\"https://mobile.twitter.com\" rel=\"nofollow\">Twitter Web App</a>\n",
            "4   <a href=\"http://twitter.com/download/iphone\" rel=\"nofollow\">Twitter for iPhone</a>\n",
            "5 <a href=\"http://twitter.com/download/android\" rel=\"nofollow\">Twitter for Android</a>\n",
            "6   <a href=\"http://twitter.com/download/iphone\" rel=\"nofollow\">Twitter for iPhone</a>\n",
            "       screenName retweetCount isRetweet retweeted longitude latitude\n",
            "1   Tweets_n_Nike            5      TRUE     FALSE        NA       NA\n",
            "2 kanawa799333643            0     FALSE     FALSE        NA       NA\n",
            "3        eki_nike            0     FALSE     FALSE        NA       NA\n",
            "4      Moonman989            6      TRUE     FALSE        NA       NA\n",
            "5   hayaltemrini_          168      TRUE     FALSE        NA       NA\n",
            "6   saechow_snkrs            1      TRUE     FALSE        NA       NA\n"
          ]
        }
      ]
    },
    {
      "cell_type": "markdown",
      "source": [
        "Ahora usando rtweet"
      ],
      "metadata": {
        "id": "QDJWjBh1EJMJ"
      }
    },
    {
      "cell_type": "code",
      "source": [
        "%%R\n",
        "\n",
        "create_token(app=\"Clase_big_data\",\n",
        "             consumer_key = \"6gMch1lkCfn3W5PZho3X4jh8W\",#api key\n",
        "             consumer_secret = \"eBosfeWmQVBLQ87WiVMaRXousYRdyOkyhLkvCUzw7ioz0EMCWY\",#api secret key\n",
        "             access_token =\"284827529-UENNMA2jVHCRBYwcddd6obAAZvaJ0hUVSapYYmwZ\",#acces token\n",
        "             access_secret =\"sb1fgjDG9CSugsU5qsWJWkBOvP91FxJmcm7hKCyajrndT\")#acces token secret"
      ],
      "metadata": {
        "id": "VLZBonKFEINv",
        "colab": {
          "base_uri": "https://localhost:8080/"
        },
        "outputId": "37adc679-7556-4dcd-f98d-95dd73691d93"
      },
      "execution_count": null,
      "outputs": [
        {
          "output_type": "stream",
          "name": "stdout",
          "text": [
            "Saving auth to '/root/.config/R/rtweet/create_token.rds'\n"
          ]
        }
      ]
    },
    {
      "cell_type": "code",
      "source": [
        "%%R\n",
        "\n",
        "Elon <- get_timeline(user = \"@elonmusk\", n = 200, parse = TRUE, check = FALSE)"
      ],
      "metadata": {
        "id": "PmM-3v86EUhF"
      },
      "execution_count": null,
      "outputs": []
    },
    {
      "cell_type": "code",
      "source": [
        "%%R \n",
        "\n",
        "Elon %>% head()"
      ],
      "metadata": {
        "id": "0fAymKY1IG8x",
        "colab": {
          "base_uri": "https://localhost:8080/"
        },
        "outputId": "98be93b2-008d-4730-d226-12057e73c90f"
      },
      "execution_count": null,
      "outputs": [
        {
          "output_type": "stream",
          "name": "stdout",
          "text": [
            "# A tibble: 6 × 43\n",
            "  created_at               id id_str      text  full_text truncated entities    \n",
            "  <dttm>                <dbl> <chr>       <chr> <chr>     <lgl>     <list>      \n",
            "1 2023-05-18 22:59:06 1.66e18 1659332812… \"@eh… \"@ehikia… FALSE     <named list>\n",
            "2 2023-05-18 21:48:35 1.66e18 1659315068… \"@Sc… \"@Scoble… FALSE     <named list>\n",
            "3 2023-05-18 21:46:35 1.66e18 1659314565… \"@Ev… \"@EvaFox… FALSE     <named list>\n",
            "4 2023-05-18 21:32:25 1.66e18 1659310997… \"@kr… \"@krasse… FALSE     <named list>\n",
            "5 2023-05-18 21:26:39 1.66e18 1659309549… \"@im… \"@imjdsh… FALSE     <named list>\n",
            "6 2023-05-18 21:25:17 1.66e18 1659309205… \"RT … \"RT @Sta… FALSE     <named list>\n",
            "# ℹ 36 more variables: source <chr>, in_reply_to_status_id <dbl>,\n",
            "#   in_reply_to_status_id_str <chr>, in_reply_to_user_id <dbl>,\n",
            "#   in_reply_to_user_id_str <chr>, in_reply_to_screen_name <chr>, geo <list>,\n",
            "#   coordinates <list>, place <list>, contributors <lgl>,\n",
            "#   is_quote_status <lgl>, retweet_count <int>, favorite_count <int>,\n",
            "#   favorited <lgl>, favorited_by <lgl>, retweeted <lgl>, scopes <lgl>,\n",
            "#   lang <chr>, possibly_sensitive <lgl>, display_text_width <lgl>, …\n",
            "ℹ Users data at users_data()\n",
            "\n"
          ]
        }
      ]
    },
    {
      "cell_type": "markdown",
      "source": [
        "#procesamiento en R"
      ],
      "metadata": {
        "id": "eqho3IZmgEEd"
      }
    },
    {
      "cell_type": "code",
      "source": [
        "%%R\n",
        "\n",
        "#Now i will split the text in words to analyse each one of them separated\n",
        "tokens<-tokens(lobror,what = \"word\",remove_punct = TRUE,remove_symbols =TRUE,remove_numbers =TRUE,remove_url =TRUE,remove_separators =TRUE,split_hyphens =TRUE)\n"
      ],
      "metadata": {
        "id": "d4Q6QUauaQOh"
      },
      "execution_count": null,
      "outputs": []
    },
    {
      "cell_type": "code",
      "source": [
        "%%R\n",
        "\n",
        "#I will clean the words \n",
        "# Remove mentions, urls, emojis, numbers, punctuation, etc.\n",
        "text <- gsub(\"@\\\\w+\", \"\", tokens)\n",
        "text <- gsub(\"https?://.+\", \"\", text)\n",
        "text <- gsub(\"\\\\d+\\\\w*\\\\d*\", \"\", text)\n",
        "text <- gsub(\"#\\\\w+\", \"\", text)\n",
        "text <- gsub(\"[^\\x01-\\x7F]\", \"\", text)\n",
        "text <- gsub(\"[[:punct:]]\", \" \", text)\n",
        "# Remove spaces and newlines\n",
        "text <- gsub(\"\\n\", \" \", text)\n",
        "text <- gsub(\"^\\\\s+\", \"\", text)\n",
        "text <- gsub(\"\\\\s+$\", \"\", text)\n",
        "text <- gsub(\"[ |\\t]+\", \" \", text)\n",
        "#Now i will make a second \"cleaning\" round, just to be sure.\n",
        "# remove rt\n",
        "x = gsub(\"rt\", \"\", text)\n",
        "# remove at\n",
        "x = gsub(\"@\\\\w+\", \"\", x)\n",
        "# remove punctuation\n",
        "x = gsub(\"[[:punct:]]\", \"\", x)\n",
        "# remove numbers (pilas con esta porque a veces los númers son útiles)\n",
        "x = gsub(\"[[:digit:]]\", \"\", x)\n",
        "# remove links http\n",
        "x = gsub(\"http\\\\w+\", \"\", x)\n",
        "# remove tabs\n",
        "x = gsub(\"[ |\\t]{2,}\", \"\", x)\n",
        "# remove blank spaces at the beginning\n",
        "x = gsub(\"^ \", \"\", x)\n",
        "# remove blank spaces at the end\n",
        "x = gsub(\" $\", \"\", x)\n",
        "#more unusual characters \n",
        "a<-gsub(\"[^\\x01-\\x7F]\", \"\", x)\n",
        "#NON CAPITAL LETTERS (Convertimos todo a minúsculas.)\n",
        "discurso <- tolower(a)\n",
        "a[1:100]"
      ],
      "metadata": {
        "colab": {
          "base_uri": "https://localhost:8080/"
        },
        "id": "tzgNmcbTayeg",
        "outputId": "34334c19-1e89-4d94-da40-3c6017f309e6"
      },
      "execution_count": null,
      "outputs": [
        {
          "output_type": "stream",
          "name": "stdout",
          "text": [
            "  [1] \"Entendiendo\"   \"correctamente\" \"el\"            \"libearismo\"   \n",
            "  [5] \"Hans\"          \"Hermann\"       \"Hoppe\"         \"CENTRO\"       \n",
            "  [9] \"MISES\"         \"Entendiendo\"   \"correctamente\" \"el\"           \n",
            " [13] \"libearismo\"    \"Introduccin\"   \"Los\"           \"escritos\"     \n",
            " [17] \"recogidos\"     \"en\"            \"este\"          \"libro\"        \n",
            " [21] \"son\"           \"en\"            \"su\"            \"mayora\"       \n",
            " [25] \"la\"            \"Propey\"        \"and\"           \"discursos\"    \n",
            " [29] \"realizados\"    \"en\"            \"Bodrum\"        \"en\"           \n",
            " [33] \"Freedom\"       \"Society\"       \"de\"            \"la\"           \n",
            " [37] \"cual\"          \"el\"            \"profesor\"      \"Hoppe\"        \n",
            " [41] \"es\"            \"fundador\"      \"y\"             \"presidente\"   \n",
            " [45] \"Tuve\"          \"la\"            \"suee\"          \"de\"           \n",
            " [49] \"escuchrselos\"  \"leer\"          \"en\"            \"la\"           \n",
            " [53] \"reunin\"        \"y\"             \"me\"            \"siento\"       \n",
            " [57] \"profundamente\" \"honrado\"       \"de\"            \"que\"          \n",
            " [61] \"me\"            \"hayan\"         \"pedido\"        \"que\"          \n",
            " [65] \"presente\"      \"una\"           \"las\"           \"versiones\"    \n",
            " [69] \"publicadas\"    \"introduccin\"   \"a\"             \"Voy\"          \n",
            " [73] \"a\"             \"dividir\"       \"mi\"            \"Introduccin\"  \n",
            " [77] \"en\"            \"tres\"          \"secciones\"     \"Primero\"      \n",
            " [81] \"dar\"           \"una\"           \"breve\"         \"descripcin\"   \n",
            " [85] \"de\"            \"los\"           \"primeros\"      \"aos\"          \n",
            " [89] \"de\"            \"vida\"          \"y\"             \"el\"           \n",
            " [93] \"desarrollo\"    \"intelectual\"   \"de\"            \"Hoppe\"        \n",
            " [97] \"Segundo\"       \"escribir\"      \"ms\"            \"extensamente\" \n"
          ]
        }
      ]
    },
    {
      "cell_type": "code",
      "source": [
        "%%R\n",
        "#remove stopwords (quito las stopwords(\"spanish\").)\n",
        "discurso <- removeWords(discurso, words = stopwords(\"spanish\"))\n",
        "discurso <- removeWords(discurso, words = c(\"hp2pdfmnfa\",\"@iandresrm\",\"va\",\"https://\",\"@\",\":\",\n",
        "                                            \"…\",\"t.co/\",\"👁\",\"@christi11079874\",\"📢\",\"jajajajjaja\",\n",
        "                                            \"“\",\"n\",\"cad…\",\"@lafm\",\"plat…\",\n",
        "                                            \"…\", \"indra\",\"dos\",\"día\",\"🇨🇴\",\n",
        "                                            \"de\",\"la\",\"aos\",\"el\",\"y\",\"las\",\"nes\",\n",
        "                                            \"ser\",\"\"))\n",
        "#Remove punctuation (Nos deshacemos de la puntuación) \n",
        "discurso <- removePunctuation(discurso)\n",
        "#Remove numbers (removemos los números) \n",
        "discurso <- removeNumbers(discurso)\n",
        "#confirmation\n",
        "discurso[1:100]"
      ],
      "metadata": {
        "colab": {
          "base_uri": "https://localhost:8080/"
        },
        "id": "uutSi2xFjZzU",
        "outputId": "3fe770c5-939a-4fc2-b8c9-66062a6f621e"
      },
      "execution_count": null,
      "outputs": [
        {
          "output_type": "stream",
          "name": "stdout",
          "text": [
            "  [1] \"entendiendo\"   \"correctamente\" \"\"              \"libearismo\"   \n",
            "  [5] \"hans\"          \"hermann\"       \"hoppe\"         \"centro\"       \n",
            "  [9] \"mises\"         \"entendiendo\"   \"correctamente\" \"\"             \n",
            " [13] \"libearismo\"    \"introduccin\"   \"\"              \"escritos\"     \n",
            " [17] \"recogidos\"     \"\"              \"\"              \"libro\"        \n",
            " [21] \"\"              \"\"              \"\"              \"mayora\"       \n",
            " [25] \"\"              \"propey\"        \"and\"           \"discursos\"    \n",
            " [29] \"realizados\"    \"\"              \"bodrum\"        \"\"             \n",
            " [33] \"freedom\"       \"society\"       \"\"              \"\"             \n",
            " [37] \"\"              \"\"              \"profesor\"      \"hoppe\"        \n",
            " [41] \"\"              \"fundador\"      \"\"              \"presidente\"   \n",
            " [45] \"\"              \"\"              \"suee\"          \"\"             \n",
            " [49] \"escuchrselos\"  \"leer\"          \"\"              \"\"             \n",
            " [53] \"reunin\"        \"\"              \"\"              \"siento\"       \n",
            " [57] \"profundamente\" \"honrado\"       \"\"              \"\"             \n",
            " [61] \"\"              \"\"              \"pedido\"        \"\"             \n",
            " [65] \"presente\"      \"\"              \"\"              \"versiones\"    \n",
            " [69] \"publicadas\"    \"introduccin\"   \"\"              \"voy\"          \n",
            " [73] \"\"              \"dividir\"       \"\"              \"introduccin\"  \n",
            " [77] \"\"              \"tres\"          \"secciones\"     \"primero\"      \n",
            " [81] \"dar\"           \"\"              \"breve\"         \"descripcin\"   \n",
            " [85] \"\"              \"\"              \"primeros\"      \"\"             \n",
            " [89] \"\"              \"vida\"          \"\"              \"\"             \n",
            " [93] \"desarrollo\"    \"intelectual\"   \"\"              \"hoppe\"        \n",
            " [97] \"segundo\"       \"escribir\"      \"ms\"            \"extensamente\" \n"
          ]
        }
      ]
    },
    {
      "cell_type": "markdown",
      "source": [
        "#Ahora tratamiento de matrices en R"
      ],
      "metadata": {
        "id": "MfUf_yMwlRj6"
      }
    },
    {
      "cell_type": "code",
      "source": [
        "%%R\n",
        "\n",
        "# Create a Corpus\n",
        "discurso1 <- Corpus(VectorSource(discurso)) \n",
        "\n",
        "# Create a Term-Document Matrix\n",
        "letras <- TermDocumentMatrix(discurso1)\n",
        "letrasmatrix <- as.matrix(letras) \n",
        "\n",
        "# Calculate word frequencies\n",
        "vector <- rowSums(letrasmatrix) \n",
        "Vectorr <- sort(vector, decreasing = TRUE)\n",
        "\n",
        "dataletras <- data.frame(word= names(Vectorr),freq=Vectorr) \n",
        "dataletras%>%head(10)"
      ],
      "metadata": {
        "colab": {
          "base_uri": "https://localhost:8080/"
        },
        "id": "WV3nN84LnEmf",
        "outputId": "b428ac30-af96-4967-db35-53203257fb9f"
      },
      "execution_count": null,
      "outputs": [
        {
          "output_type": "stream",
          "name": "stdout",
          "text": [
            "               word freq\n",
            "propiedad propiedad  144\n",
            "murray       murray  112\n",
            "solo           solo  102\n",
            "tambin       tambin   99\n",
            "personas   personas   96\n",
            "debe           debe   84\n",
            "libearios libearios   83\n",
            "hecho         hecho   83\n",
            "puede         puede   83\n",
            "decir         decir   83\n"
          ]
        }
      ]
    },
    {
      "cell_type": "code",
      "source": [
        "%%R\n",
        "\n",
        "barplot(dataletras[1:10,]$freq, las = 2, names.arg = dataletras[1:10,]$word, \n",
        "        col = brewer.pal(n = 8, name = \"Set3\"), main =\"Pabalras mas frecuentes\",\n",
        "        ylab = \"Frecuencia de palabras\") "
      ],
      "metadata": {
        "colab": {
          "base_uri": "https://localhost:8080/",
          "height": 497
        },
        "id": "6h48FJmPlf3_",
        "outputId": "4bc97d34-7630-4821-9675-4e6dd5a50dca"
      },
      "execution_count": null,
      "outputs": [
        {
          "output_type": "display_data",
          "data": {
            "image/png": "[encoded data removed]"
          },
          "metadata": {}
        }
      ]
    },
    {
      "cell_type": "code",
      "source": [
        "%%R\n",
        "\n",
        "dataletras[1:30, ] %>%\n",
        "   ggplot(aes(word, freq)) +\n",
        "   geom_bar(stat = \"identity\", color = \"black\", fill = \"#87CEFA\") +\n",
        "   geom_text(aes(hjust = 1.3, label = freq))+ \n",
        "   coord_flip() + \n",
        "   labs(title = \"Diez palabras más frecuentes\",  x = \"Palabras\", y = \"Número de usos\")"
      ],
      "metadata": {
        "colab": {
          "base_uri": "https://localhost:8080/",
          "height": 497
        },
        "id": "D3TjcHCLrlah",
        "outputId": "5dd63a88-5af0-4bea-ef64-63a3a82feba4"
      },
      "execution_count": null,
      "outputs": [
        {
          "output_type": "display_data",
          "data": {
            "image/png": "[encoded data removed]"
          },
          "metadata": {}
        }
      ]
    },
    {
      "cell_type": "code",
      "source": [
        "%%R\n",
        "\n",
        "#nube de palabras sin frecuencias mínimas\n",
        "wordcloud(\n",
        "   words = dataletras$word, freq = dataletras$freq,\n",
        "   max.words = 80, \n",
        "   random.order = F, \n",
        "   colors=brewer.pal(name = \"Dark2\", n = 8)\n",
        ")"
      ],
      "metadata": {
        "colab": {
          "base_uri": "https://localhost:8080/",
          "height": 497
        },
        "id": "ga6ZEB5DsjRz",
        "outputId": "83d93705-3b77-4008-9136-52e02fa39cab"
      },
      "execution_count": null,
      "outputs": [
        {
          "output_type": "display_data",
          "data": {
            "image/png": "[encoded data removed]"
          },
          "metadata": {}
        }
      ]
    },
    {
      "cell_type": "code",
      "source": [
        "%%R\n",
        "\n",
        "#nube de palabras con frecuencias mónimas\n",
        "wordcloud(words = dataletras$word, freq = dataletras$freq, min.freq = 2,\n",
        "          max.words=30, random.order=FALSE, rot.per=0.35,  \n",
        "          colors=brewer.pal(7, \"Dark2\"), scale=c(3.5,1.25))"
      ],
      "metadata": {
        "colab": {
          "base_uri": "https://localhost:8080/",
          "height": 497
        },
        "id": "0I6UUUICsnFN",
        "outputId": "994886dd-0e7d-470e-ab87-79314c1d71b5"
      },
      "execution_count": null,
      "outputs": [
        {
          "output_type": "display_data",
          "data": {
            "image/png": "[encoded data removed]"
          },
          "metadata": {}
        }
      ]
    },
    {
      "cell_type": "markdown",
      "source": [
        "'''Veamos ahora cómo se asocian algunas palabras (terms) en Niebla con la \n",
        "función findAssocs. Como podemos introducir un vector, podemos obtener las \n",
        "asociaciones de varias palabras a la vez. He elegido \n",
        "\"Petro\", \"petro\",\"Uribe\", \"uribe\"\n",
        "\n",
        "Es importante recordar que con esto no estamos pidiendo la asociacion de estas\n",
        "cuatro palabras entre si, sino las asociaciones para cada una de las cuatro, que\n",
        "no necesariamente deben coincidir.\n",
        "\n",
        "Esta también nos pide el límite inferior de correlación (corlimit)\n",
        "para mostrarnos. Valores cercanos a 1 indican que las palabras aparecen casi\n",
        "siempre asociadas una con otra, valores cercanos a 0 nos indican que nunca o\n",
        "casi nunca lo hacen.\n",
        "\n",
        "El valor que decidamos depende del tipo de documento y el tipo de asociaciones\n",
        "que nos interesen. para nuestros fines, lo he fijado en .25.'''"
      ],
      "metadata": {
        "id": "QjJTIY8Hs8JC"
      }
    },
    {
      "cell_type": "code",
      "source": [
        "%%R\n",
        "\n",
        "# Eliminar términos dispersos\n",
        "nov_new <- removeSparseTerms(letras, sparse = 0.99999999999999)"
      ],
      "metadata": {
        "id": "_Gp9hoMoHI7-"
      },
      "execution_count": null,
      "outputs": []
    },
    {
      "cell_type": "code",
      "source": [
        "%%R\n",
        "# Convertir en matriz y normalizar los valores\n",
        "nov_new <- as.matrix(nov_new)\n",
        "nov_new <- nov_new / rowSums(nov_new)"
      ],
      "metadata": {
        "id": "RNyAOa26HTKw"
      },
      "execution_count": null,
      "outputs": []
    },
    {
      "cell_type": "code",
      "source": [
        "%%R\n",
        "\n",
        "# Calcular la distancia entre los términos\n",
        "nov_dist <- dist(nov_new, method = \"euclidean\")\n",
        "\n",
        "# Realizar el clustering jerárquico\n",
        "nov_hclust <- hclust(nov_dist, method = \"ward.D\")\n",
        "\n",
        "# Graficar el dendrograma\n",
        "plot(nov_hclust, main = \"Clustering de Palabras\", sub = \"\", xlab = \"\")\n"
      ],
      "metadata": {
        "id": "B647iE7Xq-vU"
      },
      "execution_count": null,
      "outputs": []
    }
  ]
}