{
  "nbformat": 4,
  "nbformat_minor": 0,
  "metadata": {
    "colab": {
      "provenance": [],
      "include_colab_link": true
    },
    "kernelspec": {
      "name": "python3",
      "display_name": "Python 3"
    },
    "language_info": {
      "name": "python"
    }
  },
  "cells": [
    {
      "cell_type": "markdown",
      "metadata": {
        "id": "view-in-github",
        "colab_type": "text"
      },
      "source": [
        "<a href=\"https://colab.research.google.com/github/ALRIER/Class2023/blob/main/Julieth_Natalia_Rivera_Patarroyo.ipynb\" target=\"_parent\"><img src=\"https://colab.research.google.com/assets/colab-badge.svg\" alt=\"Open In Colab\"/></a>"
      ]
    },
    {
      "cell_type": "code",
      "source": [
        "!pip install rpy2==3.5.1"
      ],
      "metadata": {
        "id": "jQRDSNBCJ6r4",
        "colab": {
          "base_uri": "https://localhost:8080/"
        },
        "outputId": "f8ec6135-2cd5-49f4-e7e5-68cc8673f20f"
      },
      "execution_count": null,
      "outputs": [
        {
          "output_type": "stream",
          "name": "stdout",
          "text": [
            "Looking in indexes: https://pypi.org/simple, https://us-python.pkg.dev/colab-wheels/public/simple/\n",
            "Requirement already satisfied: rpy2==3.5.1 in /usr/local/lib/python3.9/dist-packages (3.5.1)\n",
            "Requirement already satisfied: tzlocal in /usr/local/lib/python3.9/dist-packages (from rpy2==3.5.1) (4.3)\n",
            "Requirement already satisfied: cffi>=1.10.0 in /usr/local/lib/python3.9/dist-packages (from rpy2==3.5.1) (1.15.1)\n",
            "Requirement already satisfied: jinja2 in /usr/local/lib/python3.9/dist-packages (from rpy2==3.5.1) (3.1.2)\n",
            "Requirement already satisfied: pytz in /usr/local/lib/python3.9/dist-packages (from rpy2==3.5.1) (2022.7.1)\n",
            "Requirement already satisfied: pycparser in /usr/local/lib/python3.9/dist-packages (from cffi>=1.10.0->rpy2==3.5.1) (2.21)\n",
            "Requirement already satisfied: MarkupSafe>=2.0 in /usr/local/lib/python3.9/dist-packages (from jinja2->rpy2==3.5.1) (2.1.2)\n",
            "Requirement already satisfied: pytz-deprecation-shim in /usr/local/lib/python3.9/dist-packages (from tzlocal->rpy2==3.5.1) (0.1.0.post0)\n",
            "Requirement already satisfied: tzdata in /usr/local/lib/python3.9/dist-packages (from pytz-deprecation-shim->tzlocal->rpy2==3.5.1) (2023.3)\n"
          ]
        }
      ]
    },
    {
      "cell_type": "code",
      "source": [
        "# activate R magic\n",
        "%load_ext rpy2.ipython"
      ],
      "metadata": {
        "id": "194moOZ4J80p",
        "colab": {
          "base_uri": "https://localhost:8080/"
        },
        "outputId": "383bac4c-1dc4-41d8-8e69-ddce16f69243"
      },
      "execution_count": null,
      "outputs": [
        {
          "output_type": "stream",
          "name": "stdout",
          "text": [
            "The rpy2.ipython extension is already loaded. To reload it, use:\n",
            "  %reload_ext rpy2.ipython\n"
          ]
        }
      ]
    },
    {
      "cell_type": "markdown",
      "source": [
        "Este taller permitirá poner en práctica el uso de dplyr en R, pandas y numpy en Python. Para ello, vamos a crear un conjunto de datos ficticio que contendrá información sobre ventas de productos en diferentes regiones y periodos de tiempo."
      ],
      "metadata": {
        "id": "QED3EexoJrJc"
      }
    },
    {
      "cell_type": "markdown",
      "source": [
        "#Creación del dataset\n",
        "\n",
        "Para crear nuestro dataset, vamos a utilizar la función data.frame() en R y pd.DataFrame() en Python. Para ello, vamos a crear una lista con las variables que queremos incluir en nuestro dataset y luego convertiremos esa lista en un data frame.\n"
      ],
      "metadata": {
        "id": "k-YFTgRvJxeC"
      }
    },
    {
      "cell_type": "code",
      "source": [
        "%%R\n",
        "library(\"dplyr\")"
      ],
      "metadata": {
        "id": "jrOkKizDKO7m"
      },
      "execution_count": null,
      "outputs": []
    },
    {
      "cell_type": "code",
      "source": [
        "%%R\n",
        "\n",
        "2+2"
      ],
      "metadata": {
        "id": "PTxdCYxS6Gy_",
        "colab": {
          "base_uri": "https://localhost:8080/"
        },
        "outputId": "9a900335-7be2-45c4-efb6-21f5584d785c"
      },
      "execution_count": null,
      "outputs": [
        {
          "output_type": "stream",
          "name": "stdout",
          "text": [
            "[1] 4\n"
          ]
        }
      ]
    },
    {
      "cell_type": "code",
      "execution_count": null,
      "metadata": {
        "id": "RzYiw_cIJli_"
      },
      "outputs": [],
      "source": [
        "%%R\n",
        "\n",
        "# Crear lista con las variables del dataset\n",
        "ventas <- list(\n",
        "  producto = c(\"Producto A\", \"Producto B\", \"Producto C\", \"Producto A\", \"Producto B\", \"Producto C\"),\n",
        "  region = c(\"Norte\", \"Norte\", \"Norte\", \"Sur\", \"Sur\", \"Sur\"),\n",
        "  periodo = c(\"Enero\", \"Enero\", \"Enero\", \"Febrero\", \"Febrero\", \"Febrero\"),\n",
        "  ventas = c(100, 50, 75, 200, 150, 100)\n",
        ")\n",
        "\n",
        "# Convertir lista en data frame\n",
        "ventas_df <- data.frame(ventas)\n"
      ]
    },
    {
      "cell_type": "markdown",
      "source": [
        "En Python:"
      ],
      "metadata": {
        "id": "K5dX2q1iKDk7"
      }
    },
    {
      "cell_type": "code",
      "source": [
        "import pandas as pd\n",
        "\n",
        "# Crear lista con las variables del dataset\n",
        "ventas = {\n",
        "    \"producto\": [\"Producto A\", \"Producto B\", \"Producto C\", \"Producto A\", \"Producto B\", \"Producto C\"],\n",
        "    \"region\": [\"Norte\", \"Norte\", \"Norte\", \"Sur\", \"Sur\", \"Sur\"],\n",
        "    \"periodo\": [\"Enero\", \"Enero\", \"Enero\", \"Febrero\", \"Febrero\", \"Febrero\"],\n",
        "    \"ventas\": [100, 50, 75, 200, 150, 100]\n",
        "}\n",
        "\n",
        "# Convertir lista en data frame\n",
        "ventas_df = pd.DataFrame(ventas)\n"
      ],
      "metadata": {
        "id": "6uEI9hoyKEXv"
      },
      "execution_count": null,
      "outputs": []
    },
    {
      "cell_type": "markdown",
      "source": [
        "Una vez que tenemos nuestro dataset, podemos proceder a realizar diferentes tareas utilizando dplyr en R y pandas y numpy en Python."
      ],
      "metadata": {
        "id": "bguJLqC5KaUr"
      }
    },
    {
      "cell_type": "markdown",
      "source": [
        "#Taller"
      ],
      "metadata": {
        "id": "r_rXoWRhKdQB"
      }
    },
    {
      "cell_type": "markdown",
      "source": [
        "A continuación, presentamos un taller de 10 (o más 🔥) puntos que nos permitirá poner en práctica el uso de dplyr en R y pandas y numpy en Python con nuestro dataset de ventas.\n",
        "\n",
        "1. Carga los datos y visualiza el dataset. para cada dataset vamos a imprimir el encabezado para verificar que está bien cargado. \n",
        "\n",
        "Únicamente en python vamos a aplicar la orden describe()para ver un recuento estadístico y entender como se están comportando los datos. \n",
        "\n"
      ],
      "metadata": {
        "id": "q_r_pRG_Kg4A"
      }
    },
    {
      "cell_type": "code",
      "source": [
        "%%R\n",
        "#Your Code here guys! --->"
      ],
      "metadata": {
        "id": "cilavRs1LX8U",
        "colab": {
          "base_uri": "https://localhost:8080/"
        },
        "outputId": "7a92c81d-c9dd-4f1d-d9d9-cd1edb09c3dc"
      },
      "execution_count": null,
      "outputs": [
        {
          "output_type": "stream",
          "name": "stdout",
          "text": [
            "NULL\n"
          ]
        }
      ]
    },
    {
      "cell_type": "code",
      "source": [
        "#Your Code here guys! --->"
      ],
      "metadata": {
        "id": "OFXsL9l9L3FE"
      },
      "execution_count": null,
      "outputs": []
    },
    {
      "cell_type": "markdown",
      "source": [
        "2. Filtra el dataset para obtener las ventas de \"Producto A\".\n"
      ],
      "metadata": {
        "id": "YLDvfUNOLauL"
      }
    },
    {
      "cell_type": "code",
      "source": [
        "%%R\n",
        "#Your Code here guys! --->"
      ],
      "metadata": {
        "id": "wxTyyCn2LdFJ",
        "colab": {
          "base_uri": "https://localhost:8080/"
        },
        "outputId": "3de13b5c-4f9d-4b23-df18-7db0a475ba61"
      },
      "execution_count": null,
      "outputs": [
        {
          "output_type": "stream",
          "name": "stdout",
          "text": [
            "NULL\n"
          ]
        }
      ]
    },
    {
      "cell_type": "code",
      "source": [
        "#Your Code here guys! --->"
      ],
      "metadata": {
        "id": "8NjVMDvRL2UW"
      },
      "execution_count": null,
      "outputs": []
    },
    {
      "cell_type": "markdown",
      "source": [
        "3. Agrupa el dataset por región y periodo y calcula la media de las ventas.\n"
      ],
      "metadata": {
        "id": "K5uoJjNxLda9"
      }
    },
    {
      "cell_type": "code",
      "source": [
        "%%R\n",
        "#Your Code here guys! --->"
      ],
      "metadata": {
        "id": "En6_jQBGLtg2",
        "colab": {
          "base_uri": "https://localhost:8080/"
        },
        "outputId": "ce3e9d89-a0de-4438-82ab-a8ae8556a1f3"
      },
      "execution_count": null,
      "outputs": [
        {
          "output_type": "stream",
          "name": "stdout",
          "text": [
            "NULL\n"
          ]
        }
      ]
    },
    {
      "cell_type": "code",
      "source": [
        "#Your Code here guys! --->"
      ],
      "metadata": {
        "id": "nL6tCiD5L18f"
      },
      "execution_count": null,
      "outputs": []
    },
    {
      "cell_type": "markdown",
      "source": [
        "4. Calcula la suma total de las ventas para cada periodo.\n"
      ],
      "metadata": {
        "id": "YdJvm3gtLfO-"
      }
    },
    {
      "cell_type": "code",
      "source": [
        "%%R\n",
        "#Your Code here guys! --->"
      ],
      "metadata": {
        "id": "9nc3o0EALupg",
        "colab": {
          "base_uri": "https://localhost:8080/"
        },
        "outputId": "11edd768-b96a-4a4a-c594-1f4cdb9a35c9"
      },
      "execution_count": null,
      "outputs": [
        {
          "output_type": "stream",
          "name": "stdout",
          "text": [
            "NULL\n"
          ]
        }
      ]
    },
    {
      "cell_type": "code",
      "source": [
        "#Your Code here guys! --->"
      ],
      "metadata": {
        "id": "zPb4QAO2L1bG"
      },
      "execution_count": null,
      "outputs": []
    },
    {
      "cell_type": "markdown",
      "source": [
        "5. Utiliza la función mutate() en R y assign() en Python para crear una nueva variable que calcule la diferencia entre las ventas de cada producto y la media de las ventas de ese producto.\n"
      ],
      "metadata": {
        "id": "UWLU88qvLhIE"
      }
    },
    {
      "cell_type": "code",
      "source": [
        "%%R\n",
        "#Your Code here guys! --->"
      ],
      "metadata": {
        "id": "PeZE9qQ0LvWd",
        "colab": {
          "base_uri": "https://localhost:8080/"
        },
        "outputId": "fb5e99b8-8df1-46c5-df83-f949443c8345"
      },
      "execution_count": null,
      "outputs": [
        {
          "output_type": "stream",
          "name": "stdout",
          "text": [
            "NULL\n"
          ]
        }
      ]
    },
    {
      "cell_type": "code",
      "source": [
        "#Your Code here guys! --->"
      ],
      "metadata": {
        "id": "Wrky4HyML0_e"
      },
      "execution_count": null,
      "outputs": []
    },
    {
      "cell_type": "markdown",
      "source": [
        "6 .Utiliza la función arrange() en R y sort_values() en Python para ordenar el dataset por ventas de mayor a menor.\n"
      ],
      "metadata": {
        "id": "roLWgO0bLjTs"
      }
    },
    {
      "cell_type": "code",
      "source": [
        "%%R\n",
        "#Your Code here guys! --->"
      ],
      "metadata": {
        "id": "6oduHJuSLv0P",
        "colab": {
          "base_uri": "https://localhost:8080/"
        },
        "outputId": "53316143-f2aa-4cf1-e74a-2d840d9c6cf5"
      },
      "execution_count": null,
      "outputs": [
        {
          "output_type": "stream",
          "name": "stdout",
          "text": [
            "NULL\n"
          ]
        }
      ]
    },
    {
      "cell_type": "code",
      "source": [
        "#Your Code here guys! --->"
      ],
      "metadata": {
        "id": "I_RoBBLuL0fx"
      },
      "execution_count": null,
      "outputs": []
    },
    {
      "cell_type": "markdown",
      "source": [
        "7. Utiliza la función select() en R y loc[] en Python para seleccionar las variables \"producto\" y \"ventas\".\n"
      ],
      "metadata": {
        "id": "QJgrGW6xLk5Z"
      }
    },
    {
      "cell_type": "code",
      "source": [
        "%%R\n",
        "#Your Code here guys! --->"
      ],
      "metadata": {
        "id": "IDtfBbB1LwUN",
        "colab": {
          "base_uri": "https://localhost:8080/"
        },
        "outputId": "2b9a96ae-0e99-4269-a742-4599ae3edf23"
      },
      "execution_count": null,
      "outputs": [
        {
          "output_type": "stream",
          "name": "stdout",
          "text": [
            "NULL\n"
          ]
        }
      ]
    },
    {
      "cell_type": "code",
      "source": [
        "#Your Code here guys! --->"
      ],
      "metadata": {
        "id": "kMrlUidSLz-s"
      },
      "execution_count": null,
      "outputs": []
    },
    {
      "cell_type": "markdown",
      "source": [
        "8. Utiliza la función filter() en R y query() en Python para filtrar el dataset para obtener las ventas de \"Producto A\" en la región Norte.\n"
      ],
      "metadata": {
        "id": "fvAUVtarLmWW"
      }
    },
    {
      "cell_type": "code",
      "source": [
        "%%R\n",
        "#Your Code here guys! --->"
      ],
      "metadata": {
        "id": "9ci3_FDULxCR",
        "colab": {
          "base_uri": "https://localhost:8080/"
        },
        "outputId": "0d7b9306-e40f-4b5f-b5e6-75f9f22f7440"
      },
      "execution_count": null,
      "outputs": [
        {
          "output_type": "stream",
          "name": "stdout",
          "text": [
            "NULL\n"
          ]
        }
      ]
    },
    {
      "cell_type": "code",
      "source": [
        "#Your Code here guys! --->"
      ],
      "metadata": {
        "id": "FCGjjH84LzlW"
      },
      "execution_count": null,
      "outputs": []
    },
    {
      "cell_type": "markdown",
      "source": [
        "9. Utiliza la función summarise() en R y agg() en Python para calcular la suma total de las ventas de \"Producto A\".\n"
      ],
      "metadata": {
        "id": "W3xzooFoLn0v"
      }
    },
    {
      "cell_type": "code",
      "source": [
        "%%R\n",
        "#Your Code here guys! --->"
      ],
      "metadata": {
        "id": "LHNLOOqoLxq8",
        "colab": {
          "base_uri": "https://localhost:8080/"
        },
        "outputId": "ae1dc59c-731c-43a6-db32-a12b409b4233"
      },
      "execution_count": null,
      "outputs": [
        {
          "output_type": "stream",
          "name": "stdout",
          "text": [
            "NULL\n"
          ]
        }
      ]
    },
    {
      "cell_type": "code",
      "source": [
        "#Your Code here guys! --->"
      ],
      "metadata": {
        "id": "ksgl1-AlLzOL"
      },
      "execution_count": null,
      "outputs": []
    },
    {
      "cell_type": "markdown",
      "source": [
        "10. Utiliza la función group_by() en R y groupby()"
      ],
      "metadata": {
        "id": "bLklXUcULpZt"
      }
    },
    {
      "cell_type": "code",
      "source": [
        "%%R\n",
        "#Your Code here guys! --->"
      ],
      "metadata": {
        "id": "Qb5Xit0PLyQB",
        "colab": {
          "base_uri": "https://localhost:8080/"
        },
        "outputId": "a41e1ff1-0ec7-4f1d-8550-8c7b9c3c7c06"
      },
      "execution_count": null,
      "outputs": [
        {
          "output_type": "stream",
          "name": "stdout",
          "text": [
            "NULL\n"
          ]
        }
      ]
    },
    {
      "cell_type": "code",
      "source": [
        "#Your Code here guys! --->"
      ],
      "metadata": {
        "id": "uUko7g6aLyo1"
      },
      "execution_count": null,
      "outputs": []
    },
    {
      "cell_type": "markdown",
      "source": [
        "Bien, ahora juguemos con datos propios. "
      ],
      "metadata": {
        "id": "b8YLXKyT8Xr3"
      }
    },
    {
      "cell_type": "markdown",
      "source": [
        "1. Vamos a cargar 2 archivos, por un lado el documento CSV que tienen en sus repositorios de github. y además vamos a cargar la base de datos superstore que tendrán el siguiente link. \n",
        "\n",
        "https://docs.google.com/spreadsheets/d/1r2ee4kEpcUJBUscoDQd0gImOvWb_iECj/edit?usp=sharing&ouid=106132101569136404581&rtpof=true&sd=true\n",
        "\n"
      ],
      "metadata": {
        "id": "X3NxlVx28b9t"
      }
    },
    {
      "cell_type": "markdown",
      "source": [
        "Usando el primer set de datos vamos a trabajar únicamente en R"
      ],
      "metadata": {
        "id": "tcVCb2IKXVDQ"
      }
    },
    {
      "cell_type": "markdown",
      "source": [
        "1. vamos a seleccionar solo las columnas Gender, Age y satisfaction conformando un nuevo datagrame llamado seleccion."
      ],
      "metadata": {
        "id": "kkwOmV2FXYVL"
      }
    },
    {
      "cell_type": "code",
      "source": [
        "%%R\n",
        "#Your Code here guys! --->"
      ],
      "metadata": {
        "id": "44kfc3nFXqG6",
        "colab": {
          "base_uri": "https://localhost:8080/"
        },
        "outputId": "2ff9485d-5ae2-402f-e072-6a18db84051f"
      },
      "execution_count": null,
      "outputs": [
        {
          "output_type": "stream",
          "name": "stdout",
          "text": [
            "NULL\n"
          ]
        }
      ]
    },
    {
      "cell_type": "markdown",
      "source": [
        "2. Ahora usando el nuevo df que hemos creado vamos a filtrar solo las filas donde la satisfacción es \"satisfied\" y a guardarlo en un df3:"
      ],
      "metadata": {
        "id": "NUPjkOQqXo7G"
      }
    },
    {
      "cell_type": "code",
      "source": [
        "%%R\n",
        "#Your Code here guys! --->"
      ],
      "metadata": {
        "id": "UIW6xDEsXvdP",
        "colab": {
          "base_uri": "https://localhost:8080/"
        },
        "outputId": "ec4d8c93-c7c2-49a9-9c79-e44440da59ec"
      },
      "execution_count": null,
      "outputs": [
        {
          "output_type": "stream",
          "name": "stdout",
          "text": [
            "NULL\n"
          ]
        }
      ]
    },
    {
      "cell_type": "markdown",
      "source": [
        "3. vamos a agrupar los datos por género y calcular la edad promedio y a guardarlo en un df4:"
      ],
      "metadata": {
        "id": "FbwdkOzWX3Lc"
      }
    },
    {
      "cell_type": "code",
      "source": [
        "%%R\n",
        "#Your Code here guys! --->"
      ],
      "metadata": {
        "id": "Dzk8yZzhgH06",
        "colab": {
          "base_uri": "https://localhost:8080/"
        },
        "outputId": "f2712625-014f-42b6-d329-e03794893a15"
      },
      "execution_count": null,
      "outputs": [
        {
          "output_type": "stream",
          "name": "stdout",
          "text": [
            "NULL\n"
          ]
        }
      ]
    },
    {
      "cell_type": "markdown",
      "source": [
        "4. vamos a ordenar los resultados de seleccion por edad de mayor a menor, después vamos a agruparlos por género y vamos a averiguar la sumatoria de cada género para cada grupo los satisfechos y los insatisfechos. Este nuevo conteo lo vamos a guardar en una columna nueva llamada a y esto lo guardaremos en un nuevo df llamado df5"
      ],
      "metadata": {
        "id": "3kuTZrGOYH9_"
      }
    },
    {
      "cell_type": "code",
      "source": [
        "%%R\n",
        "#Your Code here guys! --->"
      ],
      "metadata": {
        "id": "a_PHBCQygIJR",
        "colab": {
          "base_uri": "https://localhost:8080/"
        },
        "outputId": "787994f1-1232-467e-ff54-f25f56d55f8e"
      },
      "execution_count": null,
      "outputs": [
        {
          "output_type": "stream",
          "name": "stdout",
          "text": [
            "NULL\n"
          ]
        }
      ]
    },
    {
      "cell_type": "markdown",
      "source": [
        "Muy bien, ya hemos logrado trabajar sobre la primera base de datos, ahora vamos a cargar la segunda base de datos, para ello usaremos el acceso a google drive que nos brinda google colab. "
      ],
      "metadata": {
        "id": "btrN5tWTnxql"
      }
    },
    {
      "cell_type": "code",
      "source": [
        "#Your Code here guys! --->"
      ],
      "metadata": {
        "id": "b2DIFZIYvqfY"
      },
      "execution_count": null,
      "outputs": []
    },
    {
      "cell_type": "markdown",
      "source": [
        "Perfecto, como ya tenemos nuestra base de datos montada sobre python vamos a hacer un análisis descriptivo de la base de datos usando .describe() así podremos ver cómo se comporta mi base de datos. "
      ],
      "metadata": {
        "id": "qtNVkn8ovtwC"
      }
    },
    {
      "cell_type": "code",
      "source": [
        "#Your Code here guys! --->"
      ],
      "metadata": {
        "id": "2D2DxkG7v_Ho"
      },
      "execution_count": null,
      "outputs": []
    },
    {
      "cell_type": "markdown",
      "source": [
        "Ahora vamos a importar las librerías seaborn y matplotlib."
      ],
      "metadata": {
        "id": "OuqsSFs8fUr5"
      }
    },
    {
      "cell_type": "code",
      "source": [],
      "metadata": {
        "id": "yFPjcje_fVzm"
      },
      "execution_count": null,
      "outputs": []
    },
    {
      "cell_type": "markdown",
      "source": [
        "Muy bien, ahora vamos a pasar esta base de datos "
      ],
      "metadata": {
        "id": "_aArLk8DwAO-"
      }
    },
    {
      "cell_type": "code",
      "source": [
        "%%R\n",
        "#Your Code here guys! --->"
      ],
      "metadata": {
        "id": "HqaJ9u-AoERP",
        "colab": {
          "base_uri": "https://localhost:8080/"
        },
        "outputId": "4729a7a9-c631-4f51-a701-4a6bd68183bc"
      },
      "execution_count": null,
      "outputs": [
        {
          "output_type": "stream",
          "name": "stdout",
          "text": [
            "NULL\n"
          ]
        }
      ]
    },
    {
      "cell_type": "markdown",
      "source": [
        "Vamos a visualizar los datos del dataframe para la variable categoría en el eje X y ventas en el eje Y en un gráfico de boxplot. "
      ],
      "metadata": {
        "id": "0yTeA7rlfkwL"
      }
    },
    {
      "cell_type": "code",
      "source": [],
      "metadata": {
        "id": "6qSrTAhrfrYH"
      },
      "execution_count": null,
      "outputs": []
    },
    {
      "cell_type": "markdown",
      "source": [
        "#El taller va desde esta parte de aquí!!!"
      ],
      "metadata": {
        "id": "mG2-5fGKlt-X"
      }
    },
    {
      "cell_type": "markdown",
      "source": [],
      "metadata": {
        "id": "6BYFdlvFftl-"
      }
    },
    {
      "cell_type": "markdown",
      "source": [
        "Ahora hagámos lo mismo en R."
      ],
      "metadata": {
        "id": "LDhOHJRvIptI"
      }
    },
    {
      "cell_type": "markdown",
      "source": [
        "Primero importemos la base de datos al entorno de python"
      ],
      "metadata": {
        "id": "P3AFfmybIwNe"
      }
    },
    {
      "cell_type": "code",
      "source": [
        "from google.colab import drive\n",
        "drive.mount('/content/drive')"
      ],
      "metadata": {
        "id": "pxYwu-6YLcN-",
        "colab": {
          "base_uri": "https://localhost:8080/"
        },
        "outputId": "eaf4ab1b-66fe-43c1-9ce6-ee9632094241"
      },
      "execution_count": null,
      "outputs": [
        {
          "output_type": "stream",
          "name": "stdout",
          "text": [
            "Drive already mounted at /content/drive; to attempt to forcibly remount, call drive.mount(\"/content/drive\", force_remount=True).\n"
          ]
        }
      ]
    },
    {
      "cell_type": "code",
      "source": [
        "Data = pd.read_excel('/content/drive/MyDrive/Sample - Superstore.xlsx')"
      ],
      "metadata": {
        "id": "J4SbtnqLMJE_"
      },
      "execution_count": null,
      "outputs": []
    },
    {
      "cell_type": "code",
      "source": [
        "Data.describe()"
      ],
      "metadata": {
        "colab": {
          "base_uri": "https://localhost:8080/",
          "height": 300
        },
        "id": "UN5nb7FWAxgU",
        "outputId": "8fbb7583-92ee-4311-baba-adab8ed83369"
      },
      "execution_count": null,
      "outputs": [
        {
          "output_type": "execute_result",
          "data": {
            "text/plain": [
              "          Columna1   Postal Code        Sales     Quantity     Discount  \\\n",
              "count  8827.000000   8821.000000  8827.000000  8827.000000  8827.000000   \n",
              "mean   5016.375892  55407.622038    92.864853     3.608587     0.157606   \n",
              "std    2888.406540  31958.832864   114.045078     2.129308     0.211531   \n",
              "min       1.000000   1040.000000     0.444000     1.000000     0.000000   \n",
              "25%    2508.500000  23320.000000    15.008000     2.000000     0.000000   \n",
              "50%    5028.000000  60016.000000    40.880000     3.000000     0.200000   \n",
              "75%    7517.500000  90008.000000   124.225000     5.000000     0.200000   \n",
              "max    9994.000000  99301.000000   498.260000    14.000000     0.800000   \n",
              "\n",
              "            Profit  \n",
              "count  8827.000000  \n",
              "mean     11.198644  \n",
              "std      49.066101  \n",
              "min   -1181.282400  \n",
              "25%       1.702400  \n",
              "50%       7.437600  \n",
              "75%      21.335400  \n",
              "max     240.859500  "
            ],
            "text/html": [
              "\n",
              "  <div id=\"df-7ed0b220-8c22-43e3-a53e-f6015d1c81b2\">\n",
              "    <div class=\"colab-df-container\">\n",
              "      <div>\n",
              "<style scoped>\n",
              "    .dataframe tbody tr th:only-of-type {\n",
              "        vertical-align: middle;\n",
              "    }\n",
              "\n",
              "    .dataframe tbody tr th {\n",
              "        vertical-align: top;\n",
              "    }\n",
              "\n",
              "    .dataframe thead th {\n",
              "        text-align: right;\n",
              "    }\n",
              "</style>\n",
              "<table border=\"1\" class=\"dataframe\">\n",
              "  <thead>\n",
              "    <tr style=\"text-align: right;\">\n",
              "      <th></th>\n",
              "      <th>Columna1</th>\n",
              "      <th>Postal Code</th>\n",
              "      <th>Sales</th>\n",
              "      <th>Quantity</th>\n",
              "      <th>Discount</th>\n",
              "      <th>Profit</th>\n",
              "    </tr>\n",
              "  </thead>\n",
              "  <tbody>\n",
              "    <tr>\n",
              "      <th>count</th>\n",
              "      <td>8827.000000</td>\n",
              "      <td>8821.000000</td>\n",
              "      <td>8827.000000</td>\n",
              "      <td>8827.000000</td>\n",
              "      <td>8827.000000</td>\n",
              "      <td>8827.000000</td>\n",
              "    </tr>\n",
              "    <tr>\n",
              "      <th>mean</th>\n",
              "      <td>5016.375892</td>\n",
              "      <td>55407.622038</td>\n",
              "      <td>92.864853</td>\n",
              "      <td>3.608587</td>\n",
              "      <td>0.157606</td>\n",
              "      <td>11.198644</td>\n",
              "    </tr>\n",
              "    <tr>\n",
              "      <th>std</th>\n",
              "      <td>2888.406540</td>\n",
              "      <td>31958.832864</td>\n",
              "      <td>114.045078</td>\n",
              "      <td>2.129308</td>\n",
              "      <td>0.211531</td>\n",
              "      <td>49.066101</td>\n",
              "    </tr>\n",
              "    <tr>\n",
              "      <th>min</th>\n",
              "      <td>1.000000</td>\n",
              "      <td>1040.000000</td>\n",
              "      <td>0.444000</td>\n",
              "      <td>1.000000</td>\n",
              "      <td>0.000000</td>\n",
              "      <td>-1181.282400</td>\n",
              "    </tr>\n",
              "    <tr>\n",
              "      <th>25%</th>\n",
              "      <td>2508.500000</td>\n",
              "      <td>23320.000000</td>\n",
              "      <td>15.008000</td>\n",
              "      <td>2.000000</td>\n",
              "      <td>0.000000</td>\n",
              "      <td>1.702400</td>\n",
              "    </tr>\n",
              "    <tr>\n",
              "      <th>50%</th>\n",
              "      <td>5028.000000</td>\n",
              "      <td>60016.000000</td>\n",
              "      <td>40.880000</td>\n",
              "      <td>3.000000</td>\n",
              "      <td>0.200000</td>\n",
              "      <td>7.437600</td>\n",
              "    </tr>\n",
              "    <tr>\n",
              "      <th>75%</th>\n",
              "      <td>7517.500000</td>\n",
              "      <td>90008.000000</td>\n",
              "      <td>124.225000</td>\n",
              "      <td>5.000000</td>\n",
              "      <td>0.200000</td>\n",
              "      <td>21.335400</td>\n",
              "    </tr>\n",
              "    <tr>\n",
              "      <th>max</th>\n",
              "      <td>9994.000000</td>\n",
              "      <td>99301.000000</td>\n",
              "      <td>498.260000</td>\n",
              "      <td>14.000000</td>\n",
              "      <td>0.800000</td>\n",
              "      <td>240.859500</td>\n",
              "    </tr>\n",
              "  </tbody>\n",
              "</table>\n",
              "</div>\n",
              "      <button class=\"colab-df-convert\" onclick=\"convertToInteractive('df-7ed0b220-8c22-43e3-a53e-f6015d1c81b2')\"\n",
              "              title=\"Convert this dataframe to an interactive table.\"\n",
              "              style=\"display:none;\">\n",
              "        \n",
              "  <svg xmlns=\"http://www.w3.org/2000/svg\" height=\"24px\"viewBox=\"0 0 24 24\"\n",
              "       width=\"24px\">\n",
              "    <path d=\"M0 0h24v24H0V0z\" fill=\"none\"/>\n",
              "    <path d=\"M18.56 5.44l.94 2.06.94-2.06 2.06-.94-2.06-.94-.94-2.06-.94 2.06-2.06.94zm-11 1L8.5 8.5l.94-2.06 2.06-.94-2.06-.94L8.5 2.5l-.94 2.06-2.06.94zm10 10l.94 2.06.94-2.06 2.06-.94-2.06-.94-.94-2.06-.94 2.06-2.06.94z\"/><path d=\"M17.41 7.96l-1.37-1.37c-.4-.4-.92-.59-1.43-.59-.52 0-1.04.2-1.43.59L10.3 9.45l-7.72 7.72c-.78.78-.78 2.05 0 2.83L4 21.41c.39.39.9.59 1.41.59.51 0 1.02-.2 1.41-.59l7.78-7.78 2.81-2.81c.8-.78.8-2.07 0-2.86zM5.41 20L4 18.59l7.72-7.72 1.47 1.35L5.41 20z\"/>\n",
              "  </svg>\n",
              "      </button>\n",
              "      \n",
              "  <style>\n",
              "    .colab-df-container {\n",
              "      display:flex;\n",
              "      flex-wrap:wrap;\n",
              "      gap: 12px;\n",
              "    }\n",
              "\n",
              "    .colab-df-convert {\n",
              "      background-color: #E8F0FE;\n",
              "      border: none;\n",
              "      border-radius: 50%;\n",
              "      cursor: pointer;\n",
              "      display: none;\n",
              "      fill: #1967D2;\n",
              "      height: 32px;\n",
              "      padding: 0 0 0 0;\n",
              "      width: 32px;\n",
              "    }\n",
              "\n",
              "    .colab-df-convert:hover {\n",
              "      background-color: #E2EBFA;\n",
              "      box-shadow: 0px 1px 2px rgba(60, 64, 67, 0.3), 0px 1px 3px 1px rgba(60, 64, 67, 0.15);\n",
              "      fill: #174EA6;\n",
              "    }\n",
              "\n",
              "    [theme=dark] .colab-df-convert {\n",
              "      background-color: #3B4455;\n",
              "      fill: #D2E3FC;\n",
              "    }\n",
              "\n",
              "    [theme=dark] .colab-df-convert:hover {\n",
              "      background-color: #434B5C;\n",
              "      box-shadow: 0px 1px 3px 1px rgba(0, 0, 0, 0.15);\n",
              "      filter: drop-shadow(0px 1px 2px rgba(0, 0, 0, 0.3));\n",
              "      fill: #FFFFFF;\n",
              "    }\n",
              "  </style>\n",
              "\n",
              "      <script>\n",
              "        const buttonEl =\n",
              "          document.querySelector('#df-7ed0b220-8c22-43e3-a53e-f6015d1c81b2 button.colab-df-convert');\n",
              "        buttonEl.style.display =\n",
              "          google.colab.kernel.accessAllowed ? 'block' : 'none';\n",
              "\n",
              "        async function convertToInteractive(key) {\n",
              "          const element = document.querySelector('#df-7ed0b220-8c22-43e3-a53e-f6015d1c81b2');\n",
              "          const dataTable =\n",
              "            await google.colab.kernel.invokeFunction('convertToInteractive',\n",
              "                                                     [key], {});\n",
              "          if (!dataTable) return;\n",
              "\n",
              "          const docLinkHtml = 'Like what you see? Visit the ' +\n",
              "            '<a target=\"_blank\" href=https://colab.research.google.com/notebooks/data_table.ipynb>data table notebook</a>'\n",
              "            + ' to learn more about interactive tables.';\n",
              "          element.innerHTML = '';\n",
              "          dataTable['output_type'] = 'display_data';\n",
              "          await google.colab.output.renderOutput(dataTable, element);\n",
              "          const docLink = document.createElement('div');\n",
              "          docLink.innerHTML = docLinkHtml;\n",
              "          element.appendChild(docLink);\n",
              "        }\n",
              "      </script>\n",
              "    </div>\n",
              "  </div>\n",
              "  "
            ]
          },
          "metadata": {},
          "execution_count": 154
        }
      ]
    },
    {
      "cell_type": "markdown",
      "source": [
        "Ahora vamos a graficar resultados. "
      ],
      "metadata": {
        "id": "67_cxxe0I11t"
      }
    },
    {
      "cell_type": "code",
      "source": [
        "%%R\n",
        "\n",
        "install.packages(\"ggplot2\")\n",
        "install.packages(\"dplyr\")\n",
        "library(\"ggplot2\")\n",
        "library(\"dplyr\")"
      ],
      "metadata": {
        "colab": {
          "base_uri": "https://localhost:8080/"
        },
        "id": "juI-HO_pCruu",
        "outputId": "4f39af2b-d938-4375-84c1-091451d56659"
      },
      "execution_count": null,
      "outputs": [
        {
          "output_type": "stream",
          "name": "stderr",
          "text": [
            "WARNING:rpy2.rinterface_lib.callbacks:R[write to console]: Installing package into ‘/usr/local/lib/R/site-library’\n",
            "(as ‘lib’ is unspecified)\n",
            "\n",
            "WARNING:rpy2.rinterface_lib.callbacks:R[write to console]: trying URL 'https://cran.rstudio.com/src/contrib/ggplot2_3.4.1.tar.gz'\n",
            "\n",
            "WARNING:rpy2.rinterface_lib.callbacks:R[write to console]: Content type 'application/x-gzip'\n",
            "WARNING:rpy2.rinterface_lib.callbacks:R[write to console]:  length 3150856 bytes (3.0 MB)\n",
            "\n",
            "WARNING:rpy2.rinterface_lib.callbacks:R[write to console]: =\n",
            "WARNING:rpy2.rinterface_lib.callbacks:R[write to console]: =\n",
            "WARNING:rpy2.rinterface_lib.callbacks:R[write to console]: =\n",
            "WARNING:rpy2.rinterface_lib.callbacks:R[write to console]: =\n",
            "WARNING:rpy2.rinterface_lib.callbacks:R[write to console]: =\n",
            "WARNING:rpy2.rinterface_lib.callbacks:R[write to console]: =\n",
            "WARNING:rpy2.rinterface_lib.callbacks:R[write to console]: =\n",
            "WARNING:rpy2.rinterface_lib.callbacks:R[write to console]: =\n",
            "WARNING:rpy2.rinterface_lib.callbacks:R[write to console]: =\n",
            "WARNING:rpy2.rinterface_lib.callbacks:R[write to console]: =\n",
            "WARNING:rpy2.rinterface_lib.callbacks:R[write to console]: =\n",
            "WARNING:rpy2.rinterface_lib.callbacks:R[write to console]: =\n",
            "WARNING:rpy2.rinterface_lib.callbacks:R[write to console]: =\n",
            "WARNING:rpy2.rinterface_lib.callbacks:R[write to console]: =\n",
            "WARNING:rpy2.rinterface_lib.callbacks:R[write to console]: =\n",
            "WARNING:rpy2.rinterface_lib.callbacks:R[write to console]: =\n",
            "WARNING:rpy2.rinterface_lib.callbacks:R[write to console]: =\n",
            "WARNING:rpy2.rinterface_lib.callbacks:R[write to console]: =\n",
            "WARNING:rpy2.rinterface_lib.callbacks:R[write to console]: =\n",
            "WARNING:rpy2.rinterface_lib.callbacks:R[write to console]: =\n",
            "WARNING:rpy2.rinterface_lib.callbacks:R[write to console]: =\n",
            "WARNING:rpy2.rinterface_lib.callbacks:R[write to console]: =\n",
            "WARNING:rpy2.rinterface_lib.callbacks:R[write to console]: =\n",
            "WARNING:rpy2.rinterface_lib.callbacks:R[write to console]: =\n",
            "WARNING:rpy2.rinterface_lib.callbacks:R[write to console]: =\n",
            "WARNING:rpy2.rinterface_lib.callbacks:R[write to console]: =\n",
            "WARNING:rpy2.rinterface_lib.callbacks:R[write to console]: =\n",
            "WARNING:rpy2.rinterface_lib.callbacks:R[write to console]: =\n",
            "WARNING:rpy2.rinterface_lib.callbacks:R[write to console]: =\n",
            "WARNING:rpy2.rinterface_lib.callbacks:R[write to console]: =\n",
            "WARNING:rpy2.rinterface_lib.callbacks:R[write to console]: =\n",
            "WARNING:rpy2.rinterface_lib.callbacks:R[write to console]: =\n",
            "WARNING:rpy2.rinterface_lib.callbacks:R[write to console]: =\n",
            "WARNING:rpy2.rinterface_lib.callbacks:R[write to console]: =\n",
            "WARNING:rpy2.rinterface_lib.callbacks:R[write to console]: =\n",
            "WARNING:rpy2.rinterface_lib.callbacks:R[write to console]: =\n",
            "WARNING:rpy2.rinterface_lib.callbacks:R[write to console]: =\n",
            "WARNING:rpy2.rinterface_lib.callbacks:R[write to console]: =\n",
            "WARNING:rpy2.rinterface_lib.callbacks:R[write to console]: =\n",
            "WARNING:rpy2.rinterface_lib.callbacks:R[write to console]: =\n",
            "WARNING:rpy2.rinterface_lib.callbacks:R[write to console]: =\n",
            "WARNING:rpy2.rinterface_lib.callbacks:R[write to console]: =\n",
            "WARNING:rpy2.rinterface_lib.callbacks:R[write to console]: =\n",
            "WARNING:rpy2.rinterface_lib.callbacks:R[write to console]: =\n",
            "WARNING:rpy2.rinterface_lib.callbacks:R[write to console]: =\n",
            "WARNING:rpy2.rinterface_lib.callbacks:R[write to console]: =\n",
            "WARNING:rpy2.rinterface_lib.callbacks:R[write to console]: =\n",
            "WARNING:rpy2.rinterface_lib.callbacks:R[write to console]: =\n",
            "WARNING:rpy2.rinterface_lib.callbacks:R[write to console]: =\n",
            "WARNING:rpy2.rinterface_lib.callbacks:R[write to console]: =\n",
            "WARNING:rpy2.rinterface_lib.callbacks:R[write to console]: \n",
            "\n",
            "WARNING:rpy2.rinterface_lib.callbacks:R[write to console]: downloaded 3.0 MB\n",
            "\n",
            "\n",
            "WARNING:rpy2.rinterface_lib.callbacks:R[write to console]: \n",
            "\n",
            "WARNING:rpy2.rinterface_lib.callbacks:R[write to console]: \n",
            "WARNING:rpy2.rinterface_lib.callbacks:R[write to console]: The downloaded source packages are in\n",
            "\t‘/tmp/RtmpfN3vEw/downloaded_packages’\n",
            "WARNING:rpy2.rinterface_lib.callbacks:R[write to console]: \n",
            "WARNING:rpy2.rinterface_lib.callbacks:R[write to console]: \n",
            "\n",
            "WARNING:rpy2.rinterface_lib.callbacks:R[write to console]: Installing package into ‘/usr/local/lib/R/site-library’\n",
            "(as ‘lib’ is unspecified)\n",
            "\n",
            "WARNING:rpy2.rinterface_lib.callbacks:R[write to console]: trying URL 'https://cran.rstudio.com/src/contrib/dplyr_1.1.1.tar.gz'\n",
            "\n",
            "WARNING:rpy2.rinterface_lib.callbacks:R[write to console]: Content type 'application/x-gzip'\n",
            "WARNING:rpy2.rinterface_lib.callbacks:R[write to console]:  length 1082508 bytes (1.0 MB)\n",
            "\n",
            "WARNING:rpy2.rinterface_lib.callbacks:R[write to console]: =\n",
            "WARNING:rpy2.rinterface_lib.callbacks:R[write to console]: =\n",
            "WARNING:rpy2.rinterface_lib.callbacks:R[write to console]: =\n",
            "WARNING:rpy2.rinterface_lib.callbacks:R[write to console]: =\n",
            "WARNING:rpy2.rinterface_lib.callbacks:R[write to console]: =\n",
            "WARNING:rpy2.rinterface_lib.callbacks:R[write to console]: =\n",
            "WARNING:rpy2.rinterface_lib.callbacks:R[write to console]: =\n",
            "WARNING:rpy2.rinterface_lib.callbacks:R[write to console]: =\n",
            "WARNING:rpy2.rinterface_lib.callbacks:R[write to console]: =\n",
            "WARNING:rpy2.rinterface_lib.callbacks:R[write to console]: =\n",
            "WARNING:rpy2.rinterface_lib.callbacks:R[write to console]: =\n",
            "WARNING:rpy2.rinterface_lib.callbacks:R[write to console]: =\n",
            "WARNING:rpy2.rinterface_lib.callbacks:R[write to console]: =\n",
            "WARNING:rpy2.rinterface_lib.callbacks:R[write to console]: =\n",
            "WARNING:rpy2.rinterface_lib.callbacks:R[write to console]: =\n",
            "WARNING:rpy2.rinterface_lib.callbacks:R[write to console]: =\n",
            "WARNING:rpy2.rinterface_lib.callbacks:R[write to console]: =\n",
            "WARNING:rpy2.rinterface_lib.callbacks:R[write to console]: =\n",
            "WARNING:rpy2.rinterface_lib.callbacks:R[write to console]: =\n",
            "WARNING:rpy2.rinterface_lib.callbacks:R[write to console]: =\n",
            "WARNING:rpy2.rinterface_lib.callbacks:R[write to console]: =\n",
            "WARNING:rpy2.rinterface_lib.callbacks:R[write to console]: =\n",
            "WARNING:rpy2.rinterface_lib.callbacks:R[write to console]: =\n",
            "WARNING:rpy2.rinterface_lib.callbacks:R[write to console]: =\n",
            "WARNING:rpy2.rinterface_lib.callbacks:R[write to console]: =\n",
            "WARNING:rpy2.rinterface_lib.callbacks:R[write to console]: =\n",
            "WARNING:rpy2.rinterface_lib.callbacks:R[write to console]: =\n",
            "WARNING:rpy2.rinterface_lib.callbacks:R[write to console]: =\n",
            "WARNING:rpy2.rinterface_lib.callbacks:R[write to console]: =\n",
            "WARNING:rpy2.rinterface_lib.callbacks:R[write to console]: =\n",
            "WARNING:rpy2.rinterface_lib.callbacks:R[write to console]: =\n",
            "WARNING:rpy2.rinterface_lib.callbacks:R[write to console]: =\n",
            "WARNING:rpy2.rinterface_lib.callbacks:R[write to console]: =\n",
            "WARNING:rpy2.rinterface_lib.callbacks:R[write to console]: =\n",
            "WARNING:rpy2.rinterface_lib.callbacks:R[write to console]: =\n",
            "WARNING:rpy2.rinterface_lib.callbacks:R[write to console]: =\n",
            "WARNING:rpy2.rinterface_lib.callbacks:R[write to console]: =\n",
            "WARNING:rpy2.rinterface_lib.callbacks:R[write to console]: =\n",
            "WARNING:rpy2.rinterface_lib.callbacks:R[write to console]: =\n",
            "WARNING:rpy2.rinterface_lib.callbacks:R[write to console]: =\n",
            "WARNING:rpy2.rinterface_lib.callbacks:R[write to console]: =\n",
            "WARNING:rpy2.rinterface_lib.callbacks:R[write to console]: =\n",
            "WARNING:rpy2.rinterface_lib.callbacks:R[write to console]: =\n",
            "WARNING:rpy2.rinterface_lib.callbacks:R[write to console]: =\n",
            "WARNING:rpy2.rinterface_lib.callbacks:R[write to console]: =\n",
            "WARNING:rpy2.rinterface_lib.callbacks:R[write to console]: =\n",
            "WARNING:rpy2.rinterface_lib.callbacks:R[write to console]: =\n",
            "WARNING:rpy2.rinterface_lib.callbacks:R[write to console]: =\n",
            "WARNING:rpy2.rinterface_lib.callbacks:R[write to console]: =\n",
            "WARNING:rpy2.rinterface_lib.callbacks:R[write to console]: =\n",
            "WARNING:rpy2.rinterface_lib.callbacks:R[write to console]: \n",
            "\n",
            "WARNING:rpy2.rinterface_lib.callbacks:R[write to console]: downloaded 1.0 MB\n",
            "\n",
            "\n",
            "WARNING:rpy2.rinterface_lib.callbacks:R[write to console]: \n",
            "\n",
            "WARNING:rpy2.rinterface_lib.callbacks:R[write to console]: \n",
            "WARNING:rpy2.rinterface_lib.callbacks:R[write to console]: The downloaded source packages are in\n",
            "\t‘/tmp/RtmpfN3vEw/downloaded_packages’\n",
            "WARNING:rpy2.rinterface_lib.callbacks:R[write to console]: \n",
            "WARNING:rpy2.rinterface_lib.callbacks:R[write to console]: \n",
            "\n"
          ]
        }
      ]
    },
    {
      "cell_type": "code",
      "source": [
        "%%R\n",
        "\n",
        "library(readxl)\n",
        "Data_R <- read_excel('/content/drive/MyDrive/Sample - Superstore.xlsx')"
      ],
      "metadata": {
        "id": "ji_wTIqcOvh4"
      },
      "execution_count": null,
      "outputs": []
    },
    {
      "cell_type": "code",
      "source": [
        "%%R\n",
        "library(ggplot2)\n",
        "\n",
        "ggplot(Data_R, aes(x = Sales)) + geom_boxplot()"
      ],
      "metadata": {
        "id": "hqgZtBdXp229",
        "colab": {
          "base_uri": "https://localhost:8080/",
          "height": 497
        },
        "outputId": "896ff886-9cc7-43f4-dc4b-af16b72f4a78"
      },
      "execution_count": null,
      "outputs": [
        {
          "output_type": "display_data",
          "data": {
            "image/png": "[encoded data removed]"
          },
          "metadata": {}
        }
      ]
    },
    {
      "cell_type": "code",
      "source": [
        "import matplotlib.pyplot as plt\n",
        "import numpy as np"
      ],
      "metadata": {
        "id": "3XAFECrPJ8Cl"
      },
      "execution_count": null,
      "outputs": []
    },
    {
      "cell_type": "code",
      "source": [
        "data = np.random.randn(100)\n"
      ],
      "metadata": {
        "id": "EQzVuzQSJ9lH"
      },
      "execution_count": null,
      "outputs": []
    },
    {
      "cell_type": "code",
      "source": [
        "plt.boxplot(data, vert=False, widths=0.5, patch_artist=True, boxprops=dict(facecolor='blue', color='black'), whiskerprops=dict(color='black', linestyle='--'), medianprops=dict(color='red'), flierprops=dict(marker='o', markerfacecolor='green', markersize=8))\n"
      ],
      "metadata": {
        "colab": {
          "base_uri": "https://localhost:8080/",
          "height": 569
        },
        "id": "zxthukNIKCGc",
        "outputId": "392a883c-7e56-423c-9e6f-68ef04646ae5"
      },
      "execution_count": null,
      "outputs": [
        {
          "output_type": "execute_result",
          "data": {
            "text/plain": [
              "{'whiskers': [<matplotlib.lines.Line2D at 0x7fd13de56a60>,\n",
              "  <matplotlib.lines.Line2D at 0x7fd13de56100>],\n",
              " 'caps': [<matplotlib.lines.Line2D at 0x7fd13de56130>,\n",
              "  <matplotlib.lines.Line2D at 0x7fd13de56610>],\n",
              " 'boxes': [<matplotlib.patches.PathPatch at 0x7fd13de56df0>],\n",
              " 'medians': [<matplotlib.lines.Line2D at 0x7fd13de58fa0>],\n",
              " 'fliers': [<matplotlib.lines.Line2D at 0x7fd13de58d00>],\n",
              " 'means': []}"
            ]
          },
          "metadata": {},
          "execution_count": 170
        },
        {
          "output_type": "display_data",
          "data": {
            "text/plain": [
              "<Figure size 640x480 with 1 Axes>"
            ],
            "image/png": "[encoded data removed]"
          },
          "metadata": {}
        }
      ]
    },
    {
      "cell_type": "markdown",
      "source": [
        "Pregunta, qué tan comprensible es la gráfica? se puede interpretar los cuartíles aquí?. De no ser así, vamos a eliminar los valores extremos para intentar obtener una mejor visual de los gráficos. \n",
        "\n",
        "**Respuesta:** La gráfica no es interpretable, dado que,\n",
        "los valores extremos de las ventas provocan que la la caja no se puede visualizar de manera optima.\n",
        "\n",
        "Para eso vamos a retirar los valores extremos calculando los cuartiles y el método IQR."
      ],
      "metadata": {
        "id": "pebt1ZhY-_4o"
      }
    },
    {
      "cell_type": "code",
      "source": [
        "# Calcular límites para la variable 'Category' usando el método IQR\n",
        "import seaborn as sns\n",
        "Q1 = Data['Sales'].quantile(0.25)\n",
        "Q3 = Data['Sales'].quantile(0.75)\n",
        "IQR = Q3 - Q1\n",
        "lower_limit = Q1 - 1.5 * IQR \n",
        "upper_limit = Q3 + 1.5 * IQR\n",
        "\n",
        "# Eliminar outliers\n",
        "Data = Data[(Data['Sales'] > lower_limit) & ( Data['Sales']  < upper_limit)]\n",
        "sns.boxplot(data = Data, x = 'Sales')"
      ],
      "metadata": {
        "id": "N6dOeOqa_OLq",
        "colab": {
          "base_uri": "https://localhost:8080/",
          "height": 466
        },
        "outputId": "b7e4f952-5e6b-4c6f-a995-dd22d8edb179"
      },
      "execution_count": null,
      "outputs": [
        {
          "output_type": "execute_result",
          "data": {
            "text/plain": [
              "<Axes: xlabel='Sales'>"
            ]
          },
          "metadata": {},
          "execution_count": 136
        },
        {
          "output_type": "display_data",
          "data": {
            "text/plain": [
              "<Figure size 640x480 with 1 Axes>"
            ],
            "image/png": "[encoded data removed]"
          },
          "metadata": {}
        }
      ]
    },
    {
      "cell_type": "code",
      "source": [
        "%%R\n",
        "\n",
        "# Calcular límites para la variable 'Category' usando el método IQR\n",
        "Q1 <- quantile(Data_R$Sales)[2]\n",
        "Q3 <- quantile(Data_R$Sales)[4]\n",
        "IQR <- Q3 - Q1\n",
        "lower_limit <- Q1 - 1.5 * IQR\n",
        "upper_limit <- Q3 + 1.5 * IQR\n",
        "lower_limit ; upper_limit\n",
        "Data_R <- Data_R[Data_R$Sales > lower_limit & Data_R$Sales < upper_limit, ]\n",
        "\n",
        "# Crear box plot usando ggplot2\n",
        "ggplot(Data_R, aes(x = Sales )) + geom_boxplot()\n",
        "# Eliminar outliers\n",
        "\n"
      ],
      "metadata": {
        "id": "snbBJp4UBtZt",
        "colab": {
          "base_uri": "https://localhost:8080/",
          "height": 497
        },
        "outputId": "1088f3da-cfa7-46b6-ef95-b91477c794c0"
      },
      "execution_count": null,
      "outputs": [
        {
          "output_type": "display_data",
          "data": {
            "image/png": "[encoded data removed]"
          },
          "metadata": {}
        }
      ]
    },
    {
      "cell_type": "markdown",
      "source": [
        "Despues de eliminar los valores atipicos, encontramos que, aún asi, se encuentran varios valores fuera del comportamiento general de los datos, sin embargo, estos ya permiten el analisis de la visualización. Se observa que la distribución de los cuartiles de ventas es asimetrica positiva, es decir, es mas frecuente encontrar ventas comprendidas entre los valores de 0 y 100 aproximadamente.\n",
        "\n",
        "Ahora la pregunta es... dentro de los cuartiles de ventas, cuál es la categoría que ha vendido menos valor monetario?\n",
        "\n",
        "A. Furniture.\n",
        "B. Office Supplies.\n",
        "C. Technology. \n",
        "\n",
        "La categoría que menos vendio es Technology."
      ],
      "metadata": {
        "id": "Fpehpak-JstD"
      }
    },
    {
      "cell_type": "code",
      "source": [
        "%%R\n",
        "top_categoria <- Data_R %>%\n",
        "    group_by(Category) %>%\n",
        "    summarise('ventas' = sum(Sales)) %>%\n",
        "    arrange(ventas)\n",
        "top_categoria "
      ],
      "metadata": {
        "id": "7J5pwK6iXQKm",
        "colab": {
          "base_uri": "https://localhost:8080/"
        },
        "outputId": "87359ccd-294d-4ee8-9dad-5d0772da7632"
      },
      "execution_count": null,
      "outputs": [
        {
          "output_type": "stream",
          "name": "stdout",
          "text": [
            "# A tibble: 3 × 2\n",
            "  Category         ventas\n",
            "  <chr>             <dbl>\n",
            "1 Technology      228415.\n",
            "2 Furniture       247878.\n",
            "3 Office Supplies 343425.\n"
          ]
        }
      ]
    },
    {
      "cell_type": "code",
      "source": [
        "%%R\n",
        "ggplot(Data_R, aes(x = Category, y = Sales )) + geom_boxplot()"
      ],
      "metadata": {
        "id": "bQmIZPH4aqoO",
        "colab": {
          "base_uri": "https://localhost:8080/",
          "height": 497
        },
        "outputId": "56a4b039-663c-45a6-c5ce-484aedde0c4d"
      },
      "execution_count": null,
      "outputs": [
        {
          "output_type": "display_data",
          "data": {
            "image/png": "[encoded data removed]"
          },
          "metadata": {}
        }
      ]
    },
    {
      "cell_type": "code",
      "source": [
        "%%R\n",
        "# Encontrar la region que más vendió.\n",
        "# La región que mas vendio es West\n",
        "top_region <- Data_R %>%\n",
        "    group_by(Region) %>%\n",
        "    summarise('ventas' = sum(Sales)) %>%\n",
        "    arrange(ventas)\n",
        "top_region "
      ],
      "metadata": {
        "id": "IM45dxSRNVxQ",
        "colab": {
          "base_uri": "https://localhost:8080/"
        },
        "outputId": "b266d836-74cc-4ba5-9a74-2cd06b64c538"
      },
      "execution_count": null,
      "outputs": [
        {
          "output_type": "stream",
          "name": "stdout",
          "text": [
            "# A tibble: 4 × 2\n",
            "  Region   ventas\n",
            "  <chr>     <dbl>\n",
            "1 South   127579.\n",
            "2 Central 183441.\n",
            "3 East    232887.\n",
            "4 West    275810.\n"
          ]
        }
      ]
    },
    {
      "cell_type": "code",
      "source": [
        "%%R\n",
        "ggplot(Data_R, aes(x = Region, y = Sales )) + geom_boxplot()"
      ],
      "metadata": {
        "id": "anrMi_EzOXBB",
        "colab": {
          "base_uri": "https://localhost:8080/",
          "height": 497
        },
        "outputId": "cf94ba93-9402-4d90-8783-a72bd4eb9e72"
      },
      "execution_count": null,
      "outputs": [
        {
          "output_type": "display_data",
          "data": {
            "image/png": "[encoded data removed]"
          },
          "metadata": {}
        }
      ]
    },
    {
      "cell_type": "markdown",
      "source": [
        "usando la misma base de datos, crea un código en R y uno en python que: \n",
        "\n",
        "1. filtre la información referente a 'Sean O'Donnell'. "
      ],
      "metadata": {
        "id": "29cWAT-iPk3r"
      }
    },
    {
      "cell_type": "code",
      "source": [
        "%%R\n",
        "SOD = Data_R %>% filter(Data_R$\"Customer Name\" == \"Sean O'Donnell\")\n",
        "SOD"
      ],
      "metadata": {
        "id": "S8YVhm4BPik1",
        "colab": {
          "base_uri": "https://localhost:8080/"
        },
        "outputId": "0b8d9d28-887c-41d8-966d-ac7ab2c2b9ff"
      },
      "execution_count": null,
      "outputs": [
        {
          "output_type": "stream",
          "name": "stdout",
          "text": [
            "# A tibble: 14 × 21\n",
            "   Columna1 `Order ID`     `Order Date`        `Ship Date`         `Ship Mode`  \n",
            "      <dbl> <chr>          <dttm>              <dttm>              <chr>        \n",
            " 1        5 US-2016-108966 2016-10-11 00:00:00 2016-10-18 00:00:00 Standard Cla…\n",
            " 2     3374 CA-2016-161718 2016-12-04 00:00:00 2016-12-10 00:00:00 Standard Cla…\n",
            " 3     3375 CA-2016-161718 2016-12-04 00:00:00 2016-12-10 00:00:00 Standard Cla…\n",
            " 4     3376 CA-2016-161718 2016-12-04 00:00:00 2016-12-10 00:00:00 Standard Cla…\n",
            " 5     3377 CA-2016-161718 2016-12-04 00:00:00 2016-12-10 00:00:00 Standard Cla…\n",
            " 6     4623 CA-2018-147228 2018-09-09 00:00:00 2018-09-14 00:00:00 Standard Cla…\n",
            " 7     4624 CA-2018-147228 2018-09-09 00:00:00 2018-09-14 00:00:00 Standard Cla…\n",
            " 8     4625 CA-2018-147228 2018-09-09 00:00:00 2018-09-14 00:00:00 Standard Cla…\n",
            " 9     4626 CA-2018-147228 2018-09-09 00:00:00 2018-09-14 00:00:00 Standard Cla…\n",
            "10     6980 CA-2018-149076 2018-01-14 00:00:00 2018-01-19 00:00:00 Standard Cla…\n",
            "11     7122 CA-2018-166926 2018-12-01 00:00:00 2018-12-08 00:00:00 Standard Cla…\n",
            "12     7123 CA-2018-166926 2018-12-01 00:00:00 2018-12-08 00:00:00 Standard Cla…\n",
            "13     8592 CA-2018-101700 2018-04-23 00:00:00 2018-04-26 00:00:00 First Class  \n",
            "14     8593 CA-2018-101700 2018-04-23 00:00:00 2018-04-26 00:00:00 First Class  \n",
            "# ℹ 16 more variables: `Customer ID` <chr>, `Customer Name` <chr>,\n",
            "#   Segment <chr>, Country <chr>, City <chr>, State <chr>, `Postal Code` <dbl>,\n",
            "#   Region <chr>, `Product ID` <chr>, Category <chr>, `Sub-Category` <chr>,\n",
            "#   `Product Name` <chr>, Sales <dbl>, Quantity <dbl>, Discount <dbl>,\n",
            "#   Profit <dbl>\n"
          ]
        }
      ]
    },
    {
      "cell_type": "code",
      "source": [
        "SOD = Data[Data['Customer Name'] == \"Sean O'Donnell\"]\n",
        "SOD"
      ],
      "metadata": {
        "id": "S4nMDQb2ct2B",
        "colab": {
          "base_uri": "https://localhost:8080/",
          "height": 1000
        },
        "outputId": "bc176732-6f4d-462e-ee90-f84869b19d8e"
      },
      "execution_count": null,
      "outputs": [
        {
          "output_type": "execute_result",
          "data": {
            "text/plain": [
              "      Columna1        Order ID Order Date  Ship Date       Ship Mode  \\\n",
              "4            5  US-2016-108966 2016-10-11 2016-10-18  Standard Class   \n",
              "3373      3374  CA-2016-161718 2016-12-04 2016-12-10  Standard Class   \n",
              "3374      3375  CA-2016-161718 2016-12-04 2016-12-10  Standard Class   \n",
              "3375      3376  CA-2016-161718 2016-12-04 2016-12-10  Standard Class   \n",
              "3376      3377  CA-2016-161718 2016-12-04 2016-12-10  Standard Class   \n",
              "4622      4623  CA-2018-147228 2018-09-09 2018-09-14  Standard Class   \n",
              "4623      4624  CA-2018-147228 2018-09-09 2018-09-14  Standard Class   \n",
              "4624      4625  CA-2018-147228 2018-09-09 2018-09-14  Standard Class   \n",
              "4625      4626  CA-2018-147228 2018-09-09 2018-09-14  Standard Class   \n",
              "6979      6980  CA-2018-149076 2018-01-14 2018-01-19  Standard Class   \n",
              "7121      7122  CA-2018-166926 2018-12-01 2018-12-08  Standard Class   \n",
              "7122      7123  CA-2018-166926 2018-12-01 2018-12-08  Standard Class   \n",
              "8591      8592  CA-2018-101700 2018-04-23 2018-04-26     First Class   \n",
              "8592      8593  CA-2018-101700 2018-04-23 2018-04-26     First Class   \n",
              "\n",
              "     Customer ID   Customer Name   Segment        Country             City  \\\n",
              "4       SO-20335  Sean O'Donnell  Consumer  United States  Fort Lauderdale   \n",
              "3373    SO-20335  Sean O'Donnell  Consumer  United States        Hempstead   \n",
              "3374    SO-20335  Sean O'Donnell  Consumer  United States        Hempstead   \n",
              "3375    SO-20335  Sean O'Donnell  Consumer  United States        Hempstead   \n",
              "3376    SO-20335  Sean O'Donnell  Consumer  United States        Hempstead   \n",
              "4622    SO-20335  Sean O'Donnell  Consumer  United States         Columbia   \n",
              "4623    SO-20335  Sean O'Donnell  Consumer  United States         Columbia   \n",
              "4624    SO-20335  Sean O'Donnell  Consumer  United States         Columbia   \n",
              "4625    SO-20335  Sean O'Donnell  Consumer  United States         Columbia   \n",
              "6979    SO-20335  Sean O'Donnell  Consumer  United States      Los Angeles   \n",
              "7121    SO-20335  Sean O'Donnell  Consumer  United States          Seattle   \n",
              "7122    SO-20335  Sean O'Donnell  Consumer  United States          Seattle   \n",
              "8591    SO-20335  Sean O'Donnell  Consumer  United States          Greeley   \n",
              "8592    SO-20335  Sean O'Donnell  Consumer  United States          Greeley   \n",
              "\n",
              "      ... Postal Code  Region       Product ID         Category Sub-Category  \\\n",
              "4     ...     33311.0   South  OFF-ST-10000760  Office Supplies      Storage   \n",
              "3373  ...     11550.0    East  FUR-FU-10002445        Furniture  Furnishings   \n",
              "3374  ...     11550.0    East  FUR-CH-10002372        Furniture       Chairs   \n",
              "3375  ...     11550.0    East  TEC-PH-10000376       Technology       Phones   \n",
              "3376  ...     11550.0    East  FUR-CH-10002965        Furniture       Chairs   \n",
              "4622  ...     38401.0   South  OFF-SU-10001225  Office Supplies     Supplies   \n",
              "4623  ...     38401.0   South  OFF-PA-10000357  Office Supplies        Paper   \n",
              "4624  ...     38401.0   South  OFF-ST-10000046  Office Supplies      Storage   \n",
              "4625  ...     38401.0   South  FUR-FU-10000023        Furniture  Furnishings   \n",
              "6979  ...     90036.0    West  OFF-PA-10000483  Office Supplies        Paper   \n",
              "7121  ...     98105.0    West  OFF-PA-10001593  Office Supplies        Paper   \n",
              "7122  ...     98105.0    West  FUR-BO-10002598        Furniture    Bookcases   \n",
              "8591  ...     80634.0    West  OFF-EN-10003134  Office Supplies    Envelopes   \n",
              "8592  ...     80634.0    West  FUR-FU-10001025        Furniture  Furnishings   \n",
              "\n",
              "                                           Product Name    Sales  Quantity  \\\n",
              "4                        Eldon Fold 'N Roll Cart System   22.368         2   \n",
              "3373  DAX Two-Tone Rosewood/Black Document Frame, De...   28.440         3   \n",
              "3374    Office Star - Ergonomically Designed Knee Chair  364.410         5   \n",
              "3375                          Square Credit Card Reader   39.960         4   \n",
              "3376  Global Leather Highback Executive Chair with P...  361.764         2   \n",
              "4622                                     Staple remover    8.832         3   \n",
              "4623                                         Xerox 1888  177.536         4   \n",
              "4624                   Fellowes Super Stor/Drawer Files  258.480         2   \n",
              "4625                        Eldon Wave Desk Accessories   14.136         3   \n",
              "6979                                           Xerox 19  154.900         5   \n",
              "7121                                         Xerox 1947   41.860         7   \n",
              "7122                         Hon Metal Bookcases, Putty  141.960         2   \n",
              "8591                                    Staple envelope   18.688         2   \n",
              "8592         Eldon Imàge Series Desk Accessories, Clear   11.664         3   \n",
              "\n",
              "      Discount   Profit  \n",
              "4          0.2   2.5164  \n",
              "3373       0.0  11.3760  \n",
              "3374       0.1   8.0980  \n",
              "3375       0.0  10.3896  \n",
              "3376       0.1  68.3332  \n",
              "4622       0.2  -1.9872  \n",
              "4623       0.2  62.1376  \n",
              "4624       0.2  -3.2310  \n",
              "4625       0.2   4.2408  \n",
              "6979       0.0  69.7050  \n",
              "7121       0.0  18.8370  \n",
              "7122       0.0  41.1684  \n",
              "8591       0.2   7.0080  \n",
              "8592       0.2   3.3534  \n",
              "\n",
              "[14 rows x 21 columns]"
            ],
            "text/html": [
              "\n",
              "  <div id=\"df-0b96117d-028e-4f82-9487-29b79e990a65\">\n",
              "    <div class=\"colab-df-container\">\n",
              "      <div>\n",
              "<style scoped>\n",
              "    .dataframe tbody tr th:only-of-type {\n",
              "        vertical-align: middle;\n",
              "    }\n",
              "\n",
              "    .dataframe tbody tr th {\n",
              "        vertical-align: top;\n",
              "    }\n",
              "\n",
              "    .dataframe thead th {\n",
              "        text-align: right;\n",
              "    }\n",
              "</style>\n",
              "<table border=\"1\" class=\"dataframe\">\n",
              "  <thead>\n",
              "    <tr style=\"text-align: right;\">\n",
              "      <th></th>\n",
              "      <th>Columna1</th>\n",
              "      <th>Order ID</th>\n",
              "      <th>Order Date</th>\n",
              "      <th>Ship Date</th>\n",
              "      <th>Ship Mode</th>\n",
              "      <th>Customer ID</th>\n",
              "      <th>Customer Name</th>\n",
              "      <th>Segment</th>\n",
              "      <th>Country</th>\n",
              "      <th>City</th>\n",
              "      <th>...</th>\n",
              "      <th>Postal Code</th>\n",
              "      <th>Region</th>\n",
              "      <th>Product ID</th>\n",
              "      <th>Category</th>\n",
              "      <th>Sub-Category</th>\n",
              "      <th>Product Name</th>\n",
              "      <th>Sales</th>\n",
              "      <th>Quantity</th>\n",
              "      <th>Discount</th>\n",
              "      <th>Profit</th>\n",
              "    </tr>\n",
              "  </thead>\n",
              "  <tbody>\n",
              "    <tr>\n",
              "      <th>4</th>\n",
              "      <td>5</td>\n",
              "      <td>US-2016-108966</td>\n",
              "      <td>2016-10-11</td>\n",
              "      <td>2016-10-18</td>\n",
              "      <td>Standard Class</td>\n",
              "      <td>SO-20335</td>\n",
              "      <td>Sean O'Donnell</td>\n",
              "      <td>Consumer</td>\n",
              "      <td>United States</td>\n",
              "      <td>Fort Lauderdale</td>\n",
              "      <td>...</td>\n",
              "      <td>33311.0</td>\n",
              "      <td>South</td>\n",
              "      <td>OFF-ST-10000760</td>\n",
              "      <td>Office Supplies</td>\n",
              "      <td>Storage</td>\n",
              "      <td>Eldon Fold 'N Roll Cart System</td>\n",
              "      <td>22.368</td>\n",
              "      <td>2</td>\n",
              "      <td>0.2</td>\n",
              "      <td>2.5164</td>\n",
              "    </tr>\n",
              "    <tr>\n",
              "      <th>3373</th>\n",
              "      <td>3374</td>\n",
              "      <td>CA-2016-161718</td>\n",
              "      <td>2016-12-04</td>\n",
              "      <td>2016-12-10</td>\n",
              "      <td>Standard Class</td>\n",
              "      <td>SO-20335</td>\n",
              "      <td>Sean O'Donnell</td>\n",
              "      <td>Consumer</td>\n",
              "      <td>United States</td>\n",
              "      <td>Hempstead</td>\n",
              "      <td>...</td>\n",
              "      <td>11550.0</td>\n",
              "      <td>East</td>\n",
              "      <td>FUR-FU-10002445</td>\n",
              "      <td>Furniture</td>\n",
              "      <td>Furnishings</td>\n",
              "      <td>DAX Two-Tone Rosewood/Black Document Frame, De...</td>\n",
              "      <td>28.440</td>\n",
              "      <td>3</td>\n",
              "      <td>0.0</td>\n",
              "      <td>11.3760</td>\n",
              "    </tr>\n",
              "    <tr>\n",
              "      <th>3374</th>\n",
              "      <td>3375</td>\n",
              "      <td>CA-2016-161718</td>\n",
              "      <td>2016-12-04</td>\n",
              "      <td>2016-12-10</td>\n",
              "      <td>Standard Class</td>\n",
              "      <td>SO-20335</td>\n",
              "      <td>Sean O'Donnell</td>\n",
              "      <td>Consumer</td>\n",
              "      <td>United States</td>\n",
              "      <td>Hempstead</td>\n",
              "      <td>...</td>\n",
              "      <td>11550.0</td>\n",
              "      <td>East</td>\n",
              "      <td>FUR-CH-10002372</td>\n",
              "      <td>Furniture</td>\n",
              "      <td>Chairs</td>\n",
              "      <td>Office Star - Ergonomically Designed Knee Chair</td>\n",
              "      <td>364.410</td>\n",
              "      <td>5</td>\n",
              "      <td>0.1</td>\n",
              "      <td>8.0980</td>\n",
              "    </tr>\n",
              "    <tr>\n",
              "      <th>3375</th>\n",
              "      <td>3376</td>\n",
              "      <td>CA-2016-161718</td>\n",
              "      <td>2016-12-04</td>\n",
              "      <td>2016-12-10</td>\n",
              "      <td>Standard Class</td>\n",
              "      <td>SO-20335</td>\n",
              "      <td>Sean O'Donnell</td>\n",
              "      <td>Consumer</td>\n",
              "      <td>United States</td>\n",
              "      <td>Hempstead</td>\n",
              "      <td>...</td>\n",
              "      <td>11550.0</td>\n",
              "      <td>East</td>\n",
              "      <td>TEC-PH-10000376</td>\n",
              "      <td>Technology</td>\n",
              "      <td>Phones</td>\n",
              "      <td>Square Credit Card Reader</td>\n",
              "      <td>39.960</td>\n",
              "      <td>4</td>\n",
              "      <td>0.0</td>\n",
              "      <td>10.3896</td>\n",
              "    </tr>\n",
              "    <tr>\n",
              "      <th>3376</th>\n",
              "      <td>3377</td>\n",
              "      <td>CA-2016-161718</td>\n",
              "      <td>2016-12-04</td>\n",
              "      <td>2016-12-10</td>\n",
              "      <td>Standard Class</td>\n",
              "      <td>SO-20335</td>\n",
              "      <td>Sean O'Donnell</td>\n",
              "      <td>Consumer</td>\n",
              "      <td>United States</td>\n",
              "      <td>Hempstead</td>\n",
              "      <td>...</td>\n",
              "      <td>11550.0</td>\n",
              "      <td>East</td>\n",
              "      <td>FUR-CH-10002965</td>\n",
              "      <td>Furniture</td>\n",
              "      <td>Chairs</td>\n",
              "      <td>Global Leather Highback Executive Chair with P...</td>\n",
              "      <td>361.764</td>\n",
              "      <td>2</td>\n",
              "      <td>0.1</td>\n",
              "      <td>68.3332</td>\n",
              "    </tr>\n",
              "    <tr>\n",
              "      <th>4622</th>\n",
              "      <td>4623</td>\n",
              "      <td>CA-2018-147228</td>\n",
              "      <td>2018-09-09</td>\n",
              "      <td>2018-09-14</td>\n",
              "      <td>Standard Class</td>\n",
              "      <td>SO-20335</td>\n",
              "      <td>Sean O'Donnell</td>\n",
              "      <td>Consumer</td>\n",
              "      <td>United States</td>\n",
              "      <td>Columbia</td>\n",
              "      <td>...</td>\n",
              "      <td>38401.0</td>\n",
              "      <td>South</td>\n",
              "      <td>OFF-SU-10001225</td>\n",
              "      <td>Office Supplies</td>\n",
              "      <td>Supplies</td>\n",
              "      <td>Staple remover</td>\n",
              "      <td>8.832</td>\n",
              "      <td>3</td>\n",
              "      <td>0.2</td>\n",
              "      <td>-1.9872</td>\n",
              "    </tr>\n",
              "    <tr>\n",
              "      <th>4623</th>\n",
              "      <td>4624</td>\n",
              "      <td>CA-2018-147228</td>\n",
              "      <td>2018-09-09</td>\n",
              "      <td>2018-09-14</td>\n",
              "      <td>Standard Class</td>\n",
              "      <td>SO-20335</td>\n",
              "      <td>Sean O'Donnell</td>\n",
              "      <td>Consumer</td>\n",
              "      <td>United States</td>\n",
              "      <td>Columbia</td>\n",
              "      <td>...</td>\n",
              "      <td>38401.0</td>\n",
              "      <td>South</td>\n",
              "      <td>OFF-PA-10000357</td>\n",
              "      <td>Office Supplies</td>\n",
              "      <td>Paper</td>\n",
              "      <td>Xerox 1888</td>\n",
              "      <td>177.536</td>\n",
              "      <td>4</td>\n",
              "      <td>0.2</td>\n",
              "      <td>62.1376</td>\n",
              "    </tr>\n",
              "    <tr>\n",
              "      <th>4624</th>\n",
              "      <td>4625</td>\n",
              "      <td>CA-2018-147228</td>\n",
              "      <td>2018-09-09</td>\n",
              "      <td>2018-09-14</td>\n",
              "      <td>Standard Class</td>\n",
              "      <td>SO-20335</td>\n",
              "      <td>Sean O'Donnell</td>\n",
              "      <td>Consumer</td>\n",
              "      <td>United States</td>\n",
              "      <td>Columbia</td>\n",
              "      <td>...</td>\n",
              "      <td>38401.0</td>\n",
              "      <td>South</td>\n",
              "      <td>OFF-ST-10000046</td>\n",
              "      <td>Office Supplies</td>\n",
              "      <td>Storage</td>\n",
              "      <td>Fellowes Super Stor/Drawer Files</td>\n",
              "      <td>258.480</td>\n",
              "      <td>2</td>\n",
              "      <td>0.2</td>\n",
              "      <td>-3.2310</td>\n",
              "    </tr>\n",
              "    <tr>\n",
              "      <th>4625</th>\n",
              "      <td>4626</td>\n",
              "      <td>CA-2018-147228</td>\n",
              "      <td>2018-09-09</td>\n",
              "      <td>2018-09-14</td>\n",
              "      <td>Standard Class</td>\n",
              "      <td>SO-20335</td>\n",
              "      <td>Sean O'Donnell</td>\n",
              "      <td>Consumer</td>\n",
              "      <td>United States</td>\n",
              "      <td>Columbia</td>\n",
              "      <td>...</td>\n",
              "      <td>38401.0</td>\n",
              "      <td>South</td>\n",
              "      <td>FUR-FU-10000023</td>\n",
              "      <td>Furniture</td>\n",
              "      <td>Furnishings</td>\n",
              "      <td>Eldon Wave Desk Accessories</td>\n",
              "      <td>14.136</td>\n",
              "      <td>3</td>\n",
              "      <td>0.2</td>\n",
              "      <td>4.2408</td>\n",
              "    </tr>\n",
              "    <tr>\n",
              "      <th>6979</th>\n",
              "      <td>6980</td>\n",
              "      <td>CA-2018-149076</td>\n",
              "      <td>2018-01-14</td>\n",
              "      <td>2018-01-19</td>\n",
              "      <td>Standard Class</td>\n",
              "      <td>SO-20335</td>\n",
              "      <td>Sean O'Donnell</td>\n",
              "      <td>Consumer</td>\n",
              "      <td>United States</td>\n",
              "      <td>Los Angeles</td>\n",
              "      <td>...</td>\n",
              "      <td>90036.0</td>\n",
              "      <td>West</td>\n",
              "      <td>OFF-PA-10000483</td>\n",
              "      <td>Office Supplies</td>\n",
              "      <td>Paper</td>\n",
              "      <td>Xerox 19</td>\n",
              "      <td>154.900</td>\n",
              "      <td>5</td>\n",
              "      <td>0.0</td>\n",
              "      <td>69.7050</td>\n",
              "    </tr>\n",
              "    <tr>\n",
              "      <th>7121</th>\n",
              "      <td>7122</td>\n",
              "      <td>CA-2018-166926</td>\n",
              "      <td>2018-12-01</td>\n",
              "      <td>2018-12-08</td>\n",
              "      <td>Standard Class</td>\n",
              "      <td>SO-20335</td>\n",
              "      <td>Sean O'Donnell</td>\n",
              "      <td>Consumer</td>\n",
              "      <td>United States</td>\n",
              "      <td>Seattle</td>\n",
              "      <td>...</td>\n",
              "      <td>98105.0</td>\n",
              "      <td>West</td>\n",
              "      <td>OFF-PA-10001593</td>\n",
              "      <td>Office Supplies</td>\n",
              "      <td>Paper</td>\n",
              "      <td>Xerox 1947</td>\n",
              "      <td>41.860</td>\n",
              "      <td>7</td>\n",
              "      <td>0.0</td>\n",
              "      <td>18.8370</td>\n",
              "    </tr>\n",
              "    <tr>\n",
              "      <th>7122</th>\n",
              "      <td>7123</td>\n",
              "      <td>CA-2018-166926</td>\n",
              "      <td>2018-12-01</td>\n",
              "      <td>2018-12-08</td>\n",
              "      <td>Standard Class</td>\n",
              "      <td>SO-20335</td>\n",
              "      <td>Sean O'Donnell</td>\n",
              "      <td>Consumer</td>\n",
              "      <td>United States</td>\n",
              "      <td>Seattle</td>\n",
              "      <td>...</td>\n",
              "      <td>98105.0</td>\n",
              "      <td>West</td>\n",
              "      <td>FUR-BO-10002598</td>\n",
              "      <td>Furniture</td>\n",
              "      <td>Bookcases</td>\n",
              "      <td>Hon Metal Bookcases, Putty</td>\n",
              "      <td>141.960</td>\n",
              "      <td>2</td>\n",
              "      <td>0.0</td>\n",
              "      <td>41.1684</td>\n",
              "    </tr>\n",
              "    <tr>\n",
              "      <th>8591</th>\n",
              "      <td>8592</td>\n",
              "      <td>CA-2018-101700</td>\n",
              "      <td>2018-04-23</td>\n",
              "      <td>2018-04-26</td>\n",
              "      <td>First Class</td>\n",
              "      <td>SO-20335</td>\n",
              "      <td>Sean O'Donnell</td>\n",
              "      <td>Consumer</td>\n",
              "      <td>United States</td>\n",
              "      <td>Greeley</td>\n",
              "      <td>...</td>\n",
              "      <td>80634.0</td>\n",
              "      <td>West</td>\n",
              "      <td>OFF-EN-10003134</td>\n",
              "      <td>Office Supplies</td>\n",
              "      <td>Envelopes</td>\n",
              "      <td>Staple envelope</td>\n",
              "      <td>18.688</td>\n",
              "      <td>2</td>\n",
              "      <td>0.2</td>\n",
              "      <td>7.0080</td>\n",
              "    </tr>\n",
              "    <tr>\n",
              "      <th>8592</th>\n",
              "      <td>8593</td>\n",
              "      <td>CA-2018-101700</td>\n",
              "      <td>2018-04-23</td>\n",
              "      <td>2018-04-26</td>\n",
              "      <td>First Class</td>\n",
              "      <td>SO-20335</td>\n",
              "      <td>Sean O'Donnell</td>\n",
              "      <td>Consumer</td>\n",
              "      <td>United States</td>\n",
              "      <td>Greeley</td>\n",
              "      <td>...</td>\n",
              "      <td>80634.0</td>\n",
              "      <td>West</td>\n",
              "      <td>FUR-FU-10001025</td>\n",
              "      <td>Furniture</td>\n",
              "      <td>Furnishings</td>\n",
              "      <td>Eldon Imàge Series Desk Accessories, Clear</td>\n",
              "      <td>11.664</td>\n",
              "      <td>3</td>\n",
              "      <td>0.2</td>\n",
              "      <td>3.3534</td>\n",
              "    </tr>\n",
              "  </tbody>\n",
              "</table>\n",
              "<p>14 rows × 21 columns</p>\n",
              "</div>\n",
              "      <button class=\"colab-df-convert\" onclick=\"convertToInteractive('df-0b96117d-028e-4f82-9487-29b79e990a65')\"\n",
              "              title=\"Convert this dataframe to an interactive table.\"\n",
              "              style=\"display:none;\">\n",
              "        \n",
              "  <svg xmlns=\"http://www.w3.org/2000/svg\" height=\"24px\"viewBox=\"0 0 24 24\"\n",
              "       width=\"24px\">\n",
              "    <path d=\"M0 0h24v24H0V0z\" fill=\"none\"/>\n",
              "    <path d=\"M18.56 5.44l.94 2.06.94-2.06 2.06-.94-2.06-.94-.94-2.06-.94 2.06-2.06.94zm-11 1L8.5 8.5l.94-2.06 2.06-.94-2.06-.94L8.5 2.5l-.94 2.06-2.06.94zm10 10l.94 2.06.94-2.06 2.06-.94-2.06-.94-.94-2.06-.94 2.06-2.06.94z\"/><path d=\"M17.41 7.96l-1.37-1.37c-.4-.4-.92-.59-1.43-.59-.52 0-1.04.2-1.43.59L10.3 9.45l-7.72 7.72c-.78.78-.78 2.05 0 2.83L4 21.41c.39.39.9.59 1.41.59.51 0 1.02-.2 1.41-.59l7.78-7.78 2.81-2.81c.8-.78.8-2.07 0-2.86zM5.41 20L4 18.59l7.72-7.72 1.47 1.35L5.41 20z\"/>\n",
              "  </svg>\n",
              "      </button>\n",
              "      \n",
              "  <style>\n",
              "    .colab-df-container {\n",
              "      display:flex;\n",
              "      flex-wrap:wrap;\n",
              "      gap: 12px;\n",
              "    }\n",
              "\n",
              "    .colab-df-convert {\n",
              "      background-color: #E8F0FE;\n",
              "      border: none;\n",
              "      border-radius: 50%;\n",
              "      cursor: pointer;\n",
              "      display: none;\n",
              "      fill: #1967D2;\n",
              "      height: 32px;\n",
              "      padding: 0 0 0 0;\n",
              "      width: 32px;\n",
              "    }\n",
              "\n",
              "    .colab-df-convert:hover {\n",
              "      background-color: #E2EBFA;\n",
              "      box-shadow: 0px 1px 2px rgba(60, 64, 67, 0.3), 0px 1px 3px 1px rgba(60, 64, 67, 0.15);\n",
              "      fill: #174EA6;\n",
              "    }\n",
              "\n",
              "    [theme=dark] .colab-df-convert {\n",
              "      background-color: #3B4455;\n",
              "      fill: #D2E3FC;\n",
              "    }\n",
              "\n",
              "    [theme=dark] .colab-df-convert:hover {\n",
              "      background-color: #434B5C;\n",
              "      box-shadow: 0px 1px 3px 1px rgba(0, 0, 0, 0.15);\n",
              "      filter: drop-shadow(0px 1px 2px rgba(0, 0, 0, 0.3));\n",
              "      fill: #FFFFFF;\n",
              "    }\n",
              "  </style>\n",
              "\n",
              "      <script>\n",
              "        const buttonEl =\n",
              "          document.querySelector('#df-0b96117d-028e-4f82-9487-29b79e990a65 button.colab-df-convert');\n",
              "        buttonEl.style.display =\n",
              "          google.colab.kernel.accessAllowed ? 'block' : 'none';\n",
              "\n",
              "        async function convertToInteractive(key) {\n",
              "          const element = document.querySelector('#df-0b96117d-028e-4f82-9487-29b79e990a65');\n",
              "          const dataTable =\n",
              "            await google.colab.kernel.invokeFunction('convertToInteractive',\n",
              "                                                     [key], {});\n",
              "          if (!dataTable) return;\n",
              "\n",
              "          const docLinkHtml = 'Like what you see? Visit the ' +\n",
              "            '<a target=\"_blank\" href=https://colab.research.google.com/notebooks/data_table.ipynb>data table notebook</a>'\n",
              "            + ' to learn more about interactive tables.';\n",
              "          element.innerHTML = '';\n",
              "          dataTable['output_type'] = 'display_data';\n",
              "          await google.colab.output.renderOutput(dataTable, element);\n",
              "          const docLink = document.createElement('div');\n",
              "          docLink.innerHTML = docLinkHtml;\n",
              "          element.appendChild(docLink);\n",
              "        }\n",
              "      </script>\n",
              "    </div>\n",
              "  </div>\n",
              "  "
            ]
          },
          "metadata": {},
          "execution_count": 143
        }
      ]
    },
    {
      "cell_type": "markdown",
      "source": [
        "2. crea un plot que me indique el nombre del producto y el valor que compró esta persona"
      ],
      "metadata": {
        "id": "SfSqWnWgdVPG"
      }
    },
    {
      "cell_type": "code",
      "source": [
        "%%R\n",
        "nombre_valor = SOD %>% \n",
        "  group_by(`Product Name`) %>% \n",
        "  summarise(ventas_totales = sum(Sales))\n"
      ],
      "metadata": {
        "id": "HfLA_T5DdnYv"
      },
      "execution_count": null,
      "outputs": []
    },
    {
      "cell_type": "code",
      "source": [
        "%%R\n",
        "Cuadro_N_V = unlist(nombre_valor[,2])\n",
        "names(Cuadro_N_V) = unlist(nombre_valor[,1])"
      ],
      "metadata": {
        "id": "NzPI7PYOeFm1"
      },
      "execution_count": null,
      "outputs": []
    },
    {
      "cell_type": "code",
      "source": [
        "%%R\n",
        "barplot(Cuadro_N_V)"
      ],
      "metadata": {
        "id": "6sH5YrG4glTM",
        "colab": {
          "base_uri": "https://localhost:8080/",
          "height": 497
        },
        "outputId": "5e164908-c146-4eac-dd7e-2d0197dd0407"
      },
      "execution_count": null,
      "outputs": [
        {
          "output_type": "display_data",
          "data": {
            "image/png": "[encoded data removed]"
          },
          "metadata": {}
        }
      ]
    },
    {
      "cell_type": "code",
      "source": [
        "import pandas as pd\n",
        "import numpy as np\n",
        "import matplotlib.pyplot as plt"
      ],
      "metadata": {
        "id": "DCqn0V9zg-7p"
      },
      "execution_count": null,
      "outputs": []
    },
    {
      "cell_type": "code",
      "source": [
        "SOD = pd.DataFrame(SOD)"
      ],
      "metadata": {
        "id": "S0s40moWiAFk"
      },
      "execution_count": null,
      "outputs": []
    },
    {
      "cell_type": "code",
      "source": [
        "from pandas.core.groupby import groupby\n",
        "Tabla_SOD = SOD.groupby('Product Name')['Sales'].sum()"
      ],
      "metadata": {
        "id": "Ggwo3p8shfvs"
      },
      "execution_count": null,
      "outputs": []
    },
    {
      "cell_type": "code",
      "source": [
        "plt.bar(list(Tabla_SOD.index), list(np.array(Tabla_SOD)))"
      ],
      "metadata": {
        "id": "XgKYFsy3jCVE",
        "colab": {
          "base_uri": "https://localhost:8080/",
          "height": 447
        },
        "outputId": "d36eac72-95cc-4521-ee16-d8ee4417fb7d"
      },
      "execution_count": null,
      "outputs": [
        {
          "output_type": "execute_result",
          "data": {
            "text/plain": [
              "<BarContainer object of 14 artists>"
            ]
          },
          "metadata": {},
          "execution_count": 150
        },
        {
          "output_type": "display_data",
          "data": {
            "text/plain": [
              "<Figure size 640x480 with 1 Axes>"
            ],
            "image/png": "[encoded data removed]"
          },
          "metadata": {}
        }
      ]
    },
    {
      "cell_type": "markdown",
      "source": [
        "A pesar de esto, la legibilidad de los gráficos es casi nula por lo que habrá que elegir una forma de mostrar a la gerencia los resultados. \n",
        "\n",
        "Vamos a organizar los datos para mostrar solamente el top de ciudades con mejores profits. "
      ],
      "metadata": {
        "id": "MRWnUfyWXK4F"
      }
    },
    {
      "cell_type": "code",
      "source": [
        "%%R\n",
        "Tabla_top_10 <- SOD %>%\n",
        "  group_by(`Product Name`) %>%\n",
        "  summarise(`ventas` = sum(Sales)) %>%\n",
        "  arrange(desc(`ventas`))\n",
        "\n",
        "Cuadro_CN <- as.data.frame(Tabla_top_10[(dim(Tabla_top_10)[1]-9):dim(Tabla_top_10)[1],])\n",
        "\n",
        "names(Cuadro_CN) <- c(\"Producto\", \"Ventas\")\n",
        "\n",
        "barplot(Cuadro_CN$Ventas, names.arg = Cuadro_CN$Producto, xlab = \"Producto\", ylab = \"Ventas\")\n"
      ],
      "metadata": {
        "id": "XjZWbFD0XazI",
        "colab": {
          "base_uri": "https://localhost:8080/",
          "height": 497
        },
        "outputId": "e77bf4c9-ce22-48c2-afda-904403e06d20"
      },
      "execution_count": null,
      "outputs": [
        {
          "output_type": "display_data",
          "data": {
            "image/png": "[encoded data removed]"
          },
          "metadata": {}
        }
      ]
    },
    {
      "cell_type": "code",
      "source": [
        "import pandas as pd\n",
        "import matplotlib.pyplot as plt\n",
        "\n",
        "Tabla_top_10 = SOD.groupby('Product Name').agg({'Sales': 'sum'}).reset_index()\n",
        "Tabla_top_10 = Tabla_top_10.sort_values(by='Sales')\n",
        "Tabla_top_10 = Tabla_top_10.tail(10)\n",
        "\n",
        "nombres_CN = Cuadro_CN.iloc[:, 0]\n",
        "Cuadro_CN = Cuadro_CN.iloc[:, 1].values\n",
        "Cuadro_CN_dict = dict(zip(nombres_CN, Cuadro_CN))\n",
        "\n",
        "plt.bar(Cuadro_CN_dict.keys(), Cuadro_CN_dict.values())\n",
        "plt.show()"
      ],
      "metadata": {
        "id": "ESH5D7lGCDpp",
        "colab": {
          "base_uri": "https://localhost:8080/",
          "height": 235
        },
        "outputId": "9e4351f6-2df9-4a4f-d047-3e06899ab40f"
      },
      "execution_count": null,
      "outputs": [
        {
          "output_type": "error",
          "ename": "NameError",
          "evalue": "ignored",
          "traceback": [
            "\u001b[0;31m---------------------------------------------------------------------------\u001b[0m",
            "\u001b[0;31mNameError\u001b[0m                                 Traceback (most recent call last)",
            "\u001b[0;32m<ipython-input-171-5bdcacefb92e>\u001b[0m in \u001b[0;36m<cell line: 8>\u001b[0;34m()\u001b[0m\n\u001b[1;32m      6\u001b[0m \u001b[0mTabla_top_10\u001b[0m \u001b[0;34m=\u001b[0m \u001b[0mTabla_top_10\u001b[0m\u001b[0;34m.\u001b[0m\u001b[0mtail\u001b[0m\u001b[0;34m(\u001b[0m\u001b[0;36m10\u001b[0m\u001b[0;34m)\u001b[0m\u001b[0;34m\u001b[0m\u001b[0;34m\u001b[0m\u001b[0m\n\u001b[1;32m      7\u001b[0m \u001b[0;34m\u001b[0m\u001b[0m\n\u001b[0;32m----> 8\u001b[0;31m \u001b[0mnombres_CN\u001b[0m \u001b[0;34m=\u001b[0m \u001b[0mCuadro_CN\u001b[0m\u001b[0;34m.\u001b[0m\u001b[0miloc\u001b[0m\u001b[0;34m[\u001b[0m\u001b[0;34m:\u001b[0m\u001b[0;34m,\u001b[0m \u001b[0;36m0\u001b[0m\u001b[0;34m]\u001b[0m\u001b[0;34m\u001b[0m\u001b[0;34m\u001b[0m\u001b[0m\n\u001b[0m\u001b[1;32m      9\u001b[0m \u001b[0mCuadro_CN\u001b[0m \u001b[0;34m=\u001b[0m \u001b[0mCuadro_CN\u001b[0m\u001b[0;34m.\u001b[0m\u001b[0miloc\u001b[0m\u001b[0;34m[\u001b[0m\u001b[0;34m:\u001b[0m\u001b[0;34m,\u001b[0m \u001b[0;36m1\u001b[0m\u001b[0;34m]\u001b[0m\u001b[0;34m.\u001b[0m\u001b[0mvalues\u001b[0m\u001b[0;34m\u001b[0m\u001b[0;34m\u001b[0m\u001b[0m\n\u001b[1;32m     10\u001b[0m \u001b[0mCuadro_CN_dict\u001b[0m \u001b[0;34m=\u001b[0m \u001b[0mdict\u001b[0m\u001b[0;34m(\u001b[0m\u001b[0mzip\u001b[0m\u001b[0;34m(\u001b[0m\u001b[0mnombres_CN\u001b[0m\u001b[0;34m,\u001b[0m \u001b[0mCuadro_CN\u001b[0m\u001b[0;34m)\u001b[0m\u001b[0;34m)\u001b[0m\u001b[0;34m\u001b[0m\u001b[0;34m\u001b[0m\u001b[0m\n",
            "\u001b[0;31mNameError\u001b[0m: name 'Cuadro_CN' is not defined"
          ]
        }
      ]
    },
    {
      "cell_type": "markdown",
      "source": [
        "Usando la misma base de datos crea un agrupado por regiones y saca la media de las ventas de cada región. Esta media asignala a una columna nueva de un dataframe llamado mean_sales. "
      ],
      "metadata": {
        "id": "cuUZemJwZkT5"
      }
    },
    {
      "cell_type": "code",
      "source": [
        "%%R\n",
        "SOD['mean_sales'] <- SOD %>% group_by(Region) %>% summarise(mean(Sales))\n"
      ],
      "metadata": {
        "id": "RJouQZkcaAwb"
      },
      "execution_count": null,
      "outputs": []
    },
    {
      "cell_type": "code",
      "source": [
        "mean_sales = SOD.groupby('Region')['Sales'].mean().reset_index()\n",
        "SOD = SOD.merge(mean_sales, on='Region', suffixes=('', '_mean'))\n"
      ],
      "metadata": {
        "id": "171Lp3n9aOFq"
      },
      "execution_count": null,
      "outputs": []
    },
    {
      "cell_type": "markdown",
      "source": [
        "Ahora vamos a graficar estos datos de forma tal que se genere un gráfico de disperción en el que se creen diferentes formas y colores para cada color, así podremos comparar las medias de las ventas de cada región. "
      ],
      "metadata": {
        "id": "5yUoeewdlc0G"
      }
    },
    {
      "cell_type": "markdown",
      "source": [
        "Como clave para este ejercicio... para la conformación de las figuras en R deberán usar el comando shape= y color= \n",
        "\n",
        "Mientras que en python hue=' ', style=' ' podrían usar los comandos\n"
      ],
      "metadata": {
        "id": "ZcdPsNpDdIOc"
      }
    },
    {
      "cell_type": "code",
      "source": [
        "# Crear plot\n",
        "sns.scatterplot(  , hue='', style='')\n",
        "\n",
        "# Configurar plot\n",
        "plt.title('Relación entre ventas y profit por región')\n",
        "plt.xlabel('Ventas')\n",
        "plt.ylabel('Profit')\n",
        "plt.show()"
      ],
      "metadata": {
        "id": "Tfbozk0Dc-qj"
      },
      "execution_count": null,
      "outputs": []
    },
    {
      "cell_type": "code",
      "source": [
        "%%R\n",
        "\n",
        "ggplot(SOD, aes(x=Profit, y=Sales, color=Region)) + \n",
        "  geom_point(size=6)"
      ],
      "metadata": {
        "id": "YAW2CmNakayM"
      },
      "execution_count": null,
      "outputs": []
    },
    {
      "cell_type": "code",
      "source": [
        "import matplotlib.pyplot as plt\n",
        "\n",
        "plt.scatter(SOD['Profit'], SOD['Sales'], c=SOD['Region'], s=50, alpha=0.8)\n",
        "plt.xlabel('Profit')\n",
        "plt.ylabel('Sales')\n",
        "plt.show()"
      ],
      "metadata": {
        "id": "GREgdre-CaaG"
      },
      "execution_count": null,
      "outputs": []
    },
    {
      "cell_type": "markdown",
      "source": [
        "Ya para finalizar vamos a tomar la variale ventas y crearemos un registro de ventas por ciudad, en dónde queremos saber cuál es el promedio de ventas para cada ciudad, pero tambiénq uedremos ver cuál es el valor que corresponde al 50% de las ventas (mediana) de cada ciudad... estos valores los vamos a agregar a un dataframe nuevo llamado 'Sales_by_city'\n",
        "\n",
        "Como tip para lograrlo, en R podremos usar el comando across que generalmente usamos como dplyr::across() y en python despues de haber generado un groupby, simplemente conectaremos una función .agg para implementar una lista con las funciones matemáticas que queremos obtener. "
      ],
      "metadata": {
        "id": "bSWm4tlgr7Tv"
      }
    },
    {
      "cell_type": "code",
      "source": [
        "%%R\n",
        "mode <- function(x) {\n",
        "  return(as.numeric(names(which.max(table(x)))))\n",
        "}\n",
        "library(dplyr)\n",
        "Data_R$City\n",
        "Data_R %>% group_by(City) %>% \n",
        "  summarise(mean(Sales), median(Sales), mode(Sales), mode(Data_R$Sales))"
      ],
      "metadata": {
        "id": "jMG5HCxvp-lc"
      },
      "execution_count": null,
      "outputs": []
    },
    {
      "cell_type": "code",
      "source": [
        "import pandas as pd\n",
        "from scipy import stats\n",
        "\n",
        "def mode(x):\n",
        "    return stats.mode(x)[0][0]\n",
        "\n",
        "mean_median_mode_by_city = Data.groupby('City')['Sales'].agg(['mean', 'median', mode]).reset_index()\n",
        "mode_overall = mode(Data['Sales'])\n",
        "\n",
        "mean_median_mode_by_city.columns = ['City', 'mean_sales', 'median_sales', 'mode_sales']\n",
        "mean_median_mode_by_city['mode_overall'] = mode_overall\n",
        "\n",
        "print(mean_median_mode_by_city)"
      ],
      "metadata": {
        "id": "RRWFgXftrmvm"
      },
      "execution_count": null,
      "outputs": []
    }
  ]
}