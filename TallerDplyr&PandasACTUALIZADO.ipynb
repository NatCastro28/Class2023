{
  "nbformat": 4,
  "nbformat_minor": 0,
  "metadata": {
    "colab": {
      "provenance": [],
      "include_colab_link": true
    },
    "kernelspec": {
      "name": "python3",
      "display_name": "Python 3"
    },
    "language_info": {
      "name": "python"
    }
  },
  "cells": [
    {
      "cell_type": "markdown",
      "metadata": {
        "id": "view-in-github",
        "colab_type": "text"
      },
      "source": [
        "<a href=\"https://colab.research.google.com/github/NatCastro28/Class2023/blob/main/TallerDplyr%26PandasACTUALIZADO.ipynb\" target=\"_parent\"><img src=\"https://colab.research.google.com/assets/colab-badge.svg\" alt=\"Open In Colab\"/></a>"
      ]
    },
    {
      "cell_type": "code",
      "source": [
        "!pip install rpy2==3.5.1"
      ],
      "metadata": {
        "colab": {
          "base_uri": "https://localhost:8080/"
        },
        "id": "jQRDSNBCJ6r4",
        "outputId": "f8cdfcb7-173c-45f8-a58b-6611807fb177"
      },
      "execution_count": 72,
      "outputs": [
        {
          "output_type": "stream",
          "name": "stdout",
          "text": [
            "Looking in indexes: https://pypi.org/simple, https://us-python.pkg.dev/colab-wheels/public/simple/\n",
            "Requirement already satisfied: rpy2==3.5.1 in /usr/local/lib/python3.9/dist-packages (3.5.1)\n",
            "Requirement already satisfied: pytz in /usr/local/lib/python3.9/dist-packages (from rpy2==3.5.1) (2022.7.1)\n",
            "Requirement already satisfied: cffi>=1.10.0 in /usr/local/lib/python3.9/dist-packages (from rpy2==3.5.1) (1.15.1)\n",
            "Requirement already satisfied: jinja2 in /usr/local/lib/python3.9/dist-packages (from rpy2==3.5.1) (3.1.2)\n",
            "Requirement already satisfied: tzlocal in /usr/local/lib/python3.9/dist-packages (from rpy2==3.5.1) (4.3)\n",
            "Requirement already satisfied: pycparser in /usr/local/lib/python3.9/dist-packages (from cffi>=1.10.0->rpy2==3.5.1) (2.21)\n",
            "Requirement already satisfied: MarkupSafe>=2.0 in /usr/local/lib/python3.9/dist-packages (from jinja2->rpy2==3.5.1) (2.1.2)\n",
            "Requirement already satisfied: pytz-deprecation-shim in /usr/local/lib/python3.9/dist-packages (from tzlocal->rpy2==3.5.1) (0.1.0.post0)\n",
            "Requirement already satisfied: tzdata in /usr/local/lib/python3.9/dist-packages (from pytz-deprecation-shim->tzlocal->rpy2==3.5.1) (2023.2)\n"
          ]
        }
      ]
    },
    {
      "cell_type": "code",
      "source": [
        "# activate R magic\n",
        "%load_ext rpy2.ipython"
      ],
      "metadata": {
        "id": "194moOZ4J80p",
        "outputId": "b930144d-9866-430b-d9aa-a4aa1fa182fd",
        "colab": {
          "base_uri": "https://localhost:8080/"
        }
      },
      "execution_count": 71,
      "outputs": [
        {
          "output_type": "stream",
          "name": "stdout",
          "text": [
            "The rpy2.ipython extension is already loaded. To reload it, use:\n",
            "  %reload_ext rpy2.ipython\n"
          ]
        }
      ]
    },
    {
      "cell_type": "markdown",
      "source": [
        "Este taller permitirá poner en práctica el uso de dplyr en R, pandas y numpy en Python. Para ello, vamos a crear un conjunto de datos ficticio que contendrá información sobre ventas de productos en diferentes regiones y periodos de tiempo."
      ],
      "metadata": {
        "id": "QED3EexoJrJc"
      }
    },
    {
      "cell_type": "markdown",
      "source": [
        "#Creación del dataset\n",
        "\n",
        "Para crear nuestro dataset, vamos a utilizar la función data.frame() en R y pd.DataFrame() en Python. Para ello, vamos a crear una lista con las variables que queremos incluir en nuestro dataset y luego convertiremos esa lista en un data frame.\n"
      ],
      "metadata": {
        "id": "k-YFTgRvJxeC"
      }
    },
    {
      "cell_type": "code",
      "source": [
        "%%R\n",
        "library(\"dplyr\")"
      ],
      "metadata": {
        "colab": {
          "base_uri": "https://localhost:8080/"
        },
        "id": "jrOkKizDKO7m",
        "outputId": "6eeb2048-7c31-4659-8799-3dadbf36e927"
      },
      "execution_count": null,
      "outputs": [
        {
          "output_type": "stream",
          "name": "stderr",
          "text": [
            "WARNING:rpy2.rinterface_lib.callbacks:R[write to console]: \n",
            "Attaching package: ‘dplyr’\n",
            "\n",
            "\n",
            "WARNING:rpy2.rinterface_lib.callbacks:R[write to console]: The following objects are masked from ‘package:stats’:\n",
            "\n",
            "    filter, lag\n",
            "\n",
            "\n",
            "WARNING:rpy2.rinterface_lib.callbacks:R[write to console]: The following objects are masked from ‘package:base’:\n",
            "\n",
            "    intersect, setdiff, setequal, union\n",
            "\n",
            "\n"
          ]
        }
      ]
    },
    {
      "cell_type": "code",
      "execution_count": null,
      "metadata": {
        "id": "RzYiw_cIJli_"
      },
      "outputs": [],
      "source": [
        "%%R\n",
        "\n",
        "# Crear lista con las variables del dataset\n",
        "ventas <- list(\n",
        "  producto = c(\"Producto A\", \"Producto B\", \"Producto C\", \"Producto A\", \"Producto B\", \"Producto C\"),\n",
        "  region = c(\"Norte\", \"Norte\", \"Norte\", \"Sur\", \"Sur\", \"Sur\"),\n",
        "  periodo = c(\"Enero\", \"Enero\", \"Enero\", \"Febrero\", \"Febrero\", \"Febrero\"),\n",
        "  ventas = c(100, 50, 75, 200, 150, 100)\n",
        ")\n",
        "\n",
        "# Convertir lista en data frame\n",
        "ventas_df <- data.frame(ventas)\n"
      ]
    },
    {
      "cell_type": "markdown",
      "source": [
        "En Python:"
      ],
      "metadata": {
        "id": "K5dX2q1iKDk7"
      }
    },
    {
      "cell_type": "code",
      "source": [
        "import pandas as pd\n",
        "\n",
        "# Crear lista con las variables del dataset\n",
        "ventas = {\n",
        "    \"producto\": [\"Producto A\", \"Producto B\", \"Producto C\", \"Producto A\", \"Producto B\", \"Producto C\"],\n",
        "    \"region\": [\"Norte\", \"Norte\", \"Norte\", \"Sur\", \"Sur\", \"Sur\"],\n",
        "    \"periodo\": [\"Enero\", \"Enero\", \"Enero\", \"Febrero\", \"Febrero\", \"Febrero\"],\n",
        "    \"ventas\": [100, 50, 75, 200, 150, 100]\n",
        "}\n",
        "\n",
        "# Convertir lista en data frame\n",
        "ventas_df = pd.DataFrame(ventas)\n"
      ],
      "metadata": {
        "id": "6uEI9hoyKEXv"
      },
      "execution_count": null,
      "outputs": []
    },
    {
      "cell_type": "markdown",
      "source": [
        "Una vez que tenemos nuestro dataset, podemos proceder a realizar diferentes tareas utilizando dplyr en R y pandas y numpy en Python."
      ],
      "metadata": {
        "id": "bguJLqC5KaUr"
      }
    },
    {
      "cell_type": "markdown",
      "source": [
        "#Taller"
      ],
      "metadata": {
        "id": "r_rXoWRhKdQB"
      }
    },
    {
      "cell_type": "markdown",
      "source": [
        "A continuación, presentamos un taller de 10 (o más 🔥) puntos que nos permitirá poner en práctica el uso de dplyr en R y pandas y numpy en Python con nuestro dataset de ventas.\n",
        "\n",
        "1. Carga los datos y visualiza el dataset. para cada dataset vamos a imprimir el encabezado para verificar que está bien cargado. \n",
        "\n",
        "Únicamente en python vamos a aplicar la orden describe()para ver un recuento estadístico y entender como se están comportando los datos. \n",
        "\n"
      ],
      "metadata": {
        "id": "q_r_pRG_Kg4A"
      }
    },
    {
      "cell_type": "code",
      "source": [
        "%%R\n",
        "#Your Code here guys! --->"
      ],
      "metadata": {
        "id": "cilavRs1LX8U"
      },
      "execution_count": null,
      "outputs": []
    },
    {
      "cell_type": "code",
      "source": [
        "#Your Code here guys! --->"
      ],
      "metadata": {
        "id": "OFXsL9l9L3FE"
      },
      "execution_count": null,
      "outputs": []
    },
    {
      "cell_type": "markdown",
      "source": [
        "2. Filtra el dataset para obtener las ventas de \"Producto A\".\n"
      ],
      "metadata": {
        "id": "YLDvfUNOLauL"
      }
    },
    {
      "cell_type": "code",
      "source": [
        "%%R\n",
        "#Your Code here guys! --->"
      ],
      "metadata": {
        "id": "wxTyyCn2LdFJ"
      },
      "execution_count": null,
      "outputs": []
    },
    {
      "cell_type": "code",
      "source": [
        "#Your Code here guys! --->"
      ],
      "metadata": {
        "id": "8NjVMDvRL2UW"
      },
      "execution_count": null,
      "outputs": []
    },
    {
      "cell_type": "markdown",
      "source": [
        "3. Agrupa el dataset por región y periodo y calcula la media de las ventas.\n"
      ],
      "metadata": {
        "id": "K5uoJjNxLda9"
      }
    },
    {
      "cell_type": "code",
      "source": [
        "%%R\n",
        "#Your Code here guys! --->"
      ],
      "metadata": {
        "id": "En6_jQBGLtg2"
      },
      "execution_count": null,
      "outputs": []
    },
    {
      "cell_type": "code",
      "source": [
        "#Your Code here guys! --->"
      ],
      "metadata": {
        "id": "nL6tCiD5L18f"
      },
      "execution_count": null,
      "outputs": []
    },
    {
      "cell_type": "markdown",
      "source": [
        "4. Calcula la suma total de las ventas para cada periodo.\n"
      ],
      "metadata": {
        "id": "YdJvm3gtLfO-"
      }
    },
    {
      "cell_type": "code",
      "source": [
        "%%R\n",
        "#Your Code here guys! --->"
      ],
      "metadata": {
        "id": "9nc3o0EALupg"
      },
      "execution_count": null,
      "outputs": []
    },
    {
      "cell_type": "code",
      "source": [
        "#Your Code here guys! --->"
      ],
      "metadata": {
        "id": "zPb4QAO2L1bG"
      },
      "execution_count": null,
      "outputs": []
    },
    {
      "cell_type": "markdown",
      "source": [
        "5. Utiliza la función mutate() en R y assign() en Python para crear una nueva variable que calcule la diferencia entre las ventas de cada producto y la media de las ventas de ese producto.\n"
      ],
      "metadata": {
        "id": "UWLU88qvLhIE"
      }
    },
    {
      "cell_type": "code",
      "source": [
        "%%R\n",
        "#Your Code here guys! --->"
      ],
      "metadata": {
        "id": "PeZE9qQ0LvWd"
      },
      "execution_count": null,
      "outputs": []
    },
    {
      "cell_type": "code",
      "source": [
        "#Your Code here guys! --->"
      ],
      "metadata": {
        "id": "Wrky4HyML0_e"
      },
      "execution_count": null,
      "outputs": []
    },
    {
      "cell_type": "markdown",
      "source": [
        "6 .Utiliza la función arrange() en R y sort_values() en Python para ordenar el dataset por ventas de mayor a menor.\n"
      ],
      "metadata": {
        "id": "roLWgO0bLjTs"
      }
    },
    {
      "cell_type": "code",
      "source": [
        "%%R\n",
        "#Your Code here guys! --->"
      ],
      "metadata": {
        "id": "6oduHJuSLv0P"
      },
      "execution_count": null,
      "outputs": []
    },
    {
      "cell_type": "code",
      "source": [
        "#Your Code here guys! --->"
      ],
      "metadata": {
        "id": "I_RoBBLuL0fx"
      },
      "execution_count": null,
      "outputs": []
    },
    {
      "cell_type": "markdown",
      "source": [
        "7. Utiliza la función select() en R y loc[] en Python para seleccionar las variables \"producto\" y \"ventas\".\n"
      ],
      "metadata": {
        "id": "QJgrGW6xLk5Z"
      }
    },
    {
      "cell_type": "code",
      "source": [
        "%%R\n",
        "#Your Code here guys! --->"
      ],
      "metadata": {
        "id": "IDtfBbB1LwUN"
      },
      "execution_count": null,
      "outputs": []
    },
    {
      "cell_type": "code",
      "source": [
        "#Your Code here guys! --->"
      ],
      "metadata": {
        "id": "kMrlUidSLz-s"
      },
      "execution_count": null,
      "outputs": []
    },
    {
      "cell_type": "markdown",
      "source": [
        "8. Utiliza la función filter() en R y query() en Python para filtrar el dataset para obtener las ventas de \"Producto A\" en la región Norte.\n"
      ],
      "metadata": {
        "id": "fvAUVtarLmWW"
      }
    },
    {
      "cell_type": "code",
      "source": [
        "%%R\n",
        "#Your Code here guys! --->"
      ],
      "metadata": {
        "id": "9ci3_FDULxCR"
      },
      "execution_count": null,
      "outputs": []
    },
    {
      "cell_type": "code",
      "source": [
        "#Your Code here guys! --->"
      ],
      "metadata": {
        "id": "FCGjjH84LzlW"
      },
      "execution_count": null,
      "outputs": []
    },
    {
      "cell_type": "markdown",
      "source": [
        "9. Utiliza la función summarise() en R y agg() en Python para calcular la suma total de las ventas de \"Producto A\".\n"
      ],
      "metadata": {
        "id": "W3xzooFoLn0v"
      }
    },
    {
      "cell_type": "code",
      "source": [
        "%%R\n",
        "#Your Code here guys! --->"
      ],
      "metadata": {
        "id": "LHNLOOqoLxq8"
      },
      "execution_count": null,
      "outputs": []
    },
    {
      "cell_type": "code",
      "source": [
        "#Your Code here guys! --->"
      ],
      "metadata": {
        "id": "ksgl1-AlLzOL"
      },
      "execution_count": null,
      "outputs": []
    },
    {
      "cell_type": "markdown",
      "source": [
        "10. Utiliza la función group_by() en R y groupby()"
      ],
      "metadata": {
        "id": "bLklXUcULpZt"
      }
    },
    {
      "cell_type": "code",
      "source": [
        "%%R\n",
        "#Your Code here guys! --->"
      ],
      "metadata": {
        "id": "Qb5Xit0PLyQB"
      },
      "execution_count": null,
      "outputs": []
    },
    {
      "cell_type": "code",
      "source": [
        "#Your Code here guys! --->"
      ],
      "metadata": {
        "id": "uUko7g6aLyo1"
      },
      "execution_count": null,
      "outputs": []
    },
    {
      "cell_type": "markdown",
      "source": [
        "Bien, ahora juguemos con datos propios. "
      ],
      "metadata": {
        "id": "b8YLXKyT8Xr3"
      }
    },
    {
      "cell_type": "markdown",
      "source": [
        "1. Vamos a cargar 2 archivos, por un lado el documento CSV que tienen en sus repositorios de github. y además vamos a cargar la base de datos superstore que tendrán el siguiente link. \n",
        "\n",
        "https://docs.google.com/spreadsheets/d/1r2ee4kEpcUJBUscoDQd0gImOvWb_iECj/edit?usp=sharing&ouid=106132101569136404581&rtpof=true&sd=true\n",
        "\n"
      ],
      "metadata": {
        "id": "X3NxlVx28b9t"
      }
    },
    {
      "cell_type": "markdown",
      "source": [
        "Usando el primer set de datos vamos a trabajar únicamente en R"
      ],
      "metadata": {
        "id": "tcVCb2IKXVDQ"
      }
    },
    {
      "cell_type": "markdown",
      "source": [
        "1. vamos a seleccionar solo las columnas Gender, Age y satisfaction conformando un nuevo datagrame llamado seleccion."
      ],
      "metadata": {
        "id": "kkwOmV2FXYVL"
      }
    },
    {
      "cell_type": "code",
      "source": [
        "%%R\n",
        "#Your Code here guys! --->"
      ],
      "metadata": {
        "id": "44kfc3nFXqG6"
      },
      "execution_count": null,
      "outputs": []
    },
    {
      "cell_type": "markdown",
      "source": [
        "2. Ahora usando el nuevo df que hemos creado vamos a filtrar solo las filas donde la satisfacción es \"satisfied\" y a guardarlo en un df3:"
      ],
      "metadata": {
        "id": "NUPjkOQqXo7G"
      }
    },
    {
      "cell_type": "code",
      "source": [
        "%%R\n",
        "#Your Code here guys! --->"
      ],
      "metadata": {
        "id": "UIW6xDEsXvdP"
      },
      "execution_count": null,
      "outputs": []
    },
    {
      "cell_type": "markdown",
      "source": [
        "3. vamos a agrupar los datos por género y calcular la edad promedio y a guardarlo en un df4:"
      ],
      "metadata": {
        "id": "FbwdkOzWX3Lc"
      }
    },
    {
      "cell_type": "code",
      "source": [
        "%%R\n",
        "#Your Code here guys! --->"
      ],
      "metadata": {
        "id": "Dzk8yZzhgH06"
      },
      "execution_count": null,
      "outputs": []
    },
    {
      "cell_type": "markdown",
      "source": [
        "4. vamos a ordenar los resultados de seleccion por edad de mayor a menor, después vamos a agruparlos por género y vamos a averiguar la sumatoria de cada género para cada grupo los satisfechos y los insatisfechos. Este nuevo conteo lo vamos a guardar en una columna nueva llamada a y esto lo guardaremos en un nuevo df llamado df5"
      ],
      "metadata": {
        "id": "3kuTZrGOYH9_"
      }
    },
    {
      "cell_type": "code",
      "source": [
        "%%R\n",
        "#Your Code here guys! --->"
      ],
      "metadata": {
        "id": "a_PHBCQygIJR"
      },
      "execution_count": null,
      "outputs": []
    },
    {
      "cell_type": "markdown",
      "source": [
        "Muy bien, ya hemos logrado trabajar sobre la primera base de datos, ahora vamos a cargar la segunda base de datos, para ello usaremos el acceso a google drive que nos brinda google colab. "
      ],
      "metadata": {
        "id": "btrN5tWTnxql"
      }
    },
    {
      "cell_type": "code",
      "source": [
        "#Your Code here guys! --->"
      ],
      "metadata": {
        "id": "b2DIFZIYvqfY"
      },
      "execution_count": null,
      "outputs": []
    },
    {
      "cell_type": "markdown",
      "source": [
        "Perfecto, como ya tenemos nuestra base de datos montada sobre python vamos a hacer un análisis descriptivo de la base de datos usando .describe() así podremos ver cómo se comporta mi base de datos. "
      ],
      "metadata": {
        "id": "qtNVkn8ovtwC"
      }
    },
    {
      "cell_type": "code",
      "source": [
        "#Your Code here guys! --->"
      ],
      "metadata": {
        "id": "2D2DxkG7v_Ho"
      },
      "execution_count": null,
      "outputs": []
    },
    {
      "cell_type": "markdown",
      "source": [
        "Ahora vamos a importar las librerías seaborn y matplotlib."
      ],
      "metadata": {
        "id": "OuqsSFs8fUr5"
      }
    },
    {
      "cell_type": "code",
      "source": [],
      "metadata": {
        "id": "yFPjcje_fVzm"
      },
      "execution_count": null,
      "outputs": []
    },
    {
      "cell_type": "markdown",
      "source": [
        "Muy bien, ahora vamos a pasar esta base de datos "
      ],
      "metadata": {
        "id": "_aArLk8DwAO-"
      }
    },
    {
      "cell_type": "code",
      "source": [
        "%%R\n",
        "#Your Code here guys! --->"
      ],
      "metadata": {
        "id": "HqaJ9u-AoERP"
      },
      "execution_count": null,
      "outputs": []
    },
    {
      "cell_type": "markdown",
      "source": [
        "Vamos a visualizar los datos del dataframe para la variable categoría en el eje X y ventas en el eje Y en un gráfico de boxplot. "
      ],
      "metadata": {
        "id": "0yTeA7rlfkwL"
      }
    },
    {
      "cell_type": "code",
      "source": [],
      "metadata": {
        "id": "6qSrTAhrfrYH"
      },
      "execution_count": null,
      "outputs": []
    },
    {
      "cell_type": "markdown",
      "source": [
        "#El taller va desde esta parte de aquí!!!"
      ],
      "metadata": {
        "id": "mG2-5fGKlt-X"
      }
    },
    {
      "cell_type": "markdown",
      "source": [],
      "metadata": {
        "id": "6BYFdlvFftl-"
      }
    },
    {
      "cell_type": "markdown",
      "source": [
        "Ahora hagámos lo mismo en R."
      ],
      "metadata": {
        "id": "LDhOHJRvIptI"
      }
    },
    {
      "cell_type": "markdown",
      "source": [
        "Primero importemos la base de datos al entorno de python"
      ],
      "metadata": {
        "id": "P3AFfmybIwNe"
      }
    },
    {
      "cell_type": "code",
      "source": [
        "from google.colab import drive\n",
        "drive.mount('/content/drive')"
      ],
      "metadata": {
        "id": "XcHFXsP6X1sU",
        "outputId": "6d628b8f-89db-4889-caf7-7a2fb08ffaa8",
        "colab": {
          "base_uri": "https://localhost:8080/"
        }
      },
      "execution_count": 83,
      "outputs": [
        {
          "output_type": "stream",
          "name": "stdout",
          "text": [
            "Drive already mounted at /content/drive; to attempt to forcibly remount, call drive.mount(\"/content/drive\", force_remount=True).\n"
          ]
        }
      ]
    },
    {
      "cell_type": "code",
      "source": [
        "from google.colab import drive\n",
        "drive.mount('/content/drive')\n",
        "\n",
        "from pandas.io.excel import read_excel\n",
        "url = '/content/drive/MyDrive/Sample - Superstore.xlsx'\n",
        "df = read_excel(url)\n",
        "df.head()"
      ],
      "metadata": {
        "id": "pxYwu-6YLcN-",
        "outputId": "4ab5f551-c633-4ee0-b6e8-09d54cfa0129",
        "colab": {
          "base_uri": "https://localhost:8080/",
          "height": 418
        }
      },
      "execution_count": 84,
      "outputs": [
        {
          "output_type": "stream",
          "name": "stdout",
          "text": [
            "Drive already mounted at /content/drive; to attempt to forcibly remount, call drive.mount(\"/content/drive\", force_remount=True).\n"
          ]
        },
        {
          "output_type": "execute_result",
          "data": {
            "text/plain": [
              "   Columna1        Order ID Order Date  Ship Date       Ship Mode Customer ID  \\\n",
              "0         1  CA-2017-152156 2017-11-08 2017-11-11    Second Class    CG-12520   \n",
              "1         2  CA-2017-152156 2017-11-08 2017-11-11    Second Class    CG-12520   \n",
              "2         3  CA-2017-138688 2017-06-12 2017-06-16    Second Class    DV-13045   \n",
              "3         4  US-2016-108966 2016-10-11 2016-10-18  Standard Class    SO-20335   \n",
              "4         5  US-2016-108966 2016-10-11 2016-10-18  Standard Class    SO-20335   \n",
              "\n",
              "     Customer Name    Segment        Country             City  ...  \\\n",
              "0      Claire Gute   Consumer  United States        Henderson  ...   \n",
              "1      Claire Gute   Consumer  United States        Henderson  ...   \n",
              "2  Darrin Van Huff  Corporate  United States      Los Angeles  ...   \n",
              "3   Sean O'Donnell   Consumer  United States  Fort Lauderdale  ...   \n",
              "4   Sean O'Donnell   Consumer  United States  Fort Lauderdale  ...   \n",
              "\n",
              "  Postal Code  Region       Product ID         Category Sub-Category  \\\n",
              "0     42420.0   South  FUR-BO-10001798        Furniture    Bookcases   \n",
              "1     42420.0   South  FUR-CH-10000454        Furniture       Chairs   \n",
              "2     90036.0    West  OFF-LA-10000240  Office Supplies       Labels   \n",
              "3     33311.0   South  FUR-TA-10000577        Furniture       Tables   \n",
              "4     33311.0   South  OFF-ST-10000760  Office Supplies      Storage   \n",
              "\n",
              "                                        Product Name     Sales  Quantity  \\\n",
              "0                  Bush Somerset Collection Bookcase  261.9600         2   \n",
              "1  Hon Deluxe Fabric Upholstered Stacking Chairs,...  731.9400         3   \n",
              "2  Self-Adhesive Address Labels for Typewriters b...   14.6200         2   \n",
              "3      Bretford CR4500 Series Slim Rectangular Table  957.5775         5   \n",
              "4                     Eldon Fold 'N Roll Cart System   22.3680         2   \n",
              "\n",
              "   Discount    Profit  \n",
              "0      0.00   41.9136  \n",
              "1      0.00  219.5820  \n",
              "2      0.00    6.8714  \n",
              "3      0.45 -383.0310  \n",
              "4      0.20    2.5164  \n",
              "\n",
              "[5 rows x 21 columns]"
            ],
            "text/html": [
              "\n",
              "  <div id=\"df-3375ab26-7be6-4a82-9270-af00f31d031a\">\n",
              "    <div class=\"colab-df-container\">\n",
              "      <div>\n",
              "<style scoped>\n",
              "    .dataframe tbody tr th:only-of-type {\n",
              "        vertical-align: middle;\n",
              "    }\n",
              "\n",
              "    .dataframe tbody tr th {\n",
              "        vertical-align: top;\n",
              "    }\n",
              "\n",
              "    .dataframe thead th {\n",
              "        text-align: right;\n",
              "    }\n",
              "</style>\n",
              "<table border=\"1\" class=\"dataframe\">\n",
              "  <thead>\n",
              "    <tr style=\"text-align: right;\">\n",
              "      <th></th>\n",
              "      <th>Columna1</th>\n",
              "      <th>Order ID</th>\n",
              "      <th>Order Date</th>\n",
              "      <th>Ship Date</th>\n",
              "      <th>Ship Mode</th>\n",
              "      <th>Customer ID</th>\n",
              "      <th>Customer Name</th>\n",
              "      <th>Segment</th>\n",
              "      <th>Country</th>\n",
              "      <th>City</th>\n",
              "      <th>...</th>\n",
              "      <th>Postal Code</th>\n",
              "      <th>Region</th>\n",
              "      <th>Product ID</th>\n",
              "      <th>Category</th>\n",
              "      <th>Sub-Category</th>\n",
              "      <th>Product Name</th>\n",
              "      <th>Sales</th>\n",
              "      <th>Quantity</th>\n",
              "      <th>Discount</th>\n",
              "      <th>Profit</th>\n",
              "    </tr>\n",
              "  </thead>\n",
              "  <tbody>\n",
              "    <tr>\n",
              "      <th>0</th>\n",
              "      <td>1</td>\n",
              "      <td>CA-2017-152156</td>\n",
              "      <td>2017-11-08</td>\n",
              "      <td>2017-11-11</td>\n",
              "      <td>Second Class</td>\n",
              "      <td>CG-12520</td>\n",
              "      <td>Claire Gute</td>\n",
              "      <td>Consumer</td>\n",
              "      <td>United States</td>\n",
              "      <td>Henderson</td>\n",
              "      <td>...</td>\n",
              "      <td>42420.0</td>\n",
              "      <td>South</td>\n",
              "      <td>FUR-BO-10001798</td>\n",
              "      <td>Furniture</td>\n",
              "      <td>Bookcases</td>\n",
              "      <td>Bush Somerset Collection Bookcase</td>\n",
              "      <td>261.9600</td>\n",
              "      <td>2</td>\n",
              "      <td>0.00</td>\n",
              "      <td>41.9136</td>\n",
              "    </tr>\n",
              "    <tr>\n",
              "      <th>1</th>\n",
              "      <td>2</td>\n",
              "      <td>CA-2017-152156</td>\n",
              "      <td>2017-11-08</td>\n",
              "      <td>2017-11-11</td>\n",
              "      <td>Second Class</td>\n",
              "      <td>CG-12520</td>\n",
              "      <td>Claire Gute</td>\n",
              "      <td>Consumer</td>\n",
              "      <td>United States</td>\n",
              "      <td>Henderson</td>\n",
              "      <td>...</td>\n",
              "      <td>42420.0</td>\n",
              "      <td>South</td>\n",
              "      <td>FUR-CH-10000454</td>\n",
              "      <td>Furniture</td>\n",
              "      <td>Chairs</td>\n",
              "      <td>Hon Deluxe Fabric Upholstered Stacking Chairs,...</td>\n",
              "      <td>731.9400</td>\n",
              "      <td>3</td>\n",
              "      <td>0.00</td>\n",
              "      <td>219.5820</td>\n",
              "    </tr>\n",
              "    <tr>\n",
              "      <th>2</th>\n",
              "      <td>3</td>\n",
              "      <td>CA-2017-138688</td>\n",
              "      <td>2017-06-12</td>\n",
              "      <td>2017-06-16</td>\n",
              "      <td>Second Class</td>\n",
              "      <td>DV-13045</td>\n",
              "      <td>Darrin Van Huff</td>\n",
              "      <td>Corporate</td>\n",
              "      <td>United States</td>\n",
              "      <td>Los Angeles</td>\n",
              "      <td>...</td>\n",
              "      <td>90036.0</td>\n",
              "      <td>West</td>\n",
              "      <td>OFF-LA-10000240</td>\n",
              "      <td>Office Supplies</td>\n",
              "      <td>Labels</td>\n",
              "      <td>Self-Adhesive Address Labels for Typewriters b...</td>\n",
              "      <td>14.6200</td>\n",
              "      <td>2</td>\n",
              "      <td>0.00</td>\n",
              "      <td>6.8714</td>\n",
              "    </tr>\n",
              "    <tr>\n",
              "      <th>3</th>\n",
              "      <td>4</td>\n",
              "      <td>US-2016-108966</td>\n",
              "      <td>2016-10-11</td>\n",
              "      <td>2016-10-18</td>\n",
              "      <td>Standard Class</td>\n",
              "      <td>SO-20335</td>\n",
              "      <td>Sean O'Donnell</td>\n",
              "      <td>Consumer</td>\n",
              "      <td>United States</td>\n",
              "      <td>Fort Lauderdale</td>\n",
              "      <td>...</td>\n",
              "      <td>33311.0</td>\n",
              "      <td>South</td>\n",
              "      <td>FUR-TA-10000577</td>\n",
              "      <td>Furniture</td>\n",
              "      <td>Tables</td>\n",
              "      <td>Bretford CR4500 Series Slim Rectangular Table</td>\n",
              "      <td>957.5775</td>\n",
              "      <td>5</td>\n",
              "      <td>0.45</td>\n",
              "      <td>-383.0310</td>\n",
              "    </tr>\n",
              "    <tr>\n",
              "      <th>4</th>\n",
              "      <td>5</td>\n",
              "      <td>US-2016-108966</td>\n",
              "      <td>2016-10-11</td>\n",
              "      <td>2016-10-18</td>\n",
              "      <td>Standard Class</td>\n",
              "      <td>SO-20335</td>\n",
              "      <td>Sean O'Donnell</td>\n",
              "      <td>Consumer</td>\n",
              "      <td>United States</td>\n",
              "      <td>Fort Lauderdale</td>\n",
              "      <td>...</td>\n",
              "      <td>33311.0</td>\n",
              "      <td>South</td>\n",
              "      <td>OFF-ST-10000760</td>\n",
              "      <td>Office Supplies</td>\n",
              "      <td>Storage</td>\n",
              "      <td>Eldon Fold 'N Roll Cart System</td>\n",
              "      <td>22.3680</td>\n",
              "      <td>2</td>\n",
              "      <td>0.20</td>\n",
              "      <td>2.5164</td>\n",
              "    </tr>\n",
              "  </tbody>\n",
              "</table>\n",
              "<p>5 rows × 21 columns</p>\n",
              "</div>\n",
              "      <button class=\"colab-df-convert\" onclick=\"convertToInteractive('df-3375ab26-7be6-4a82-9270-af00f31d031a')\"\n",
              "              title=\"Convert this dataframe to an interactive table.\"\n",
              "              style=\"display:none;\">\n",
              "        \n",
              "  <svg xmlns=\"http://www.w3.org/2000/svg\" height=\"24px\"viewBox=\"0 0 24 24\"\n",
              "       width=\"24px\">\n",
              "    <path d=\"M0 0h24v24H0V0z\" fill=\"none\"/>\n",
              "    <path d=\"M18.56 5.44l.94 2.06.94-2.06 2.06-.94-2.06-.94-.94-2.06-.94 2.06-2.06.94zm-11 1L8.5 8.5l.94-2.06 2.06-.94-2.06-.94L8.5 2.5l-.94 2.06-2.06.94zm10 10l.94 2.06.94-2.06 2.06-.94-2.06-.94-.94-2.06-.94 2.06-2.06.94z\"/><path d=\"M17.41 7.96l-1.37-1.37c-.4-.4-.92-.59-1.43-.59-.52 0-1.04.2-1.43.59L10.3 9.45l-7.72 7.72c-.78.78-.78 2.05 0 2.83L4 21.41c.39.39.9.59 1.41.59.51 0 1.02-.2 1.41-.59l7.78-7.78 2.81-2.81c.8-.78.8-2.07 0-2.86zM5.41 20L4 18.59l7.72-7.72 1.47 1.35L5.41 20z\"/>\n",
              "  </svg>\n",
              "      </button>\n",
              "      \n",
              "  <style>\n",
              "    .colab-df-container {\n",
              "      display:flex;\n",
              "      flex-wrap:wrap;\n",
              "      gap: 12px;\n",
              "    }\n",
              "\n",
              "    .colab-df-convert {\n",
              "      background-color: #E8F0FE;\n",
              "      border: none;\n",
              "      border-radius: 50%;\n",
              "      cursor: pointer;\n",
              "      display: none;\n",
              "      fill: #1967D2;\n",
              "      height: 32px;\n",
              "      padding: 0 0 0 0;\n",
              "      width: 32px;\n",
              "    }\n",
              "\n",
              "    .colab-df-convert:hover {\n",
              "      background-color: #E2EBFA;\n",
              "      box-shadow: 0px 1px 2px rgba(60, 64, 67, 0.3), 0px 1px 3px 1px rgba(60, 64, 67, 0.15);\n",
              "      fill: #174EA6;\n",
              "    }\n",
              "\n",
              "    [theme=dark] .colab-df-convert {\n",
              "      background-color: #3B4455;\n",
              "      fill: #D2E3FC;\n",
              "    }\n",
              "\n",
              "    [theme=dark] .colab-df-convert:hover {\n",
              "      background-color: #434B5C;\n",
              "      box-shadow: 0px 1px 3px 1px rgba(0, 0, 0, 0.15);\n",
              "      filter: drop-shadow(0px 1px 2px rgba(0, 0, 0, 0.3));\n",
              "      fill: #FFFFFF;\n",
              "    }\n",
              "  </style>\n",
              "\n",
              "      <script>\n",
              "        const buttonEl =\n",
              "          document.querySelector('#df-3375ab26-7be6-4a82-9270-af00f31d031a button.colab-df-convert');\n",
              "        buttonEl.style.display =\n",
              "          google.colab.kernel.accessAllowed ? 'block' : 'none';\n",
              "\n",
              "        async function convertToInteractive(key) {\n",
              "          const element = document.querySelector('#df-3375ab26-7be6-4a82-9270-af00f31d031a');\n",
              "          const dataTable =\n",
              "            await google.colab.kernel.invokeFunction('convertToInteractive',\n",
              "                                                     [key], {});\n",
              "          if (!dataTable) return;\n",
              "\n",
              "          const docLinkHtml = 'Like what you see? Visit the ' +\n",
              "            '<a target=\"_blank\" href=https://colab.research.google.com/notebooks/data_table.ipynb>data table notebook</a>'\n",
              "            + ' to learn more about interactive tables.';\n",
              "          element.innerHTML = '';\n",
              "          dataTable['output_type'] = 'display_data';\n",
              "          await google.colab.output.renderOutput(dataTable, element);\n",
              "          const docLink = document.createElement('div');\n",
              "          docLink.innerHTML = docLinkHtml;\n",
              "          element.appendChild(docLink);\n",
              "        }\n",
              "      </script>\n",
              "    </div>\n",
              "  </div>\n",
              "  "
            ]
          },
          "metadata": {},
          "execution_count": 84
        }
      ]
    },
    {
      "cell_type": "code",
      "source": [
        "Library(readr)\n",
        "url = '/content/drive/MyDrive/Sample - Superstore.xlsx'\n",
        "\n",
        "df<- read_cvs(url)"
      ],
      "metadata": {
        "id": "T3Kpad3maX7U",
        "outputId": "14fcbc58-1531-4d54-e9dd-5f20160d1f91",
        "colab": {
          "base_uri": "https://localhost:8080/",
          "height": 218
        }
      },
      "execution_count": 87,
      "outputs": [
        {
          "output_type": "error",
          "ename": "NameError",
          "evalue": "ignored",
          "traceback": [
            "\u001b[0;31m---------------------------------------------------------------------------\u001b[0m",
            "\u001b[0;31mNameError\u001b[0m                                 Traceback (most recent call last)",
            "\u001b[0;32m<ipython-input-87-3a258bba1561>\u001b[0m in \u001b[0;36m<cell line: 1>\u001b[0;34m()\u001b[0m\n\u001b[0;32m----> 1\u001b[0;31m \u001b[0mLibrary\u001b[0m\u001b[0;34m(\u001b[0m\u001b[0mreadr\u001b[0m\u001b[0;34m)\u001b[0m\u001b[0;34m\u001b[0m\u001b[0;34m\u001b[0m\u001b[0m\n\u001b[0m\u001b[1;32m      2\u001b[0m \u001b[0murl\u001b[0m \u001b[0;34m=\u001b[0m \u001b[0;34m'/content/drive/MyDrive/Sample - Superstore.xlsx'\u001b[0m\u001b[0;34m\u001b[0m\u001b[0;34m\u001b[0m\u001b[0m\n\u001b[1;32m      3\u001b[0m \u001b[0;34m\u001b[0m\u001b[0m\n\u001b[1;32m      4\u001b[0m \u001b[0mdf\u001b[0m\u001b[0;34m<\u001b[0m\u001b[0;34m-\u001b[0m \u001b[0mread_cvs\u001b[0m\u001b[0;34m(\u001b[0m\u001b[0murl\u001b[0m\u001b[0;34m)\u001b[0m\u001b[0;34m\u001b[0m\u001b[0;34m\u001b[0m\u001b[0m\n",
            "\u001b[0;31mNameError\u001b[0m: name 'Library' is not defined"
          ]
        }
      ]
    },
    {
      "cell_type": "markdown",
      "source": [
        "Ahora vamos a graficar resultados. "
      ],
      "metadata": {
        "id": "67_cxxe0I11t"
      }
    },
    {
      "cell_type": "code",
      "source": [
        "%%R\n",
        "\n",
        "ggplot(  , aes(   )) +\n",
        "  "
      ],
      "metadata": {
        "id": "hqgZtBdXp229"
      },
      "execution_count": null,
      "outputs": []
    },
    {
      "cell_type": "markdown",
      "source": [
        "Pregunta, qué tan comprensible es la gráfica? se puede interpretar los cuartíles aquí?. De no ser así, vamos a eliminar los valores extremos para intentar obtener una mejor visual de los gráficos. \n",
        "\n",
        "Para eso vamos a retirar los valores extremos calculando los cuartiles y el método IQR."
      ],
      "metadata": {
        "id": "pebt1ZhY-_4o"
      }
    },
    {
      "cell_type": "code",
      "source": [
        "# Calcular límites para la variable 'Category' usando el método IQR\n",
        "Q1 =    .quantile(0.25)\n",
        "Q3 =    .quantile(0.75)\n",
        "IQR = Q3 - Q1\n",
        "lower_limit = \n",
        "upper_limit = \n",
        "\n",
        "# Eliminar outliers\n",
        "df = df[ > lower_limit) & (  < upper_limit)]\n",
        "sns.boxplot()\n"
      ],
      "metadata": {
        "id": "N6dOeOqa_OLq"
      },
      "execution_count": null,
      "outputs": []
    },
    {
      "cell_type": "code",
      "source": [
        "%%R\n",
        "\n",
        "# Calcular límites para la variable 'Category' usando el método IQR\n",
        "Q1 <- quantile( )\n",
        "Q3 <- quantile( )\n",
        "IQR <- Q3 - Q1\n",
        "lower_limit <- \n",
        "upper_limit <- \n",
        "\n",
        "# Eliminar outliers\n",
        "df <- df[df$Sales > lower_limit & df$Sales < upper_limit, ]\n",
        "\n",
        "# Crear box plot usando ggplot2\n",
        "ggplot(, aes( )) +\n"
      ],
      "metadata": {
        "id": "snbBJp4UBtZt"
      },
      "execution_count": null,
      "outputs": []
    },
    {
      "cell_type": "markdown",
      "source": [
        "Ahora la pregunta es... dentro de los cuartiles de ventas, cuál es la categoría que ha vendido menos valor monetario?\n",
        "\n",
        "A. Furniture.\n",
        "B. Office Supplies.\n",
        "C. Technology. "
      ],
      "metadata": {
        "id": "Fpehpak-JstD"
      }
    },
    {
      "cell_type": "code",
      "source": [
        "%%R\n",
        "# Encontrar la region que más vendió\n",
        "top_region <- df %>%\n",
        "  group_by() %>%\n",
        "  summarise() %>%\n",
        "  arrange() %>%\n",
        "  slice(1)\n",
        "\n",
        "# Crear un plot\n",
        "ggplot() +\n",
        "  geom  +\n",
        "  labs(title = \"\", x = \"\", y = \"\")\n",
        "\n"
      ],
      "metadata": {
        "id": "IM45dxSRNVxQ"
      },
      "execution_count": null,
      "outputs": []
    },
    {
      "cell_type": "code",
      "source": [
        "# Encontrar la region que más vendió\n",
        "top_region = df.groupby('')[''].sum().sort_values(ascending= ).index[0]\n",
        "\n",
        "\n",
        "# Crear un plot\n",
        "\n"
      ],
      "metadata": {
        "id": "anrMi_EzOXBB"
      },
      "execution_count": null,
      "outputs": []
    },
    {
      "cell_type": "markdown",
      "source": [
        "usando la misma base de datos, crea un código en R y uno en python que: \n",
        "\n",
        "1. filtre la información referente a 'Sean O'Donnell'. \n",
        "2. crea un plot que me indique el nombre del producto y el valor que compró esta persona"
      ],
      "metadata": {
        "id": "29cWAT-iPk3r"
      }
    },
    {
      "cell_type": "code",
      "source": [
        "%%R\n",
        "\n",
        "# Filtrar información de \"Sean O'Donnell\"\n",
        "\n"
      ],
      "metadata": {
        "id": "S8YVhm4BPik1"
      },
      "execution_count": null,
      "outputs": []
    },
    {
      "cell_type": "code",
      "source": [
        "%%R\n",
        "\n",
        "# Filtrar profits positivos\n",
        "df_positives = df[df$Profit > 0,]\n"
      ],
      "metadata": {
        "id": "DgWj-MWyP9ON"
      },
      "execution_count": null,
      "outputs": []
    },
    {
      "cell_type": "code",
      "source": [
        "%%R\n",
        "#Grafico\n"
      ],
      "metadata": {
        "id": "5wCo5fL7Vuox"
      },
      "execution_count": null,
      "outputs": []
    },
    {
      "cell_type": "code",
      "source": [
        "# Filtrar profits positivos\n",
        "df_positives = [ [ ] > 0]\n"
      ],
      "metadata": {
        "id": "L4IgqjoWQAq-"
      },
      "execution_count": null,
      "outputs": []
    },
    {
      "cell_type": "code",
      "source": [
        "sns.barplot()"
      ],
      "metadata": {
        "id": "pk0xTCG0WwbG"
      },
      "execution_count": null,
      "outputs": []
    },
    {
      "cell_type": "markdown",
      "source": [
        "A pesar de esto, la legibilidad de los gráficos es casi nula por lo que habrá que elegir una forma de mostrar a la gerencia los resultados. \n",
        "\n",
        "Vamos a organizar los datos para mostrar solamente el top de ciudades con mejores profits. "
      ],
      "metadata": {
        "id": "MRWnUfyWXK4F"
      }
    },
    {
      "cell_type": "code",
      "source": [
        "%%R\n",
        "\n",
        "# Ordenar los datos por profit en orden descendente y seleccionar solo las primeras 10 ciudades\n",
        "df_top_cities = \n",
        "\n",
        "# Crear plot\n",
        "ggplot() +\n",
        "  geom_col() +\n",
        "  coord_flip() +\n",
        "  labs(title = \"\", x = \"\", y = \"\")"
      ],
      "metadata": {
        "id": "XjZWbFD0XazI"
      },
      "execution_count": null,
      "outputs": []
    },
    {
      "cell_type": "code",
      "source": [
        "# Seleccionar las 10 ciudades con mayores profits\n",
        "df_top_cities = df_positives.sort_values(by='', ascending=).head()[['City', 'Profit']]\n"
      ],
      "metadata": {
        "id": "2DooIg_GXlNb"
      },
      "execution_count": null,
      "outputs": []
    },
    {
      "cell_type": "code",
      "source": [
        "# Crear plot\n",
        "sns.barplot()\n",
        "plt.title('Ciudades con mayores profits positivos')\n",
        "plt.xlabel('Ciudad')\n",
        "plt.ylabel('Profit')\n",
        "plt.xticks(rotation=90, ha='right', fontsize=8)\n",
        "plt.tight_layout()\n",
        "plt.show()"
      ],
      "metadata": {
        "id": "c1o7W1ZgY2QX"
      },
      "execution_count": null,
      "outputs": []
    },
    {
      "cell_type": "markdown",
      "source": [
        "Usando la misma base de datos crea un agrupado por regiones y saca la media de las ventas de cada región. Esta media asignala a una columna nueva de un dataframe llamado mean_sales. "
      ],
      "metadata": {
        "id": "cuUZemJwZkT5"
      }
    },
    {
      "cell_type": "code",
      "source": [
        "%%R\n",
        "\n",
        "mean_sales = df %>%\n",
        "\n",
        "\n",
        "\n",
        "print(summary(mean_sales))\n",
        "print(mean_sales)\n"
      ],
      "metadata": {
        "id": "RJouQZkcaAwb"
      },
      "execution_count": null,
      "outputs": []
    },
    {
      "cell_type": "code",
      "source": [
        "# Agrupar por regiones y calcular la media de ventas\n",
        "mean_sales = \n",
        "\n",
        "# Renombrar las columnas del dataframe\n",
        "mean_sales.columns = ['Region', 'mean_sales']\n",
        "\n",
        "mean_sales\n"
      ],
      "metadata": {
        "id": "171Lp3n9aOFq"
      },
      "execution_count": null,
      "outputs": []
    },
    {
      "cell_type": "markdown",
      "source": [
        "Ahora vamos a graficar estos datos de forma tal que se genere un gráfico de disperción en el que se creen diferentes formas y colores para cada color, así podremos comparar las medias de las ventas de cada región. "
      ],
      "metadata": {
        "id": "5yUoeewdlc0G"
      }
    },
    {
      "cell_type": "markdown",
      "source": [
        "Como clave para este ejercicio... para la conformación de las figuras en R deberán usar el comando shape= y color= \n",
        "\n",
        "Mientras que en python hue=' ', style=' ' podrían usar los comandos\n"
      ],
      "metadata": {
        "id": "ZcdPsNpDdIOc"
      }
    },
    {
      "cell_type": "code",
      "source": [
        "# Crear plot\n",
        "sns.scatterplot(  , hue='', style='')\n",
        "\n",
        "# Configurar plot\n",
        "plt.title('Relación entre ventas y profit por región')\n",
        "plt.xlabel('Ventas')\n",
        "plt.ylabel('Profit')\n",
        "plt.show()"
      ],
      "metadata": {
        "id": "Tfbozk0Dc-qj"
      },
      "execution_count": null,
      "outputs": []
    },
    {
      "cell_type": "code",
      "source": [
        "%%R\n",
        "\n",
        "ggplot(, aes( color = , shape =)) +\n",
        "  geom_point() +\n",
        "  labs(title = \"Relación entre ventas y profit por región\", x = \"Ventas\", y = \"Profit\") \n"
      ],
      "metadata": {
        "id": "YAW2CmNakayM"
      },
      "execution_count": null,
      "outputs": []
    },
    {
      "cell_type": "markdown",
      "source": [
        "Ya para finalizar vamos a tomar la variale ventas y crearemos un registro de ventas por ciudad, en dónde queremos saber cuál es el promedio de ventas para cada ciudad, pero tambiénq uedremos ver cuál es el valor que corresponde al 50% de las ventas (mediana) de cada ciudad... estos valores los vamos a agregar a un dataframe nuevo llamado 'Sales_by_city'\n",
        "\n",
        "Como tip para lograrlo, en R podremos usar el comando across que generalmente usamos como dplyr::across() y en python despues de haber generado un groupby, simplemente conectaremos una función .agg para implementar una lista con las funciones matemáticas que queremos obtener. "
      ],
      "metadata": {
        "id": "bSWm4tlgr7Tv"
      }
    },
    {
      "cell_type": "code",
      "source": [
        "%%R\n",
        "# Calcular la media, moda y mediana de las ventas por ciudad\n",
        "sales_by_city = df %>%\n",
        "  group_by() %>%\n",
        "  summarise(dplyr::across( , list(mean = , median = )))\n",
        "\n",
        "# Ver los resultados\n",
        "sales_by_city"
      ],
      "metadata": {
        "id": "jMG5HCxvp-lc"
      },
      "execution_count": null,
      "outputs": []
    },
    {
      "cell_type": "code",
      "source": [
        "# Calcular la media, moda y mediana de las ventas por ciudad\n",
        "sales_by_city = df.groupby()[].agg([ , ])\n",
        "\n",
        "# Ver los resultados\n",
        "print(sales_by_city)"
      ],
      "metadata": {
        "id": "RRWFgXftrmvm"
      },
      "execution_count": null,
      "outputs": []
    }
  ]
}