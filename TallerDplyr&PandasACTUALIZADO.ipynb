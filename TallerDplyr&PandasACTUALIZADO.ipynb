{
  "nbformat": 4,
  "nbformat_minor": 0,
  "metadata": {
    "colab": {
      "provenance": [],
      "include_colab_link": true
    },
    "kernelspec": {
      "name": "python3",
      "display_name": "Python 3"
    },
    "language_info": {
      "name": "python"
    }
  },
  "cells": [
    {
      "cell_type": "markdown",
      "metadata": {
        "id": "view-in-github",
        "colab_type": "text"
      },
      "source": [
        "<a href=\"https://colab.research.google.com/github/NatCastro28/Class2023/blob/main/TallerDplyr%26PandasACTUALIZADO.ipynb\" target=\"_parent\"><img src=\"https://colab.research.google.com/assets/colab-badge.svg\" alt=\"Open In Colab\"/></a>"
      ]
    },
    {
      "cell_type": "code",
      "source": [
        "!pip install rpy2==3.5.1"
      ],
      "metadata": {
        "colab": {
          "base_uri": "https://localhost:8080/"
        },
        "id": "jQRDSNBCJ6r4",
        "outputId": "8cb82bfe-ca7d-457c-f4ff-6d7dc321b9ac"
      },
      "execution_count": null,
      "outputs": [
        {
          "output_type": "stream",
          "name": "stdout",
          "text": [
            "Looking in indexes: https://pypi.org/simple, https://us-python.pkg.dev/colab-wheels/public/simple/\n",
            "Collecting rpy2==3.5.1\n",
            "  Downloading rpy2-3.5.1.tar.gz (201 kB)\n",
            "\u001b[2K     \u001b[90m━━━━━━━━━━━━━━━━━━━━━━━━━━━━━━━━━━━━━━━\u001b[0m \u001b[32m201.7/201.7 KB\u001b[0m \u001b[31m5.1 MB/s\u001b[0m eta \u001b[36m0:00:00\u001b[0m\n",
            "\u001b[?25h  Preparing metadata (setup.py) ... \u001b[?25l\u001b[?25hdone\n",
            "Requirement already satisfied: cffi>=1.10.0 in /usr/local/lib/python3.8/dist-packages (from rpy2==3.5.1) (1.15.1)\n",
            "Requirement already satisfied: jinja2 in /usr/local/lib/python3.8/dist-packages (from rpy2==3.5.1) (3.1.2)\n",
            "Requirement already satisfied: pytz in /usr/local/lib/python3.8/dist-packages (from rpy2==3.5.1) (2022.7.1)\n",
            "Requirement already satisfied: tzlocal in /usr/local/lib/python3.8/dist-packages (from rpy2==3.5.1) (1.5.1)\n",
            "Requirement already satisfied: pycparser in /usr/local/lib/python3.8/dist-packages (from cffi>=1.10.0->rpy2==3.5.1) (2.21)\n",
            "Requirement already satisfied: MarkupSafe>=2.0 in /usr/local/lib/python3.8/dist-packages (from jinja2->rpy2==3.5.1) (2.1.2)\n",
            "Building wheels for collected packages: rpy2\n",
            "  Building wheel for rpy2 (setup.py) ... \u001b[?25l\u001b[?25hdone\n",
            "  Created wheel for rpy2: filename=rpy2-3.5.1-cp38-cp38-linux_x86_64.whl size=318372 sha256=635b17af095aa40a34c468263a4cb0b5c842c87863ae80c4602201cefa4b8853\n",
            "  Stored in directory: /root/.cache/pip/wheels/6b/40/7d/f63e87fd83e8b99ee837c8e3489081c4b3489134bc520235ed\n",
            "Successfully built rpy2\n",
            "Installing collected packages: rpy2\n",
            "  Attempting uninstall: rpy2\n",
            "    Found existing installation: rpy2 3.5.5\n",
            "    Uninstalling rpy2-3.5.5:\n",
            "      Successfully uninstalled rpy2-3.5.5\n",
            "Successfully installed rpy2-3.5.1\n"
          ]
        }
      ]
    },
    {
      "cell_type": "code",
      "source": [
        "# activate R magic\n",
        "%load_ext rpy2.ipython"
      ],
      "metadata": {
        "id": "194moOZ4J80p"
      },
      "execution_count": null,
      "outputs": []
    },
    {
      "cell_type": "markdown",
      "source": [
        "Este taller permitirá poner en práctica el uso de dplyr en R, pandas y numpy en Python. Para ello, vamos a crear un conjunto de datos ficticio que contendrá información sobre ventas de productos en diferentes regiones y periodos de tiempo."
      ],
      "metadata": {
        "id": "QED3EexoJrJc"
      }
    },
    {
      "cell_type": "markdown",
      "source": [
        "#Creación del dataset\n",
        "\n",
        "Para crear nuestro dataset, vamos a utilizar la función data.frame() en R y pd.DataFrame() en Python. Para ello, vamos a crear una lista con las variables que queremos incluir en nuestro dataset y luego convertiremos esa lista en un data frame.\n"
      ],
      "metadata": {
        "id": "k-YFTgRvJxeC"
      }
    },
    {
      "cell_type": "code",
      "source": [
        "%%R\n",
        "library(\"dplyr\")"
      ],
      "metadata": {
        "colab": {
          "base_uri": "https://localhost:8080/"
        },
        "id": "jrOkKizDKO7m",
        "outputId": "6eeb2048-7c31-4659-8799-3dadbf36e927"
      },
      "execution_count": null,
      "outputs": [
        {
          "output_type": "stream",
          "name": "stderr",
          "text": [
            "WARNING:rpy2.rinterface_lib.callbacks:R[write to console]: \n",
            "Attaching package: ‘dplyr’\n",
            "\n",
            "\n",
            "WARNING:rpy2.rinterface_lib.callbacks:R[write to console]: The following objects are masked from ‘package:stats’:\n",
            "\n",
            "    filter, lag\n",
            "\n",
            "\n",
            "WARNING:rpy2.rinterface_lib.callbacks:R[write to console]: The following objects are masked from ‘package:base’:\n",
            "\n",
            "    intersect, setdiff, setequal, union\n",
            "\n",
            "\n"
          ]
        }
      ]
    },
    {
      "cell_type": "code",
      "execution_count": null,
      "metadata": {
        "id": "RzYiw_cIJli_"
      },
      "outputs": [],
      "source": [
        "%%R\n",
        "\n",
        "# Crear lista con las variables del dataset\n",
        "ventas <- list(\n",
        "  producto = c(\"Producto A\", \"Producto B\", \"Producto C\", \"Producto A\", \"Producto B\", \"Producto C\"),\n",
        "  region = c(\"Norte\", \"Norte\", \"Norte\", \"Sur\", \"Sur\", \"Sur\"),\n",
        "  periodo = c(\"Enero\", \"Enero\", \"Enero\", \"Febrero\", \"Febrero\", \"Febrero\"),\n",
        "  ventas = c(100, 50, 75, 200, 150, 100)\n",
        ")\n",
        "\n",
        "# Convertir lista en data frame\n",
        "ventas_df <- data.frame(ventas)\n"
      ]
    },
    {
      "cell_type": "markdown",
      "source": [
        "En Python:"
      ],
      "metadata": {
        "id": "K5dX2q1iKDk7"
      }
    },
    {
      "cell_type": "code",
      "source": [
        "import pandas as pd\n",
        "\n",
        "# Crear lista con las variables del dataset\n",
        "ventas = {\n",
        "    \"producto\": [\"Producto A\", \"Producto B\", \"Producto C\", \"Producto A\", \"Producto B\", \"Producto C\"],\n",
        "    \"region\": [\"Norte\", \"Norte\", \"Norte\", \"Sur\", \"Sur\", \"Sur\"],\n",
        "    \"periodo\": [\"Enero\", \"Enero\", \"Enero\", \"Febrero\", \"Febrero\", \"Febrero\"],\n",
        "    \"ventas\": [100, 50, 75, 200, 150, 100]\n",
        "}\n",
        "\n",
        "# Convertir lista en data frame\n",
        "ventas_df = pd.DataFrame(ventas)\n"
      ],
      "metadata": {
        "id": "6uEI9hoyKEXv"
      },
      "execution_count": null,
      "outputs": []
    },
    {
      "cell_type": "markdown",
      "source": [
        "Una vez que tenemos nuestro dataset, podemos proceder a realizar diferentes tareas utilizando dplyr en R y pandas y numpy en Python."
      ],
      "metadata": {
        "id": "bguJLqC5KaUr"
      }
    },
    {
      "cell_type": "markdown",
      "source": [
        "#Taller"
      ],
      "metadata": {
        "id": "r_rXoWRhKdQB"
      }
    },
    {
      "cell_type": "markdown",
      "source": [
        "A continuación, presentamos un taller de 10 (o más 🔥) puntos que nos permitirá poner en práctica el uso de dplyr en R y pandas y numpy en Python con nuestro dataset de ventas.\n",
        "\n",
        "1. Carga los datos y visualiza el dataset. para cada dataset vamos a imprimir el encabezado para verificar que está bien cargado. \n",
        "\n",
        "Únicamente en python vamos a aplicar la orden describe()para ver un recuento estadístico y entender como se están comportando los datos. \n",
        "\n"
      ],
      "metadata": {
        "id": "q_r_pRG_Kg4A"
      }
    },
    {
      "cell_type": "code",
      "source": [
        "%%R\n",
        "#Your Code here guys! --->"
      ],
      "metadata": {
        "id": "cilavRs1LX8U"
      },
      "execution_count": null,
      "outputs": []
    },
    {
      "cell_type": "code",
      "source": [
        "#Your Code here guys! --->"
      ],
      "metadata": {
        "id": "OFXsL9l9L3FE"
      },
      "execution_count": null,
      "outputs": []
    },
    {
      "cell_type": "markdown",
      "source": [
        "2. Filtra el dataset para obtener las ventas de \"Producto A\".\n"
      ],
      "metadata": {
        "id": "YLDvfUNOLauL"
      }
    },
    {
      "cell_type": "code",
      "source": [
        "%%R\n",
        "#Your Code here guys! --->"
      ],
      "metadata": {
        "id": "wxTyyCn2LdFJ"
      },
      "execution_count": null,
      "outputs": []
    },
    {
      "cell_type": "code",
      "source": [
        "#Your Code here guys! --->"
      ],
      "metadata": {
        "id": "8NjVMDvRL2UW"
      },
      "execution_count": null,
      "outputs": []
    },
    {
      "cell_type": "markdown",
      "source": [
        "3. Agrupa el dataset por región y periodo y calcula la media de las ventas.\n"
      ],
      "metadata": {
        "id": "K5uoJjNxLda9"
      }
    },
    {
      "cell_type": "code",
      "source": [
        "%%R\n",
        "#Your Code here guys! --->"
      ],
      "metadata": {
        "id": "En6_jQBGLtg2"
      },
      "execution_count": null,
      "outputs": []
    },
    {
      "cell_type": "code",
      "source": [
        "#Your Code here guys! --->"
      ],
      "metadata": {
        "id": "nL6tCiD5L18f"
      },
      "execution_count": null,
      "outputs": []
    },
    {
      "cell_type": "markdown",
      "source": [
        "4. Calcula la suma total de las ventas para cada periodo.\n"
      ],
      "metadata": {
        "id": "YdJvm3gtLfO-"
      }
    },
    {
      "cell_type": "code",
      "source": [
        "%%R\n",
        "#Your Code here guys! --->"
      ],
      "metadata": {
        "id": "9nc3o0EALupg"
      },
      "execution_count": null,
      "outputs": []
    },
    {
      "cell_type": "code",
      "source": [
        "#Your Code here guys! --->"
      ],
      "metadata": {
        "id": "zPb4QAO2L1bG"
      },
      "execution_count": null,
      "outputs": []
    },
    {
      "cell_type": "markdown",
      "source": [
        "5. Utiliza la función mutate() en R y assign() en Python para crear una nueva variable que calcule la diferencia entre las ventas de cada producto y la media de las ventas de ese producto.\n"
      ],
      "metadata": {
        "id": "UWLU88qvLhIE"
      }
    },
    {
      "cell_type": "code",
      "source": [
        "%%R\n",
        "#Your Code here guys! --->"
      ],
      "metadata": {
        "id": "PeZE9qQ0LvWd"
      },
      "execution_count": null,
      "outputs": []
    },
    {
      "cell_type": "code",
      "source": [
        "#Your Code here guys! --->"
      ],
      "metadata": {
        "id": "Wrky4HyML0_e"
      },
      "execution_count": null,
      "outputs": []
    },
    {
      "cell_type": "markdown",
      "source": [
        "6 .Utiliza la función arrange() en R y sort_values() en Python para ordenar el dataset por ventas de mayor a menor.\n"
      ],
      "metadata": {
        "id": "roLWgO0bLjTs"
      }
    },
    {
      "cell_type": "code",
      "source": [
        "%%R\n",
        "#Your Code here guys! --->"
      ],
      "metadata": {
        "id": "6oduHJuSLv0P"
      },
      "execution_count": null,
      "outputs": []
    },
    {
      "cell_type": "code",
      "source": [
        "#Your Code here guys! --->"
      ],
      "metadata": {
        "id": "I_RoBBLuL0fx"
      },
      "execution_count": null,
      "outputs": []
    },
    {
      "cell_type": "markdown",
      "source": [
        "7. Utiliza la función select() en R y loc[] en Python para seleccionar las variables \"producto\" y \"ventas\".\n"
      ],
      "metadata": {
        "id": "QJgrGW6xLk5Z"
      }
    },
    {
      "cell_type": "code",
      "source": [
        "%%R\n",
        "#Your Code here guys! --->"
      ],
      "metadata": {
        "id": "IDtfBbB1LwUN"
      },
      "execution_count": null,
      "outputs": []
    },
    {
      "cell_type": "code",
      "source": [
        "#Your Code here guys! --->"
      ],
      "metadata": {
        "id": "kMrlUidSLz-s"
      },
      "execution_count": null,
      "outputs": []
    },
    {
      "cell_type": "markdown",
      "source": [
        "8. Utiliza la función filter() en R y query() en Python para filtrar el dataset para obtener las ventas de \"Producto A\" en la región Norte.\n"
      ],
      "metadata": {
        "id": "fvAUVtarLmWW"
      }
    },
    {
      "cell_type": "code",
      "source": [
        "%%R\n",
        "#Your Code here guys! --->"
      ],
      "metadata": {
        "id": "9ci3_FDULxCR"
      },
      "execution_count": null,
      "outputs": []
    },
    {
      "cell_type": "code",
      "source": [
        "#Your Code here guys! --->"
      ],
      "metadata": {
        "id": "FCGjjH84LzlW"
      },
      "execution_count": null,
      "outputs": []
    },
    {
      "cell_type": "markdown",
      "source": [
        "9. Utiliza la función summarise() en R y agg() en Python para calcular la suma total de las ventas de \"Producto A\".\n"
      ],
      "metadata": {
        "id": "W3xzooFoLn0v"
      }
    },
    {
      "cell_type": "code",
      "source": [
        "%%R\n",
        "#Your Code here guys! --->"
      ],
      "metadata": {
        "id": "LHNLOOqoLxq8"
      },
      "execution_count": null,
      "outputs": []
    },
    {
      "cell_type": "code",
      "source": [
        "#Your Code here guys! --->"
      ],
      "metadata": {
        "id": "ksgl1-AlLzOL"
      },
      "execution_count": null,
      "outputs": []
    },
    {
      "cell_type": "markdown",
      "source": [
        "10. Utiliza la función group_by() en R y groupby()"
      ],
      "metadata": {
        "id": "bLklXUcULpZt"
      }
    },
    {
      "cell_type": "code",
      "source": [
        "%%R\n",
        "#Your Code here guys! --->"
      ],
      "metadata": {
        "id": "Qb5Xit0PLyQB"
      },
      "execution_count": null,
      "outputs": []
    },
    {
      "cell_type": "code",
      "source": [
        "#Your Code here guys! --->"
      ],
      "metadata": {
        "id": "uUko7g6aLyo1"
      },
      "execution_count": null,
      "outputs": []
    },
    {
      "cell_type": "markdown",
      "source": [
        "Bien, ahora juguemos con datos propios. "
      ],
      "metadata": {
        "id": "b8YLXKyT8Xr3"
      }
    },
    {
      "cell_type": "markdown",
      "source": [
        "1. Vamos a cargar 2 archivos, por un lado el documento CSV que tienen en sus repositorios de github. y además vamos a cargar la base de datos superstore que tendrán el siguiente link. \n",
        "\n",
        "https://docs.google.com/spreadsheets/d/1r2ee4kEpcUJBUscoDQd0gImOvWb_iECj/edit?usp=sharing&ouid=106132101569136404581&rtpof=true&sd=true\n",
        "\n"
      ],
      "metadata": {
        "id": "X3NxlVx28b9t"
      }
    },
    {
      "cell_type": "markdown",
      "source": [
        "Usando el primer set de datos vamos a trabajar únicamente en R"
      ],
      "metadata": {
        "id": "tcVCb2IKXVDQ"
      }
    },
    {
      "cell_type": "markdown",
      "source": [
        "1. vamos a seleccionar solo las columnas Gender, Age y satisfaction conformando un nuevo datagrame llamado seleccion."
      ],
      "metadata": {
        "id": "kkwOmV2FXYVL"
      }
    },
    {
      "cell_type": "code",
      "source": [
        "%%R\n",
        "#Your Code here guys! --->"
      ],
      "metadata": {
        "id": "44kfc3nFXqG6"
      },
      "execution_count": null,
      "outputs": []
    },
    {
      "cell_type": "markdown",
      "source": [
        "2. Ahora usando el nuevo df que hemos creado vamos a filtrar solo las filas donde la satisfacción es \"satisfied\" y a guardarlo en un df3:"
      ],
      "metadata": {
        "id": "NUPjkOQqXo7G"
      }
    },
    {
      "cell_type": "code",
      "source": [
        "%%R\n",
        "#Your Code here guys! --->"
      ],
      "metadata": {
        "id": "UIW6xDEsXvdP"
      },
      "execution_count": null,
      "outputs": []
    },
    {
      "cell_type": "markdown",
      "source": [
        "3. vamos a agrupar los datos por género y calcular la edad promedio y a guardarlo en un df4:"
      ],
      "metadata": {
        "id": "FbwdkOzWX3Lc"
      }
    },
    {
      "cell_type": "code",
      "source": [
        "%%R\n",
        "#Your Code here guys! --->"
      ],
      "metadata": {
        "id": "Dzk8yZzhgH06"
      },
      "execution_count": null,
      "outputs": []
    },
    {
      "cell_type": "markdown",
      "source": [
        "4. vamos a ordenar los resultados de seleccion por edad de mayor a menor, después vamos a agruparlos por género y vamos a averiguar la sumatoria de cada género para cada grupo los satisfechos y los insatisfechos. Este nuevo conteo lo vamos a guardar en una columna nueva llamada a y esto lo guardaremos en un nuevo df llamado df5"
      ],
      "metadata": {
        "id": "3kuTZrGOYH9_"
      }
    },
    {
      "cell_type": "code",
      "source": [
        "%%R\n",
        "#Your Code here guys! --->"
      ],
      "metadata": {
        "id": "a_PHBCQygIJR"
      },
      "execution_count": null,
      "outputs": []
    },
    {
      "cell_type": "markdown",
      "source": [
        "Muy bien, ya hemos logrado trabajar sobre la primera base de datos, ahora vamos a cargar la segunda base de datos, para ello usaremos el acceso a google drive que nos brinda google colab. "
      ],
      "metadata": {
        "id": "btrN5tWTnxql"
      }
    },
    {
      "cell_type": "code",
      "source": [
        "#Your Code here guys! --->"
      ],
      "metadata": {
        "id": "b2DIFZIYvqfY"
      },
      "execution_count": null,
      "outputs": []
    },
    {
      "cell_type": "markdown",
      "source": [
        "Perfecto, como ya tenemos nuestra base de datos montada sobre python vamos a hacer un análisis descriptivo de la base de datos usando .describe() así podremos ver cómo se comporta mi base de datos. "
      ],
      "metadata": {
        "id": "qtNVkn8ovtwC"
      }
    },
    {
      "cell_type": "code",
      "source": [
        "#Your Code here guys! --->"
      ],
      "metadata": {
        "id": "2D2DxkG7v_Ho"
      },
      "execution_count": null,
      "outputs": []
    },
    {
      "cell_type": "markdown",
      "source": [
        "Ahora vamos a importar las librerías seaborn y matplotlib."
      ],
      "metadata": {
        "id": "OuqsSFs8fUr5"
      }
    },
    {
      "cell_type": "code",
      "source": [],
      "metadata": {
        "id": "yFPjcje_fVzm"
      },
      "execution_count": null,
      "outputs": []
    },
    {
      "cell_type": "markdown",
      "source": [
        "Muy bien, ahora vamos a pasar esta base de datos "
      ],
      "metadata": {
        "id": "_aArLk8DwAO-"
      }
    },
    {
      "cell_type": "code",
      "source": [
        "%%R\n",
        "#Your Code here guys! --->"
      ],
      "metadata": {
        "id": "HqaJ9u-AoERP"
      },
      "execution_count": null,
      "outputs": []
    },
    {
      "cell_type": "markdown",
      "source": [
        "Vamos a visualizar los datos del dataframe para la variable categoría en el eje X y ventas en el eje Y en un gráfico de boxplot. "
      ],
      "metadata": {
        "id": "0yTeA7rlfkwL"
      }
    },
    {
      "cell_type": "code",
      "source": [],
      "metadata": {
        "id": "6qSrTAhrfrYH"
      },
      "execution_count": null,
      "outputs": []
    },
    {
      "cell_type": "markdown",
      "source": [
        "#El taller va desde esta parte de aquí!!!"
      ],
      "metadata": {
        "id": "mG2-5fGKlt-X"
      }
    },
    {
      "cell_type": "markdown",
      "source": [],
      "metadata": {
        "id": "6BYFdlvFftl-"
      }
    },
    {
      "cell_type": "markdown",
      "source": [
        "Ahora hagámos lo mismo en R."
      ],
      "metadata": {
        "id": "LDhOHJRvIptI"
      }
    },
    {
      "cell_type": "markdown",
      "source": [
        "Primero importemos la base de datos al entorno de python"
      ],
      "metadata": {
        "id": "P3AFfmybIwNe"
      }
    },
    {
      "cell_type": "code",
      "source": [],
      "metadata": {
        "id": "pxYwu-6YLcN-"
      },
      "execution_count": null,
      "outputs": []
    },
    {
      "cell_type": "markdown",
      "source": [
        "Ahora vamos a graficar resultados. "
      ],
      "metadata": {
        "id": "67_cxxe0I11t"
      }
    },
    {
      "cell_type": "code",
      "source": [
        "%%R\n",
        "\n",
        "ggplot(  , aes(   )) +\n",
        "  "
      ],
      "metadata": {
        "id": "hqgZtBdXp229"
      },
      "execution_count": null,
      "outputs": []
    },
    {
      "cell_type": "markdown",
      "source": [
        "Pregunta, qué tan comprensible es la gráfica? se puede interpretar los cuartíles aquí?. De no ser así, vamos a eliminar los valores extremos para intentar obtener una mejor visual de los gráficos. \n",
        "\n",
        "Para eso vamos a retirar los valores extremos calculando los cuartiles y el método IQR."
      ],
      "metadata": {
        "id": "pebt1ZhY-_4o"
      }
    },
    {
      "cell_type": "code",
      "source": [
        "# Calcular límites para la variable 'Category' usando el método IQR\n",
        "Q1 =    .quantile(0.25)\n",
        "Q3 =    .quantile(0.75)\n",
        "IQR = Q3 - Q1\n",
        "lower_limit = \n",
        "upper_limit = \n",
        "\n",
        "# Eliminar outliers\n",
        "df = df[ > lower_limit) & (  < upper_limit)]\n",
        "sns.boxplot()\n"
      ],
      "metadata": {
        "id": "N6dOeOqa_OLq"
      },
      "execution_count": null,
      "outputs": []
    },
    {
      "cell_type": "code",
      "source": [
        "%%R\n",
        "\n",
        "# Calcular límites para la variable 'Category' usando el método IQR\n",
        "Q1 <- quantile( )\n",
        "Q3 <- quantile( )\n",
        "IQR <- Q3 - Q1\n",
        "lower_limit <- \n",
        "upper_limit <- \n",
        "\n",
        "# Eliminar outliers\n",
        "df <- df[df$Sales > lower_limit & df$Sales < upper_limit, ]\n",
        "\n",
        "# Crear box plot usando ggplot2\n",
        "ggplot(, aes( )) +\n"
      ],
      "metadata": {
        "id": "snbBJp4UBtZt"
      },
      "execution_count": null,
      "outputs": []
    },
    {
      "cell_type": "markdown",
      "source": [
        "Ahora la pregunta es... dentro de los cuartiles de ventas, cuál es la categoría que ha vendido menos valor monetario?\n",
        "\n",
        "A. Furniture.\n",
        "B. Office Supplies.\n",
        "C. Technology. "
      ],
      "metadata": {
        "id": "Fpehpak-JstD"
      }
    },
    {
      "cell_type": "code",
      "source": [
        "%%R\n",
        "# Encontrar la region que más vendió\n",
        "top_region <- df %>%\n",
        "  group_by() %>%\n",
        "  summarise() %>%\n",
        "  arrange() %>%\n",
        "  slice(1)\n",
        "\n",
        "# Crear un plot\n",
        "ggplot() +\n",
        "  geom  +\n",
        "  labs(title = \"\", x = \"\", y = \"\")\n",
        "\n"
      ],
      "metadata": {
        "id": "IM45dxSRNVxQ"
      },
      "execution_count": null,
      "outputs": []
    },
    {
      "cell_type": "code",
      "source": [
        "# Encontrar la region que más vendió\n",
        "top_region = df.groupby('')[''].sum().sort_values(ascending= ).index[0]\n",
        "\n",
        "\n",
        "# Crear un plot\n",
        "\n"
      ],
      "metadata": {
        "id": "anrMi_EzOXBB"
      },
      "execution_count": null,
      "outputs": []
    },
    {
      "cell_type": "markdown",
      "source": [
        "usando la misma base de datos, crea un código en R y uno en python que: \n",
        "\n",
        "1. filtre la información referente a 'Sean O'Donnell'. \n",
        "2. crea un plot que me indique el nombre del producto y el valor que compró esta persona"
      ],
      "metadata": {
        "id": "29cWAT-iPk3r"
      }
    },
    {
      "cell_type": "code",
      "source": [
        "%%R\n",
        "\n",
        "# Filtrar información de \"Sean O'Donnell\"\n",
        "\n"
      ],
      "metadata": {
        "id": "S8YVhm4BPik1"
      },
      "execution_count": null,
      "outputs": []
    },
    {
      "cell_type": "code",
      "source": [
        "%%R\n",
        "\n",
        "# Filtrar profits positivos\n",
        "df_positives = df[df$Profit > 0,]\n"
      ],
      "metadata": {
        "id": "DgWj-MWyP9ON"
      },
      "execution_count": null,
      "outputs": []
    },
    {
      "cell_type": "code",
      "source": [
        "%%R\n",
        "#Grafico\n"
      ],
      "metadata": {
        "id": "5wCo5fL7Vuox"
      },
      "execution_count": null,
      "outputs": []
    },
    {
      "cell_type": "code",
      "source": [
        "# Filtrar profits positivos\n",
        "df_positives = [ [ ] > 0]\n"
      ],
      "metadata": {
        "id": "L4IgqjoWQAq-"
      },
      "execution_count": null,
      "outputs": []
    },
    {
      "cell_type": "code",
      "source": [
        "sns.barplot()"
      ],
      "metadata": {
        "id": "pk0xTCG0WwbG"
      },
      "execution_count": null,
      "outputs": []
    },
    {
      "cell_type": "markdown",
      "source": [
        "A pesar de esto, la legibilidad de los gráficos es casi nula por lo que habrá que elegir una forma de mostrar a la gerencia los resultados. \n",
        "\n",
        "Vamos a organizar los datos para mostrar solamente el top de ciudades con mejores profits. "
      ],
      "metadata": {
        "id": "MRWnUfyWXK4F"
      }
    },
    {
      "cell_type": "code",
      "source": [
        "%%R\n",
        "\n",
        "# Ordenar los datos por profit en orden descendente y seleccionar solo las primeras 10 ciudades\n",
        "df_top_cities = \n",
        "\n",
        "# Crear plot\n",
        "ggplot() +\n",
        "  geom_col() +\n",
        "  coord_flip() +\n",
        "  labs(title = \"\", x = \"\", y = \"\")"
      ],
      "metadata": {
        "id": "XjZWbFD0XazI"
      },
      "execution_count": null,
      "outputs": []
    },
    {
      "cell_type": "code",
      "source": [
        "# Seleccionar las 10 ciudades con mayores profits\n",
        "df_top_cities = df_positives.sort_values(by='', ascending=).head()[['City', 'Profit']]\n"
      ],
      "metadata": {
        "id": "2DooIg_GXlNb"
      },
      "execution_count": null,
      "outputs": []
    },
    {
      "cell_type": "code",
      "source": [
        "# Crear plot\n",
        "sns.barplot()\n",
        "plt.title('Ciudades con mayores profits positivos')\n",
        "plt.xlabel('Ciudad')\n",
        "plt.ylabel('Profit')\n",
        "plt.xticks(rotation=90, ha='right', fontsize=8)\n",
        "plt.tight_layout()\n",
        "plt.show()"
      ],
      "metadata": {
        "id": "c1o7W1ZgY2QX"
      },
      "execution_count": null,
      "outputs": []
    },
    {
      "cell_type": "markdown",
      "source": [
        "Usando la misma base de datos crea un agrupado por regiones y saca la media de las ventas de cada región. Esta media asignala a una columna nueva de un dataframe llamado mean_sales. "
      ],
      "metadata": {
        "id": "cuUZemJwZkT5"
      }
    },
    {
      "cell_type": "code",
      "source": [
        "%%R\n",
        "\n",
        "mean_sales = df %>%\n",
        "\n",
        "\n",
        "\n",
        "print(summary(mean_sales))\n",
        "print(mean_sales)\n"
      ],
      "metadata": {
        "id": "RJouQZkcaAwb"
      },
      "execution_count": null,
      "outputs": []
    },
    {
      "cell_type": "code",
      "source": [
        "# Agrupar por regiones y calcular la media de ventas\n",
        "mean_sales = \n",
        "\n",
        "# Renombrar las columnas del dataframe\n",
        "mean_sales.columns = ['Region', 'mean_sales']\n",
        "\n",
        "mean_sales\n"
      ],
      "metadata": {
        "id": "171Lp3n9aOFq"
      },
      "execution_count": null,
      "outputs": []
    },
    {
      "cell_type": "markdown",
      "source": [
        "Ahora vamos a graficar estos datos de forma tal que se genere un gráfico de disperción en el que se creen diferentes formas y colores para cada color, así podremos comparar las medias de las ventas de cada región. "
      ],
      "metadata": {
        "id": "5yUoeewdlc0G"
      }
    },
    {
      "cell_type": "markdown",
      "source": [
        "Como clave para este ejercicio... para la conformación de las figuras en R deberán usar el comando shape= y color= \n",
        "\n",
        "Mientras que en python hue=' ', style=' ' podrían usar los comandos\n"
      ],
      "metadata": {
        "id": "ZcdPsNpDdIOc"
      }
    },
    {
      "cell_type": "code",
      "source": [
        "# Crear plot\n",
        "sns.scatterplot(  , hue='', style='')\n",
        "\n",
        "# Configurar plot\n",
        "plt.title('Relación entre ventas y profit por región')\n",
        "plt.xlabel('Ventas')\n",
        "plt.ylabel('Profit')\n",
        "plt.show()"
      ],
      "metadata": {
        "id": "Tfbozk0Dc-qj"
      },
      "execution_count": null,
      "outputs": []
    },
    {
      "cell_type": "code",
      "source": [
        "%%R\n",
        "\n",
        "ggplot(, aes( color = , shape =)) +\n",
        "  geom_point() +\n",
        "  labs(title = \"Relación entre ventas y profit por región\", x = \"Ventas\", y = \"Profit\") \n"
      ],
      "metadata": {
        "id": "YAW2CmNakayM"
      },
      "execution_count": null,
      "outputs": []
    },
    {
      "cell_type": "markdown",
      "source": [
        "Ya para finalizar vamos a tomar la variale ventas y crearemos un registro de ventas por ciudad, en dónde queremos saber cuál es el promedio de ventas para cada ciudad, pero tambiénq uedremos ver cuál es el valor que corresponde al 50% de las ventas (mediana) de cada ciudad... estos valores los vamos a agregar a un dataframe nuevo llamado 'Sales_by_city'\n",
        "\n",
        "Como tip para lograrlo, en R podremos usar el comando across que generalmente usamos como dplyr::across() y en python despues de haber generado un groupby, simplemente conectaremos una función .agg para implementar una lista con las funciones matemáticas que queremos obtener. "
      ],
      "metadata": {
        "id": "bSWm4tlgr7Tv"
      }
    },
    {
      "cell_type": "code",
      "source": [
        "%%R\n",
        "# Calcular la media, moda y mediana de las ventas por ciudad\n",
        "sales_by_city = df %>%\n",
        "  group_by() %>%\n",
        "  summarise(dplyr::across( , list(mean = , median = )))\n",
        "\n",
        "# Ver los resultados\n",
        "sales_by_city"
      ],
      "metadata": {
        "id": "jMG5HCxvp-lc"
      },
      "execution_count": null,
      "outputs": []
    },
    {
      "cell_type": "code",
      "source": [
        "# Calcular la media, moda y mediana de las ventas por ciudad\n",
        "sales_by_city = df.groupby()[].agg([ , ])\n",
        "\n",
        "# Ver los resultados\n",
        "print(sales_by_city)"
      ],
      "metadata": {
        "id": "RRWFgXftrmvm"
      },
      "execution_count": null,
      "outputs": []
    }
  ]
}