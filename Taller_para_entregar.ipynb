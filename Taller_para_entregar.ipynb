{
  "nbformat": 4,
  "nbformat_minor": 0,
  "metadata": {
    "colab": {
      "provenance": [],
      "include_colab_link": true
    },
    "kernelspec": {
      "name": "python3",
      "display_name": "Python 3"
    },
    "language_info": {
      "name": "python"
    }
  },
  "cells": [
    {
      "cell_type": "markdown",
      "metadata": {
        "id": "view-in-github",
        "colab_type": "text"
      },
      "source": [
        "<a href=\"https://colab.research.google.com/github/NatCastro28/Class2023/blob/main/Taller_para_entregar.ipynb\" target=\"_parent\"><img src=\"https://colab.research.google.com/assets/colab-badge.svg\" alt=\"Open In Colab\"/></a>"
      ]
    },
    {
      "cell_type": "code",
      "source": [
        "!pip install rpy2==3.5.1"
      ],
      "metadata": {
        "id": "jQRDSNBCJ6r4",
        "colab": {
          "base_uri": "https://localhost:8080/"
        },
        "outputId": "4df7e89f-9638-41f9-c882-cbd43edbd19f"
      },
      "execution_count": null,
      "outputs": [
        {
          "output_type": "stream",
          "name": "stdout",
          "text": [
            "Looking in indexes: https://pypi.org/simple, https://us-python.pkg.dev/colab-wheels/public/simple/\n",
            "Collecting rpy2==3.5.1\n",
            "  Downloading rpy2-3.5.1.tar.gz (201 kB)\n",
            "\u001b[2K     \u001b[90m━━━━━━━━━━━━━━━━━━━━━━━━━━━━━━━━━━━━━━━\u001b[0m \u001b[32m201.7/201.7 KB\u001b[0m \u001b[31m7.0 MB/s\u001b[0m eta \u001b[36m0:00:00\u001b[0m\n",
            "\u001b[?25h  Preparing metadata (setup.py) ... \u001b[?25l\u001b[?25hdone\n",
            "Requirement already satisfied: cffi>=1.10.0 in /usr/local/lib/python3.9/dist-packages (from rpy2==3.5.1) (1.15.1)\n",
            "Requirement already satisfied: jinja2 in /usr/local/lib/python3.9/dist-packages (from rpy2==3.5.1) (3.1.2)\n",
            "Requirement already satisfied: pytz in /usr/local/lib/python3.9/dist-packages (from rpy2==3.5.1) (2022.7.1)\n",
            "Requirement already satisfied: tzlocal in /usr/local/lib/python3.9/dist-packages (from rpy2==3.5.1) (4.3)\n",
            "Requirement already satisfied: pycparser in /usr/local/lib/python3.9/dist-packages (from cffi>=1.10.0->rpy2==3.5.1) (2.21)\n",
            "Requirement already satisfied: MarkupSafe>=2.0 in /usr/local/lib/python3.9/dist-packages (from jinja2->rpy2==3.5.1) (2.1.2)\n",
            "Requirement already satisfied: pytz-deprecation-shim in /usr/local/lib/python3.9/dist-packages (from tzlocal->rpy2==3.5.1) (0.1.0.post0)\n",
            "Requirement already satisfied: tzdata in /usr/local/lib/python3.9/dist-packages (from pytz-deprecation-shim->tzlocal->rpy2==3.5.1) (2023.3)\n",
            "Building wheels for collected packages: rpy2\n",
            "  Building wheel for rpy2 (setup.py) ... \u001b[?25l\u001b[?25hdone\n",
            "  Created wheel for rpy2: filename=rpy2-3.5.1-cp39-cp39-linux_x86_64.whl size=317895 sha256=348f0c43312e01d7cd3134cf9fc704142ca785da691aca5f85438e0b2008d94e\n",
            "  Stored in directory: /root/.cache/pip/wheels/09/e7/bc/33685b60ab54dba969596dd87244ee9f4c2e83dff9a53d4f20\n",
            "Successfully built rpy2\n",
            "Installing collected packages: rpy2\n",
            "  Attempting uninstall: rpy2\n",
            "    Found existing installation: rpy2 3.5.5\n",
            "    Uninstalling rpy2-3.5.5:\n",
            "      Successfully uninstalled rpy2-3.5.5\n",
            "Successfully installed rpy2-3.5.1\n"
          ]
        }
      ]
    },
    {
      "cell_type": "code",
      "source": [
        "# activate R magic\n",
        "%load_ext rpy2.ipython"
      ],
      "metadata": {
        "id": "194moOZ4J80p"
      },
      "execution_count": null,
      "outputs": []
    },
    {
      "cell_type": "markdown",
      "source": [
        "Este taller permitirá poner en práctica el uso de dplyr en R, pandas y numpy en Python. Para ello, vamos a crear un conjunto de datos ficticio que contendrá información sobre ventas de productos en diferentes regiones y periodos de tiempo."
      ],
      "metadata": {
        "id": "QED3EexoJrJc"
      }
    },
    {
      "cell_type": "markdown",
      "source": [
        "#Creación del dataset\n",
        "\n",
        "Para crear nuestro dataset, vamos a utilizar la función data.frame() en R y pd.DataFrame() en Python. Para ello, vamos a crear una lista con las variables que queremos incluir en nuestro dataset y luego convertiremos esa lista en un data frame.\n"
      ],
      "metadata": {
        "id": "k-YFTgRvJxeC"
      }
    },
    {
      "cell_type": "code",
      "source": [
        "%%R\n",
        "library(\"dplyr\")"
      ],
      "metadata": {
        "id": "jrOkKizDKO7m",
        "colab": {
          "base_uri": "https://localhost:8080/"
        },
        "outputId": "759bec28-836a-42c0-b4f3-7adb5eff5900"
      },
      "execution_count": null,
      "outputs": [
        {
          "output_type": "stream",
          "name": "stderr",
          "text": [
            "WARNING:rpy2.rinterface_lib.callbacks:R[write to console]: \n",
            "Attaching package: ‘dplyr’\n",
            "\n",
            "\n",
            "WARNING:rpy2.rinterface_lib.callbacks:R[write to console]: The following objects are masked from ‘package:stats’:\n",
            "\n",
            "    filter, lag\n",
            "\n",
            "\n",
            "WARNING:rpy2.rinterface_lib.callbacks:R[write to console]: The following objects are masked from ‘package:base’:\n",
            "\n",
            "    intersect, setdiff, setequal, union\n",
            "\n",
            "\n"
          ]
        }
      ]
    },
    {
      "cell_type": "code",
      "source": [
        "%%R\n",
        "\n",
        "2+2"
      ],
      "metadata": {
        "id": "PTxdCYxS6Gy_",
        "colab": {
          "base_uri": "https://localhost:8080/"
        },
        "outputId": "7ea0ea88-8b7f-48ab-bdd2-05c3f2104517"
      },
      "execution_count": null,
      "outputs": [
        {
          "output_type": "stream",
          "name": "stdout",
          "text": [
            "[1] 4\n"
          ]
        }
      ]
    },
    {
      "cell_type": "code",
      "execution_count": null,
      "metadata": {
        "id": "RzYiw_cIJli_"
      },
      "outputs": [],
      "source": [
        "%%R\n",
        "\n",
        "# Crear lista con las variables del dataset\n",
        "ventas <- list(\n",
        "  producto = c(\"Producto A\", \"Producto B\", \"Producto C\", \"Producto A\", \"Producto B\", \"Producto C\"),\n",
        "  region = c(\"Norte\", \"Norte\", \"Norte\", \"Sur\", \"Sur\", \"Sur\"),\n",
        "  periodo = c(\"Enero\", \"Enero\", \"Enero\", \"Febrero\", \"Febrero\", \"Febrero\"),\n",
        "  ventas = c(100, 50, 75, 200, 150, 100)\n",
        ")\n",
        "\n",
        "# Convertir lista en data frame\n",
        "ventas_df <- data.frame(ventas)\n"
      ]
    },
    {
      "cell_type": "markdown",
      "source": [
        "En Python:"
      ],
      "metadata": {
        "id": "K5dX2q1iKDk7"
      }
    },
    {
      "cell_type": "code",
      "source": [
        "import pandas as pd\n",
        "\n",
        "# Crear lista con las variables del dataset\n",
        "ventas = {\n",
        "    \"producto\": [\"Producto A\", \"Producto B\", \"Producto C\", \"Producto A\", \"Producto B\", \"Producto C\"],\n",
        "    \"region\": [\"Norte\", \"Norte\", \"Norte\", \"Sur\", \"Sur\", \"Sur\"],\n",
        "    \"periodo\": [\"Enero\", \"Enero\", \"Enero\", \"Febrero\", \"Febrero\", \"Febrero\"],\n",
        "    \"ventas\": [100, 50, 75, 200, 150, 100]\n",
        "}\n",
        "\n",
        "# Convertir lista en data frame\n",
        "ventas_df = pd.DataFrame(ventas)\n"
      ],
      "metadata": {
        "id": "6uEI9hoyKEXv"
      },
      "execution_count": null,
      "outputs": []
    },
    {
      "cell_type": "markdown",
      "source": [
        "Una vez que tenemos nuestro dataset, podemos proceder a realizar diferentes tareas utilizando dplyr en R y pandas y numpy en Python."
      ],
      "metadata": {
        "id": "bguJLqC5KaUr"
      }
    },
    {
      "cell_type": "markdown",
      "source": [
        "#Taller"
      ],
      "metadata": {
        "id": "r_rXoWRhKdQB"
      }
    },
    {
      "cell_type": "markdown",
      "source": [
        "A continuación, presentamos un taller de 10 (o más 🔥) puntos que nos permitirá poner en práctica el uso de dplyr en R y pandas y numpy en Python con nuestro dataset de ventas.\n",
        "\n",
        "1. Carga los datos y visualiza el dataset. para cada dataset vamos a imprimir el encabezado para verificar que está bien cargado. \n",
        "\n",
        "Únicamente en python vamos a aplicar la orden describe()para ver un recuento estadístico y entender como se están comportando los datos. \n",
        "\n"
      ],
      "metadata": {
        "id": "q_r_pRG_Kg4A"
      }
    },
    {
      "cell_type": "code",
      "source": [
        "%%R\n",
        "#Your Code here guys! --->"
      ],
      "metadata": {
        "id": "cilavRs1LX8U",
        "colab": {
          "base_uri": "https://localhost:8080/"
        },
        "outputId": "eca31ec4-539d-4c83-ed47-399eca3c32d9"
      },
      "execution_count": null,
      "outputs": [
        {
          "output_type": "stream",
          "name": "stdout",
          "text": [
            "NULL\n"
          ]
        }
      ]
    },
    {
      "cell_type": "code",
      "source": [
        "#Your Code here guys! --->"
      ],
      "metadata": {
        "id": "OFXsL9l9L3FE"
      },
      "execution_count": null,
      "outputs": []
    },
    {
      "cell_type": "markdown",
      "source": [
        "2. Filtra el dataset para obtener las ventas de \"Producto A\".\n"
      ],
      "metadata": {
        "id": "YLDvfUNOLauL"
      }
    },
    {
      "cell_type": "code",
      "source": [
        "%%R\n",
        "#Your Code here guys! --->"
      ],
      "metadata": {
        "id": "wxTyyCn2LdFJ",
        "colab": {
          "base_uri": "https://localhost:8080/"
        },
        "outputId": "26fd80af-0b90-4005-d9d1-bf7c40497bb7"
      },
      "execution_count": null,
      "outputs": [
        {
          "output_type": "stream",
          "name": "stdout",
          "text": [
            "NULL\n"
          ]
        }
      ]
    },
    {
      "cell_type": "code",
      "source": [
        "#Your Code here guys! --->"
      ],
      "metadata": {
        "id": "8NjVMDvRL2UW"
      },
      "execution_count": null,
      "outputs": []
    },
    {
      "cell_type": "markdown",
      "source": [
        "3. Agrupa el dataset por región y periodo y calcula la media de las ventas.\n"
      ],
      "metadata": {
        "id": "K5uoJjNxLda9"
      }
    },
    {
      "cell_type": "code",
      "source": [
        "%%R\n",
        "#Your Code here guys! --->"
      ],
      "metadata": {
        "id": "En6_jQBGLtg2",
        "colab": {
          "base_uri": "https://localhost:8080/"
        },
        "outputId": "183ee265-9849-425f-b435-2155ed3b0838"
      },
      "execution_count": null,
      "outputs": [
        {
          "output_type": "stream",
          "name": "stdout",
          "text": [
            "NULL\n"
          ]
        }
      ]
    },
    {
      "cell_type": "code",
      "source": [
        "#Your Code here guys! --->"
      ],
      "metadata": {
        "id": "nL6tCiD5L18f"
      },
      "execution_count": null,
      "outputs": []
    },
    {
      "cell_type": "markdown",
      "source": [
        "4. Calcula la suma total de las ventas para cada periodo.\n"
      ],
      "metadata": {
        "id": "YdJvm3gtLfO-"
      }
    },
    {
      "cell_type": "code",
      "source": [
        "%%R\n",
        "#Your Code here guys! --->"
      ],
      "metadata": {
        "id": "9nc3o0EALupg",
        "colab": {
          "base_uri": "https://localhost:8080/"
        },
        "outputId": "46159d25-9d53-4185-ad6f-2b071c213ba2"
      },
      "execution_count": null,
      "outputs": [
        {
          "output_type": "stream",
          "name": "stdout",
          "text": [
            "NULL\n"
          ]
        }
      ]
    },
    {
      "cell_type": "code",
      "source": [
        "#Your Code here guys! --->"
      ],
      "metadata": {
        "id": "zPb4QAO2L1bG"
      },
      "execution_count": null,
      "outputs": []
    },
    {
      "cell_type": "markdown",
      "source": [
        "5. Utiliza la función mutate() en R y assign() en Python para crear una nueva variable que calcule la diferencia entre las ventas de cada producto y la media de las ventas de ese producto.\n"
      ],
      "metadata": {
        "id": "UWLU88qvLhIE"
      }
    },
    {
      "cell_type": "code",
      "source": [
        "%%R\n",
        "#Your Code here guys! --->"
      ],
      "metadata": {
        "id": "PeZE9qQ0LvWd",
        "colab": {
          "base_uri": "https://localhost:8080/"
        },
        "outputId": "7dee9115-3164-4f40-e990-b9d6ad759acb"
      },
      "execution_count": null,
      "outputs": [
        {
          "output_type": "stream",
          "name": "stdout",
          "text": [
            "NULL\n"
          ]
        }
      ]
    },
    {
      "cell_type": "code",
      "source": [
        "#Your Code here guys! --->"
      ],
      "metadata": {
        "id": "Wrky4HyML0_e"
      },
      "execution_count": null,
      "outputs": []
    },
    {
      "cell_type": "markdown",
      "source": [
        "6 .Utiliza la función arrange() en R y sort_values() en Python para ordenar el dataset por ventas de mayor a menor.\n"
      ],
      "metadata": {
        "id": "roLWgO0bLjTs"
      }
    },
    {
      "cell_type": "code",
      "source": [
        "%%R\n",
        "#Your Code here guys! --->"
      ],
      "metadata": {
        "id": "6oduHJuSLv0P",
        "colab": {
          "base_uri": "https://localhost:8080/"
        },
        "outputId": "6c6ea3e4-d56e-4b44-cc15-b63c07a62514"
      },
      "execution_count": null,
      "outputs": [
        {
          "output_type": "stream",
          "name": "stdout",
          "text": [
            "NULL\n"
          ]
        }
      ]
    },
    {
      "cell_type": "code",
      "source": [
        "#Your Code here guys! --->"
      ],
      "metadata": {
        "id": "I_RoBBLuL0fx"
      },
      "execution_count": null,
      "outputs": []
    },
    {
      "cell_type": "markdown",
      "source": [
        "7. Utiliza la función select() en R y loc[] en Python para seleccionar las variables \"producto\" y \"ventas\".\n"
      ],
      "metadata": {
        "id": "QJgrGW6xLk5Z"
      }
    },
    {
      "cell_type": "code",
      "source": [
        "%%R\n",
        "#Your Code here guys! --->"
      ],
      "metadata": {
        "id": "IDtfBbB1LwUN",
        "colab": {
          "base_uri": "https://localhost:8080/"
        },
        "outputId": "36098cc5-ec87-4b88-b9b7-42991c5c73ec"
      },
      "execution_count": null,
      "outputs": [
        {
          "output_type": "stream",
          "name": "stdout",
          "text": [
            "NULL\n"
          ]
        }
      ]
    },
    {
      "cell_type": "code",
      "source": [
        "#Your Code here guys! --->"
      ],
      "metadata": {
        "id": "kMrlUidSLz-s"
      },
      "execution_count": null,
      "outputs": []
    },
    {
      "cell_type": "markdown",
      "source": [
        "8. Utiliza la función filter() en R y query() en Python para filtrar el dataset para obtener las ventas de \"Producto A\" en la región Norte.\n"
      ],
      "metadata": {
        "id": "fvAUVtarLmWW"
      }
    },
    {
      "cell_type": "code",
      "source": [
        "%%R\n",
        "#Your Code here guys! --->"
      ],
      "metadata": {
        "id": "9ci3_FDULxCR",
        "colab": {
          "base_uri": "https://localhost:8080/"
        },
        "outputId": "c27f2eea-7d4a-4360-909a-a2a892406b31"
      },
      "execution_count": null,
      "outputs": [
        {
          "output_type": "stream",
          "name": "stdout",
          "text": [
            "NULL\n"
          ]
        }
      ]
    },
    {
      "cell_type": "code",
      "source": [
        "#Your Code here guys! --->"
      ],
      "metadata": {
        "id": "FCGjjH84LzlW"
      },
      "execution_count": null,
      "outputs": []
    },
    {
      "cell_type": "markdown",
      "source": [
        "9. Utiliza la función summarise() en R y agg() en Python para calcular la suma total de las ventas de \"Producto A\".\n"
      ],
      "metadata": {
        "id": "W3xzooFoLn0v"
      }
    },
    {
      "cell_type": "code",
      "source": [
        "%%R\n",
        "#Your Code here guys! --->"
      ],
      "metadata": {
        "id": "LHNLOOqoLxq8",
        "colab": {
          "base_uri": "https://localhost:8080/"
        },
        "outputId": "e3cea35c-f2c1-4986-bad7-8612ea796dd7"
      },
      "execution_count": null,
      "outputs": [
        {
          "output_type": "stream",
          "name": "stdout",
          "text": [
            "NULL\n"
          ]
        }
      ]
    },
    {
      "cell_type": "code",
      "source": [
        "#Your Code here guys! --->"
      ],
      "metadata": {
        "id": "ksgl1-AlLzOL"
      },
      "execution_count": null,
      "outputs": []
    },
    {
      "cell_type": "markdown",
      "source": [
        "10. Utiliza la función group_by() en R y groupby()"
      ],
      "metadata": {
        "id": "bLklXUcULpZt"
      }
    },
    {
      "cell_type": "code",
      "source": [
        "%%R\n",
        "#Your Code here guys! --->"
      ],
      "metadata": {
        "id": "Qb5Xit0PLyQB",
        "colab": {
          "base_uri": "https://localhost:8080/"
        },
        "outputId": "5c350b8c-af4a-4aa6-adb2-d6cbfd1eb6c7"
      },
      "execution_count": null,
      "outputs": [
        {
          "output_type": "stream",
          "name": "stdout",
          "text": [
            "NULL\n"
          ]
        }
      ]
    },
    {
      "cell_type": "code",
      "source": [
        "#Your Code here guys! --->"
      ],
      "metadata": {
        "id": "uUko7g6aLyo1"
      },
      "execution_count": null,
      "outputs": []
    },
    {
      "cell_type": "markdown",
      "source": [
        "Bien, ahora juguemos con datos propios. "
      ],
      "metadata": {
        "id": "b8YLXKyT8Xr3"
      }
    },
    {
      "cell_type": "markdown",
      "source": [
        "1. Vamos a cargar 2 archivos, por un lado el documento CSV que tienen en sus repositorios de github. y además vamos a cargar la base de datos superstore que tendrán el siguiente link. \n",
        "\n",
        "https://docs.google.com/spreadsheets/d/1r2ee4kEpcUJBUscoDQd0gImOvWb_iECj/edit?usp=sharing&ouid=106132101569136404581&rtpof=true&sd=true\n",
        "\n"
      ],
      "metadata": {
        "id": "X3NxlVx28b9t"
      }
    },
    {
      "cell_type": "markdown",
      "source": [
        "Usando el primer set de datos vamos a trabajar únicamente en R"
      ],
      "metadata": {
        "id": "tcVCb2IKXVDQ"
      }
    },
    {
      "cell_type": "markdown",
      "source": [
        "1. vamos a seleccionar solo las columnas Gender, Age y satisfaction conformando un nuevo datagrame llamado seleccion."
      ],
      "metadata": {
        "id": "kkwOmV2FXYVL"
      }
    },
    {
      "cell_type": "code",
      "source": [
        "%%R\n",
        "#Your Code here guys! --->"
      ],
      "metadata": {
        "id": "44kfc3nFXqG6",
        "colab": {
          "base_uri": "https://localhost:8080/"
        },
        "outputId": "8868fa4f-190d-4ad2-ad57-1797c45fa590"
      },
      "execution_count": null,
      "outputs": [
        {
          "output_type": "stream",
          "name": "stdout",
          "text": [
            "NULL\n"
          ]
        }
      ]
    },
    {
      "cell_type": "markdown",
      "source": [
        "2. Ahora usando el nuevo df que hemos creado vamos a filtrar solo las filas donde la satisfacción es \"satisfied\" y a guardarlo en un df3:"
      ],
      "metadata": {
        "id": "NUPjkOQqXo7G"
      }
    },
    {
      "cell_type": "code",
      "source": [
        "%%R\n",
        "#Your Code here guys! --->"
      ],
      "metadata": {
        "id": "UIW6xDEsXvdP",
        "colab": {
          "base_uri": "https://localhost:8080/"
        },
        "outputId": "e9794d98-17d6-449d-e6bb-0214c5fdebfe"
      },
      "execution_count": null,
      "outputs": [
        {
          "output_type": "stream",
          "name": "stdout",
          "text": [
            "NULL\n"
          ]
        }
      ]
    },
    {
      "cell_type": "markdown",
      "source": [
        "3. vamos a agrupar los datos por género y calcular la edad promedio y a guardarlo en un df4:"
      ],
      "metadata": {
        "id": "FbwdkOzWX3Lc"
      }
    },
    {
      "cell_type": "code",
      "source": [
        "%%R\n",
        "#Your Code here guys! --->"
      ],
      "metadata": {
        "id": "Dzk8yZzhgH06",
        "colab": {
          "base_uri": "https://localhost:8080/"
        },
        "outputId": "36aef28b-7467-4d78-f38f-cc39997ac8b4"
      },
      "execution_count": null,
      "outputs": [
        {
          "output_type": "stream",
          "name": "stdout",
          "text": [
            "NULL\n"
          ]
        }
      ]
    },
    {
      "cell_type": "markdown",
      "source": [
        "4. vamos a ordenar los resultados de seleccion por edad de mayor a menor, después vamos a agruparlos por género y vamos a averiguar la sumatoria de cada género para cada grupo los satisfechos y los insatisfechos. Este nuevo conteo lo vamos a guardar en una columna nueva llamada a y esto lo guardaremos en un nuevo df llamado df5"
      ],
      "metadata": {
        "id": "3kuTZrGOYH9_"
      }
    },
    {
      "cell_type": "code",
      "source": [
        "%%R\n",
        "#Your Code here guys! --->"
      ],
      "metadata": {
        "id": "a_PHBCQygIJR",
        "colab": {
          "base_uri": "https://localhost:8080/"
        },
        "outputId": "cc35c606-41cb-4e9e-961a-a402087345c0"
      },
      "execution_count": null,
      "outputs": [
        {
          "output_type": "stream",
          "name": "stdout",
          "text": [
            "NULL\n"
          ]
        }
      ]
    },
    {
      "cell_type": "markdown",
      "source": [
        "Muy bien, ya hemos logrado trabajar sobre la primera base de datos, ahora vamos a cargar la segunda base de datos, para ello usaremos el acceso a google drive que nos brinda google colab. "
      ],
      "metadata": {
        "id": "btrN5tWTnxql"
      }
    },
    {
      "cell_type": "code",
      "source": [
        "#Your Code here guys! --->"
      ],
      "metadata": {
        "id": "b2DIFZIYvqfY"
      },
      "execution_count": null,
      "outputs": []
    },
    {
      "cell_type": "markdown",
      "source": [
        "Perfecto, como ya tenemos nuestra base de datos montada sobre python vamos a hacer un análisis descriptivo de la base de datos usando .describe() así podremos ver cómo se comporta mi base de datos. "
      ],
      "metadata": {
        "id": "qtNVkn8ovtwC"
      }
    },
    {
      "cell_type": "code",
      "source": [
        "#Your Code here guys! --->"
      ],
      "metadata": {
        "id": "2D2DxkG7v_Ho"
      },
      "execution_count": null,
      "outputs": []
    },
    {
      "cell_type": "markdown",
      "source": [
        "Ahora vamos a importar las librerías seaborn y matplotlib."
      ],
      "metadata": {
        "id": "OuqsSFs8fUr5"
      }
    },
    {
      "cell_type": "code",
      "source": [],
      "metadata": {
        "id": "yFPjcje_fVzm"
      },
      "execution_count": null,
      "outputs": []
    },
    {
      "cell_type": "markdown",
      "source": [
        "Muy bien, ahora vamos a pasar esta base de datos "
      ],
      "metadata": {
        "id": "_aArLk8DwAO-"
      }
    },
    {
      "cell_type": "code",
      "source": [
        "%%R\n",
        "#Your Code here guys! --->"
      ],
      "metadata": {
        "id": "HqaJ9u-AoERP",
        "colab": {
          "base_uri": "https://localhost:8080/"
        },
        "outputId": "7bdbc17b-5a4c-4547-e3bf-d19ddc8ca46e"
      },
      "execution_count": null,
      "outputs": [
        {
          "output_type": "stream",
          "name": "stdout",
          "text": [
            "NULL\n"
          ]
        }
      ]
    },
    {
      "cell_type": "markdown",
      "source": [
        "Vamos a visualizar los datos del dataframe para la variable categoría en el eje X y ventas en el eje Y en un gráfico de boxplot. "
      ],
      "metadata": {
        "id": "0yTeA7rlfkwL"
      }
    },
    {
      "cell_type": "code",
      "source": [],
      "metadata": {
        "id": "6qSrTAhrfrYH"
      },
      "execution_count": null,
      "outputs": []
    },
    {
      "cell_type": "markdown",
      "source": [
        "#El taller va desde esta parte de aquí!!!"
      ],
      "metadata": {
        "id": "mG2-5fGKlt-X"
      }
    },
    {
      "cell_type": "markdown",
      "source": [],
      "metadata": {
        "id": "6BYFdlvFftl-"
      }
    },
    {
      "cell_type": "markdown",
      "source": [
        "Ahora hagámos lo mismo en R."
      ],
      "metadata": {
        "id": "LDhOHJRvIptI"
      }
    },
    {
      "cell_type": "markdown",
      "source": [
        "Primero importemos la base de datos al entorno de python"
      ],
      "metadata": {
        "id": "P3AFfmybIwNe"
      }
    },
    {
      "cell_type": "code",
      "source": [
        "from google.colab import drive\n",
        "drive.mount('/content/drive')"
      ],
      "metadata": {
        "id": "pxYwu-6YLcN-",
        "colab": {
          "base_uri": "https://localhost:8080/"
        },
        "outputId": "d524cd36-c425-4953-adc1-142df1924f6f"
      },
      "execution_count": null,
      "outputs": [
        {
          "output_type": "stream",
          "name": "stdout",
          "text": [
            "Drive already mounted at /content/drive; to attempt to forcibly remount, call drive.mount(\"/content/drive\", force_remount=True).\n"
          ]
        }
      ]
    },
    {
      "cell_type": "code",
      "source": [
        "Data = pd.read_excel('/content/drive/MyDrive/Sample - Superstore.xlsx')"
      ],
      "metadata": {
        "id": "J4SbtnqLMJE_"
      },
      "execution_count": null,
      "outputs": []
    },
    {
      "cell_type": "markdown",
      "source": [
        "Ahora vamos a graficar resultados. "
      ],
      "metadata": {
        "id": "67_cxxe0I11t"
      }
    },
    {
      "cell_type": "code",
      "source": [
        "%%R\n",
        "library(readxl)\n",
        "Data_R <- read_excel('/content/drive/MyDrive/Sample - Superstore.xlsx')"
      ],
      "metadata": {
        "id": "ji_wTIqcOvh4"
      },
      "execution_count": null,
      "outputs": []
    },
    {
      "cell_type": "code",
      "source": [
        "%%R\n",
        "library(ggplot2)\n",
        "\n",
        "ggplot(Data_R, aes(x = Sales)) + geom_boxplot()"
      ],
      "metadata": {
        "id": "hqgZtBdXp229",
        "colab": {
          "base_uri": "https://localhost:8080/",
          "height": 497
        },
        "outputId": "e1cac753-b543-4452-ac66-d9283a4c366d"
      },
      "execution_count": null,
      "outputs": [
        {
          "output_type": "display_data",
          "data": {
            "image/png": "[encoded data removed]"
          },
          "metadata": {}
        }
      ]
    },
    {
      "cell_type": "markdown",
      "source": [
        "Pregunta, qué tan comprensible es la gráfica? se puede interpretar los cuartíles aquí?. De no ser así, vamos a eliminar los valores extremos para intentar obtener una mejor visual de los gráficos. \n",
        "\n",
        "**Respuesta:** La gráfica no es interpretable, dado que,\n",
        "los valores extremos de las ventas provocan que la la caja no se puede visualizar de manera optima.\n",
        "\n",
        "Para eso vamos a retirar los valores extremos calculando los cuartiles y el método IQR."
      ],
      "metadata": {
        "id": "pebt1ZhY-_4o"
      }
    },
    {
      "cell_type": "code",
      "source": [
        "# Calcular límites para la variable 'Category' usando el método IQR\n",
        "import seaborn as sns\n",
        "Q1 = Data['Sales'].quantile(0.25)\n",
        "Q3 = Data['Sales'].quantile(0.75)\n",
        "IQR = Q3 - Q1\n",
        "lower_limit = Q1 - 1.5 * IQR \n",
        "upper_limit = Q3 + 1.5 * IQR\n",
        "\n",
        "# Eliminar outliers\n",
        "Data = Data[(Data['Sales'] > lower_limit) & ( Data['Sales']  < upper_limit)]\n",
        "sns.boxplot(data = Data, x = 'Sales')"
      ],
      "metadata": {
        "id": "N6dOeOqa_OLq",
        "colab": {
          "base_uri": "https://localhost:8080/",
          "height": 466
        },
        "outputId": "0c63b2ba-7bf1-49d6-bae0-1d6fe8b7b630"
      },
      "execution_count": null,
      "outputs": [
        {
          "output_type": "execute_result",
          "data": {
            "text/plain": [
              "<Axes: xlabel='Sales'>"
            ]
          },
          "metadata": {},
          "execution_count": 54
        },
        {
          "output_type": "display_data",
          "data": {
            "text/plain": [
              "<Figure size 640x480 with 1 Axes>"
            ],
            "image/png": "[encoded data removed]"
          },
          "metadata": {}
        }
      ]
    },
    {
      "cell_type": "code",
      "source": [
        "%%R\n",
        "\n",
        "# Calcular límites para la variable 'Category' usando el método IQR\n",
        "Q1 <- quantile(Data_R$Sales)[2]\n",
        "Q3 <- quantile(Data_R$Sales)[4]\n",
        "IQR <- Q3 - Q1\n",
        "lower_limit <- Q1 - 1.5 * IQR\n",
        "upper_limit <- Q3 + 1.5 * IQR\n",
        "lower_limit ; upper_limit\n",
        "Data_R <- Data_R[Data_R$Sales > lower_limit & Data_R$Sales < upper_limit, ]\n",
        "\n",
        "# Crear box plot usando ggplot2\n",
        "ggplot(Data_R, aes(x = Sales )) + geom_boxplot()\n",
        "# Eliminar outliers\n",
        "\n"
      ],
      "metadata": {
        "id": "snbBJp4UBtZt",
        "colab": {
          "base_uri": "https://localhost:8080/",
          "height": 497
        },
        "outputId": "8efba8d2-0cc6-4caa-b7e1-cd03418310a4"
      },
      "execution_count": null,
      "outputs": [
        {
          "output_type": "display_data",
          "data": {
            "image/png": "[encoded data removed]"
          },
          "metadata": {}
        }
      ]
    },
    {
      "cell_type": "markdown",
      "source": [
        "Despues de eliminar los valores atipicos, encontramos que, aún asi, se encuentran varios valores fuera del comportamiento general de los datos, sin embargo, estos ya permiten el analisis de la visualización. Se observa que la distribución de los cuartiles de ventas es asimetrica positiva, es decir, es mas frecuente encontrar ventas comprendidas entre los valores de 0 y 100 aproximadamente.\n",
        "\n",
        "Ahora la pregunta es... dentro de los cuartiles de ventas, cuál es la categoría que ha vendido menos valor monetario?\n",
        "\n",
        "A. Furniture.\n",
        "B. Office Supplies.\n",
        "C. Technology. \n",
        "\n",
        "La categoría que menos vendio es Technology."
      ],
      "metadata": {
        "id": "Fpehpak-JstD"
      }
    },
    {
      "cell_type": "code",
      "source": [
        "%%R\n",
        "top_categoria <- Data_R %>%\n",
        "    group_by(Category) %>%\n",
        "    summarise('ventas' = sum(Sales)) %>%\n",
        "    arrange(ventas)\n",
        "top_categoria "
      ],
      "metadata": {
        "id": "7J5pwK6iXQKm",
        "colab": {
          "base_uri": "https://localhost:8080/"
        },
        "outputId": "8e53e521-ae59-4b1f-c9a4-d72a6bc82892"
      },
      "execution_count": null,
      "outputs": [
        {
          "output_type": "stream",
          "name": "stdout",
          "text": [
            "# A tibble: 3 × 2\n",
            "  Category         ventas\n",
            "  <chr>             <dbl>\n",
            "1 Technology      228415.\n",
            "2 Furniture       247878.\n",
            "3 Office Supplies 343425.\n"
          ]
        }
      ]
    },
    {
      "cell_type": "code",
      "source": [
        "%%R\n",
        "ggplot(Data_R, aes(x = Category, y = Sales )) + geom_boxplot()"
      ],
      "metadata": {
        "id": "bQmIZPH4aqoO",
        "colab": {
          "base_uri": "https://localhost:8080/",
          "height": 497
        },
        "outputId": "ad2a8bf8-905f-4089-ce34-33e69bf7647e"
      },
      "execution_count": null,
      "outputs": [
        {
          "output_type": "display_data",
          "data": {
            "image/png": "[encoded data removed]"
          },
          "metadata": {}
        }
      ]
    },
    {
      "cell_type": "code",
      "source": [
        "%%R\n",
        "# Encontrar la region que más vendió.\n",
        "# La región que mas vendio es West\n",
        "top_region <- Data_R %>%\n",
        "    group_by(Region) %>%\n",
        "    summarise('ventas' = sum(Sales)) %>%\n",
        "    arrange(ventas)\n",
        "top_region "
      ],
      "metadata": {
        "id": "IM45dxSRNVxQ",
        "colab": {
          "base_uri": "https://localhost:8080/"
        },
        "outputId": "d785648a-f813-4ae4-dceb-7b7046b18638"
      },
      "execution_count": null,
      "outputs": [
        {
          "output_type": "stream",
          "name": "stdout",
          "text": [
            "# A tibble: 4 × 2\n",
            "  Region   ventas\n",
            "  <chr>     <dbl>\n",
            "1 South   127579.\n",
            "2 Central 183441.\n",
            "3 East    232887.\n",
            "4 West    275810.\n"
          ]
        }
      ]
    },
    {
      "cell_type": "code",
      "source": [
        "%%R\n",
        "ggplot(Data_R, aes(x = Region, y = Sales )) + geom_boxplot()"
      ],
      "metadata": {
        "id": "anrMi_EzOXBB",
        "colab": {
          "base_uri": "https://localhost:8080/",
          "height": 497
        },
        "outputId": "43cbb9ae-9710-4801-c5dd-61c797b72630"
      },
      "execution_count": null,
      "outputs": [
        {
          "output_type": "display_data",
          "data": {
            "image/png": "[encoded data removed]"
          },
          "metadata": {}
        }
      ]
    },
    {
      "cell_type": "markdown",
      "source": [
        "usando la misma base de datos, crea un código en R y uno en python que: \n",
        "\n",
        "1. filtre la información referente a 'Sean O'Donnell'. "
      ],
      "metadata": {
        "id": "29cWAT-iPk3r"
      }
    },
    {
      "cell_type": "code",
      "source": [
        "%%R\n",
        "SOD = Data_R %>% filter(Data_R$\"Customer Name\" == \"Sean O'Donnell\")\n",
        "SOD"
      ],
      "metadata": {
        "id": "S8YVhm4BPik1",
        "colab": {
          "base_uri": "https://localhost:8080/"
        },
        "outputId": "e438d69a-b19c-45fd-b981-4703f512c4d3"
      },
      "execution_count": null,
      "outputs": [
        {
          "output_type": "stream",
          "name": "stdout",
          "text": [
            "# A tibble: 14 × 21\n",
            "   Columna1 `Order ID`     `Order Date`        `Ship Date`         `Ship Mode`  \n",
            "      <dbl> <chr>          <dttm>              <dttm>              <chr>        \n",
            " 1        5 US-2016-108966 2016-10-11 00:00:00 2016-10-18 00:00:00 Standard Cla…\n",
            " 2     3374 CA-2016-161718 2016-12-04 00:00:00 2016-12-10 00:00:00 Standard Cla…\n",
            " 3     3375 CA-2016-161718 2016-12-04 00:00:00 2016-12-10 00:00:00 Standard Cla…\n",
            " 4     3376 CA-2016-161718 2016-12-04 00:00:00 2016-12-10 00:00:00 Standard Cla…\n",
            " 5     3377 CA-2016-161718 2016-12-04 00:00:00 2016-12-10 00:00:00 Standard Cla…\n",
            " 6     4623 CA-2018-147228 2018-09-09 00:00:00 2018-09-14 00:00:00 Standard Cla…\n",
            " 7     4624 CA-2018-147228 2018-09-09 00:00:00 2018-09-14 00:00:00 Standard Cla…\n",
            " 8     4625 CA-2018-147228 2018-09-09 00:00:00 2018-09-14 00:00:00 Standard Cla…\n",
            " 9     4626 CA-2018-147228 2018-09-09 00:00:00 2018-09-14 00:00:00 Standard Cla…\n",
            "10     6980 CA-2018-149076 2018-01-14 00:00:00 2018-01-19 00:00:00 Standard Cla…\n",
            "11     7122 CA-2018-166926 2018-12-01 00:00:00 2018-12-08 00:00:00 Standard Cla…\n",
            "12     7123 CA-2018-166926 2018-12-01 00:00:00 2018-12-08 00:00:00 Standard Cla…\n",
            "13     8592 CA-2018-101700 2018-04-23 00:00:00 2018-04-26 00:00:00 First Class  \n",
            "14     8593 CA-2018-101700 2018-04-23 00:00:00 2018-04-26 00:00:00 First Class  \n",
            "# ℹ 16 more variables: `Customer ID` <chr>, `Customer Name` <chr>,\n",
            "#   Segment <chr>, Country <chr>, City <chr>, State <chr>, `Postal Code` <dbl>,\n",
            "#   Region <chr>, `Product ID` <chr>, Category <chr>, `Sub-Category` <chr>,\n",
            "#   `Product Name` <chr>, Sales <dbl>, Quantity <dbl>, Discount <dbl>,\n",
            "#   Profit <dbl>\n"
          ]
        }
      ]
    },
    {
      "cell_type": "code",
      "source": [
        "SOD = Data[Data['Customer Name'] == \"Sean O'Donnell\"]\n",
        "SOD"
      ],
      "metadata": {
        "id": "S4nMDQb2ct2B",
        "colab": {
          "base_uri": "https://localhost:8080/",
          "height": 1000
        },
        "outputId": "e3a65b4d-2ecc-4063-ed66-375459342cd0"
      },
      "execution_count": null,
      "outputs": [
        {
          "output_type": "execute_result",
          "data": {
            "text/plain": [
              "      Columna1        Order ID Order Date  Ship Date       Ship Mode  \\\n",
              "4            5  US-2016-108966 2016-10-11 2016-10-18  Standard Class   \n",
              "3373      3374  CA-2016-161718 2016-12-04 2016-12-10  Standard Class   \n",
              "3374      3375  CA-2016-161718 2016-12-04 2016-12-10  Standard Class   \n",
              "3375      3376  CA-2016-161718 2016-12-04 2016-12-10  Standard Class   \n",
              "3376      3377  CA-2016-161718 2016-12-04 2016-12-10  Standard Class   \n",
              "4622      4623  CA-2018-147228 2018-09-09 2018-09-14  Standard Class   \n",
              "4623      4624  CA-2018-147228 2018-09-09 2018-09-14  Standard Class   \n",
              "4624      4625  CA-2018-147228 2018-09-09 2018-09-14  Standard Class   \n",
              "4625      4626  CA-2018-147228 2018-09-09 2018-09-14  Standard Class   \n",
              "6979      6980  CA-2018-149076 2018-01-14 2018-01-19  Standard Class   \n",
              "7121      7122  CA-2018-166926 2018-12-01 2018-12-08  Standard Class   \n",
              "7122      7123  CA-2018-166926 2018-12-01 2018-12-08  Standard Class   \n",
              "8591      8592  CA-2018-101700 2018-04-23 2018-04-26     First Class   \n",
              "8592      8593  CA-2018-101700 2018-04-23 2018-04-26     First Class   \n",
              "\n",
              "     Customer ID   Customer Name   Segment        Country             City  \\\n",
              "4       SO-20335  Sean O'Donnell  Consumer  United States  Fort Lauderdale   \n",
              "3373    SO-20335  Sean O'Donnell  Consumer  United States        Hempstead   \n",
              "3374    SO-20335  Sean O'Donnell  Consumer  United States        Hempstead   \n",
              "3375    SO-20335  Sean O'Donnell  Consumer  United States        Hempstead   \n",
              "3376    SO-20335  Sean O'Donnell  Consumer  United States        Hempstead   \n",
              "4622    SO-20335  Sean O'Donnell  Consumer  United States         Columbia   \n",
              "4623    SO-20335  Sean O'Donnell  Consumer  United States         Columbia   \n",
              "4624    SO-20335  Sean O'Donnell  Consumer  United States         Columbia   \n",
              "4625    SO-20335  Sean O'Donnell  Consumer  United States         Columbia   \n",
              "6979    SO-20335  Sean O'Donnell  Consumer  United States      Los Angeles   \n",
              "7121    SO-20335  Sean O'Donnell  Consumer  United States          Seattle   \n",
              "7122    SO-20335  Sean O'Donnell  Consumer  United States          Seattle   \n",
              "8591    SO-20335  Sean O'Donnell  Consumer  United States          Greeley   \n",
              "8592    SO-20335  Sean O'Donnell  Consumer  United States          Greeley   \n",
              "\n",
              "      ... Postal Code  Region       Product ID         Category Sub-Category  \\\n",
              "4     ...     33311.0   South  OFF-ST-10000760  Office Supplies      Storage   \n",
              "3373  ...     11550.0    East  FUR-FU-10002445        Furniture  Furnishings   \n",
              "3374  ...     11550.0    East  FUR-CH-10002372        Furniture       Chairs   \n",
              "3375  ...     11550.0    East  TEC-PH-10000376       Technology       Phones   \n",
              "3376  ...     11550.0    East  FUR-CH-10002965        Furniture       Chairs   \n",
              "4622  ...     38401.0   South  OFF-SU-10001225  Office Supplies     Supplies   \n",
              "4623  ...     38401.0   South  OFF-PA-10000357  Office Supplies        Paper   \n",
              "4624  ...     38401.0   South  OFF-ST-10000046  Office Supplies      Storage   \n",
              "4625  ...     38401.0   South  FUR-FU-10000023        Furniture  Furnishings   \n",
              "6979  ...     90036.0    West  OFF-PA-10000483  Office Supplies        Paper   \n",
              "7121  ...     98105.0    West  OFF-PA-10001593  Office Supplies        Paper   \n",
              "7122  ...     98105.0    West  FUR-BO-10002598        Furniture    Bookcases   \n",
              "8591  ...     80634.0    West  OFF-EN-10003134  Office Supplies    Envelopes   \n",
              "8592  ...     80634.0    West  FUR-FU-10001025        Furniture  Furnishings   \n",
              "\n",
              "                                           Product Name    Sales  Quantity  \\\n",
              "4                        Eldon Fold 'N Roll Cart System   22.368         2   \n",
              "3373  DAX Two-Tone Rosewood/Black Document Frame, De...   28.440         3   \n",
              "3374    Office Star - Ergonomically Designed Knee Chair  364.410         5   \n",
              "3375                          Square Credit Card Reader   39.960         4   \n",
              "3376  Global Leather Highback Executive Chair with P...  361.764         2   \n",
              "4622                                     Staple remover    8.832         3   \n",
              "4623                                         Xerox 1888  177.536         4   \n",
              "4624                   Fellowes Super Stor/Drawer Files  258.480         2   \n",
              "4625                        Eldon Wave Desk Accessories   14.136         3   \n",
              "6979                                           Xerox 19  154.900         5   \n",
              "7121                                         Xerox 1947   41.860         7   \n",
              "7122                         Hon Metal Bookcases, Putty  141.960         2   \n",
              "8591                                    Staple envelope   18.688         2   \n",
              "8592         Eldon Imàge Series Desk Accessories, Clear   11.664         3   \n",
              "\n",
              "      Discount   Profit  \n",
              "4          0.2   2.5164  \n",
              "3373       0.0  11.3760  \n",
              "3374       0.1   8.0980  \n",
              "3375       0.0  10.3896  \n",
              "3376       0.1  68.3332  \n",
              "4622       0.2  -1.9872  \n",
              "4623       0.2  62.1376  \n",
              "4624       0.2  -3.2310  \n",
              "4625       0.2   4.2408  \n",
              "6979       0.0  69.7050  \n",
              "7121       0.0  18.8370  \n",
              "7122       0.0  41.1684  \n",
              "8591       0.2   7.0080  \n",
              "8592       0.2   3.3534  \n",
              "\n",
              "[14 rows x 21 columns]"
            ],
            "text/html": [
              "\n",
              "  <div id=\"df-c4afb136-13d9-4f8d-b71b-3752c3c4df5d\">\n",
              "    <div class=\"colab-df-container\">\n",
              "      <div>\n",
              "<style scoped>\n",
              "    .dataframe tbody tr th:only-of-type {\n",
              "        vertical-align: middle;\n",
              "    }\n",
              "\n",
              "    .dataframe tbody tr th {\n",
              "        vertical-align: top;\n",
              "    }\n",
              "\n",
              "    .dataframe thead th {\n",
              "        text-align: right;\n",
              "    }\n",
              "</style>\n",
              "<table border=\"1\" class=\"dataframe\">\n",
              "  <thead>\n",
              "    <tr style=\"text-align: right;\">\n",
              "      <th></th>\n",
              "      <th>Columna1</th>\n",
              "      <th>Order ID</th>\n",
              "      <th>Order Date</th>\n",
              "      <th>Ship Date</th>\n",
              "      <th>Ship Mode</th>\n",
              "      <th>Customer ID</th>\n",
              "      <th>Customer Name</th>\n",
              "      <th>Segment</th>\n",
              "      <th>Country</th>\n",
              "      <th>City</th>\n",
              "      <th>...</th>\n",
              "      <th>Postal Code</th>\n",
              "      <th>Region</th>\n",
              "      <th>Product ID</th>\n",
              "      <th>Category</th>\n",
              "      <th>Sub-Category</th>\n",
              "      <th>Product Name</th>\n",
              "      <th>Sales</th>\n",
              "      <th>Quantity</th>\n",
              "      <th>Discount</th>\n",
              "      <th>Profit</th>\n",
              "    </tr>\n",
              "  </thead>\n",
              "  <tbody>\n",
              "    <tr>\n",
              "      <th>4</th>\n",
              "      <td>5</td>\n",
              "      <td>US-2016-108966</td>\n",
              "      <td>2016-10-11</td>\n",
              "      <td>2016-10-18</td>\n",
              "      <td>Standard Class</td>\n",
              "      <td>SO-20335</td>\n",
              "      <td>Sean O'Donnell</td>\n",
              "      <td>Consumer</td>\n",
              "      <td>United States</td>\n",
              "      <td>Fort Lauderdale</td>\n",
              "      <td>...</td>\n",
              "      <td>33311.0</td>\n",
              "      <td>South</td>\n",
              "      <td>OFF-ST-10000760</td>\n",
              "      <td>Office Supplies</td>\n",
              "      <td>Storage</td>\n",
              "      <td>Eldon Fold 'N Roll Cart System</td>\n",
              "      <td>22.368</td>\n",
              "      <td>2</td>\n",
              "      <td>0.2</td>\n",
              "      <td>2.5164</td>\n",
              "    </tr>\n",
              "    <tr>\n",
              "      <th>3373</th>\n",
              "      <td>3374</td>\n",
              "      <td>CA-2016-161718</td>\n",
              "      <td>2016-12-04</td>\n",
              "      <td>2016-12-10</td>\n",
              "      <td>Standard Class</td>\n",
              "      <td>SO-20335</td>\n",
              "      <td>Sean O'Donnell</td>\n",
              "      <td>Consumer</td>\n",
              "      <td>United States</td>\n",
              "      <td>Hempstead</td>\n",
              "      <td>...</td>\n",
              "      <td>11550.0</td>\n",
              "      <td>East</td>\n",
              "      <td>FUR-FU-10002445</td>\n",
              "      <td>Furniture</td>\n",
              "      <td>Furnishings</td>\n",
              "      <td>DAX Two-Tone Rosewood/Black Document Frame, De...</td>\n",
              "      <td>28.440</td>\n",
              "      <td>3</td>\n",
              "      <td>0.0</td>\n",
              "      <td>11.3760</td>\n",
              "    </tr>\n",
              "    <tr>\n",
              "      <th>3374</th>\n",
              "      <td>3375</td>\n",
              "      <td>CA-2016-161718</td>\n",
              "      <td>2016-12-04</td>\n",
              "      <td>2016-12-10</td>\n",
              "      <td>Standard Class</td>\n",
              "      <td>SO-20335</td>\n",
              "      <td>Sean O'Donnell</td>\n",
              "      <td>Consumer</td>\n",
              "      <td>United States</td>\n",
              "      <td>Hempstead</td>\n",
              "      <td>...</td>\n",
              "      <td>11550.0</td>\n",
              "      <td>East</td>\n",
              "      <td>FUR-CH-10002372</td>\n",
              "      <td>Furniture</td>\n",
              "      <td>Chairs</td>\n",
              "      <td>Office Star - Ergonomically Designed Knee Chair</td>\n",
              "      <td>364.410</td>\n",
              "      <td>5</td>\n",
              "      <td>0.1</td>\n",
              "      <td>8.0980</td>\n",
              "    </tr>\n",
              "    <tr>\n",
              "      <th>3375</th>\n",
              "      <td>3376</td>\n",
              "      <td>CA-2016-161718</td>\n",
              "      <td>2016-12-04</td>\n",
              "      <td>2016-12-10</td>\n",
              "      <td>Standard Class</td>\n",
              "      <td>SO-20335</td>\n",
              "      <td>Sean O'Donnell</td>\n",
              "      <td>Consumer</td>\n",
              "      <td>United States</td>\n",
              "      <td>Hempstead</td>\n",
              "      <td>...</td>\n",
              "      <td>11550.0</td>\n",
              "      <td>East</td>\n",
              "      <td>TEC-PH-10000376</td>\n",
              "      <td>Technology</td>\n",
              "      <td>Phones</td>\n",
              "      <td>Square Credit Card Reader</td>\n",
              "      <td>39.960</td>\n",
              "      <td>4</td>\n",
              "      <td>0.0</td>\n",
              "      <td>10.3896</td>\n",
              "    </tr>\n",
              "    <tr>\n",
              "      <th>3376</th>\n",
              "      <td>3377</td>\n",
              "      <td>CA-2016-161718</td>\n",
              "      <td>2016-12-04</td>\n",
              "      <td>2016-12-10</td>\n",
              "      <td>Standard Class</td>\n",
              "      <td>SO-20335</td>\n",
              "      <td>Sean O'Donnell</td>\n",
              "      <td>Consumer</td>\n",
              "      <td>United States</td>\n",
              "      <td>Hempstead</td>\n",
              "      <td>...</td>\n",
              "      <td>11550.0</td>\n",
              "      <td>East</td>\n",
              "      <td>FUR-CH-10002965</td>\n",
              "      <td>Furniture</td>\n",
              "      <td>Chairs</td>\n",
              "      <td>Global Leather Highback Executive Chair with P...</td>\n",
              "      <td>361.764</td>\n",
              "      <td>2</td>\n",
              "      <td>0.1</td>\n",
              "      <td>68.3332</td>\n",
              "    </tr>\n",
              "    <tr>\n",
              "      <th>4622</th>\n",
              "      <td>4623</td>\n",
              "      <td>CA-2018-147228</td>\n",
              "      <td>2018-09-09</td>\n",
              "      <td>2018-09-14</td>\n",
              "      <td>Standard Class</td>\n",
              "      <td>SO-20335</td>\n",
              "      <td>Sean O'Donnell</td>\n",
              "      <td>Consumer</td>\n",
              "      <td>United States</td>\n",
              "      <td>Columbia</td>\n",
              "      <td>...</td>\n",
              "      <td>38401.0</td>\n",
              "      <td>South</td>\n",
              "      <td>OFF-SU-10001225</td>\n",
              "      <td>Office Supplies</td>\n",
              "      <td>Supplies</td>\n",
              "      <td>Staple remover</td>\n",
              "      <td>8.832</td>\n",
              "      <td>3</td>\n",
              "      <td>0.2</td>\n",
              "      <td>-1.9872</td>\n",
              "    </tr>\n",
              "    <tr>\n",
              "      <th>4623</th>\n",
              "      <td>4624</td>\n",
              "      <td>CA-2018-147228</td>\n",
              "      <td>2018-09-09</td>\n",
              "      <td>2018-09-14</td>\n",
              "      <td>Standard Class</td>\n",
              "      <td>SO-20335</td>\n",
              "      <td>Sean O'Donnell</td>\n",
              "      <td>Consumer</td>\n",
              "      <td>United States</td>\n",
              "      <td>Columbia</td>\n",
              "      <td>...</td>\n",
              "      <td>38401.0</td>\n",
              "      <td>South</td>\n",
              "      <td>OFF-PA-10000357</td>\n",
              "      <td>Office Supplies</td>\n",
              "      <td>Paper</td>\n",
              "      <td>Xerox 1888</td>\n",
              "      <td>177.536</td>\n",
              "      <td>4</td>\n",
              "      <td>0.2</td>\n",
              "      <td>62.1376</td>\n",
              "    </tr>\n",
              "    <tr>\n",
              "      <th>4624</th>\n",
              "      <td>4625</td>\n",
              "      <td>CA-2018-147228</td>\n",
              "      <td>2018-09-09</td>\n",
              "      <td>2018-09-14</td>\n",
              "      <td>Standard Class</td>\n",
              "      <td>SO-20335</td>\n",
              "      <td>Sean O'Donnell</td>\n",
              "      <td>Consumer</td>\n",
              "      <td>United States</td>\n",
              "      <td>Columbia</td>\n",
              "      <td>...</td>\n",
              "      <td>38401.0</td>\n",
              "      <td>South</td>\n",
              "      <td>OFF-ST-10000046</td>\n",
              "      <td>Office Supplies</td>\n",
              "      <td>Storage</td>\n",
              "      <td>Fellowes Super Stor/Drawer Files</td>\n",
              "      <td>258.480</td>\n",
              "      <td>2</td>\n",
              "      <td>0.2</td>\n",
              "      <td>-3.2310</td>\n",
              "    </tr>\n",
              "    <tr>\n",
              "      <th>4625</th>\n",
              "      <td>4626</td>\n",
              "      <td>CA-2018-147228</td>\n",
              "      <td>2018-09-09</td>\n",
              "      <td>2018-09-14</td>\n",
              "      <td>Standard Class</td>\n",
              "      <td>SO-20335</td>\n",
              "      <td>Sean O'Donnell</td>\n",
              "      <td>Consumer</td>\n",
              "      <td>United States</td>\n",
              "      <td>Columbia</td>\n",
              "      <td>...</td>\n",
              "      <td>38401.0</td>\n",
              "      <td>South</td>\n",
              "      <td>FUR-FU-10000023</td>\n",
              "      <td>Furniture</td>\n",
              "      <td>Furnishings</td>\n",
              "      <td>Eldon Wave Desk Accessories</td>\n",
              "      <td>14.136</td>\n",
              "      <td>3</td>\n",
              "      <td>0.2</td>\n",
              "      <td>4.2408</td>\n",
              "    </tr>\n",
              "    <tr>\n",
              "      <th>6979</th>\n",
              "      <td>6980</td>\n",
              "      <td>CA-2018-149076</td>\n",
              "      <td>2018-01-14</td>\n",
              "      <td>2018-01-19</td>\n",
              "      <td>Standard Class</td>\n",
              "      <td>SO-20335</td>\n",
              "      <td>Sean O'Donnell</td>\n",
              "      <td>Consumer</td>\n",
              "      <td>United States</td>\n",
              "      <td>Los Angeles</td>\n",
              "      <td>...</td>\n",
              "      <td>90036.0</td>\n",
              "      <td>West</td>\n",
              "      <td>OFF-PA-10000483</td>\n",
              "      <td>Office Supplies</td>\n",
              "      <td>Paper</td>\n",
              "      <td>Xerox 19</td>\n",
              "      <td>154.900</td>\n",
              "      <td>5</td>\n",
              "      <td>0.0</td>\n",
              "      <td>69.7050</td>\n",
              "    </tr>\n",
              "    <tr>\n",
              "      <th>7121</th>\n",
              "      <td>7122</td>\n",
              "      <td>CA-2018-166926</td>\n",
              "      <td>2018-12-01</td>\n",
              "      <td>2018-12-08</td>\n",
              "      <td>Standard Class</td>\n",
              "      <td>SO-20335</td>\n",
              "      <td>Sean O'Donnell</td>\n",
              "      <td>Consumer</td>\n",
              "      <td>United States</td>\n",
              "      <td>Seattle</td>\n",
              "      <td>...</td>\n",
              "      <td>98105.0</td>\n",
              "      <td>West</td>\n",
              "      <td>OFF-PA-10001593</td>\n",
              "      <td>Office Supplies</td>\n",
              "      <td>Paper</td>\n",
              "      <td>Xerox 1947</td>\n",
              "      <td>41.860</td>\n",
              "      <td>7</td>\n",
              "      <td>0.0</td>\n",
              "      <td>18.8370</td>\n",
              "    </tr>\n",
              "    <tr>\n",
              "      <th>7122</th>\n",
              "      <td>7123</td>\n",
              "      <td>CA-2018-166926</td>\n",
              "      <td>2018-12-01</td>\n",
              "      <td>2018-12-08</td>\n",
              "      <td>Standard Class</td>\n",
              "      <td>SO-20335</td>\n",
              "      <td>Sean O'Donnell</td>\n",
              "      <td>Consumer</td>\n",
              "      <td>United States</td>\n",
              "      <td>Seattle</td>\n",
              "      <td>...</td>\n",
              "      <td>98105.0</td>\n",
              "      <td>West</td>\n",
              "      <td>FUR-BO-10002598</td>\n",
              "      <td>Furniture</td>\n",
              "      <td>Bookcases</td>\n",
              "      <td>Hon Metal Bookcases, Putty</td>\n",
              "      <td>141.960</td>\n",
              "      <td>2</td>\n",
              "      <td>0.0</td>\n",
              "      <td>41.1684</td>\n",
              "    </tr>\n",
              "    <tr>\n",
              "      <th>8591</th>\n",
              "      <td>8592</td>\n",
              "      <td>CA-2018-101700</td>\n",
              "      <td>2018-04-23</td>\n",
              "      <td>2018-04-26</td>\n",
              "      <td>First Class</td>\n",
              "      <td>SO-20335</td>\n",
              "      <td>Sean O'Donnell</td>\n",
              "      <td>Consumer</td>\n",
              "      <td>United States</td>\n",
              "      <td>Greeley</td>\n",
              "      <td>...</td>\n",
              "      <td>80634.0</td>\n",
              "      <td>West</td>\n",
              "      <td>OFF-EN-10003134</td>\n",
              "      <td>Office Supplies</td>\n",
              "      <td>Envelopes</td>\n",
              "      <td>Staple envelope</td>\n",
              "      <td>18.688</td>\n",
              "      <td>2</td>\n",
              "      <td>0.2</td>\n",
              "      <td>7.0080</td>\n",
              "    </tr>\n",
              "    <tr>\n",
              "      <th>8592</th>\n",
              "      <td>8593</td>\n",
              "      <td>CA-2018-101700</td>\n",
              "      <td>2018-04-23</td>\n",
              "      <td>2018-04-26</td>\n",
              "      <td>First Class</td>\n",
              "      <td>SO-20335</td>\n",
              "      <td>Sean O'Donnell</td>\n",
              "      <td>Consumer</td>\n",
              "      <td>United States</td>\n",
              "      <td>Greeley</td>\n",
              "      <td>...</td>\n",
              "      <td>80634.0</td>\n",
              "      <td>West</td>\n",
              "      <td>FUR-FU-10001025</td>\n",
              "      <td>Furniture</td>\n",
              "      <td>Furnishings</td>\n",
              "      <td>Eldon Imàge Series Desk Accessories, Clear</td>\n",
              "      <td>11.664</td>\n",
              "      <td>3</td>\n",
              "      <td>0.2</td>\n",
              "      <td>3.3534</td>\n",
              "    </tr>\n",
              "  </tbody>\n",
              "</table>\n",
              "<p>14 rows × 21 columns</p>\n",
              "</div>\n",
              "      <button class=\"colab-df-convert\" onclick=\"convertToInteractive('df-c4afb136-13d9-4f8d-b71b-3752c3c4df5d')\"\n",
              "              title=\"Convert this dataframe to an interactive table.\"\n",
              "              style=\"display:none;\">\n",
              "        \n",
              "  <svg xmlns=\"http://www.w3.org/2000/svg\" height=\"24px\"viewBox=\"0 0 24 24\"\n",
              "       width=\"24px\">\n",
              "    <path d=\"M0 0h24v24H0V0z\" fill=\"none\"/>\n",
              "    <path d=\"M18.56 5.44l.94 2.06.94-2.06 2.06-.94-2.06-.94-.94-2.06-.94 2.06-2.06.94zm-11 1L8.5 8.5l.94-2.06 2.06-.94-2.06-.94L8.5 2.5l-.94 2.06-2.06.94zm10 10l.94 2.06.94-2.06 2.06-.94-2.06-.94-.94-2.06-.94 2.06-2.06.94z\"/><path d=\"M17.41 7.96l-1.37-1.37c-.4-.4-.92-.59-1.43-.59-.52 0-1.04.2-1.43.59L10.3 9.45l-7.72 7.72c-.78.78-.78 2.05 0 2.83L4 21.41c.39.39.9.59 1.41.59.51 0 1.02-.2 1.41-.59l7.78-7.78 2.81-2.81c.8-.78.8-2.07 0-2.86zM5.41 20L4 18.59l7.72-7.72 1.47 1.35L5.41 20z\"/>\n",
              "  </svg>\n",
              "      </button>\n",
              "      \n",
              "  <style>\n",
              "    .colab-df-container {\n",
              "      display:flex;\n",
              "      flex-wrap:wrap;\n",
              "      gap: 12px;\n",
              "    }\n",
              "\n",
              "    .colab-df-convert {\n",
              "      background-color: #E8F0FE;\n",
              "      border: none;\n",
              "      border-radius: 50%;\n",
              "      cursor: pointer;\n",
              "      display: none;\n",
              "      fill: #1967D2;\n",
              "      height: 32px;\n",
              "      padding: 0 0 0 0;\n",
              "      width: 32px;\n",
              "    }\n",
              "\n",
              "    .colab-df-convert:hover {\n",
              "      background-color: #E2EBFA;\n",
              "      box-shadow: 0px 1px 2px rgba(60, 64, 67, 0.3), 0px 1px 3px 1px rgba(60, 64, 67, 0.15);\n",
              "      fill: #174EA6;\n",
              "    }\n",
              "\n",
              "    [theme=dark] .colab-df-convert {\n",
              "      background-color: #3B4455;\n",
              "      fill: #D2E3FC;\n",
              "    }\n",
              "\n",
              "    [theme=dark] .colab-df-convert:hover {\n",
              "      background-color: #434B5C;\n",
              "      box-shadow: 0px 1px 3px 1px rgba(0, 0, 0, 0.15);\n",
              "      filter: drop-shadow(0px 1px 2px rgba(0, 0, 0, 0.3));\n",
              "      fill: #FFFFFF;\n",
              "    }\n",
              "  </style>\n",
              "\n",
              "      <script>\n",
              "        const buttonEl =\n",
              "          document.querySelector('#df-c4afb136-13d9-4f8d-b71b-3752c3c4df5d button.colab-df-convert');\n",
              "        buttonEl.style.display =\n",
              "          google.colab.kernel.accessAllowed ? 'block' : 'none';\n",
              "\n",
              "        async function convertToInteractive(key) {\n",
              "          const element = document.querySelector('#df-c4afb136-13d9-4f8d-b71b-3752c3c4df5d');\n",
              "          const dataTable =\n",
              "            await google.colab.kernel.invokeFunction('convertToInteractive',\n",
              "                                                     [key], {});\n",
              "          if (!dataTable) return;\n",
              "\n",
              "          const docLinkHtml = 'Like what you see? Visit the ' +\n",
              "            '<a target=\"_blank\" href=https://colab.research.google.com/notebooks/data_table.ipynb>data table notebook</a>'\n",
              "            + ' to learn more about interactive tables.';\n",
              "          element.innerHTML = '';\n",
              "          dataTable['output_type'] = 'display_data';\n",
              "          await google.colab.output.renderOutput(dataTable, element);\n",
              "          const docLink = document.createElement('div');\n",
              "          docLink.innerHTML = docLinkHtml;\n",
              "          element.appendChild(docLink);\n",
              "        }\n",
              "      </script>\n",
              "    </div>\n",
              "  </div>\n",
              "  "
            ]
          },
          "metadata": {},
          "execution_count": 81
        }
      ]
    },
    {
      "cell_type": "markdown",
      "source": [
        "2. crea un plot que me indique el nombre del producto y el valor que compró esta persona"
      ],
      "metadata": {
        "id": "SfSqWnWgdVPG"
      }
    },
    {
      "cell_type": "code",
      "source": [
        "%%R\n",
        "nombre_valor = SOD %>% \n",
        "  group_by(`Product Name`) %>% \n",
        "  summarise(ventas_totales = sum(Sales))\n"
      ],
      "metadata": {
        "id": "HfLA_T5DdnYv"
      },
      "execution_count": null,
      "outputs": []
    },
    {
      "cell_type": "code",
      "source": [
        "%%R\n",
        "Cuadro_N_V = unlist(nombre_valor[,2])\n",
        "names(Cuadro_N_V) = unlist(nombre_valor[,1])"
      ],
      "metadata": {
        "id": "NzPI7PYOeFm1"
      },
      "execution_count": null,
      "outputs": []
    },
    {
      "cell_type": "code",
      "source": [
        "%%R\n",
        "barplot(Cuadro_N_V)"
      ],
      "metadata": {
        "id": "6sH5YrG4glTM",
        "colab": {
          "base_uri": "https://localhost:8080/",
          "height": 497
        },
        "outputId": "ca829584-0fea-406f-9ad1-8efc36dafcb5"
      },
      "execution_count": null,
      "outputs": [
        {
          "output_type": "display_data",
          "data": {
            "image/png": "[encoded data removed]"
          },
          "metadata": {}
        }
      ]
    },
    {
      "cell_type": "code",
      "source": [
        "import pandas as pd\n",
        "import numpy as np\n",
        "import matplotlib.pyplot as plt"
      ],
      "metadata": {
        "id": "DCqn0V9zg-7p"
      },
      "execution_count": null,
      "outputs": []
    },
    {
      "cell_type": "code",
      "source": [
        "SOD = pd.DataFrame(SOD)"
      ],
      "metadata": {
        "id": "S0s40moWiAFk"
      },
      "execution_count": null,
      "outputs": []
    },
    {
      "cell_type": "code",
      "source": [
        "from pandas.core.groupby import groupby\n",
        "Tabla_SOD = SOD.groupby('Product Name')['Sales'].sum()"
      ],
      "metadata": {
        "id": "Ggwo3p8shfvs"
      },
      "execution_count": null,
      "outputs": []
    },
    {
      "cell_type": "code",
      "source": [
        "plt.bar(list(Tabla_SOD.index), list(np.array(Tabla_SOD)))"
      ],
      "metadata": {
        "id": "XgKYFsy3jCVE",
        "colab": {
          "base_uri": "https://localhost:8080/",
          "height": 447
        },
        "outputId": "48e164e1-41a3-4982-cf82-cd0e455b2ad8"
      },
      "execution_count": null,
      "outputs": [
        {
          "output_type": "execute_result",
          "data": {
            "text/plain": [
              "<BarContainer object of 14 artists>"
            ]
          },
          "metadata": {},
          "execution_count": 68
        },
        {
          "output_type": "display_data",
          "data": {
            "text/plain": [
              "<Figure size 640x480 with 1 Axes>"
            ],
            "image/png": "[encoded data removed]"
          },
          "metadata": {}
        }
      ]
    },
    {
      "cell_type": "markdown",
      "source": [
        "A pesar de esto, la legibilidad de los gráficos es casi nula por lo que habrá que elegir una forma de mostrar a la gerencia los resultados. \n",
        "\n",
        "Vamos a organizar los datos para mostrar solamente el top de ciudades con mejores profits. "
      ],
      "metadata": {
        "id": "MRWnUfyWXK4F"
      }
    },
    {
      "cell_type": "code",
      "source": [
        "%%R\n",
        "Tabla_top_10 <- SOD %>%\n",
        "  group_by(`Product Name`) %>%\n",
        "  summarise(`ventas` = sum(Sales)) %>%\n",
        "  arrange(desc(`ventas`))\n",
        "\n",
        "Cuadro_CN <- as.data.frame(Tabla_top_10[(dim(Tabla_top_10)[1]-9):dim(Tabla_top_10)[1],])\n",
        "\n",
        "names(Cuadro_CN) <- c(\"Producto\", \"Ventas\")\n",
        "\n",
        "barplot(Cuadro_CN$Ventas, names.arg = Cuadro_CN$Producto, xlab = \"Producto\", ylab = \"Ventas\")\n"
      ],
      "metadata": {
        "id": "XjZWbFD0XazI",
        "colab": {
          "base_uri": "https://localhost:8080/",
          "height": 497
        },
        "outputId": "8a5c9db8-1465-42fa-a64f-54f39dc91672"
      },
      "execution_count": null,
      "outputs": [
        {
          "output_type": "display_data",
          "data": {
            "image/png": "[encoded data removed]"
          },
          "metadata": {}
        }
      ]
    },
    {
      "cell_type": "code",
      "source": [
        "import pandas as pd\n",
        "import matplotlib.pyplot as plt\n",
        "\n",
        "Tabla_top_10 = SOD.groupby('Product Name').agg({'Sales': 'sum'}).reset_index()\n",
        "Tabla_top_10 = Tabla_top_10.sort_values(by='Sales')\n",
        "Tabla_top_10 = Tabla_top_10.tail(10)\n",
        "\n",
        "nombres_CN = Cuadro_CN.iloc[:, 0]\n",
        "Cuadro_CN = Cuadro_CN.iloc[:, 1].values\n",
        "Cuadro_CN_dict = dict(zip(nombres_CN, Cuadro_CN))\n",
        "\n",
        "plt.bar(Cuadro_CN_dict.keys(), Cuadro_CN_dict.values())\n",
        "plt.show()"
      ],
      "metadata": {
        "id": "ESH5D7lGCDpp",
        "colab": {
          "base_uri": "https://localhost:8080/",
          "height": 235
        },
        "outputId": "ca74af17-3387-416b-bd56-7912587ee5ef"
      },
      "execution_count": null,
      "outputs": [
        {
          "output_type": "error",
          "ename": "NameError",
          "evalue": "ignored",
          "traceback": [
            "\u001b[0;31m---------------------------------------------------------------------------\u001b[0m",
            "\u001b[0;31mNameError\u001b[0m                                 Traceback (most recent call last)",
            "\u001b[0;32m<ipython-input-92-5bdcacefb92e>\u001b[0m in \u001b[0;36m<cell line: 8>\u001b[0;34m()\u001b[0m\n\u001b[1;32m      6\u001b[0m \u001b[0mTabla_top_10\u001b[0m \u001b[0;34m=\u001b[0m \u001b[0mTabla_top_10\u001b[0m\u001b[0;34m.\u001b[0m\u001b[0mtail\u001b[0m\u001b[0;34m(\u001b[0m\u001b[0;36m10\u001b[0m\u001b[0;34m)\u001b[0m\u001b[0;34m\u001b[0m\u001b[0;34m\u001b[0m\u001b[0m\n\u001b[1;32m      7\u001b[0m \u001b[0;34m\u001b[0m\u001b[0m\n\u001b[0;32m----> 8\u001b[0;31m \u001b[0mnombres_CN\u001b[0m \u001b[0;34m=\u001b[0m \u001b[0mCuadro_CN\u001b[0m\u001b[0;34m.\u001b[0m\u001b[0miloc\u001b[0m\u001b[0;34m[\u001b[0m\u001b[0;34m:\u001b[0m\u001b[0;34m,\u001b[0m \u001b[0;36m0\u001b[0m\u001b[0;34m]\u001b[0m\u001b[0;34m\u001b[0m\u001b[0;34m\u001b[0m\u001b[0m\n\u001b[0m\u001b[1;32m      9\u001b[0m \u001b[0mCuadro_CN\u001b[0m \u001b[0;34m=\u001b[0m \u001b[0mCuadro_CN\u001b[0m\u001b[0;34m.\u001b[0m\u001b[0miloc\u001b[0m\u001b[0;34m[\u001b[0m\u001b[0;34m:\u001b[0m\u001b[0;34m,\u001b[0m \u001b[0;36m1\u001b[0m\u001b[0;34m]\u001b[0m\u001b[0;34m.\u001b[0m\u001b[0mvalues\u001b[0m\u001b[0;34m\u001b[0m\u001b[0;34m\u001b[0m\u001b[0m\n\u001b[1;32m     10\u001b[0m \u001b[0mCuadro_CN_dict\u001b[0m \u001b[0;34m=\u001b[0m \u001b[0mdict\u001b[0m\u001b[0;34m(\u001b[0m\u001b[0mzip\u001b[0m\u001b[0;34m(\u001b[0m\u001b[0mnombres_CN\u001b[0m\u001b[0;34m,\u001b[0m \u001b[0mCuadro_CN\u001b[0m\u001b[0;34m)\u001b[0m\u001b[0;34m)\u001b[0m\u001b[0;34m\u001b[0m\u001b[0;34m\u001b[0m\u001b[0m\n",
            "\u001b[0;31mNameError\u001b[0m: name 'Cuadro_CN' is not defined"
          ]
        }
      ]
    },
    {
      "cell_type": "markdown",
      "source": [
        "Usando la misma base de datos crea un agrupado por regiones y saca la media de las ventas de cada región. Esta media asignala a una columna nueva de un dataframe llamado mean_sales. "
      ],
      "metadata": {
        "id": "cuUZemJwZkT5"
      }
    },
    {
      "cell_type": "code",
      "source": [
        "%%R\n",
        "SOD['mean_sales'] <- SOD %>% group_by(Region) %>% summarise(mean(Sales))\n"
      ],
      "metadata": {
        "id": "RJouQZkcaAwb",
        "colab": {
          "base_uri": "https://localhost:8080/",
          "height": 918
        },
        "outputId": "42c3aa82-64bf-49c7-a8a9-9fb9d76de6cf"
      },
      "execution_count": null,
      "outputs": [
        {
          "output_type": "stream",
          "name": "stdout",
          "text": [
            "Error in `[<-`:\n",
            "! Assigned data `SOD %>% group_by(Region) %>% summarise(mean(Sales))`\n",
            "  must be compatible with existing data.\n",
            "✖ Existing data has 14 rows.\n",
            "✖ Element 1 of assigned data has 3 rows.\n",
            "ℹ Only vectors of size 1 are recycled.\n",
            "Caused by error in `vectbl_recycle_rhs_rows()`:\n",
            "! Can't recycle input of size 3 to size 14.\n",
            "Run `rlang::last_trace()` to see where the error occurred.\n",
            "\n",
            "Error in `[<-`(`*tmp*`, \"mean_sales\", value = list(Region = c(\"East\",  : \n",
            "✖ Existing data has 14 rows.\n",
            "✖ Element 1 of assigned data has 3 rows.\n",
            "ℹ Only vectors of size 1 are recycled.\n",
            "Caused by error in `vectbl_recycle_rhs_rows()`:\n",
            "! Can't recycle input of size 3 to size 14.\n"
          ]
        },
        {
          "output_type": "error",
          "ename": "RInterpreterError",
          "evalue": "ignored",
          "traceback": [
            "\u001b[0;31m---------------------------------------------------------------------------\u001b[0m",
            "\u001b[0;31mRRuntimeError\u001b[0m                             Traceback (most recent call last)",
            "\u001b[0;32m/usr/local/lib/python3.9/dist-packages/rpy2/ipython/rmagic.py\u001b[0m in \u001b[0;36meval\u001b[0;34m(self, code)\u001b[0m\n\u001b[1;32m    279\u001b[0m                 \u001b[0;31m# Need the newline in case the last line in code is a comment.\u001b[0m\u001b[0;34m\u001b[0m\u001b[0;34m\u001b[0m\u001b[0m\n\u001b[0;32m--> 280\u001b[0;31m                 \u001b[0mvalue\u001b[0m\u001b[0;34m,\u001b[0m \u001b[0mvisible\u001b[0m \u001b[0;34m=\u001b[0m \u001b[0mro\u001b[0m\u001b[0;34m.\u001b[0m\u001b[0mr\u001b[0m\u001b[0;34m(\u001b[0m\u001b[0;34m\"withVisible({%s\\n})\"\u001b[0m \u001b[0;34m%\u001b[0m \u001b[0mcode\u001b[0m\u001b[0;34m)\u001b[0m\u001b[0;34m\u001b[0m\u001b[0;34m\u001b[0m\u001b[0m\n\u001b[0m\u001b[1;32m    281\u001b[0m             \u001b[0;32mexcept\u001b[0m \u001b[0;34m(\u001b[0m\u001b[0mri\u001b[0m\u001b[0;34m.\u001b[0m\u001b[0membedded\u001b[0m\u001b[0;34m.\u001b[0m\u001b[0mRRuntimeError\u001b[0m\u001b[0;34m,\u001b[0m \u001b[0mValueError\u001b[0m\u001b[0;34m)\u001b[0m \u001b[0;32mas\u001b[0m \u001b[0mexception\u001b[0m\u001b[0;34m:\u001b[0m\u001b[0;34m\u001b[0m\u001b[0;34m\u001b[0m\u001b[0m\n",
            "\u001b[0;32m/usr/local/lib/python3.9/dist-packages/rpy2/robjects/__init__.py\u001b[0m in \u001b[0;36m__call__\u001b[0;34m(self, string)\u001b[0m\n\u001b[1;32m    450\u001b[0m         \u001b[0mp\u001b[0m \u001b[0;34m=\u001b[0m \u001b[0mrinterface\u001b[0m\u001b[0;34m.\u001b[0m\u001b[0mparse\u001b[0m\u001b[0;34m(\u001b[0m\u001b[0mstring\u001b[0m\u001b[0;34m)\u001b[0m\u001b[0;34m\u001b[0m\u001b[0;34m\u001b[0m\u001b[0m\n\u001b[0;32m--> 451\u001b[0;31m         \u001b[0mres\u001b[0m \u001b[0;34m=\u001b[0m \u001b[0mself\u001b[0m\u001b[0;34m.\u001b[0m\u001b[0meval\u001b[0m\u001b[0;34m(\u001b[0m\u001b[0mp\u001b[0m\u001b[0;34m)\u001b[0m\u001b[0;34m\u001b[0m\u001b[0;34m\u001b[0m\u001b[0m\n\u001b[0m\u001b[1;32m    452\u001b[0m         \u001b[0;32mreturn\u001b[0m \u001b[0mconversion\u001b[0m\u001b[0;34m.\u001b[0m\u001b[0mrpy2py\u001b[0m\u001b[0;34m(\u001b[0m\u001b[0mres\u001b[0m\u001b[0;34m)\u001b[0m\u001b[0;34m\u001b[0m\u001b[0;34m\u001b[0m\u001b[0m\n",
            "\u001b[0;32m/usr/local/lib/python3.9/dist-packages/rpy2/robjects/functions.py\u001b[0m in \u001b[0;36m__call__\u001b[0;34m(self, *args, **kwargs)\u001b[0m\n\u001b[1;32m    200\u001b[0m                 \u001b[0mkwargs\u001b[0m\u001b[0;34m[\u001b[0m\u001b[0mr_k\u001b[0m\u001b[0;34m]\u001b[0m \u001b[0;34m=\u001b[0m \u001b[0mv\u001b[0m\u001b[0;34m\u001b[0m\u001b[0;34m\u001b[0m\u001b[0m\n\u001b[0;32m--> 201\u001b[0;31m         return (super(SignatureTranslatedFunction, self)\n\u001b[0m\u001b[1;32m    202\u001b[0m                 .__call__(*args, **kwargs))\n",
            "\u001b[0;32m/usr/local/lib/python3.9/dist-packages/rpy2/robjects/functions.py\u001b[0m in \u001b[0;36m__call__\u001b[0;34m(self, *args, **kwargs)\u001b[0m\n\u001b[1;32m    123\u001b[0m                 \u001b[0mnew_kwargs\u001b[0m\u001b[0;34m[\u001b[0m\u001b[0mk\u001b[0m\u001b[0;34m]\u001b[0m \u001b[0;34m=\u001b[0m \u001b[0mconversion\u001b[0m\u001b[0;34m.\u001b[0m\u001b[0mpy2rpy\u001b[0m\u001b[0;34m(\u001b[0m\u001b[0mv\u001b[0m\u001b[0;34m)\u001b[0m\u001b[0;34m\u001b[0m\u001b[0;34m\u001b[0m\u001b[0m\n\u001b[0;32m--> 124\u001b[0;31m         \u001b[0mres\u001b[0m \u001b[0;34m=\u001b[0m \u001b[0msuper\u001b[0m\u001b[0;34m(\u001b[0m\u001b[0mFunction\u001b[0m\u001b[0;34m,\u001b[0m \u001b[0mself\u001b[0m\u001b[0;34m)\u001b[0m\u001b[0;34m.\u001b[0m\u001b[0m__call__\u001b[0m\u001b[0;34m(\u001b[0m\u001b[0;34m*\u001b[0m\u001b[0mnew_args\u001b[0m\u001b[0;34m,\u001b[0m \u001b[0;34m**\u001b[0m\u001b[0mnew_kwargs\u001b[0m\u001b[0;34m)\u001b[0m\u001b[0;34m\u001b[0m\u001b[0;34m\u001b[0m\u001b[0m\n\u001b[0m\u001b[1;32m    125\u001b[0m         \u001b[0mres\u001b[0m \u001b[0;34m=\u001b[0m \u001b[0mconversion\u001b[0m\u001b[0;34m.\u001b[0m\u001b[0mrpy2py\u001b[0m\u001b[0;34m(\u001b[0m\u001b[0mres\u001b[0m\u001b[0;34m)\u001b[0m\u001b[0;34m\u001b[0m\u001b[0;34m\u001b[0m\u001b[0m\n",
            "\u001b[0;32m/usr/local/lib/python3.9/dist-packages/rpy2/rinterface_lib/conversion.py\u001b[0m in \u001b[0;36m_\u001b[0;34m(*args, **kwargs)\u001b[0m\n\u001b[1;32m     44\u001b[0m     \u001b[0;32mdef\u001b[0m \u001b[0m_\u001b[0m\u001b[0;34m(\u001b[0m\u001b[0;34m*\u001b[0m\u001b[0margs\u001b[0m\u001b[0;34m,\u001b[0m \u001b[0;34m**\u001b[0m\u001b[0mkwargs\u001b[0m\u001b[0;34m)\u001b[0m\u001b[0;34m:\u001b[0m\u001b[0;34m\u001b[0m\u001b[0;34m\u001b[0m\u001b[0m\n\u001b[0;32m---> 45\u001b[0;31m         \u001b[0mcdata\u001b[0m \u001b[0;34m=\u001b[0m \u001b[0mfunction\u001b[0m\u001b[0;34m(\u001b[0m\u001b[0;34m*\u001b[0m\u001b[0margs\u001b[0m\u001b[0;34m,\u001b[0m \u001b[0;34m**\u001b[0m\u001b[0mkwargs\u001b[0m\u001b[0;34m)\u001b[0m\u001b[0;34m\u001b[0m\u001b[0;34m\u001b[0m\u001b[0m\n\u001b[0m\u001b[1;32m     46\u001b[0m         \u001b[0;31m# TODO: test cdata is of the expected CType\u001b[0m\u001b[0;34m\u001b[0m\u001b[0;34m\u001b[0m\u001b[0m\n",
            "\u001b[0;32m/usr/local/lib/python3.9/dist-packages/rpy2/rinterface.py\u001b[0m in \u001b[0;36m__call__\u001b[0;34m(self, *args, **kwargs)\u001b[0m\n\u001b[1;32m    809\u001b[0m             \u001b[0;32mif\u001b[0m \u001b[0merror_occured\u001b[0m\u001b[0;34m[\u001b[0m\u001b[0;36m0\u001b[0m\u001b[0;34m]\u001b[0m\u001b[0;34m:\u001b[0m\u001b[0;34m\u001b[0m\u001b[0;34m\u001b[0m\u001b[0m\n\u001b[0;32m--> 810\u001b[0;31m                 \u001b[0;32mraise\u001b[0m \u001b[0membedded\u001b[0m\u001b[0;34m.\u001b[0m\u001b[0mRRuntimeError\u001b[0m\u001b[0;34m(\u001b[0m\u001b[0m_rinterface\u001b[0m\u001b[0;34m.\u001b[0m\u001b[0m_geterrmessage\u001b[0m\u001b[0;34m(\u001b[0m\u001b[0;34m)\u001b[0m\u001b[0;34m)\u001b[0m\u001b[0;34m\u001b[0m\u001b[0;34m\u001b[0m\u001b[0m\n\u001b[0m\u001b[1;32m    811\u001b[0m         \u001b[0;32mreturn\u001b[0m \u001b[0mres\u001b[0m\u001b[0;34m\u001b[0m\u001b[0;34m\u001b[0m\u001b[0m\n",
            "\u001b[0;31mRRuntimeError\u001b[0m: Error in `[<-`(`*tmp*`, \"mean_sales\", value = list(Region = c(\"East\",  : \n✖ Existing data has 14 rows.\n✖ Element 1 of assigned data has 3 rows.\nℹ Only vectors of size 1 are recycled.\nCaused by error in `vectbl_recycle_rhs_rows()`:\n! Can't recycle input of size 3 to size 14.\n",
            "\nDuring handling of the above exception, another exception occurred:\n",
            "\u001b[0;31mRInterpreterError\u001b[0m                         Traceback (most recent call last)",
            "\u001b[0;32m<ipython-input-79-d5bcf3e22b6e>\u001b[0m in \u001b[0;36m<cell line: 1>\u001b[0;34m()\u001b[0m\n\u001b[0;32m----> 1\u001b[0;31m \u001b[0mget_ipython\u001b[0m\u001b[0;34m(\u001b[0m\u001b[0;34m)\u001b[0m\u001b[0;34m.\u001b[0m\u001b[0mrun_cell_magic\u001b[0m\u001b[0;34m(\u001b[0m\u001b[0;34m'R'\u001b[0m\u001b[0;34m,\u001b[0m \u001b[0;34m''\u001b[0m\u001b[0;34m,\u001b[0m \u001b[0;34m\"SOD['mean_sales'] <- SOD %>% group_by(Region) %>% summarise(mean(Sales))\\n\"\u001b[0m\u001b[0;34m)\u001b[0m\u001b[0;34m\u001b[0m\u001b[0;34m\u001b[0m\u001b[0m\n\u001b[0m",
            "\u001b[0;32m/usr/local/lib/python3.9/dist-packages/google/colab/_shell.py\u001b[0m in \u001b[0;36mrun_cell_magic\u001b[0;34m(self, magic_name, line, cell)\u001b[0m\n\u001b[1;32m    331\u001b[0m     \u001b[0;32mif\u001b[0m \u001b[0mline\u001b[0m \u001b[0;32mand\u001b[0m \u001b[0;32mnot\u001b[0m \u001b[0mcell\u001b[0m\u001b[0;34m:\u001b[0m\u001b[0;34m\u001b[0m\u001b[0;34m\u001b[0m\u001b[0m\n\u001b[1;32m    332\u001b[0m       \u001b[0mcell\u001b[0m \u001b[0;34m=\u001b[0m \u001b[0;34m' '\u001b[0m\u001b[0;34m\u001b[0m\u001b[0;34m\u001b[0m\u001b[0m\n\u001b[0;32m--> 333\u001b[0;31m     \u001b[0;32mreturn\u001b[0m \u001b[0msuper\u001b[0m\u001b[0;34m(\u001b[0m\u001b[0;34m)\u001b[0m\u001b[0;34m.\u001b[0m\u001b[0mrun_cell_magic\u001b[0m\u001b[0;34m(\u001b[0m\u001b[0mmagic_name\u001b[0m\u001b[0;34m,\u001b[0m \u001b[0mline\u001b[0m\u001b[0;34m,\u001b[0m \u001b[0mcell\u001b[0m\u001b[0;34m)\u001b[0m\u001b[0;34m\u001b[0m\u001b[0;34m\u001b[0m\u001b[0m\n\u001b[0m\u001b[1;32m    334\u001b[0m \u001b[0;34m\u001b[0m\u001b[0m\n\u001b[1;32m    335\u001b[0m \u001b[0;34m\u001b[0m\u001b[0m\n",
            "\u001b[0;32m/usr/local/lib/python3.9/dist-packages/IPython/core/interactiveshell.py\u001b[0m in \u001b[0;36mrun_cell_magic\u001b[0;34m(self, magic_name, line, cell)\u001b[0m\n\u001b[1;32m   2471\u001b[0m             \u001b[0;32mwith\u001b[0m \u001b[0mself\u001b[0m\u001b[0;34m.\u001b[0m\u001b[0mbuiltin_trap\u001b[0m\u001b[0;34m:\u001b[0m\u001b[0;34m\u001b[0m\u001b[0;34m\u001b[0m\u001b[0m\n\u001b[1;32m   2472\u001b[0m                 \u001b[0margs\u001b[0m \u001b[0;34m=\u001b[0m \u001b[0;34m(\u001b[0m\u001b[0mmagic_arg_s\u001b[0m\u001b[0;34m,\u001b[0m \u001b[0mcell\u001b[0m\u001b[0;34m)\u001b[0m\u001b[0;34m\u001b[0m\u001b[0;34m\u001b[0m\u001b[0m\n\u001b[0;32m-> 2473\u001b[0;31m                 \u001b[0mresult\u001b[0m \u001b[0;34m=\u001b[0m \u001b[0mfn\u001b[0m\u001b[0;34m(\u001b[0m\u001b[0;34m*\u001b[0m\u001b[0margs\u001b[0m\u001b[0;34m,\u001b[0m \u001b[0;34m**\u001b[0m\u001b[0mkwargs\u001b[0m\u001b[0;34m)\u001b[0m\u001b[0;34m\u001b[0m\u001b[0;34m\u001b[0m\u001b[0m\n\u001b[0m\u001b[1;32m   2474\u001b[0m             \u001b[0;32mreturn\u001b[0m \u001b[0mresult\u001b[0m\u001b[0;34m\u001b[0m\u001b[0;34m\u001b[0m\u001b[0m\n\u001b[1;32m   2475\u001b[0m \u001b[0;34m\u001b[0m\u001b[0m\n",
            "\u001b[0;32m<decorator-gen-122>\u001b[0m in \u001b[0;36mR\u001b[0;34m(self, line, cell, local_ns)\u001b[0m\n",
            "\u001b[0;32m/usr/local/lib/python3.9/dist-packages/IPython/core/magic.py\u001b[0m in \u001b[0;36m<lambda>\u001b[0;34m(f, *a, **k)\u001b[0m\n\u001b[1;32m    185\u001b[0m     \u001b[0;31m# but it's overkill for just that one bit of state.\u001b[0m\u001b[0;34m\u001b[0m\u001b[0;34m\u001b[0m\u001b[0m\n\u001b[1;32m    186\u001b[0m     \u001b[0;32mdef\u001b[0m \u001b[0mmagic_deco\u001b[0m\u001b[0;34m(\u001b[0m\u001b[0marg\u001b[0m\u001b[0;34m)\u001b[0m\u001b[0;34m:\u001b[0m\u001b[0;34m\u001b[0m\u001b[0;34m\u001b[0m\u001b[0m\n\u001b[0;32m--> 187\u001b[0;31m         \u001b[0mcall\u001b[0m \u001b[0;34m=\u001b[0m \u001b[0;32mlambda\u001b[0m \u001b[0mf\u001b[0m\u001b[0;34m,\u001b[0m \u001b[0;34m*\u001b[0m\u001b[0ma\u001b[0m\u001b[0;34m,\u001b[0m \u001b[0;34m**\u001b[0m\u001b[0mk\u001b[0m\u001b[0;34m:\u001b[0m \u001b[0mf\u001b[0m\u001b[0;34m(\u001b[0m\u001b[0;34m*\u001b[0m\u001b[0ma\u001b[0m\u001b[0;34m,\u001b[0m \u001b[0;34m**\u001b[0m\u001b[0mk\u001b[0m\u001b[0;34m)\u001b[0m\u001b[0;34m\u001b[0m\u001b[0;34m\u001b[0m\u001b[0m\n\u001b[0m\u001b[1;32m    188\u001b[0m \u001b[0;34m\u001b[0m\u001b[0m\n\u001b[1;32m    189\u001b[0m         \u001b[0;32mif\u001b[0m \u001b[0mcallable\u001b[0m\u001b[0;34m(\u001b[0m\u001b[0marg\u001b[0m\u001b[0;34m)\u001b[0m\u001b[0;34m:\u001b[0m\u001b[0;34m\u001b[0m\u001b[0;34m\u001b[0m\u001b[0m\n",
            "\u001b[0;32m/usr/local/lib/python3.9/dist-packages/rpy2/ipython/rmagic.py\u001b[0m in \u001b[0;36mR\u001b[0;34m(self, line, cell, local_ns)\u001b[0m\n\u001b[1;32m    793\u001b[0m             \u001b[0;32mif\u001b[0m \u001b[0;32mnot\u001b[0m \u001b[0me\u001b[0m\u001b[0;34m.\u001b[0m\u001b[0mstdout\u001b[0m\u001b[0;34m.\u001b[0m\u001b[0mendswith\u001b[0m\u001b[0;34m(\u001b[0m\u001b[0me\u001b[0m\u001b[0;34m.\u001b[0m\u001b[0merr\u001b[0m\u001b[0;34m)\u001b[0m\u001b[0;34m:\u001b[0m\u001b[0;34m\u001b[0m\u001b[0;34m\u001b[0m\u001b[0m\n\u001b[1;32m    794\u001b[0m                 \u001b[0mprint\u001b[0m\u001b[0;34m(\u001b[0m\u001b[0me\u001b[0m\u001b[0;34m.\u001b[0m\u001b[0merr\u001b[0m\u001b[0;34m)\u001b[0m\u001b[0;34m\u001b[0m\u001b[0;34m\u001b[0m\u001b[0m\n\u001b[0;32m--> 795\u001b[0;31m             \u001b[0;32mraise\u001b[0m \u001b[0me\u001b[0m\u001b[0;34m\u001b[0m\u001b[0;34m\u001b[0m\u001b[0m\n\u001b[0m\u001b[1;32m    796\u001b[0m         \u001b[0;32mfinally\u001b[0m\u001b[0;34m:\u001b[0m\u001b[0;34m\u001b[0m\u001b[0;34m\u001b[0m\u001b[0m\n\u001b[1;32m    797\u001b[0m             \u001b[0;32mif\u001b[0m \u001b[0mself\u001b[0m\u001b[0;34m.\u001b[0m\u001b[0mdevice\u001b[0m \u001b[0;32min\u001b[0m \u001b[0;34m[\u001b[0m\u001b[0;34m'png'\u001b[0m\u001b[0;34m,\u001b[0m \u001b[0;34m'svg'\u001b[0m\u001b[0;34m]\u001b[0m\u001b[0;34m:\u001b[0m\u001b[0;34m\u001b[0m\u001b[0;34m\u001b[0m\u001b[0m\n",
            "\u001b[0;32m/usr/local/lib/python3.9/dist-packages/rpy2/ipython/rmagic.py\u001b[0m in \u001b[0;36mR\u001b[0;34m(self, line, cell, local_ns)\u001b[0m\n\u001b[1;32m    773\u001b[0m                     \u001b[0mreturn_output\u001b[0m \u001b[0;34m=\u001b[0m \u001b[0;32mFalse\u001b[0m\u001b[0;34m\u001b[0m\u001b[0;34m\u001b[0m\u001b[0m\n\u001b[1;32m    774\u001b[0m             \u001b[0;32melse\u001b[0m\u001b[0;34m:\u001b[0m\u001b[0;34m\u001b[0m\u001b[0;34m\u001b[0m\u001b[0m\n\u001b[0;32m--> 775\u001b[0;31m                 \u001b[0mtext_result\u001b[0m\u001b[0;34m,\u001b[0m \u001b[0mresult\u001b[0m\u001b[0;34m,\u001b[0m \u001b[0mvisible\u001b[0m \u001b[0;34m=\u001b[0m \u001b[0mself\u001b[0m\u001b[0;34m.\u001b[0m\u001b[0meval\u001b[0m\u001b[0;34m(\u001b[0m\u001b[0mcode\u001b[0m\u001b[0;34m)\u001b[0m\u001b[0;34m\u001b[0m\u001b[0;34m\u001b[0m\u001b[0m\n\u001b[0m\u001b[1;32m    776\u001b[0m                 \u001b[0mtext_output\u001b[0m \u001b[0;34m+=\u001b[0m \u001b[0mtext_result\u001b[0m\u001b[0;34m\u001b[0m\u001b[0;34m\u001b[0m\u001b[0m\n\u001b[1;32m    777\u001b[0m                 \u001b[0;32mif\u001b[0m \u001b[0mvisible\u001b[0m\u001b[0;34m:\u001b[0m\u001b[0;34m\u001b[0m\u001b[0;34m\u001b[0m\u001b[0m\n",
            "\u001b[0;32m/usr/local/lib/python3.9/dist-packages/rpy2/ipython/rmagic.py\u001b[0m in \u001b[0;36meval\u001b[0;34m(self, code)\u001b[0m\n\u001b[1;32m    282\u001b[0m                 \u001b[0;31m# Otherwise next return seems to have copy of error.\u001b[0m\u001b[0;34m\u001b[0m\u001b[0;34m\u001b[0m\u001b[0m\n\u001b[1;32m    283\u001b[0m                 \u001b[0mwarning_or_other_msg\u001b[0m \u001b[0;34m=\u001b[0m \u001b[0mself\u001b[0m\u001b[0;34m.\u001b[0m\u001b[0mflush\u001b[0m\u001b[0;34m(\u001b[0m\u001b[0;34m)\u001b[0m\u001b[0;34m\u001b[0m\u001b[0;34m\u001b[0m\u001b[0m\n\u001b[0;32m--> 284\u001b[0;31m                 raise RInterpreterError(code, str(exception),\n\u001b[0m\u001b[1;32m    285\u001b[0m                                         warning_or_other_msg)\n\u001b[1;32m    286\u001b[0m             \u001b[0mtext_output\u001b[0m \u001b[0;34m=\u001b[0m \u001b[0mself\u001b[0m\u001b[0;34m.\u001b[0m\u001b[0mflush\u001b[0m\u001b[0;34m(\u001b[0m\u001b[0;34m)\u001b[0m\u001b[0;34m\u001b[0m\u001b[0;34m\u001b[0m\u001b[0m\n",
            "\u001b[0;31mRInterpreterError\u001b[0m: Failed to parse and evaluate line \"SOD['mean_sales'] <- SOD %>% group_by(Region) %>% summarise(mean(Sales))\\n\".\nR error message: 'Error in `[<-`(`*tmp*`, \"mean_sales\", value = list(Region = c(\"East\",  : \\n✖ Existing data has 14 rows.\\n✖ Element 1 of assigned data has 3 rows.\\nℹ Only vectors of size 1 are recycled.\\nCaused by error in `vectbl_recycle_rhs_rows()`:\\n! Can\\'t recycle input of size 3 to size 14.'"
          ]
        }
      ]
    },
    {
      "cell_type": "code",
      "source": [
        "mean_sales = SOD.groupby('Region')['Sales'].mean().reset_index()\n",
        "SOD = SOD.merge(mean_sales, on='Region', suffixes=('', '_mean'))\n"
      ],
      "metadata": {
        "id": "171Lp3n9aOFq"
      },
      "execution_count": null,
      "outputs": []
    },
    {
      "cell_type": "markdown",
      "source": [
        "Ahora vamos a graficar estos datos de forma tal que se genere un gráfico de disperción en el que se creen diferentes formas y colores para cada color, así podremos comparar las medias de las ventas de cada región. "
      ],
      "metadata": {
        "id": "5yUoeewdlc0G"
      }
    },
    {
      "cell_type": "markdown",
      "source": [
        "Como clave para este ejercicio... para la conformación de las figuras en R deberán usar el comando shape= y color= \n",
        "\n",
        "Mientras que en python hue=' ', style=' ' podrían usar los comandos\n"
      ],
      "metadata": {
        "id": "ZcdPsNpDdIOc"
      }
    },
    {
      "cell_type": "code",
      "source": [
        "# Crear plot\n",
        "sns.scatterplot(  , hue='', style='')\n",
        "\n",
        "# Configurar plot\n",
        "plt.title('Relación entre ventas y profit por región')\n",
        "plt.xlabel('Ventas')\n",
        "plt.ylabel('Profit')\n",
        "plt.show()"
      ],
      "metadata": {
        "id": "Tfbozk0Dc-qj",
        "colab": {
          "base_uri": "https://localhost:8080/",
          "height": 130
        },
        "outputId": "a121cf01-b423-4a84-a630-a6181a259d62"
      },
      "execution_count": null,
      "outputs": [
        {
          "output_type": "error",
          "ename": "SyntaxError",
          "evalue": "ignored",
          "traceback": [
            "\u001b[0;36m  File \u001b[0;32m\"<ipython-input-97-bb4e830753f3>\"\u001b[0;36m, line \u001b[0;32m2\u001b[0m\n\u001b[0;31m    sns.scatterplot(  , hue='', style='')\u001b[0m\n\u001b[0m                      ^\u001b[0m\n\u001b[0;31mSyntaxError\u001b[0m\u001b[0;31m:\u001b[0m invalid syntax\n"
          ]
        }
      ]
    },
    {
      "cell_type": "code",
      "source": [
        "%%R\n",
        "\n",
        "ggplot(SOD, aes(x=Profit, y=Sales, color=Region)) + \n",
        "  geom_point(size=6)"
      ],
      "metadata": {
        "id": "YAW2CmNakayM",
        "colab": {
          "base_uri": "https://localhost:8080/",
          "height": 497
        },
        "outputId": "12eeb470-7628-4d81-db28-da7b5ce55434"
      },
      "execution_count": null,
      "outputs": [
        {
          "output_type": "display_data",
          "data": {
            "image/png": "[encoded data removed]"
          },
          "metadata": {}
        }
      ]
    },
    {
      "cell_type": "code",
      "source": [
        "import matplotlib.pyplot as plt\n",
        "\n",
        "plt.scatter(SOD['Profit'], SOD['Sales'], c=SOD['Region'], s=50, alpha=0.8)\n",
        "plt.xlabel('Profit')\n",
        "plt.ylabel('Sales')\n",
        "plt.show()"
      ],
      "metadata": {
        "id": "GREgdre-CaaG",
        "colab": {
          "base_uri": "https://localhost:8080/",
          "height": 1000
        },
        "outputId": "a97ef368-e491-4bd5-f8b3-88bdc06d3c84"
      },
      "execution_count": null,
      "outputs": [
        {
          "output_type": "error",
          "ename": "ValueError",
          "evalue": "ignored",
          "traceback": [
            "\u001b[0;31m---------------------------------------------------------------------------\u001b[0m",
            "\u001b[0;31mValueError\u001b[0m                                Traceback (most recent call last)",
            "\u001b[0;32m/usr/local/lib/python3.9/dist-packages/matplotlib/axes/_axes.py\u001b[0m in \u001b[0;36m_parse_scatter_color_args\u001b[0;34m(c, edgecolors, kwargs, xsize, get_next_color_func)\u001b[0m\n\u001b[1;32m   4438\u001b[0m             \u001b[0;32mtry\u001b[0m\u001b[0;34m:\u001b[0m  \u001b[0;31m# Is 'c' acceptable as PathCollection facecolors?\u001b[0m\u001b[0;34m\u001b[0m\u001b[0;34m\u001b[0m\u001b[0m\n\u001b[0;32m-> 4439\u001b[0;31m                 \u001b[0mcolors\u001b[0m \u001b[0;34m=\u001b[0m \u001b[0mmcolors\u001b[0m\u001b[0;34m.\u001b[0m\u001b[0mto_rgba_array\u001b[0m\u001b[0;34m(\u001b[0m\u001b[0mc\u001b[0m\u001b[0;34m)\u001b[0m\u001b[0;34m\u001b[0m\u001b[0;34m\u001b[0m\u001b[0m\n\u001b[0m\u001b[1;32m   4440\u001b[0m             \u001b[0;32mexcept\u001b[0m \u001b[0;34m(\u001b[0m\u001b[0mTypeError\u001b[0m\u001b[0;34m,\u001b[0m \u001b[0mValueError\u001b[0m\u001b[0;34m)\u001b[0m \u001b[0;32mas\u001b[0m \u001b[0merr\u001b[0m\u001b[0;34m:\u001b[0m\u001b[0;34m\u001b[0m\u001b[0;34m\u001b[0m\u001b[0m\n",
            "\u001b[0;32m/usr/local/lib/python3.9/dist-packages/matplotlib/colors.py\u001b[0m in \u001b[0;36mto_rgba_array\u001b[0;34m(c, alpha)\u001b[0m\n\u001b[1;32m    486\u001b[0m     \u001b[0;32melse\u001b[0m\u001b[0;34m:\u001b[0m\u001b[0;34m\u001b[0m\u001b[0;34m\u001b[0m\u001b[0m\n\u001b[0;32m--> 487\u001b[0;31m         \u001b[0mrgba\u001b[0m \u001b[0;34m=\u001b[0m \u001b[0mnp\u001b[0m\u001b[0;34m.\u001b[0m\u001b[0marray\u001b[0m\u001b[0;34m(\u001b[0m\u001b[0;34m[\u001b[0m\u001b[0mto_rgba\u001b[0m\u001b[0;34m(\u001b[0m\u001b[0mcc\u001b[0m\u001b[0;34m)\u001b[0m \u001b[0;32mfor\u001b[0m \u001b[0mcc\u001b[0m \u001b[0;32min\u001b[0m \u001b[0mc\u001b[0m\u001b[0;34m]\u001b[0m\u001b[0;34m)\u001b[0m\u001b[0;34m\u001b[0m\u001b[0;34m\u001b[0m\u001b[0m\n\u001b[0m\u001b[1;32m    488\u001b[0m \u001b[0;34m\u001b[0m\u001b[0m\n",
            "\u001b[0;32m/usr/local/lib/python3.9/dist-packages/matplotlib/colors.py\u001b[0m in \u001b[0;36m<listcomp>\u001b[0;34m(.0)\u001b[0m\n\u001b[1;32m    486\u001b[0m     \u001b[0;32melse\u001b[0m\u001b[0;34m:\u001b[0m\u001b[0;34m\u001b[0m\u001b[0;34m\u001b[0m\u001b[0m\n\u001b[0;32m--> 487\u001b[0;31m         \u001b[0mrgba\u001b[0m \u001b[0;34m=\u001b[0m \u001b[0mnp\u001b[0m\u001b[0;34m.\u001b[0m\u001b[0marray\u001b[0m\u001b[0;34m(\u001b[0m\u001b[0;34m[\u001b[0m\u001b[0mto_rgba\u001b[0m\u001b[0;34m(\u001b[0m\u001b[0mcc\u001b[0m\u001b[0;34m)\u001b[0m \u001b[0;32mfor\u001b[0m \u001b[0mcc\u001b[0m \u001b[0;32min\u001b[0m \u001b[0mc\u001b[0m\u001b[0;34m]\u001b[0m\u001b[0;34m)\u001b[0m\u001b[0;34m\u001b[0m\u001b[0;34m\u001b[0m\u001b[0m\n\u001b[0m\u001b[1;32m    488\u001b[0m \u001b[0;34m\u001b[0m\u001b[0m\n",
            "\u001b[0;32m/usr/local/lib/python3.9/dist-packages/matplotlib/colors.py\u001b[0m in \u001b[0;36mto_rgba\u001b[0;34m(c, alpha)\u001b[0m\n\u001b[1;32m    298\u001b[0m     \u001b[0;32mif\u001b[0m \u001b[0mrgba\u001b[0m \u001b[0;32mis\u001b[0m \u001b[0;32mNone\u001b[0m\u001b[0;34m:\u001b[0m  \u001b[0;31m# Suppress exception chaining of cache lookup failure.\u001b[0m\u001b[0;34m\u001b[0m\u001b[0;34m\u001b[0m\u001b[0m\n\u001b[0;32m--> 299\u001b[0;31m         \u001b[0mrgba\u001b[0m \u001b[0;34m=\u001b[0m \u001b[0m_to_rgba_no_colorcycle\u001b[0m\u001b[0;34m(\u001b[0m\u001b[0mc\u001b[0m\u001b[0;34m,\u001b[0m \u001b[0malpha\u001b[0m\u001b[0;34m)\u001b[0m\u001b[0;34m\u001b[0m\u001b[0;34m\u001b[0m\u001b[0m\n\u001b[0m\u001b[1;32m    300\u001b[0m         \u001b[0;32mtry\u001b[0m\u001b[0;34m:\u001b[0m\u001b[0;34m\u001b[0m\u001b[0;34m\u001b[0m\u001b[0m\n",
            "\u001b[0;32m/usr/local/lib/python3.9/dist-packages/matplotlib/colors.py\u001b[0m in \u001b[0;36m_to_rgba_no_colorcycle\u001b[0;34m(c, alpha)\u001b[0m\n\u001b[1;32m    373\u001b[0m             \u001b[0;32mreturn\u001b[0m \u001b[0mc\u001b[0m\u001b[0;34m,\u001b[0m \u001b[0mc\u001b[0m\u001b[0;34m,\u001b[0m \u001b[0mc\u001b[0m\u001b[0;34m,\u001b[0m \u001b[0malpha\u001b[0m \u001b[0;32mif\u001b[0m \u001b[0malpha\u001b[0m \u001b[0;32mis\u001b[0m \u001b[0;32mnot\u001b[0m \u001b[0;32mNone\u001b[0m \u001b[0;32melse\u001b[0m \u001b[0;36m1.\u001b[0m\u001b[0;34m\u001b[0m\u001b[0;34m\u001b[0m\u001b[0m\n\u001b[0;32m--> 374\u001b[0;31m         \u001b[0;32mraise\u001b[0m \u001b[0mValueError\u001b[0m\u001b[0;34m(\u001b[0m\u001b[0;34mf\"Invalid RGBA argument: {orig_c!r}\"\u001b[0m\u001b[0;34m)\u001b[0m\u001b[0;34m\u001b[0m\u001b[0;34m\u001b[0m\u001b[0m\n\u001b[0m\u001b[1;32m    375\u001b[0m     \u001b[0;31m# turn 2-D array into 1-D array\u001b[0m\u001b[0;34m\u001b[0m\u001b[0;34m\u001b[0m\u001b[0m\n",
            "\u001b[0;31mValueError\u001b[0m: Invalid RGBA argument: 'South'",
            "\nThe above exception was the direct cause of the following exception:\n",
            "\u001b[0;31mValueError\u001b[0m                                Traceback (most recent call last)",
            "\u001b[0;32m<ipython-input-75-fa69c5ed1bac>\u001b[0m in \u001b[0;36m<cell line: 3>\u001b[0;34m()\u001b[0m\n\u001b[1;32m      1\u001b[0m \u001b[0;32mimport\u001b[0m \u001b[0mmatplotlib\u001b[0m\u001b[0;34m.\u001b[0m\u001b[0mpyplot\u001b[0m \u001b[0;32mas\u001b[0m \u001b[0mplt\u001b[0m\u001b[0;34m\u001b[0m\u001b[0;34m\u001b[0m\u001b[0m\n\u001b[1;32m      2\u001b[0m \u001b[0;34m\u001b[0m\u001b[0m\n\u001b[0;32m----> 3\u001b[0;31m \u001b[0mplt\u001b[0m\u001b[0;34m.\u001b[0m\u001b[0mscatter\u001b[0m\u001b[0;34m(\u001b[0m\u001b[0mSOD\u001b[0m\u001b[0;34m[\u001b[0m\u001b[0;34m'Profit'\u001b[0m\u001b[0;34m]\u001b[0m\u001b[0;34m,\u001b[0m \u001b[0mSOD\u001b[0m\u001b[0;34m[\u001b[0m\u001b[0;34m'Sales'\u001b[0m\u001b[0;34m]\u001b[0m\u001b[0;34m,\u001b[0m \u001b[0mc\u001b[0m\u001b[0;34m=\u001b[0m\u001b[0mSOD\u001b[0m\u001b[0;34m[\u001b[0m\u001b[0;34m'Region'\u001b[0m\u001b[0;34m]\u001b[0m\u001b[0;34m,\u001b[0m \u001b[0ms\u001b[0m\u001b[0;34m=\u001b[0m\u001b[0;36m50\u001b[0m\u001b[0;34m,\u001b[0m \u001b[0malpha\u001b[0m\u001b[0;34m=\u001b[0m\u001b[0;36m0.8\u001b[0m\u001b[0;34m)\u001b[0m\u001b[0;34m\u001b[0m\u001b[0;34m\u001b[0m\u001b[0m\n\u001b[0m\u001b[1;32m      4\u001b[0m \u001b[0mplt\u001b[0m\u001b[0;34m.\u001b[0m\u001b[0mxlabel\u001b[0m\u001b[0;34m(\u001b[0m\u001b[0;34m'Profit'\u001b[0m\u001b[0;34m)\u001b[0m\u001b[0;34m\u001b[0m\u001b[0;34m\u001b[0m\u001b[0m\n\u001b[1;32m      5\u001b[0m \u001b[0mplt\u001b[0m\u001b[0;34m.\u001b[0m\u001b[0mylabel\u001b[0m\u001b[0;34m(\u001b[0m\u001b[0;34m'Sales'\u001b[0m\u001b[0;34m)\u001b[0m\u001b[0;34m\u001b[0m\u001b[0;34m\u001b[0m\u001b[0m\n",
            "\u001b[0;32m/usr/local/lib/python3.9/dist-packages/matplotlib/pyplot.py\u001b[0m in \u001b[0;36mscatter\u001b[0;34m(x, y, s, c, marker, cmap, norm, vmin, vmax, alpha, linewidths, edgecolors, plotnonfinite, data, **kwargs)\u001b[0m\n\u001b[1;32m   2860\u001b[0m         \u001b[0mvmin\u001b[0m\u001b[0;34m=\u001b[0m\u001b[0;32mNone\u001b[0m\u001b[0;34m,\u001b[0m \u001b[0mvmax\u001b[0m\u001b[0;34m=\u001b[0m\u001b[0;32mNone\u001b[0m\u001b[0;34m,\u001b[0m \u001b[0malpha\u001b[0m\u001b[0;34m=\u001b[0m\u001b[0;32mNone\u001b[0m\u001b[0;34m,\u001b[0m \u001b[0mlinewidths\u001b[0m\u001b[0;34m=\u001b[0m\u001b[0;32mNone\u001b[0m\u001b[0;34m,\u001b[0m \u001b[0;34m*\u001b[0m\u001b[0;34m,\u001b[0m\u001b[0;34m\u001b[0m\u001b[0;34m\u001b[0m\u001b[0m\n\u001b[1;32m   2861\u001b[0m         edgecolors=None, plotnonfinite=False, data=None, **kwargs):\n\u001b[0;32m-> 2862\u001b[0;31m     __ret = gca().scatter(\n\u001b[0m\u001b[1;32m   2863\u001b[0m         \u001b[0mx\u001b[0m\u001b[0;34m,\u001b[0m \u001b[0my\u001b[0m\u001b[0;34m,\u001b[0m \u001b[0ms\u001b[0m\u001b[0;34m=\u001b[0m\u001b[0ms\u001b[0m\u001b[0;34m,\u001b[0m \u001b[0mc\u001b[0m\u001b[0;34m=\u001b[0m\u001b[0mc\u001b[0m\u001b[0;34m,\u001b[0m \u001b[0mmarker\u001b[0m\u001b[0;34m=\u001b[0m\u001b[0mmarker\u001b[0m\u001b[0;34m,\u001b[0m \u001b[0mcmap\u001b[0m\u001b[0;34m=\u001b[0m\u001b[0mcmap\u001b[0m\u001b[0;34m,\u001b[0m \u001b[0mnorm\u001b[0m\u001b[0;34m=\u001b[0m\u001b[0mnorm\u001b[0m\u001b[0;34m,\u001b[0m\u001b[0;34m\u001b[0m\u001b[0;34m\u001b[0m\u001b[0m\n\u001b[1;32m   2864\u001b[0m         \u001b[0mvmin\u001b[0m\u001b[0;34m=\u001b[0m\u001b[0mvmin\u001b[0m\u001b[0;34m,\u001b[0m \u001b[0mvmax\u001b[0m\u001b[0;34m=\u001b[0m\u001b[0mvmax\u001b[0m\u001b[0;34m,\u001b[0m \u001b[0malpha\u001b[0m\u001b[0;34m=\u001b[0m\u001b[0malpha\u001b[0m\u001b[0;34m,\u001b[0m \u001b[0mlinewidths\u001b[0m\u001b[0;34m=\u001b[0m\u001b[0mlinewidths\u001b[0m\u001b[0;34m,\u001b[0m\u001b[0;34m\u001b[0m\u001b[0;34m\u001b[0m\u001b[0m\n",
            "\u001b[0;32m/usr/local/lib/python3.9/dist-packages/matplotlib/__init__.py\u001b[0m in \u001b[0;36minner\u001b[0;34m(ax, data, *args, **kwargs)\u001b[0m\n\u001b[1;32m   1440\u001b[0m     \u001b[0;32mdef\u001b[0m \u001b[0minner\u001b[0m\u001b[0;34m(\u001b[0m\u001b[0max\u001b[0m\u001b[0;34m,\u001b[0m \u001b[0;34m*\u001b[0m\u001b[0margs\u001b[0m\u001b[0;34m,\u001b[0m \u001b[0mdata\u001b[0m\u001b[0;34m=\u001b[0m\u001b[0;32mNone\u001b[0m\u001b[0;34m,\u001b[0m \u001b[0;34m**\u001b[0m\u001b[0mkwargs\u001b[0m\u001b[0;34m)\u001b[0m\u001b[0;34m:\u001b[0m\u001b[0;34m\u001b[0m\u001b[0;34m\u001b[0m\u001b[0m\n\u001b[1;32m   1441\u001b[0m         \u001b[0;32mif\u001b[0m \u001b[0mdata\u001b[0m \u001b[0;32mis\u001b[0m \u001b[0;32mNone\u001b[0m\u001b[0;34m:\u001b[0m\u001b[0;34m\u001b[0m\u001b[0;34m\u001b[0m\u001b[0m\n\u001b[0;32m-> 1442\u001b[0;31m             \u001b[0;32mreturn\u001b[0m \u001b[0mfunc\u001b[0m\u001b[0;34m(\u001b[0m\u001b[0max\u001b[0m\u001b[0;34m,\u001b[0m \u001b[0;34m*\u001b[0m\u001b[0mmap\u001b[0m\u001b[0;34m(\u001b[0m\u001b[0msanitize_sequence\u001b[0m\u001b[0;34m,\u001b[0m \u001b[0margs\u001b[0m\u001b[0;34m)\u001b[0m\u001b[0;34m,\u001b[0m \u001b[0;34m**\u001b[0m\u001b[0mkwargs\u001b[0m\u001b[0;34m)\u001b[0m\u001b[0;34m\u001b[0m\u001b[0;34m\u001b[0m\u001b[0m\n\u001b[0m\u001b[1;32m   1443\u001b[0m \u001b[0;34m\u001b[0m\u001b[0m\n\u001b[1;32m   1444\u001b[0m         \u001b[0mbound\u001b[0m \u001b[0;34m=\u001b[0m \u001b[0mnew_sig\u001b[0m\u001b[0;34m.\u001b[0m\u001b[0mbind\u001b[0m\u001b[0;34m(\u001b[0m\u001b[0max\u001b[0m\u001b[0;34m,\u001b[0m \u001b[0;34m*\u001b[0m\u001b[0margs\u001b[0m\u001b[0;34m,\u001b[0m \u001b[0;34m**\u001b[0m\u001b[0mkwargs\u001b[0m\u001b[0;34m)\u001b[0m\u001b[0;34m\u001b[0m\u001b[0;34m\u001b[0m\u001b[0m\n",
            "\u001b[0;32m/usr/local/lib/python3.9/dist-packages/matplotlib/axes/_axes.py\u001b[0m in \u001b[0;36mscatter\u001b[0;34m(self, x, y, s, c, marker, cmap, norm, vmin, vmax, alpha, linewidths, edgecolors, plotnonfinite, **kwargs)\u001b[0m\n\u001b[1;32m   4600\u001b[0m             \u001b[0morig_edgecolor\u001b[0m \u001b[0;34m=\u001b[0m \u001b[0mkwargs\u001b[0m\u001b[0;34m.\u001b[0m\u001b[0mget\u001b[0m\u001b[0;34m(\u001b[0m\u001b[0;34m'edgecolor'\u001b[0m\u001b[0;34m,\u001b[0m \u001b[0;32mNone\u001b[0m\u001b[0;34m)\u001b[0m\u001b[0;34m\u001b[0m\u001b[0;34m\u001b[0m\u001b[0m\n\u001b[1;32m   4601\u001b[0m         \u001b[0mc\u001b[0m\u001b[0;34m,\u001b[0m \u001b[0mcolors\u001b[0m\u001b[0;34m,\u001b[0m \u001b[0medgecolors\u001b[0m \u001b[0;34m=\u001b[0m\u001b[0;31m \u001b[0m\u001b[0;31m\\\u001b[0m\u001b[0;34m\u001b[0m\u001b[0;34m\u001b[0m\u001b[0m\n\u001b[0;32m-> 4602\u001b[0;31m             self._parse_scatter_color_args(\n\u001b[0m\u001b[1;32m   4603\u001b[0m                 \u001b[0mc\u001b[0m\u001b[0;34m,\u001b[0m \u001b[0medgecolors\u001b[0m\u001b[0;34m,\u001b[0m \u001b[0mkwargs\u001b[0m\u001b[0;34m,\u001b[0m \u001b[0mx\u001b[0m\u001b[0;34m.\u001b[0m\u001b[0msize\u001b[0m\u001b[0;34m,\u001b[0m\u001b[0;34m\u001b[0m\u001b[0;34m\u001b[0m\u001b[0m\n\u001b[1;32m   4604\u001b[0m                 get_next_color_func=self._get_patches_for_fill.get_next_color)\n",
            "\u001b[0;32m/usr/local/lib/python3.9/dist-packages/matplotlib/axes/_axes.py\u001b[0m in \u001b[0;36m_parse_scatter_color_args\u001b[0;34m(c, edgecolors, kwargs, xsize, get_next_color_func)\u001b[0m\n\u001b[1;32m   4446\u001b[0m                     \u001b[0;31m# Both the mapping *and* the RGBA conversion failed: pretty\u001b[0m\u001b[0;34m\u001b[0m\u001b[0;34m\u001b[0m\u001b[0m\n\u001b[1;32m   4447\u001b[0m                     \u001b[0;31m# severe failure => one may appreciate a verbose feedback.\u001b[0m\u001b[0;34m\u001b[0m\u001b[0;34m\u001b[0m\u001b[0m\n\u001b[0;32m-> 4448\u001b[0;31m                     raise ValueError(\n\u001b[0m\u001b[1;32m   4449\u001b[0m                         \u001b[0;34mf\"'c' argument must be a color, a sequence of colors, \"\u001b[0m\u001b[0;34m\u001b[0m\u001b[0;34m\u001b[0m\u001b[0m\n\u001b[1;32m   4450\u001b[0m                         f\"or a sequence of numbers, not {c!r}\") from err\n",
            "\u001b[0;31mValueError\u001b[0m: 'c' argument must be a color, a sequence of colors, or a sequence of numbers, not 0     South\n1     South\n2     South\n3     South\n4     South\n5      East\n6      East\n7      East\n8      East\n9      West\n10     West\n11     West\n12     West\n13     West\nName: Region, dtype: object"
          ]
        },
        {
          "output_type": "display_data",
          "data": {
            "text/plain": [
              "<Figure size 640x480 with 1 Axes>"
            ],
            "image/png": "[encoded data removed]"
          },
          "metadata": {}
        }
      ]
    },
    {
      "cell_type": "markdown",
      "source": [
        "Ya para finalizar vamos a tomar la variale ventas y crearemos un registro de ventas por ciudad, en dónde queremos saber cuál es el promedio de ventas para cada ciudad, pero tambiénq uedremos ver cuál es el valor que corresponde al 50% de las ventas (mediana) de cada ciudad... estos valores los vamos a agregar a un dataframe nuevo llamado 'Sales_by_city'\n",
        "\n",
        "Como tip para lograrlo, en R podremos usar el comando across que generalmente usamos como dplyr::across() y en python despues de haber generado un groupby, simplemente conectaremos una función .agg para implementar una lista con las funciones matemáticas que queremos obtener. "
      ],
      "metadata": {
        "id": "bSWm4tlgr7Tv"
      }
    },
    {
      "cell_type": "code",
      "source": [
        "%%R\n",
        "mode <- function(x) {\n",
        "  return(as.numeric(names(which.max(table(x)))))\n",
        "}\n",
        "library(dplyr)\n",
        "Data_R$City\n",
        "Data_R %>% group_by(City) %>% \n",
        "  summarise(mean(Sales), median(Sales), mode(Sales), mode(Data_R$Sales))"
      ],
      "metadata": {
        "id": "jMG5HCxvp-lc",
        "colab": {
          "base_uri": "https://localhost:8080/"
        },
        "outputId": "ada56605-c370-4e74-d872-69a74329d779"
      },
      "execution_count": null,
      "outputs": [
        {
          "output_type": "stream",
          "name": "stdout",
          "text": [
            "# A tibble: 527 × 5\n",
            "   City        `mean(Sales)` `median(Sales)` `mode(Sales)` `mode(Data_R$Sales)`\n",
            "   <chr>               <dbl>           <dbl>         <dbl>                <dbl>\n",
            " 1 Aberdeen            25.5            25.5          25.5                  13.0\n",
            " 2 Abilene              1.39            1.39          1.39                 13.0\n",
            " 3 Akron              103.             23.7           2.29                 13.0\n",
            " 4 Albuquerque        125.             90.8           4.28                 13.0\n",
            " 5 Alexandria          90.4            25.1          23.0                  13.0\n",
            " 6 Allen               72.6            18.7           8.78                 13.0\n",
            " 7 Allentown           31.7            16.7           3.49                 13.0\n",
            " 8 Altoona             10.2            10.2           4.42                 13.0\n",
            " 9 Amarillo           147.             79.5          19.6                  13.0\n",
            "10 Anaheim            127.             92.3           3.36                 13.0\n",
            "# ℹ 517 more rows\n",
            "# ℹ Use `print(n = ...)` to see more rows\n"
          ]
        }
      ]
    },
    {
      "cell_type": "code",
      "source": [
        "import pandas as pd\n",
        "from scipy import stats\n",
        "\n",
        "def mode(x):\n",
        "    return stats.mode(x)[0][0]\n",
        "\n",
        "mean_median_mode_by_city = Data.groupby('City')['Sales'].agg(['mean', 'median', mode]).reset_index()\n",
        "mode_overall = mode(Data['Sales'])\n",
        "\n",
        "mean_median_mode_by_city.columns = ['City', 'mean_sales', 'median_sales', 'mode_sales']\n",
        "mean_median_mode_by_city['mode_overall'] = mode_overall\n",
        "\n",
        "print(mean_median_mode_by_city)"
      ],
      "metadata": {
        "id": "RRWFgXftrmvm",
        "colab": {
          "base_uri": "https://localhost:8080/"
        },
        "outputId": "b2413d38-f4c8-4b04-ee42-ea3d8c6789f2"
      },
      "execution_count": null,
      "outputs": [
        {
          "output_type": "stream",
          "name": "stdout",
          "text": [
            "            City  mean_sales  median_sales  mode_sales  mode_overall\n",
            "0       Aberdeen   25.500000        25.500      25.500         12.96\n",
            "1        Abilene    1.392000         1.392       1.392         12.96\n",
            "2          Akron  103.228900        23.652       2.286         12.96\n",
            "3    Albuquerque  125.012308        90.800       4.280         12.96\n",
            "4     Alexandria   90.368000        25.060      22.960         12.96\n",
            "..           ...         ...           ...         ...           ...\n",
            "522   Woonsocket   48.887500        48.615      45.360         12.96\n",
            "523      Yonkers  114.768667        51.036      10.896         12.96\n",
            "524         York  163.595600        65.584      37.896         12.96\n",
            "525      Yucaipa   50.800000        50.800      50.800         12.96\n",
            "526         Yuma   80.293333        44.856      10.496         12.96\n",
            "\n",
            "[527 rows x 5 columns]\n"
          ]
        },
        {
          "output_type": "stream",
          "name": "stderr",
          "text": [
            "<ipython-input-77-ee1b8c255794>:5: FutureWarning: Unlike other reduction functions (e.g. `skew`, `kurtosis`), the default behavior of `mode` typically preserves the axis it acts along. In SciPy 1.11.0, this behavior will change: the default value of `keepdims` will become False, the `axis` over which the statistic is taken will be eliminated, and the value None will no longer be accepted. Set `keepdims` to True or False to avoid this warning.\n",
            "  return stats.mode(x)[0][0]\n",
            "<ipython-input-77-ee1b8c255794>:5: FutureWarning: Unlike other reduction functions (e.g. `skew`, `kurtosis`), the default behavior of `mode` typically preserves the axis it acts along. In SciPy 1.11.0, this behavior will change: the default value of `keepdims` will become False, the `axis` over which the statistic is taken will be eliminated, and the value None will no longer be accepted. Set `keepdims` to True or False to avoid this warning.\n",
            "  return stats.mode(x)[0][0]\n"
          ]
        }
      ]
    }
  ]
}