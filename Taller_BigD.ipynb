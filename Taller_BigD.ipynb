{
  "nbformat": 4,
  "nbformat_minor": 0,
  "metadata": {
    "colab": {
      "provenance": [],
      "include_colab_link": true
    },
    "kernelspec": {
      "name": "python3",
      "display_name": "Python 3"
    },
    "language_info": {
      "name": "python"
    }
  },
  "cells": [
    {
      "cell_type": "markdown",
      "metadata": {
        "id": "view-in-github",
        "colab_type": "text"
      },
      "source": [
        "<a href=\"https://colab.research.google.com/github/NatCastro28/Class2023/blob/main/Taller_BigD.ipynb\" target=\"_parent\"><img src=\"https://colab.research.google.com/assets/colab-badge.svg\" alt=\"Open In Colab\"/></a>"
      ]
    },
    {
      "cell_type": "code",
      "source": [
        "import pandas as pd\n"
      ],
      "metadata": {
        "id": "eLsI0bV2L2vr"
      },
      "execution_count": 23,
      "outputs": []
    },
    {
      "cell_type": "code",
      "source": [
        "from pandas.io.excel import read_excel"
      ],
      "metadata": {
        "id": "qUudyaynYuoJ"
      },
      "execution_count": 16,
      "outputs": []
    },
    {
      "cell_type": "code",
      "source": [
        "from google.colab import drive\n",
        "drive.mount('/content/drive')"
      ],
      "metadata": {
        "id": "PaBqWjvoZANn",
        "outputId": "bdcf7675-fd81-4724-aab6-45feccd1d5ed",
        "colab": {
          "base_uri": "https://localhost:8080/"
        }
      },
      "execution_count": 25,
      "outputs": [
        {
          "output_type": "stream",
          "name": "stdout",
          "text": [
            "Drive already mounted at /content/drive; to attempt to forcibly remount, call drive.mount(\"/content/drive\", force_remount=True).\n"
          ]
        }
      ]
    },
    {
      "cell_type": "code",
      "source": [
        "url='/content/women_clothing_ecommerce_sales (1).xlsx'\n",
        "df=pd.read_excel (url)\n",
        "df"
      ],
      "metadata": {
        "id": "KatyzVwqY4Yn",
        "outputId": "45e5498f-d8ec-4570-8352-c0b70ab0065a",
        "colab": {
          "base_uri": "https://localhost:8080/",
          "height": 424
        }
      },
      "execution_count": 26,
      "outputs": [
        {
          "output_type": "execute_result",
          "data": {
            "text/plain": [
              "     order_id          order_date  Store      color      size  unit_price  \\\n",
              "0           1 2022-06-01 16:05:00    708  Dark Blue       2XL         298   \n",
              "1           1 2022-06-01 16:05:00     89  Dark Blue       2XL         258   \n",
              "2           2 2022-06-10 17:03:00      1      Cream  One Size         228   \n",
              "3           3 2022-06-10 19:59:00    799  Dark Blue        XL         264   \n",
              "4           4 2022-06-11 11:42:00    799  Dark Blue         M         264   \n",
              "..        ...                 ...    ...        ...       ...         ...   \n",
              "522       171 2022-09-09 06:27:00    799  Dark Blue         M         265   \n",
              "523       172 2022-09-09 07:18:00    708  Dark Blue       4XL         278   \n",
              "524       173 2022-09-09 07:22:00    799  Dark Blue         M         265   \n",
              "525       174 2022-09-09 08:25:00    799  Dark Blue         L         265   \n",
              "526       175 2022-09-09 09:47:00    799  Dark Blue        XL         265   \n",
              "\n",
              "     quantity  revenue  \n",
              "0           1      298  \n",
              "1           1      258  \n",
              "2           1      228  \n",
              "3           1      264  \n",
              "4           1      264  \n",
              "..        ...      ...  \n",
              "522         1      265  \n",
              "523        10     2780  \n",
              "524         1      265  \n",
              "525         1      265  \n",
              "526         1      265  \n",
              "\n",
              "[527 rows x 8 columns]"
            ],
            "text/html": [
              "\n",
              "  <div id=\"df-845b9369-8d77-40cc-ad9c-d9fe5f7e4ec2\">\n",
              "    <div class=\"colab-df-container\">\n",
              "      <div>\n",
              "<style scoped>\n",
              "    .dataframe tbody tr th:only-of-type {\n",
              "        vertical-align: middle;\n",
              "    }\n",
              "\n",
              "    .dataframe tbody tr th {\n",
              "        vertical-align: top;\n",
              "    }\n",
              "\n",
              "    .dataframe thead th {\n",
              "        text-align: right;\n",
              "    }\n",
              "</style>\n",
              "<table border=\"1\" class=\"dataframe\">\n",
              "  <thead>\n",
              "    <tr style=\"text-align: right;\">\n",
              "      <th></th>\n",
              "      <th>order_id</th>\n",
              "      <th>order_date</th>\n",
              "      <th>Store</th>\n",
              "      <th>color</th>\n",
              "      <th>size</th>\n",
              "      <th>unit_price</th>\n",
              "      <th>quantity</th>\n",
              "      <th>revenue</th>\n",
              "    </tr>\n",
              "  </thead>\n",
              "  <tbody>\n",
              "    <tr>\n",
              "      <th>0</th>\n",
              "      <td>1</td>\n",
              "      <td>2022-06-01 16:05:00</td>\n",
              "      <td>708</td>\n",
              "      <td>Dark Blue</td>\n",
              "      <td>2XL</td>\n",
              "      <td>298</td>\n",
              "      <td>1</td>\n",
              "      <td>298</td>\n",
              "    </tr>\n",
              "    <tr>\n",
              "      <th>1</th>\n",
              "      <td>1</td>\n",
              "      <td>2022-06-01 16:05:00</td>\n",
              "      <td>89</td>\n",
              "      <td>Dark Blue</td>\n",
              "      <td>2XL</td>\n",
              "      <td>258</td>\n",
              "      <td>1</td>\n",
              "      <td>258</td>\n",
              "    </tr>\n",
              "    <tr>\n",
              "      <th>2</th>\n",
              "      <td>2</td>\n",
              "      <td>2022-06-10 17:03:00</td>\n",
              "      <td>1</td>\n",
              "      <td>Cream</td>\n",
              "      <td>One Size</td>\n",
              "      <td>228</td>\n",
              "      <td>1</td>\n",
              "      <td>228</td>\n",
              "    </tr>\n",
              "    <tr>\n",
              "      <th>3</th>\n",
              "      <td>3</td>\n",
              "      <td>2022-06-10 19:59:00</td>\n",
              "      <td>799</td>\n",
              "      <td>Dark Blue</td>\n",
              "      <td>XL</td>\n",
              "      <td>264</td>\n",
              "      <td>1</td>\n",
              "      <td>264</td>\n",
              "    </tr>\n",
              "    <tr>\n",
              "      <th>4</th>\n",
              "      <td>4</td>\n",
              "      <td>2022-06-11 11:42:00</td>\n",
              "      <td>799</td>\n",
              "      <td>Dark Blue</td>\n",
              "      <td>M</td>\n",
              "      <td>264</td>\n",
              "      <td>1</td>\n",
              "      <td>264</td>\n",
              "    </tr>\n",
              "    <tr>\n",
              "      <th>...</th>\n",
              "      <td>...</td>\n",
              "      <td>...</td>\n",
              "      <td>...</td>\n",
              "      <td>...</td>\n",
              "      <td>...</td>\n",
              "      <td>...</td>\n",
              "      <td>...</td>\n",
              "      <td>...</td>\n",
              "    </tr>\n",
              "    <tr>\n",
              "      <th>522</th>\n",
              "      <td>171</td>\n",
              "      <td>2022-09-09 06:27:00</td>\n",
              "      <td>799</td>\n",
              "      <td>Dark Blue</td>\n",
              "      <td>M</td>\n",
              "      <td>265</td>\n",
              "      <td>1</td>\n",
              "      <td>265</td>\n",
              "    </tr>\n",
              "    <tr>\n",
              "      <th>523</th>\n",
              "      <td>172</td>\n",
              "      <td>2022-09-09 07:18:00</td>\n",
              "      <td>708</td>\n",
              "      <td>Dark Blue</td>\n",
              "      <td>4XL</td>\n",
              "      <td>278</td>\n",
              "      <td>10</td>\n",
              "      <td>2780</td>\n",
              "    </tr>\n",
              "    <tr>\n",
              "      <th>524</th>\n",
              "      <td>173</td>\n",
              "      <td>2022-09-09 07:22:00</td>\n",
              "      <td>799</td>\n",
              "      <td>Dark Blue</td>\n",
              "      <td>M</td>\n",
              "      <td>265</td>\n",
              "      <td>1</td>\n",
              "      <td>265</td>\n",
              "    </tr>\n",
              "    <tr>\n",
              "      <th>525</th>\n",
              "      <td>174</td>\n",
              "      <td>2022-09-09 08:25:00</td>\n",
              "      <td>799</td>\n",
              "      <td>Dark Blue</td>\n",
              "      <td>L</td>\n",
              "      <td>265</td>\n",
              "      <td>1</td>\n",
              "      <td>265</td>\n",
              "    </tr>\n",
              "    <tr>\n",
              "      <th>526</th>\n",
              "      <td>175</td>\n",
              "      <td>2022-09-09 09:47:00</td>\n",
              "      <td>799</td>\n",
              "      <td>Dark Blue</td>\n",
              "      <td>XL</td>\n",
              "      <td>265</td>\n",
              "      <td>1</td>\n",
              "      <td>265</td>\n",
              "    </tr>\n",
              "  </tbody>\n",
              "</table>\n",
              "<p>527 rows × 8 columns</p>\n",
              "</div>\n",
              "      <button class=\"colab-df-convert\" onclick=\"convertToInteractive('df-845b9369-8d77-40cc-ad9c-d9fe5f7e4ec2')\"\n",
              "              title=\"Convert this dataframe to an interactive table.\"\n",
              "              style=\"display:none;\">\n",
              "        \n",
              "  <svg xmlns=\"http://www.w3.org/2000/svg\" height=\"24px\"viewBox=\"0 0 24 24\"\n",
              "       width=\"24px\">\n",
              "    <path d=\"M0 0h24v24H0V0z\" fill=\"none\"/>\n",
              "    <path d=\"M18.56 5.44l.94 2.06.94-2.06 2.06-.94-2.06-.94-.94-2.06-.94 2.06-2.06.94zm-11 1L8.5 8.5l.94-2.06 2.06-.94-2.06-.94L8.5 2.5l-.94 2.06-2.06.94zm10 10l.94 2.06.94-2.06 2.06-.94-2.06-.94-.94-2.06-.94 2.06-2.06.94z\"/><path d=\"M17.41 7.96l-1.37-1.37c-.4-.4-.92-.59-1.43-.59-.52 0-1.04.2-1.43.59L10.3 9.45l-7.72 7.72c-.78.78-.78 2.05 0 2.83L4 21.41c.39.39.9.59 1.41.59.51 0 1.02-.2 1.41-.59l7.78-7.78 2.81-2.81c.8-.78.8-2.07 0-2.86zM5.41 20L4 18.59l7.72-7.72 1.47 1.35L5.41 20z\"/>\n",
              "  </svg>\n",
              "      </button>\n",
              "      \n",
              "  <style>\n",
              "    .colab-df-container {\n",
              "      display:flex;\n",
              "      flex-wrap:wrap;\n",
              "      gap: 12px;\n",
              "    }\n",
              "\n",
              "    .colab-df-convert {\n",
              "      background-color: #E8F0FE;\n",
              "      border: none;\n",
              "      border-radius: 50%;\n",
              "      cursor: pointer;\n",
              "      display: none;\n",
              "      fill: #1967D2;\n",
              "      height: 32px;\n",
              "      padding: 0 0 0 0;\n",
              "      width: 32px;\n",
              "    }\n",
              "\n",
              "    .colab-df-convert:hover {\n",
              "      background-color: #E2EBFA;\n",
              "      box-shadow: 0px 1px 2px rgba(60, 64, 67, 0.3), 0px 1px 3px 1px rgba(60, 64, 67, 0.15);\n",
              "      fill: #174EA6;\n",
              "    }\n",
              "\n",
              "    [theme=dark] .colab-df-convert {\n",
              "      background-color: #3B4455;\n",
              "      fill: #D2E3FC;\n",
              "    }\n",
              "\n",
              "    [theme=dark] .colab-df-convert:hover {\n",
              "      background-color: #434B5C;\n",
              "      box-shadow: 0px 1px 3px 1px rgba(0, 0, 0, 0.15);\n",
              "      filter: drop-shadow(0px 1px 2px rgba(0, 0, 0, 0.3));\n",
              "      fill: #FFFFFF;\n",
              "    }\n",
              "  </style>\n",
              "\n",
              "      <script>\n",
              "        const buttonEl =\n",
              "          document.querySelector('#df-845b9369-8d77-40cc-ad9c-d9fe5f7e4ec2 button.colab-df-convert');\n",
              "        buttonEl.style.display =\n",
              "          google.colab.kernel.accessAllowed ? 'block' : 'none';\n",
              "\n",
              "        async function convertToInteractive(key) {\n",
              "          const element = document.querySelector('#df-845b9369-8d77-40cc-ad9c-d9fe5f7e4ec2');\n",
              "          const dataTable =\n",
              "            await google.colab.kernel.invokeFunction('convertToInteractive',\n",
              "                                                     [key], {});\n",
              "          if (!dataTable) return;\n",
              "\n",
              "          const docLinkHtml = 'Like what you see? Visit the ' +\n",
              "            '<a target=\"_blank\" href=https://colab.research.google.com/notebooks/data_table.ipynb>data table notebook</a>'\n",
              "            + ' to learn more about interactive tables.';\n",
              "          element.innerHTML = '';\n",
              "          dataTable['output_type'] = 'display_data';\n",
              "          await google.colab.output.renderOutput(dataTable, element);\n",
              "          const docLink = document.createElement('div');\n",
              "          docLink.innerHTML = docLinkHtml;\n",
              "          element.appendChild(docLink);\n",
              "        }\n",
              "      </script>\n",
              "    </div>\n",
              "  </div>\n",
              "  "
            ]
          },
          "metadata": {},
          "execution_count": 26
        }
      ]
    },
    {
      "cell_type": "code",
      "source": [
        "import io\n",
        "df=pd.read_excel (\"Women.xlsx\")"
      ],
      "metadata": {
        "id": "oW6Mj83hM1YT",
        "outputId": "8c167fb4-cf12-465e-d46c-bed602593990",
        "colab": {
          "base_uri": "https://localhost:8080/",
          "height": 336
        }
      },
      "execution_count": 27,
      "outputs": [
        {
          "output_type": "error",
          "ename": "ValueError",
          "evalue": "ignored",
          "traceback": [
            "\u001b[0;31m---------------------------------------------------------------------------\u001b[0m",
            "\u001b[0;31mValueError\u001b[0m                                Traceback (most recent call last)",
            "\u001b[0;32m<ipython-input-27-89c39767110f>\u001b[0m in \u001b[0;36m<cell line: 2>\u001b[0;34m()\u001b[0m\n\u001b[1;32m      1\u001b[0m \u001b[0;32mimport\u001b[0m \u001b[0mio\u001b[0m\u001b[0;34m\u001b[0m\u001b[0;34m\u001b[0m\u001b[0m\n\u001b[0;32m----> 2\u001b[0;31m \u001b[0mdf\u001b[0m\u001b[0;34m=\u001b[0m\u001b[0mpd\u001b[0m\u001b[0;34m.\u001b[0m\u001b[0mread_excel\u001b[0m \u001b[0;34m(\u001b[0m\u001b[0;34m\"Women.xlsx\"\u001b[0m\u001b[0;34m)\u001b[0m\u001b[0;34m\u001b[0m\u001b[0;34m\u001b[0m\u001b[0m\n\u001b[0m",
            "\u001b[0;32m/usr/local/lib/python3.10/dist-packages/pandas/util/_decorators.py\u001b[0m in \u001b[0;36mwrapper\u001b[0;34m(*args, **kwargs)\u001b[0m\n\u001b[1;32m    209\u001b[0m                 \u001b[0;32melse\u001b[0m\u001b[0;34m:\u001b[0m\u001b[0;34m\u001b[0m\u001b[0;34m\u001b[0m\u001b[0m\n\u001b[1;32m    210\u001b[0m                     \u001b[0mkwargs\u001b[0m\u001b[0;34m[\u001b[0m\u001b[0mnew_arg_name\u001b[0m\u001b[0;34m]\u001b[0m \u001b[0;34m=\u001b[0m \u001b[0mnew_arg_value\u001b[0m\u001b[0;34m\u001b[0m\u001b[0;34m\u001b[0m\u001b[0m\n\u001b[0;32m--> 211\u001b[0;31m             \u001b[0;32mreturn\u001b[0m \u001b[0mfunc\u001b[0m\u001b[0;34m(\u001b[0m\u001b[0;34m*\u001b[0m\u001b[0margs\u001b[0m\u001b[0;34m,\u001b[0m \u001b[0;34m**\u001b[0m\u001b[0mkwargs\u001b[0m\u001b[0;34m)\u001b[0m\u001b[0;34m\u001b[0m\u001b[0;34m\u001b[0m\u001b[0m\n\u001b[0m\u001b[1;32m    212\u001b[0m \u001b[0;34m\u001b[0m\u001b[0m\n\u001b[1;32m    213\u001b[0m         \u001b[0;32mreturn\u001b[0m \u001b[0mcast\u001b[0m\u001b[0;34m(\u001b[0m\u001b[0mF\u001b[0m\u001b[0;34m,\u001b[0m \u001b[0mwrapper\u001b[0m\u001b[0;34m)\u001b[0m\u001b[0;34m\u001b[0m\u001b[0;34m\u001b[0m\u001b[0m\n",
            "\u001b[0;32m/usr/local/lib/python3.10/dist-packages/pandas/util/_decorators.py\u001b[0m in \u001b[0;36mwrapper\u001b[0;34m(*args, **kwargs)\u001b[0m\n\u001b[1;32m    329\u001b[0m                     \u001b[0mstacklevel\u001b[0m\u001b[0;34m=\u001b[0m\u001b[0mfind_stack_level\u001b[0m\u001b[0;34m(\u001b[0m\u001b[0;34m)\u001b[0m\u001b[0;34m,\u001b[0m\u001b[0;34m\u001b[0m\u001b[0;34m\u001b[0m\u001b[0m\n\u001b[1;32m    330\u001b[0m                 )\n\u001b[0;32m--> 331\u001b[0;31m             \u001b[0;32mreturn\u001b[0m \u001b[0mfunc\u001b[0m\u001b[0;34m(\u001b[0m\u001b[0;34m*\u001b[0m\u001b[0margs\u001b[0m\u001b[0;34m,\u001b[0m \u001b[0;34m**\u001b[0m\u001b[0mkwargs\u001b[0m\u001b[0;34m)\u001b[0m\u001b[0;34m\u001b[0m\u001b[0;34m\u001b[0m\u001b[0m\n\u001b[0m\u001b[1;32m    332\u001b[0m \u001b[0;34m\u001b[0m\u001b[0m\n\u001b[1;32m    333\u001b[0m         \u001b[0;31m# error: \"Callable[[VarArg(Any), KwArg(Any)], Any]\" has no\u001b[0m\u001b[0;34m\u001b[0m\u001b[0;34m\u001b[0m\u001b[0m\n",
            "\u001b[0;32m/usr/local/lib/python3.10/dist-packages/pandas/io/excel/_base.py\u001b[0m in \u001b[0;36mread_excel\u001b[0;34m(io, sheet_name, header, names, index_col, usecols, squeeze, dtype, engine, converters, true_values, false_values, skiprows, nrows, na_values, keep_default_na, na_filter, verbose, parse_dates, date_parser, thousands, decimal, comment, skipfooter, convert_float, mangle_dupe_cols, storage_options)\u001b[0m\n\u001b[1;32m    480\u001b[0m     \u001b[0;32mif\u001b[0m \u001b[0;32mnot\u001b[0m \u001b[0misinstance\u001b[0m\u001b[0;34m(\u001b[0m\u001b[0mio\u001b[0m\u001b[0;34m,\u001b[0m \u001b[0mExcelFile\u001b[0m\u001b[0;34m)\u001b[0m\u001b[0;34m:\u001b[0m\u001b[0;34m\u001b[0m\u001b[0;34m\u001b[0m\u001b[0m\n\u001b[1;32m    481\u001b[0m         \u001b[0mshould_close\u001b[0m \u001b[0;34m=\u001b[0m \u001b[0;32mTrue\u001b[0m\u001b[0;34m\u001b[0m\u001b[0;34m\u001b[0m\u001b[0m\n\u001b[0;32m--> 482\u001b[0;31m         \u001b[0mio\u001b[0m \u001b[0;34m=\u001b[0m \u001b[0mExcelFile\u001b[0m\u001b[0;34m(\u001b[0m\u001b[0mio\u001b[0m\u001b[0;34m,\u001b[0m \u001b[0mstorage_options\u001b[0m\u001b[0;34m=\u001b[0m\u001b[0mstorage_options\u001b[0m\u001b[0;34m,\u001b[0m \u001b[0mengine\u001b[0m\u001b[0;34m=\u001b[0m\u001b[0mengine\u001b[0m\u001b[0;34m)\u001b[0m\u001b[0;34m\u001b[0m\u001b[0;34m\u001b[0m\u001b[0m\n\u001b[0m\u001b[1;32m    483\u001b[0m     \u001b[0;32melif\u001b[0m \u001b[0mengine\u001b[0m \u001b[0;32mand\u001b[0m \u001b[0mengine\u001b[0m \u001b[0;34m!=\u001b[0m \u001b[0mio\u001b[0m\u001b[0;34m.\u001b[0m\u001b[0mengine\u001b[0m\u001b[0;34m:\u001b[0m\u001b[0;34m\u001b[0m\u001b[0;34m\u001b[0m\u001b[0m\n\u001b[1;32m    484\u001b[0m         raise ValueError(\n",
            "\u001b[0;32m/usr/local/lib/python3.10/dist-packages/pandas/io/excel/_base.py\u001b[0m in \u001b[0;36m__init__\u001b[0;34m(self, path_or_buffer, engine, storage_options)\u001b[0m\n\u001b[1;32m   1654\u001b[0m                 )\n\u001b[1;32m   1655\u001b[0m                 \u001b[0;32mif\u001b[0m \u001b[0mext\u001b[0m \u001b[0;32mis\u001b[0m \u001b[0;32mNone\u001b[0m\u001b[0;34m:\u001b[0m\u001b[0;34m\u001b[0m\u001b[0;34m\u001b[0m\u001b[0m\n\u001b[0;32m-> 1656\u001b[0;31m                     raise ValueError(\n\u001b[0m\u001b[1;32m   1657\u001b[0m                         \u001b[0;34m\"Excel file format cannot be determined, you must specify \"\u001b[0m\u001b[0;34m\u001b[0m\u001b[0;34m\u001b[0m\u001b[0m\n\u001b[1;32m   1658\u001b[0m                         \u001b[0;34m\"an engine manually.\"\u001b[0m\u001b[0;34m\u001b[0m\u001b[0;34m\u001b[0m\u001b[0m\n",
            "\u001b[0;31mValueError\u001b[0m: Excel file format cannot be determined, you must specify an engine manually."
          ]
        }
      ]
    },
    {
      "cell_type": "code",
      "source": [
        "import numpy as np\n"
      ],
      "metadata": {
        "id": "unXSB9FvU4In"
      },
      "execution_count": 4,
      "outputs": []
    },
    {
      "cell_type": "code",
      "source": [
        "import matplotlib.pyplot as plt\n"
      ],
      "metadata": {
        "id": "NdauLNMqjesR"
      },
      "execution_count": 8,
      "outputs": []
    },
    {
      "cell_type": "code",
      "source": [
        "df.describe()"
      ],
      "metadata": {
        "colab": {
          "base_uri": "https://localhost:8080/",
          "height": 300
        },
        "id": "8_sn3Mk6NSUz",
        "outputId": "af2f7731-f33b-4230-b121-a47127860728"
      },
      "execution_count": 28,
      "outputs": [
        {
          "output_type": "execute_result",
          "data": {
            "text/plain": [
              "         order_id         Store  unit_price      quantity       revenue\n",
              "count  527.000000    527.000000  527.000000    527.000000  5.270000e+02\n",
              "mean   115.313093   1545.263757  274.973435    142.884250  3.864385e+04\n",
              "std     73.106716   5516.867123   34.517412   2123.167121  5.663759e+05\n",
              "min      1.000000      1.000000  191.000000      1.000000  1.910000e+02\n",
              "25%     54.000000    708.000000  266.000000      1.000000  2.660000e+02\n",
              "50%    110.000000    799.000000  278.000000      1.000000  2.780000e+02\n",
              "75%    166.000000    799.000000  288.000000      1.000000  2.960000e+02\n",
              "max    273.000000  61399.000000  899.000000  45445.000000  1.204292e+07"
            ],
            "text/html": [
              "\n",
              "  <div id=\"df-2094a8f3-d516-4054-853d-e2af32986e3b\">\n",
              "    <div class=\"colab-df-container\">\n",
              "      <div>\n",
              "<style scoped>\n",
              "    .dataframe tbody tr th:only-of-type {\n",
              "        vertical-align: middle;\n",
              "    }\n",
              "\n",
              "    .dataframe tbody tr th {\n",
              "        vertical-align: top;\n",
              "    }\n",
              "\n",
              "    .dataframe thead th {\n",
              "        text-align: right;\n",
              "    }\n",
              "</style>\n",
              "<table border=\"1\" class=\"dataframe\">\n",
              "  <thead>\n",
              "    <tr style=\"text-align: right;\">\n",
              "      <th></th>\n",
              "      <th>order_id</th>\n",
              "      <th>Store</th>\n",
              "      <th>unit_price</th>\n",
              "      <th>quantity</th>\n",
              "      <th>revenue</th>\n",
              "    </tr>\n",
              "  </thead>\n",
              "  <tbody>\n",
              "    <tr>\n",
              "      <th>count</th>\n",
              "      <td>527.000000</td>\n",
              "      <td>527.000000</td>\n",
              "      <td>527.000000</td>\n",
              "      <td>527.000000</td>\n",
              "      <td>5.270000e+02</td>\n",
              "    </tr>\n",
              "    <tr>\n",
              "      <th>mean</th>\n",
              "      <td>115.313093</td>\n",
              "      <td>1545.263757</td>\n",
              "      <td>274.973435</td>\n",
              "      <td>142.884250</td>\n",
              "      <td>3.864385e+04</td>\n",
              "    </tr>\n",
              "    <tr>\n",
              "      <th>std</th>\n",
              "      <td>73.106716</td>\n",
              "      <td>5516.867123</td>\n",
              "      <td>34.517412</td>\n",
              "      <td>2123.167121</td>\n",
              "      <td>5.663759e+05</td>\n",
              "    </tr>\n",
              "    <tr>\n",
              "      <th>min</th>\n",
              "      <td>1.000000</td>\n",
              "      <td>1.000000</td>\n",
              "      <td>191.000000</td>\n",
              "      <td>1.000000</td>\n",
              "      <td>1.910000e+02</td>\n",
              "    </tr>\n",
              "    <tr>\n",
              "      <th>25%</th>\n",
              "      <td>54.000000</td>\n",
              "      <td>708.000000</td>\n",
              "      <td>266.000000</td>\n",
              "      <td>1.000000</td>\n",
              "      <td>2.660000e+02</td>\n",
              "    </tr>\n",
              "    <tr>\n",
              "      <th>50%</th>\n",
              "      <td>110.000000</td>\n",
              "      <td>799.000000</td>\n",
              "      <td>278.000000</td>\n",
              "      <td>1.000000</td>\n",
              "      <td>2.780000e+02</td>\n",
              "    </tr>\n",
              "    <tr>\n",
              "      <th>75%</th>\n",
              "      <td>166.000000</td>\n",
              "      <td>799.000000</td>\n",
              "      <td>288.000000</td>\n",
              "      <td>1.000000</td>\n",
              "      <td>2.960000e+02</td>\n",
              "    </tr>\n",
              "    <tr>\n",
              "      <th>max</th>\n",
              "      <td>273.000000</td>\n",
              "      <td>61399.000000</td>\n",
              "      <td>899.000000</td>\n",
              "      <td>45445.000000</td>\n",
              "      <td>1.204292e+07</td>\n",
              "    </tr>\n",
              "  </tbody>\n",
              "</table>\n",
              "</div>\n",
              "      <button class=\"colab-df-convert\" onclick=\"convertToInteractive('df-2094a8f3-d516-4054-853d-e2af32986e3b')\"\n",
              "              title=\"Convert this dataframe to an interactive table.\"\n",
              "              style=\"display:none;\">\n",
              "        \n",
              "  <svg xmlns=\"http://www.w3.org/2000/svg\" height=\"24px\"viewBox=\"0 0 24 24\"\n",
              "       width=\"24px\">\n",
              "    <path d=\"M0 0h24v24H0V0z\" fill=\"none\"/>\n",
              "    <path d=\"M18.56 5.44l.94 2.06.94-2.06 2.06-.94-2.06-.94-.94-2.06-.94 2.06-2.06.94zm-11 1L8.5 8.5l.94-2.06 2.06-.94-2.06-.94L8.5 2.5l-.94 2.06-2.06.94zm10 10l.94 2.06.94-2.06 2.06-.94-2.06-.94-.94-2.06-.94 2.06-2.06.94z\"/><path d=\"M17.41 7.96l-1.37-1.37c-.4-.4-.92-.59-1.43-.59-.52 0-1.04.2-1.43.59L10.3 9.45l-7.72 7.72c-.78.78-.78 2.05 0 2.83L4 21.41c.39.39.9.59 1.41.59.51 0 1.02-.2 1.41-.59l7.78-7.78 2.81-2.81c.8-.78.8-2.07 0-2.86zM5.41 20L4 18.59l7.72-7.72 1.47 1.35L5.41 20z\"/>\n",
              "  </svg>\n",
              "      </button>\n",
              "      \n",
              "  <style>\n",
              "    .colab-df-container {\n",
              "      display:flex;\n",
              "      flex-wrap:wrap;\n",
              "      gap: 12px;\n",
              "    }\n",
              "\n",
              "    .colab-df-convert {\n",
              "      background-color: #E8F0FE;\n",
              "      border: none;\n",
              "      border-radius: 50%;\n",
              "      cursor: pointer;\n",
              "      display: none;\n",
              "      fill: #1967D2;\n",
              "      height: 32px;\n",
              "      padding: 0 0 0 0;\n",
              "      width: 32px;\n",
              "    }\n",
              "\n",
              "    .colab-df-convert:hover {\n",
              "      background-color: #E2EBFA;\n",
              "      box-shadow: 0px 1px 2px rgba(60, 64, 67, 0.3), 0px 1px 3px 1px rgba(60, 64, 67, 0.15);\n",
              "      fill: #174EA6;\n",
              "    }\n",
              "\n",
              "    [theme=dark] .colab-df-convert {\n",
              "      background-color: #3B4455;\n",
              "      fill: #D2E3FC;\n",
              "    }\n",
              "\n",
              "    [theme=dark] .colab-df-convert:hover {\n",
              "      background-color: #434B5C;\n",
              "      box-shadow: 0px 1px 3px 1px rgba(0, 0, 0, 0.15);\n",
              "      filter: drop-shadow(0px 1px 2px rgba(0, 0, 0, 0.3));\n",
              "      fill: #FFFFFF;\n",
              "    }\n",
              "  </style>\n",
              "\n",
              "      <script>\n",
              "        const buttonEl =\n",
              "          document.querySelector('#df-2094a8f3-d516-4054-853d-e2af32986e3b button.colab-df-convert');\n",
              "        buttonEl.style.display =\n",
              "          google.colab.kernel.accessAllowed ? 'block' : 'none';\n",
              "\n",
              "        async function convertToInteractive(key) {\n",
              "          const element = document.querySelector('#df-2094a8f3-d516-4054-853d-e2af32986e3b');\n",
              "          const dataTable =\n",
              "            await google.colab.kernel.invokeFunction('convertToInteractive',\n",
              "                                                     [key], {});\n",
              "          if (!dataTable) return;\n",
              "\n",
              "          const docLinkHtml = 'Like what you see? Visit the ' +\n",
              "            '<a target=\"_blank\" href=https://colab.research.google.com/notebooks/data_table.ipynb>data table notebook</a>'\n",
              "            + ' to learn more about interactive tables.';\n",
              "          element.innerHTML = '';\n",
              "          dataTable['output_type'] = 'display_data';\n",
              "          await google.colab.output.renderOutput(dataTable, element);\n",
              "          const docLink = document.createElement('div');\n",
              "          docLink.innerHTML = docLinkHtml;\n",
              "          element.appendChild(docLink);\n",
              "        }\n",
              "      </script>\n",
              "    </div>\n",
              "  </div>\n",
              "  "
            ]
          },
          "metadata": {},
          "execution_count": 28
        }
      ]
    },
    {
      "cell_type": "code",
      "source": [
        "df.info()"
      ],
      "metadata": {
        "colab": {
          "base_uri": "https://localhost:8080/"
        },
        "id": "tBQw375LNcuo",
        "outputId": "563735a4-4636-439b-9fc4-7affb0a342b6"
      },
      "execution_count": 29,
      "outputs": [
        {
          "output_type": "stream",
          "name": "stdout",
          "text": [
            "<class 'pandas.core.frame.DataFrame'>\n",
            "RangeIndex: 527 entries, 0 to 526\n",
            "Data columns (total 8 columns):\n",
            " #   Column      Non-Null Count  Dtype         \n",
            "---  ------      --------------  -----         \n",
            " 0   order_id    527 non-null    int64         \n",
            " 1   order_date  527 non-null    datetime64[ns]\n",
            " 2   Store       527 non-null    int64         \n",
            " 3   color       527 non-null    object        \n",
            " 4   size        490 non-null    object        \n",
            " 5   unit_price  527 non-null    int64         \n",
            " 6   quantity    527 non-null    int64         \n",
            " 7   revenue     527 non-null    int64         \n",
            "dtypes: datetime64[ns](1), int64(5), object(2)\n",
            "memory usage: 33.1+ KB\n"
          ]
        }
      ]
    },
    {
      "cell_type": "markdown",
      "source": [
        "Primero vamos a cargar el dataset que se les ha enviado. Vamos a proceder a cargar los datos y a realizar un .describe() para ver como se comportan los datos, después vamos a hacer un .info() para ver qué característica tiene el dataframe.  \n",
        "\n",
        "Pregunta: \n",
        "\n",
        "¿Cuántas variables categoricas y cuántas variables numericas hay en el dataframe?"
      ],
      "metadata": {
        "id": "dtzkS7wvUb98"
      }
    },
    {
      "cell_type": "markdown",
      "source": [
        "2 categoricas\n",
        "5 Numericas\n",
        "1 Temporal"
      ],
      "metadata": {
        "id": "44SvYDsDPfMD"
      }
    },
    {
      "cell_type": "code",
      "execution_count": 30,
      "metadata": {
        "id": "IY_kuDCYR6TK",
        "colab": {
          "base_uri": "https://localhost:8080/"
        },
        "outputId": "a1671489-f2dd-464f-f84f-4dd94a2832d7"
      },
      "outputs": [
        {
          "output_type": "execute_result",
          "data": {
            "text/plain": [
              "order_id               int64\n",
              "order_date    datetime64[ns]\n",
              "Store                  int64\n",
              "color                 object\n",
              "size                  object\n",
              "unit_price             int64\n",
              "quantity               int64\n",
              "revenue                int64\n",
              "dtype: object"
            ]
          },
          "metadata": {},
          "execution_count": 30
        }
      ],
      "source": [
        "df.dtypes"
      ]
    },
    {
      "cell_type": "markdown",
      "source": [
        "Por favor indiquenme cuál es el total revenue que vendió la tienda número 1, \n",
        "quiero saber también qué talla se vendió en la tienda número 1 y cuál fué el total revenué que esta tienda ha vendido. "
      ],
      "metadata": {
        "id": "mJHCanMkXM0G"
      }
    },
    {
      "cell_type": "code",
      "source": [
        "venta_tienda_1=df.loc[df[\"Store\"]==1]\n",
        "venta_tienda_1"
      ],
      "metadata": {
        "id": "8b5Cyeb-XtnV",
        "colab": {
          "base_uri": "https://localhost:8080/",
          "height": 551
        },
        "outputId": "b5c7642e-a053-47c3-beeb-40d4f8fca9d4"
      },
      "execution_count": 31,
      "outputs": [
        {
          "output_type": "execute_result",
          "data": {
            "text/plain": [
              "     order_id          order_date  Store       color      size  unit_price  \\\n",
              "2           2 2022-06-10 17:03:00      1       Cream  One Size         228   \n",
              "15         15 2022-06-14 14:38:00      1   Navy Blue  One Size         228   \n",
              "16         15 2022-06-14 14:38:00      1        Blue  One Size         228   \n",
              "17         15 2022-06-14 14:38:00      1  Light Gray  One Size         228   \n",
              "262       225 2022-08-19 21:42:00      1      Matcha  One Size         228   \n",
              "308       268 2022-08-03 23:03:00      1   Navy Blue  One Size         191   \n",
              "327        12 2022-08-04 21:11:00      1      Maroon  One Size         191   \n",
              "328        12 2022-08-04 21:11:00      1        Blue  One Size         191   \n",
              "343        24 2022-08-08 00:58:00      1       Cream  One Size         191   \n",
              "344        24 2022-08-08 00:58:00      1   Navy Blue  One Size         191   \n",
              "345        24 2022-08-08 00:58:00      1        Blue  One Size         191   \n",
              "415        81 2022-09-18 08:12:00      1        Pink  One Size         228   \n",
              "428        92 2022-09-20 18:15:00      1  Red Orange  One Size         228   \n",
              "429        92 2022-09-20 18:15:00      1      Matcha  One Size         228   \n",
              "466       128 2022-09-30 13:14:00      1       White  One Size         206   \n",
              "517       166 2022-09-09 21:17:00      1       White  One Size         228   \n",
              "\n",
              "     quantity  revenue  \n",
              "2           1      228  \n",
              "15          1      228  \n",
              "16         12     2736  \n",
              "17          1      228  \n",
              "262       134    30552  \n",
              "308         1      191  \n",
              "327        34     6494  \n",
              "328        34     6494  \n",
              "343        34     6494  \n",
              "344        35     6685  \n",
              "345        35     6685  \n",
              "415         1      228  \n",
              "428        35     7980  \n",
              "429       100    22800  \n",
              "466         1      206  \n",
              "517         1      228  "
            ],
            "text/html": [
              "\n",
              "  <div id=\"df-945555a9-3f65-4178-87c4-002f063883c9\">\n",
              "    <div class=\"colab-df-container\">\n",
              "      <div>\n",
              "<style scoped>\n",
              "    .dataframe tbody tr th:only-of-type {\n",
              "        vertical-align: middle;\n",
              "    }\n",
              "\n",
              "    .dataframe tbody tr th {\n",
              "        vertical-align: top;\n",
              "    }\n",
              "\n",
              "    .dataframe thead th {\n",
              "        text-align: right;\n",
              "    }\n",
              "</style>\n",
              "<table border=\"1\" class=\"dataframe\">\n",
              "  <thead>\n",
              "    <tr style=\"text-align: right;\">\n",
              "      <th></th>\n",
              "      <th>order_id</th>\n",
              "      <th>order_date</th>\n",
              "      <th>Store</th>\n",
              "      <th>color</th>\n",
              "      <th>size</th>\n",
              "      <th>unit_price</th>\n",
              "      <th>quantity</th>\n",
              "      <th>revenue</th>\n",
              "    </tr>\n",
              "  </thead>\n",
              "  <tbody>\n",
              "    <tr>\n",
              "      <th>2</th>\n",
              "      <td>2</td>\n",
              "      <td>2022-06-10 17:03:00</td>\n",
              "      <td>1</td>\n",
              "      <td>Cream</td>\n",
              "      <td>One Size</td>\n",
              "      <td>228</td>\n",
              "      <td>1</td>\n",
              "      <td>228</td>\n",
              "    </tr>\n",
              "    <tr>\n",
              "      <th>15</th>\n",
              "      <td>15</td>\n",
              "      <td>2022-06-14 14:38:00</td>\n",
              "      <td>1</td>\n",
              "      <td>Navy Blue</td>\n",
              "      <td>One Size</td>\n",
              "      <td>228</td>\n",
              "      <td>1</td>\n",
              "      <td>228</td>\n",
              "    </tr>\n",
              "    <tr>\n",
              "      <th>16</th>\n",
              "      <td>15</td>\n",
              "      <td>2022-06-14 14:38:00</td>\n",
              "      <td>1</td>\n",
              "      <td>Blue</td>\n",
              "      <td>One Size</td>\n",
              "      <td>228</td>\n",
              "      <td>12</td>\n",
              "      <td>2736</td>\n",
              "    </tr>\n",
              "    <tr>\n",
              "      <th>17</th>\n",
              "      <td>15</td>\n",
              "      <td>2022-06-14 14:38:00</td>\n",
              "      <td>1</td>\n",
              "      <td>Light Gray</td>\n",
              "      <td>One Size</td>\n",
              "      <td>228</td>\n",
              "      <td>1</td>\n",
              "      <td>228</td>\n",
              "    </tr>\n",
              "    <tr>\n",
              "      <th>262</th>\n",
              "      <td>225</td>\n",
              "      <td>2022-08-19 21:42:00</td>\n",
              "      <td>1</td>\n",
              "      <td>Matcha</td>\n",
              "      <td>One Size</td>\n",
              "      <td>228</td>\n",
              "      <td>134</td>\n",
              "      <td>30552</td>\n",
              "    </tr>\n",
              "    <tr>\n",
              "      <th>308</th>\n",
              "      <td>268</td>\n",
              "      <td>2022-08-03 23:03:00</td>\n",
              "      <td>1</td>\n",
              "      <td>Navy Blue</td>\n",
              "      <td>One Size</td>\n",
              "      <td>191</td>\n",
              "      <td>1</td>\n",
              "      <td>191</td>\n",
              "    </tr>\n",
              "    <tr>\n",
              "      <th>327</th>\n",
              "      <td>12</td>\n",
              "      <td>2022-08-04 21:11:00</td>\n",
              "      <td>1</td>\n",
              "      <td>Maroon</td>\n",
              "      <td>One Size</td>\n",
              "      <td>191</td>\n",
              "      <td>34</td>\n",
              "      <td>6494</td>\n",
              "    </tr>\n",
              "    <tr>\n",
              "      <th>328</th>\n",
              "      <td>12</td>\n",
              "      <td>2022-08-04 21:11:00</td>\n",
              "      <td>1</td>\n",
              "      <td>Blue</td>\n",
              "      <td>One Size</td>\n",
              "      <td>191</td>\n",
              "      <td>34</td>\n",
              "      <td>6494</td>\n",
              "    </tr>\n",
              "    <tr>\n",
              "      <th>343</th>\n",
              "      <td>24</td>\n",
              "      <td>2022-08-08 00:58:00</td>\n",
              "      <td>1</td>\n",
              "      <td>Cream</td>\n",
              "      <td>One Size</td>\n",
              "      <td>191</td>\n",
              "      <td>34</td>\n",
              "      <td>6494</td>\n",
              "    </tr>\n",
              "    <tr>\n",
              "      <th>344</th>\n",
              "      <td>24</td>\n",
              "      <td>2022-08-08 00:58:00</td>\n",
              "      <td>1</td>\n",
              "      <td>Navy Blue</td>\n",
              "      <td>One Size</td>\n",
              "      <td>191</td>\n",
              "      <td>35</td>\n",
              "      <td>6685</td>\n",
              "    </tr>\n",
              "    <tr>\n",
              "      <th>345</th>\n",
              "      <td>24</td>\n",
              "      <td>2022-08-08 00:58:00</td>\n",
              "      <td>1</td>\n",
              "      <td>Blue</td>\n",
              "      <td>One Size</td>\n",
              "      <td>191</td>\n",
              "      <td>35</td>\n",
              "      <td>6685</td>\n",
              "    </tr>\n",
              "    <tr>\n",
              "      <th>415</th>\n",
              "      <td>81</td>\n",
              "      <td>2022-09-18 08:12:00</td>\n",
              "      <td>1</td>\n",
              "      <td>Pink</td>\n",
              "      <td>One Size</td>\n",
              "      <td>228</td>\n",
              "      <td>1</td>\n",
              "      <td>228</td>\n",
              "    </tr>\n",
              "    <tr>\n",
              "      <th>428</th>\n",
              "      <td>92</td>\n",
              "      <td>2022-09-20 18:15:00</td>\n",
              "      <td>1</td>\n",
              "      <td>Red Orange</td>\n",
              "      <td>One Size</td>\n",
              "      <td>228</td>\n",
              "      <td>35</td>\n",
              "      <td>7980</td>\n",
              "    </tr>\n",
              "    <tr>\n",
              "      <th>429</th>\n",
              "      <td>92</td>\n",
              "      <td>2022-09-20 18:15:00</td>\n",
              "      <td>1</td>\n",
              "      <td>Matcha</td>\n",
              "      <td>One Size</td>\n",
              "      <td>228</td>\n",
              "      <td>100</td>\n",
              "      <td>22800</td>\n",
              "    </tr>\n",
              "    <tr>\n",
              "      <th>466</th>\n",
              "      <td>128</td>\n",
              "      <td>2022-09-30 13:14:00</td>\n",
              "      <td>1</td>\n",
              "      <td>White</td>\n",
              "      <td>One Size</td>\n",
              "      <td>206</td>\n",
              "      <td>1</td>\n",
              "      <td>206</td>\n",
              "    </tr>\n",
              "    <tr>\n",
              "      <th>517</th>\n",
              "      <td>166</td>\n",
              "      <td>2022-09-09 21:17:00</td>\n",
              "      <td>1</td>\n",
              "      <td>White</td>\n",
              "      <td>One Size</td>\n",
              "      <td>228</td>\n",
              "      <td>1</td>\n",
              "      <td>228</td>\n",
              "    </tr>\n",
              "  </tbody>\n",
              "</table>\n",
              "</div>\n",
              "      <button class=\"colab-df-convert\" onclick=\"convertToInteractive('df-945555a9-3f65-4178-87c4-002f063883c9')\"\n",
              "              title=\"Convert this dataframe to an interactive table.\"\n",
              "              style=\"display:none;\">\n",
              "        \n",
              "  <svg xmlns=\"http://www.w3.org/2000/svg\" height=\"24px\"viewBox=\"0 0 24 24\"\n",
              "       width=\"24px\">\n",
              "    <path d=\"M0 0h24v24H0V0z\" fill=\"none\"/>\n",
              "    <path d=\"M18.56 5.44l.94 2.06.94-2.06 2.06-.94-2.06-.94-.94-2.06-.94 2.06-2.06.94zm-11 1L8.5 8.5l.94-2.06 2.06-.94-2.06-.94L8.5 2.5l-.94 2.06-2.06.94zm10 10l.94 2.06.94-2.06 2.06-.94-2.06-.94-.94-2.06-.94 2.06-2.06.94z\"/><path d=\"M17.41 7.96l-1.37-1.37c-.4-.4-.92-.59-1.43-.59-.52 0-1.04.2-1.43.59L10.3 9.45l-7.72 7.72c-.78.78-.78 2.05 0 2.83L4 21.41c.39.39.9.59 1.41.59.51 0 1.02-.2 1.41-.59l7.78-7.78 2.81-2.81c.8-.78.8-2.07 0-2.86zM5.41 20L4 18.59l7.72-7.72 1.47 1.35L5.41 20z\"/>\n",
              "  </svg>\n",
              "      </button>\n",
              "      \n",
              "  <style>\n",
              "    .colab-df-container {\n",
              "      display:flex;\n",
              "      flex-wrap:wrap;\n",
              "      gap: 12px;\n",
              "    }\n",
              "\n",
              "    .colab-df-convert {\n",
              "      background-color: #E8F0FE;\n",
              "      border: none;\n",
              "      border-radius: 50%;\n",
              "      cursor: pointer;\n",
              "      display: none;\n",
              "      fill: #1967D2;\n",
              "      height: 32px;\n",
              "      padding: 0 0 0 0;\n",
              "      width: 32px;\n",
              "    }\n",
              "\n",
              "    .colab-df-convert:hover {\n",
              "      background-color: #E2EBFA;\n",
              "      box-shadow: 0px 1px 2px rgba(60, 64, 67, 0.3), 0px 1px 3px 1px rgba(60, 64, 67, 0.15);\n",
              "      fill: #174EA6;\n",
              "    }\n",
              "\n",
              "    [theme=dark] .colab-df-convert {\n",
              "      background-color: #3B4455;\n",
              "      fill: #D2E3FC;\n",
              "    }\n",
              "\n",
              "    [theme=dark] .colab-df-convert:hover {\n",
              "      background-color: #434B5C;\n",
              "      box-shadow: 0px 1px 3px 1px rgba(0, 0, 0, 0.15);\n",
              "      filter: drop-shadow(0px 1px 2px rgba(0, 0, 0, 0.3));\n",
              "      fill: #FFFFFF;\n",
              "    }\n",
              "  </style>\n",
              "\n",
              "      <script>\n",
              "        const buttonEl =\n",
              "          document.querySelector('#df-945555a9-3f65-4178-87c4-002f063883c9 button.colab-df-convert');\n",
              "        buttonEl.style.display =\n",
              "          google.colab.kernel.accessAllowed ? 'block' : 'none';\n",
              "\n",
              "        async function convertToInteractive(key) {\n",
              "          const element = document.querySelector('#df-945555a9-3f65-4178-87c4-002f063883c9');\n",
              "          const dataTable =\n",
              "            await google.colab.kernel.invokeFunction('convertToInteractive',\n",
              "                                                     [key], {});\n",
              "          if (!dataTable) return;\n",
              "\n",
              "          const docLinkHtml = 'Like what you see? Visit the ' +\n",
              "            '<a target=\"_blank\" href=https://colab.research.google.com/notebooks/data_table.ipynb>data table notebook</a>'\n",
              "            + ' to learn more about interactive tables.';\n",
              "          element.innerHTML = '';\n",
              "          dataTable['output_type'] = 'display_data';\n",
              "          await google.colab.output.renderOutput(dataTable, element);\n",
              "          const docLink = document.createElement('div');\n",
              "          docLink.innerHTML = docLinkHtml;\n",
              "          element.appendChild(docLink);\n",
              "        }\n",
              "      </script>\n",
              "    </div>\n",
              "  </div>\n",
              "  "
            ]
          },
          "metadata": {},
          "execution_count": 31
        }
      ]
    },
    {
      "cell_type": "code",
      "source": [
        "venta_total_tienda_1 = venta_tienda_1['revenue'].sum()\n",
        "\n",
        "print(venta_total_tienda_1)"
      ],
      "metadata": {
        "colab": {
          "base_uri": "https://localhost:8080/"
        },
        "id": "iH3YA3fCXzTx",
        "outputId": "a2576481-f04b-4fd3-94a9-772a2caddf82"
      },
      "execution_count": 32,
      "outputs": [
        {
          "output_type": "stream",
          "name": "stdout",
          "text": [
            "98457\n"
          ]
        }
      ]
    },
    {
      "cell_type": "code",
      "source": [
        "ventas_por_talla = venta_tienda_1.groupby(['size'])['revenue'].count()\n",
        "print(ventas_por_talla)\n"
      ],
      "metadata": {
        "colab": {
          "base_uri": "https://localhost:8080/"
        },
        "id": "2K-nLPnNYNMp",
        "outputId": "081dde10-6bdd-425c-86eb-8a45417b1f16"
      },
      "execution_count": 33,
      "outputs": [
        {
          "output_type": "stream",
          "name": "stdout",
          "text": [
            "size\n",
            "One Size    16\n",
            "Name: revenue, dtype: int64\n"
          ]
        }
      ]
    },
    {
      "cell_type": "code",
      "source": [
        "tallas=venta_tienda_1[\"size\"].unique()\n",
        "tallas"
      ],
      "metadata": {
        "colab": {
          "base_uri": "https://localhost:8080/"
        },
        "id": "KjCo9fT6ZXWS",
        "outputId": "e7e6021d-81a7-4939-c12f-08cc6bfa8fe5"
      },
      "execution_count": 34,
      "outputs": [
        {
          "output_type": "execute_result",
          "data": {
            "text/plain": [
              "array(['One Size'], dtype=object)"
            ]
          },
          "metadata": {},
          "execution_count": 34
        }
      ]
    },
    {
      "cell_type": "markdown",
      "source": [],
      "metadata": {
        "id": "i8703Go9X12W"
      }
    },
    {
      "cell_type": "markdown",
      "source": [
        "Me gustaría ver una serie de gráficos aclaratorios... uno en el que se indique para la tienda número 1 el color de prenda que se vendió y el precio por unidad. En otra gráfica, me gustaría ver la cantidad de prendas vendidas contra el revenue que le generaron a la tienda (solo para la tinda número 1). "
      ],
      "metadata": {
        "id": "9jc7NEXcXuwK"
      }
    },
    {
      "cell_type": "code",
      "source": [
        "pip install seaborn"
      ],
      "metadata": {
        "id": "iI8DMYGxdpQ3",
        "outputId": "1b939ee2-72e7-4759-9d10-b4374edb799d",
        "colab": {
          "base_uri": "https://localhost:8080/"
        }
      },
      "execution_count": 50,
      "outputs": [
        {
          "output_type": "stream",
          "name": "stdout",
          "text": [
            "Looking in indexes: https://pypi.org/simple, https://us-python.pkg.dev/colab-wheels/public/simple/\n",
            "Requirement already satisfied: seaborn in /usr/local/lib/python3.10/dist-packages (0.12.2)\n",
            "Requirement already satisfied: numpy!=1.24.0,>=1.17 in /usr/local/lib/python3.10/dist-packages (from seaborn) (1.22.4)\n",
            "Requirement already satisfied: pandas>=0.25 in /usr/local/lib/python3.10/dist-packages (from seaborn) (1.5.3)\n",
            "Requirement already satisfied: matplotlib!=3.6.1,>=3.1 in /usr/local/lib/python3.10/dist-packages (from seaborn) (3.7.1)\n",
            "Requirement already satisfied: contourpy>=1.0.1 in /usr/local/lib/python3.10/dist-packages (from matplotlib!=3.6.1,>=3.1->seaborn) (1.0.7)\n",
            "Requirement already satisfied: cycler>=0.10 in /usr/local/lib/python3.10/dist-packages (from matplotlib!=3.6.1,>=3.1->seaborn) (0.11.0)\n",
            "Requirement already satisfied: fonttools>=4.22.0 in /usr/local/lib/python3.10/dist-packages (from matplotlib!=3.6.1,>=3.1->seaborn) (4.39.3)\n",
            "Requirement already satisfied: kiwisolver>=1.0.1 in /usr/local/lib/python3.10/dist-packages (from matplotlib!=3.6.1,>=3.1->seaborn) (1.4.4)\n",
            "Requirement already satisfied: packaging>=20.0 in /usr/local/lib/python3.10/dist-packages (from matplotlib!=3.6.1,>=3.1->seaborn) (23.1)\n",
            "Requirement already satisfied: pillow>=6.2.0 in /usr/local/lib/python3.10/dist-packages (from matplotlib!=3.6.1,>=3.1->seaborn) (8.4.0)\n",
            "Requirement already satisfied: pyparsing>=2.3.1 in /usr/local/lib/python3.10/dist-packages (from matplotlib!=3.6.1,>=3.1->seaborn) (3.0.9)\n",
            "Requirement already satisfied: python-dateutil>=2.7 in /usr/local/lib/python3.10/dist-packages (from matplotlib!=3.6.1,>=3.1->seaborn) (2.8.2)\n",
            "Requirement already satisfied: pytz>=2020.1 in /usr/local/lib/python3.10/dist-packages (from pandas>=0.25->seaborn) (2022.7.1)\n",
            "Requirement already satisfied: six>=1.5 in /usr/local/lib/python3.10/dist-packages (from python-dateutil>=2.7->matplotlib!=3.6.1,>=3.1->seaborn) (1.16.0)\n"
          ]
        }
      ]
    },
    {
      "cell_type": "code",
      "source": [
        "import seaborn as sns"
      ],
      "metadata": {
        "id": "hPl2sjh3dalb"
      },
      "execution_count": 51,
      "outputs": []
    },
    {
      "cell_type": "code",
      "source": [
        "sns.scatterplot(data=venta_tienda_1, x='color', y='unit_price')"
      ],
      "metadata": {
        "colab": {
          "base_uri": "https://localhost:8080/",
          "height": 467
        },
        "id": "DPTdlU1Tb2sJ",
        "outputId": "03eca5fc-da3b-4696-b6cb-fddf28cc6e6d"
      },
      "execution_count": 52,
      "outputs": [
        {
          "output_type": "execute_result",
          "data": {
            "text/plain": [
              "<Axes: xlabel='color', ylabel='unit_price'>"
            ]
          },
          "metadata": {},
          "execution_count": 52
        },
        {
          "output_type": "display_data",
          "data": {
            "text/plain": [
              "<Figure size 640x480 with 1 Axes>"
            ],
            "image/png": "[encoded data removed]"
          },
          "metadata": {}
        }
      ]
    },
    {
      "cell_type": "code",
      "source": [
        "df_tienda1 = venta_tienda_1.loc[venta_tienda_1['Store'] == 1]\n",
        "sns.barplot(x=\"color\", y=\"unit_price\", data=venta_tienda_1)\n",
        "plt.xlabel('Color')\n",
        "plt.ylabel('Valor Unitario')\n",
        "plt.xticks(rotation=90, ha='right', fontsize=2)\n",
        "plt.tight_layout()\n",
        "plt.show()"
      ],
      "metadata": {
        "colab": {
          "base_uri": "https://localhost:8080/",
          "height": 487
        },
        "id": "KHRqClYwebEH",
        "outputId": "554ab0de-8cbe-4e2e-9f17-6a0f20655784"
      },
      "execution_count": 53,
      "outputs": [
        {
          "output_type": "display_data",
          "data": {
            "text/plain": [
              "<Figure size 640x480 with 1 Axes>"
            ],
            "image/png": "[encoded data removed]"
          },
          "metadata": {}
        }
      ]
    },
    {
      "cell_type": "code",
      "source": [
        "plt.scatter(df_tienda1['quantity'], df_tienda1['revenue'])\n",
        "plt.title('Cantidad de prendas vendidas vs Revenue (Tienda 1)')\n",
        "plt.xlabel('Cantidad de prendas vendidas')\n",
        "plt.ylabel('Revenue generado')\n",
        "plt.show()\n",
        "\n"
      ],
      "metadata": {
        "colab": {
          "base_uri": "https://localhost:8080/",
          "height": 472
        },
        "id": "xXQqp6o9ji5S",
        "outputId": "4d6fb634-4a82-43aa-f56b-343a646a5328"
      },
      "execution_count": null,
      "outputs": [
        {
          "output_type": "display_data",
          "data": {
            "text/plain": [
              "<Figure size 640x480 with 1 Axes>"
            ],
            "image/png": "[encoded data removed]"
          },
          "metadata": {}
        }
      ]
    },
    {
      "cell_type": "markdown",
      "source": [
        "Me gustaría saber cual es la cantidad de prendas vendidas para el color \"Navy Blue\" en todas las tiendas y a cuánto equivale esto en revenue. \n",
        "\n",
        "Me gustaría también que me digan cuál es el promedio de los ingresos de todas mis tiendas. "
      ],
      "metadata": {
        "id": "3iQZrUwWYhwk"
      }
    },
    {
      "cell_type": "code",
      "source": [
        "df_navy_blue = df[df['color'] == 'Navy Blue']\n",
        "\n",
        "navy_blue_quantity = df_navy_blue['quantity'].sum()\n",
        "\n",
        "navy_blue_revenue = df_navy_blue['revenue'].sum()\n",
        "\n",
        "print('Cantidad de prendas vendidas (Navy Blue):', navy_blue_quantity)\n",
        "\n",
        "print('Revenue total (Navy Blue):', navy_blue_revenue)"
      ],
      "metadata": {
        "id": "1rQQAPrPZ26g",
        "colab": {
          "base_uri": "https://localhost:8080/"
        },
        "outputId": "027f84fe-8094-4fa6-cebf-6878b2dbe192"
      },
      "execution_count": 40,
      "outputs": [
        {
          "output_type": "stream",
          "name": "stdout",
          "text": [
            "Cantidad de prendas vendidas (Navy Blue): 43\n",
            "Revenue total (Navy Blue): 8743\n"
          ]
        }
      ]
    },
    {
      "cell_type": "code",
      "source": [
        "mean_revenue = df['revenue'].mean()\n",
        "\n",
        "print('Promedio de ingresos de todas las tiendas:', mean_revenue)\n"
      ],
      "metadata": {
        "colab": {
          "base_uri": "https://localhost:8080/"
        },
        "id": "9m0p3qXzhz8W",
        "outputId": "3c112873-e32e-469e-a474-1764436b0ca0"
      },
      "execution_count": 41,
      "outputs": [
        {
          "output_type": "stream",
          "name": "stdout",
          "text": [
            "Promedio de ingresos de todas las tiendas: 38643.851992409865\n"
          ]
        }
      ]
    },
    {
      "cell_type": "markdown",
      "source": [
        "Quiero que organicen una nueva tabla en la que pueda ver la información de la tienda 708 y 339 juntas, pueden usar cbind o rbind para tal fin.\n",
        "\n",
        "Una vez tengan la tabla lista y organizada, por favor hagan una serie de gráficas; para comenzar, vamos a hacer una grfica que me indique en una parte de la gráfica la cantidad de productos vendidos en la tienda 339 y en otra los colores que se vendieron. \n",
        "\n",
        "Ahora, en otra gráfica diferente vamos a imprimir la misma información pero esta vez para la tienda 708."
      ],
      "metadata": {
        "id": "sEezXcMDZ3Y2"
      }
    },
    {
      "cell_type": "code",
      "source": [
        "venta_tienda_708=df.loc[df[\"Store\"]==708]\n",
        "venta_tienda_708"
      ],
      "metadata": {
        "id": "kOYoTeIdbRKM",
        "colab": {
          "base_uri": "https://localhost:8080/",
          "height": 424
        },
        "outputId": "a50134f2-2eb1-4513-e8fa-83bd40579ab5"
      },
      "execution_count": 42,
      "outputs": [
        {
          "output_type": "execute_result",
          "data": {
            "text/plain": [
              "     order_id          order_date  Store      color size  unit_price  \\\n",
              "0           1 2022-06-01 16:05:00    708  Dark Blue  2XL         298   \n",
              "7           7 2022-06-11 19:54:00    708  Dark Blue  3XL         278   \n",
              "8           8 2022-06-11 21:09:00    708  Dark Blue   XL         278   \n",
              "10         10 2022-06-12 17:32:00    708  Dark Blue   XL         278   \n",
              "11         11 2022-06-12 21:16:00    708  Dark Blue  3XL         278   \n",
              "..        ...                 ...    ...        ...  ...         ...   \n",
              "510       159 2022-09-09 13:08:00    708  Dark Blue  3XL         278   \n",
              "511       160 2022-09-09 14:38:00    708  Dark Blue  4XL         278   \n",
              "515       164 2022-09-09 16:30:00    708  Dark Blue  2XL         278   \n",
              "518       167 2022-09-09 23:59:00    708  Dark Blue  3XL         278   \n",
              "523       172 2022-09-09 07:18:00    708  Dark Blue  4XL         278   \n",
              "\n",
              "     quantity  revenue  \n",
              "0           1      298  \n",
              "7           1      278  \n",
              "8           1      278  \n",
              "10          1      278  \n",
              "11          1      278  \n",
              "..        ...      ...  \n",
              "510         1      278  \n",
              "511       456   126768  \n",
              "515         1      278  \n",
              "518         1      278  \n",
              "523        10     2780  \n",
              "\n",
              "[99 rows x 8 columns]"
            ],
            "text/html": [
              "\n",
              "  <div id=\"df-b69f9549-3ebf-480b-b932-91de187ac9de\">\n",
              "    <div class=\"colab-df-container\">\n",
              "      <div>\n",
              "<style scoped>\n",
              "    .dataframe tbody tr th:only-of-type {\n",
              "        vertical-align: middle;\n",
              "    }\n",
              "\n",
              "    .dataframe tbody tr th {\n",
              "        vertical-align: top;\n",
              "    }\n",
              "\n",
              "    .dataframe thead th {\n",
              "        text-align: right;\n",
              "    }\n",
              "</style>\n",
              "<table border=\"1\" class=\"dataframe\">\n",
              "  <thead>\n",
              "    <tr style=\"text-align: right;\">\n",
              "      <th></th>\n",
              "      <th>order_id</th>\n",
              "      <th>order_date</th>\n",
              "      <th>Store</th>\n",
              "      <th>color</th>\n",
              "      <th>size</th>\n",
              "      <th>unit_price</th>\n",
              "      <th>quantity</th>\n",
              "      <th>revenue</th>\n",
              "    </tr>\n",
              "  </thead>\n",
              "  <tbody>\n",
              "    <tr>\n",
              "      <th>0</th>\n",
              "      <td>1</td>\n",
              "      <td>2022-06-01 16:05:00</td>\n",
              "      <td>708</td>\n",
              "      <td>Dark Blue</td>\n",
              "      <td>2XL</td>\n",
              "      <td>298</td>\n",
              "      <td>1</td>\n",
              "      <td>298</td>\n",
              "    </tr>\n",
              "    <tr>\n",
              "      <th>7</th>\n",
              "      <td>7</td>\n",
              "      <td>2022-06-11 19:54:00</td>\n",
              "      <td>708</td>\n",
              "      <td>Dark Blue</td>\n",
              "      <td>3XL</td>\n",
              "      <td>278</td>\n",
              "      <td>1</td>\n",
              "      <td>278</td>\n",
              "    </tr>\n",
              "    <tr>\n",
              "      <th>8</th>\n",
              "      <td>8</td>\n",
              "      <td>2022-06-11 21:09:00</td>\n",
              "      <td>708</td>\n",
              "      <td>Dark Blue</td>\n",
              "      <td>XL</td>\n",
              "      <td>278</td>\n",
              "      <td>1</td>\n",
              "      <td>278</td>\n",
              "    </tr>\n",
              "    <tr>\n",
              "      <th>10</th>\n",
              "      <td>10</td>\n",
              "      <td>2022-06-12 17:32:00</td>\n",
              "      <td>708</td>\n",
              "      <td>Dark Blue</td>\n",
              "      <td>XL</td>\n",
              "      <td>278</td>\n",
              "      <td>1</td>\n",
              "      <td>278</td>\n",
              "    </tr>\n",
              "    <tr>\n",
              "      <th>11</th>\n",
              "      <td>11</td>\n",
              "      <td>2022-06-12 21:16:00</td>\n",
              "      <td>708</td>\n",
              "      <td>Dark Blue</td>\n",
              "      <td>3XL</td>\n",
              "      <td>278</td>\n",
              "      <td>1</td>\n",
              "      <td>278</td>\n",
              "    </tr>\n",
              "    <tr>\n",
              "      <th>...</th>\n",
              "      <td>...</td>\n",
              "      <td>...</td>\n",
              "      <td>...</td>\n",
              "      <td>...</td>\n",
              "      <td>...</td>\n",
              "      <td>...</td>\n",
              "      <td>...</td>\n",
              "      <td>...</td>\n",
              "    </tr>\n",
              "    <tr>\n",
              "      <th>510</th>\n",
              "      <td>159</td>\n",
              "      <td>2022-09-09 13:08:00</td>\n",
              "      <td>708</td>\n",
              "      <td>Dark Blue</td>\n",
              "      <td>3XL</td>\n",
              "      <td>278</td>\n",
              "      <td>1</td>\n",
              "      <td>278</td>\n",
              "    </tr>\n",
              "    <tr>\n",
              "      <th>511</th>\n",
              "      <td>160</td>\n",
              "      <td>2022-09-09 14:38:00</td>\n",
              "      <td>708</td>\n",
              "      <td>Dark Blue</td>\n",
              "      <td>4XL</td>\n",
              "      <td>278</td>\n",
              "      <td>456</td>\n",
              "      <td>126768</td>\n",
              "    </tr>\n",
              "    <tr>\n",
              "      <th>515</th>\n",
              "      <td>164</td>\n",
              "      <td>2022-09-09 16:30:00</td>\n",
              "      <td>708</td>\n",
              "      <td>Dark Blue</td>\n",
              "      <td>2XL</td>\n",
              "      <td>278</td>\n",
              "      <td>1</td>\n",
              "      <td>278</td>\n",
              "    </tr>\n",
              "    <tr>\n",
              "      <th>518</th>\n",
              "      <td>167</td>\n",
              "      <td>2022-09-09 23:59:00</td>\n",
              "      <td>708</td>\n",
              "      <td>Dark Blue</td>\n",
              "      <td>3XL</td>\n",
              "      <td>278</td>\n",
              "      <td>1</td>\n",
              "      <td>278</td>\n",
              "    </tr>\n",
              "    <tr>\n",
              "      <th>523</th>\n",
              "      <td>172</td>\n",
              "      <td>2022-09-09 07:18:00</td>\n",
              "      <td>708</td>\n",
              "      <td>Dark Blue</td>\n",
              "      <td>4XL</td>\n",
              "      <td>278</td>\n",
              "      <td>10</td>\n",
              "      <td>2780</td>\n",
              "    </tr>\n",
              "  </tbody>\n",
              "</table>\n",
              "<p>99 rows × 8 columns</p>\n",
              "</div>\n",
              "      <button class=\"colab-df-convert\" onclick=\"convertToInteractive('df-b69f9549-3ebf-480b-b932-91de187ac9de')\"\n",
              "              title=\"Convert this dataframe to an interactive table.\"\n",
              "              style=\"display:none;\">\n",
              "        \n",
              "  <svg xmlns=\"http://www.w3.org/2000/svg\" height=\"24px\"viewBox=\"0 0 24 24\"\n",
              "       width=\"24px\">\n",
              "    <path d=\"M0 0h24v24H0V0z\" fill=\"none\"/>\n",
              "    <path d=\"M18.56 5.44l.94 2.06.94-2.06 2.06-.94-2.06-.94-.94-2.06-.94 2.06-2.06.94zm-11 1L8.5 8.5l.94-2.06 2.06-.94-2.06-.94L8.5 2.5l-.94 2.06-2.06.94zm10 10l.94 2.06.94-2.06 2.06-.94-2.06-.94-.94-2.06-.94 2.06-2.06.94z\"/><path d=\"M17.41 7.96l-1.37-1.37c-.4-.4-.92-.59-1.43-.59-.52 0-1.04.2-1.43.59L10.3 9.45l-7.72 7.72c-.78.78-.78 2.05 0 2.83L4 21.41c.39.39.9.59 1.41.59.51 0 1.02-.2 1.41-.59l7.78-7.78 2.81-2.81c.8-.78.8-2.07 0-2.86zM5.41 20L4 18.59l7.72-7.72 1.47 1.35L5.41 20z\"/>\n",
              "  </svg>\n",
              "      </button>\n",
              "      \n",
              "  <style>\n",
              "    .colab-df-container {\n",
              "      display:flex;\n",
              "      flex-wrap:wrap;\n",
              "      gap: 12px;\n",
              "    }\n",
              "\n",
              "    .colab-df-convert {\n",
              "      background-color: #E8F0FE;\n",
              "      border: none;\n",
              "      border-radius: 50%;\n",
              "      cursor: pointer;\n",
              "      display: none;\n",
              "      fill: #1967D2;\n",
              "      height: 32px;\n",
              "      padding: 0 0 0 0;\n",
              "      width: 32px;\n",
              "    }\n",
              "\n",
              "    .colab-df-convert:hover {\n",
              "      background-color: #E2EBFA;\n",
              "      box-shadow: 0px 1px 2px rgba(60, 64, 67, 0.3), 0px 1px 3px 1px rgba(60, 64, 67, 0.15);\n",
              "      fill: #174EA6;\n",
              "    }\n",
              "\n",
              "    [theme=dark] .colab-df-convert {\n",
              "      background-color: #3B4455;\n",
              "      fill: #D2E3FC;\n",
              "    }\n",
              "\n",
              "    [theme=dark] .colab-df-convert:hover {\n",
              "      background-color: #434B5C;\n",
              "      box-shadow: 0px 1px 3px 1px rgba(0, 0, 0, 0.15);\n",
              "      filter: drop-shadow(0px 1px 2px rgba(0, 0, 0, 0.3));\n",
              "      fill: #FFFFFF;\n",
              "    }\n",
              "  </style>\n",
              "\n",
              "      <script>\n",
              "        const buttonEl =\n",
              "          document.querySelector('#df-b69f9549-3ebf-480b-b932-91de187ac9de button.colab-df-convert');\n",
              "        buttonEl.style.display =\n",
              "          google.colab.kernel.accessAllowed ? 'block' : 'none';\n",
              "\n",
              "        async function convertToInteractive(key) {\n",
              "          const element = document.querySelector('#df-b69f9549-3ebf-480b-b932-91de187ac9de');\n",
              "          const dataTable =\n",
              "            await google.colab.kernel.invokeFunction('convertToInteractive',\n",
              "                                                     [key], {});\n",
              "          if (!dataTable) return;\n",
              "\n",
              "          const docLinkHtml = 'Like what you see? Visit the ' +\n",
              "            '<a target=\"_blank\" href=https://colab.research.google.com/notebooks/data_table.ipynb>data table notebook</a>'\n",
              "            + ' to learn more about interactive tables.';\n",
              "          element.innerHTML = '';\n",
              "          dataTable['output_type'] = 'display_data';\n",
              "          await google.colab.output.renderOutput(dataTable, element);\n",
              "          const docLink = document.createElement('div');\n",
              "          docLink.innerHTML = docLinkHtml;\n",
              "          element.appendChild(docLink);\n",
              "        }\n",
              "      </script>\n",
              "    </div>\n",
              "  </div>\n",
              "  "
            ]
          },
          "metadata": {},
          "execution_count": 42
        }
      ]
    },
    {
      "cell_type": "code",
      "source": [
        "venta_tienda_339=df.loc[df[\"Store\"]==339]\n",
        "venta_tienda_339"
      ],
      "metadata": {
        "colab": {
          "base_uri": "https://localhost:8080/",
          "height": 175
        },
        "id": "fHBMqRKFlQ3h",
        "outputId": "ba4d752d-1fa2-480e-fea5-84a6c818597a"
      },
      "execution_count": 43,
      "outputs": [
        {
          "output_type": "execute_result",
          "data": {
            "text/plain": [
              "     order_id          order_date  Store      color size  unit_price  \\\n",
              "238       204 2022-08-15 19:15:00    339      Brown  NaN         254   \n",
              "239       204 2022-08-15 19:15:00    339      Green  NaN         254   \n",
              "335        17 2022-08-06 11:04:00    339  Navy Blue  NaN         288   \n",
              "336        17 2022-08-06 11:04:00    339      Mocha  NaN         288   \n",
              "\n",
              "     quantity  revenue  \n",
              "238         1      254  \n",
              "239         1      254  \n",
              "335         1      288  \n",
              "336         1      288  "
            ],
            "text/html": [
              "\n",
              "  <div id=\"df-f74515bc-e10d-4e06-b4e6-294b75290660\">\n",
              "    <div class=\"colab-df-container\">\n",
              "      <div>\n",
              "<style scoped>\n",
              "    .dataframe tbody tr th:only-of-type {\n",
              "        vertical-align: middle;\n",
              "    }\n",
              "\n",
              "    .dataframe tbody tr th {\n",
              "        vertical-align: top;\n",
              "    }\n",
              "\n",
              "    .dataframe thead th {\n",
              "        text-align: right;\n",
              "    }\n",
              "</style>\n",
              "<table border=\"1\" class=\"dataframe\">\n",
              "  <thead>\n",
              "    <tr style=\"text-align: right;\">\n",
              "      <th></th>\n",
              "      <th>order_id</th>\n",
              "      <th>order_date</th>\n",
              "      <th>Store</th>\n",
              "      <th>color</th>\n",
              "      <th>size</th>\n",
              "      <th>unit_price</th>\n",
              "      <th>quantity</th>\n",
              "      <th>revenue</th>\n",
              "    </tr>\n",
              "  </thead>\n",
              "  <tbody>\n",
              "    <tr>\n",
              "      <th>238</th>\n",
              "      <td>204</td>\n",
              "      <td>2022-08-15 19:15:00</td>\n",
              "      <td>339</td>\n",
              "      <td>Brown</td>\n",
              "      <td>NaN</td>\n",
              "      <td>254</td>\n",
              "      <td>1</td>\n",
              "      <td>254</td>\n",
              "    </tr>\n",
              "    <tr>\n",
              "      <th>239</th>\n",
              "      <td>204</td>\n",
              "      <td>2022-08-15 19:15:00</td>\n",
              "      <td>339</td>\n",
              "      <td>Green</td>\n",
              "      <td>NaN</td>\n",
              "      <td>254</td>\n",
              "      <td>1</td>\n",
              "      <td>254</td>\n",
              "    </tr>\n",
              "    <tr>\n",
              "      <th>335</th>\n",
              "      <td>17</td>\n",
              "      <td>2022-08-06 11:04:00</td>\n",
              "      <td>339</td>\n",
              "      <td>Navy Blue</td>\n",
              "      <td>NaN</td>\n",
              "      <td>288</td>\n",
              "      <td>1</td>\n",
              "      <td>288</td>\n",
              "    </tr>\n",
              "    <tr>\n",
              "      <th>336</th>\n",
              "      <td>17</td>\n",
              "      <td>2022-08-06 11:04:00</td>\n",
              "      <td>339</td>\n",
              "      <td>Mocha</td>\n",
              "      <td>NaN</td>\n",
              "      <td>288</td>\n",
              "      <td>1</td>\n",
              "      <td>288</td>\n",
              "    </tr>\n",
              "  </tbody>\n",
              "</table>\n",
              "</div>\n",
              "      <button class=\"colab-df-convert\" onclick=\"convertToInteractive('df-f74515bc-e10d-4e06-b4e6-294b75290660')\"\n",
              "              title=\"Convert this dataframe to an interactive table.\"\n",
              "              style=\"display:none;\">\n",
              "        \n",
              "  <svg xmlns=\"http://www.w3.org/2000/svg\" height=\"24px\"viewBox=\"0 0 24 24\"\n",
              "       width=\"24px\">\n",
              "    <path d=\"M0 0h24v24H0V0z\" fill=\"none\"/>\n",
              "    <path d=\"M18.56 5.44l.94 2.06.94-2.06 2.06-.94-2.06-.94-.94-2.06-.94 2.06-2.06.94zm-11 1L8.5 8.5l.94-2.06 2.06-.94-2.06-.94L8.5 2.5l-.94 2.06-2.06.94zm10 10l.94 2.06.94-2.06 2.06-.94-2.06-.94-.94-2.06-.94 2.06-2.06.94z\"/><path d=\"M17.41 7.96l-1.37-1.37c-.4-.4-.92-.59-1.43-.59-.52 0-1.04.2-1.43.59L10.3 9.45l-7.72 7.72c-.78.78-.78 2.05 0 2.83L4 21.41c.39.39.9.59 1.41.59.51 0 1.02-.2 1.41-.59l7.78-7.78 2.81-2.81c.8-.78.8-2.07 0-2.86zM5.41 20L4 18.59l7.72-7.72 1.47 1.35L5.41 20z\"/>\n",
              "  </svg>\n",
              "      </button>\n",
              "      \n",
              "  <style>\n",
              "    .colab-df-container {\n",
              "      display:flex;\n",
              "      flex-wrap:wrap;\n",
              "      gap: 12px;\n",
              "    }\n",
              "\n",
              "    .colab-df-convert {\n",
              "      background-color: #E8F0FE;\n",
              "      border: none;\n",
              "      border-radius: 50%;\n",
              "      cursor: pointer;\n",
              "      display: none;\n",
              "      fill: #1967D2;\n",
              "      height: 32px;\n",
              "      padding: 0 0 0 0;\n",
              "      width: 32px;\n",
              "    }\n",
              "\n",
              "    .colab-df-convert:hover {\n",
              "      background-color: #E2EBFA;\n",
              "      box-shadow: 0px 1px 2px rgba(60, 64, 67, 0.3), 0px 1px 3px 1px rgba(60, 64, 67, 0.15);\n",
              "      fill: #174EA6;\n",
              "    }\n",
              "\n",
              "    [theme=dark] .colab-df-convert {\n",
              "      background-color: #3B4455;\n",
              "      fill: #D2E3FC;\n",
              "    }\n",
              "\n",
              "    [theme=dark] .colab-df-convert:hover {\n",
              "      background-color: #434B5C;\n",
              "      box-shadow: 0px 1px 3px 1px rgba(0, 0, 0, 0.15);\n",
              "      filter: drop-shadow(0px 1px 2px rgba(0, 0, 0, 0.3));\n",
              "      fill: #FFFFFF;\n",
              "    }\n",
              "  </style>\n",
              "\n",
              "      <script>\n",
              "        const buttonEl =\n",
              "          document.querySelector('#df-f74515bc-e10d-4e06-b4e6-294b75290660 button.colab-df-convert');\n",
              "        buttonEl.style.display =\n",
              "          google.colab.kernel.accessAllowed ? 'block' : 'none';\n",
              "\n",
              "        async function convertToInteractive(key) {\n",
              "          const element = document.querySelector('#df-f74515bc-e10d-4e06-b4e6-294b75290660');\n",
              "          const dataTable =\n",
              "            await google.colab.kernel.invokeFunction('convertToInteractive',\n",
              "                                                     [key], {});\n",
              "          if (!dataTable) return;\n",
              "\n",
              "          const docLinkHtml = 'Like what you see? Visit the ' +\n",
              "            '<a target=\"_blank\" href=https://colab.research.google.com/notebooks/data_table.ipynb>data table notebook</a>'\n",
              "            + ' to learn more about interactive tables.';\n",
              "          element.innerHTML = '';\n",
              "          dataTable['output_type'] = 'display_data';\n",
              "          await google.colab.output.renderOutput(dataTable, element);\n",
              "          const docLink = document.createElement('div');\n",
              "          docLink.innerHTML = docLinkHtml;\n",
              "          element.appendChild(docLink);\n",
              "        }\n",
              "      </script>\n",
              "    </div>\n",
              "  </div>\n",
              "  "
            ]
          },
          "metadata": {},
          "execution_count": 43
        }
      ]
    },
    {
      "cell_type": "code",
      "source": [
        "df_combined = pd.concat([venta_tienda_708, venta_tienda_339], axis=0)\n",
        "\n",
        "print(df_combined)"
      ],
      "metadata": {
        "colab": {
          "base_uri": "https://localhost:8080/"
        },
        "id": "c1mqcjUxk8FP",
        "outputId": "fe76e05e-4171-443c-9791-4abc28a95c6e"
      },
      "execution_count": 44,
      "outputs": [
        {
          "output_type": "stream",
          "name": "stdout",
          "text": [
            "     order_id          order_date  Store      color size  unit_price  \\\n",
            "0           1 2022-06-01 16:05:00    708  Dark Blue  2XL         298   \n",
            "7           7 2022-06-11 19:54:00    708  Dark Blue  3XL         278   \n",
            "8           8 2022-06-11 21:09:00    708  Dark Blue   XL         278   \n",
            "10         10 2022-06-12 17:32:00    708  Dark Blue   XL         278   \n",
            "11         11 2022-06-12 21:16:00    708  Dark Blue  3XL         278   \n",
            "..        ...                 ...    ...        ...  ...         ...   \n",
            "523       172 2022-09-09 07:18:00    708  Dark Blue  4XL         278   \n",
            "238       204 2022-08-15 19:15:00    339      Brown  NaN         254   \n",
            "239       204 2022-08-15 19:15:00    339      Green  NaN         254   \n",
            "335        17 2022-08-06 11:04:00    339  Navy Blue  NaN         288   \n",
            "336        17 2022-08-06 11:04:00    339      Mocha  NaN         288   \n",
            "\n",
            "     quantity  revenue  \n",
            "0           1      298  \n",
            "7           1      278  \n",
            "8           1      278  \n",
            "10          1      278  \n",
            "11          1      278  \n",
            "..        ...      ...  \n",
            "523        10     2780  \n",
            "238         1      254  \n",
            "239         1      254  \n",
            "335         1      288  \n",
            "336         1      288  \n",
            "\n",
            "[103 rows x 8 columns]\n"
          ]
        }
      ]
    },
    {
      "cell_type": "code",
      "source": [
        "df_tienda339 = df_combined[df_combined['Store']==339]\n",
        "plt.scatter(df_tienda339['quantity'], df_tienda339['revenue'])\n",
        "plt.annotate(f\"Tienda 339 vendió {df_tienda339['quantity'].sum()} productos\",\n",
        "             xy=(df_tienda339['quantity'].mean(), df_tienda339['revenue'].mean()),\n",
        "             xytext=(10, 50),\n",
        "             textcoords=\"offset points\",\n",
        "             ha=\"left\",\n",
        "             va=\"bottom\",\n",
        "             arrowprops=dict(arrowstyle=\"->\", connectionstyle=\"angle,angleA=0,angleB=90,rad=10\"))\n",
        "colors = df_tienda339['color'].unique()\n",
        "for i, color in enumerate(colors):\n",
        "    df_color = df_tienda339[df_tienda339['color'] == color]\n",
        "    plt.annotate(color,\n",
        "                 xy=(df_color['quantity'].mean(), df_color['revenue'].mean()),\n",
        "                 xytext=(-20 + i*10, 10),\n",
        "                 textcoords=\"offset points\",\n",
        "                 ha=\"center\",\n",
        "                 va=\"bottom\",\n",
        "                 arrowprops=dict(arrowstyle=\"->\", connectionstyle=\"angle,angleA=0,angleB=90,rad=10\"))\n",
        "    plt.title('Cantidad de productos vendidos y colores vendidos (Tienda 339)')\n",
        "plt.xlabel('Cantidad de productos vendidos')\n",
        "plt.ylabel('Revenue')\n",
        "plt.show()"
      ],
      "metadata": {
        "colab": {
          "base_uri": "https://localhost:8080/",
          "height": 543
        },
        "id": "_bUy90oClAYf",
        "outputId": "735f2488-1bb0-4a2c-9cb6-315e295866d8"
      },
      "execution_count": 45,
      "outputs": [
        {
          "output_type": "stream",
          "name": "stderr",
          "text": [
            "/usr/local/lib/python3.10/dist-packages/matplotlib/patches.py:2867: RuntimeWarning: divide by zero encountered in double_scalars\n",
            "  f1 = self.rad / d1\n",
            "/usr/local/lib/python3.10/dist-packages/matplotlib/patches.py:2871: RuntimeWarning: invalid value encountered in double_scalars\n",
            "  vertices.extend([(cx + dx1 * f1, cy + dy1 * f1),\n"
          ]
        },
        {
          "output_type": "display_data",
          "data": {
            "text/plain": [
              "<Figure size 640x480 with 1 Axes>"
            ],
            "image/png": "[encoded data removed]"
          },
          "metadata": {}
        }
      ]
    },
    {
      "cell_type": "code",
      "source": [
        "\n",
        "# Seleccionamos los datos para la tienda combinada\n",
        "df_tienda_combined = pd.concat([df[df['Store'] == 708], df[df['Store'] == 339]])\n",
        "\n",
        "# Seleccionamos los datos para la tienda 708\n",
        "df_tienda708 = df_tienda_combined"
      ],
      "metadata": {
        "id": "QpQOGhWNpjmX"
      },
      "execution_count": 47,
      "outputs": []
    },
    {
      "cell_type": "code",
      "source": [
        "Product_color = venta_tienda_339.groupby('color')['quantity'].sum().sort_values(ascending=False).index[0]\n",
        "\n",
        "# Crear un plot\n",
        "\n",
        "import matplotlib.pyplot as plt\n",
        "\n",
        "\n",
        "plt.bar(venta_tienda_339['color'], venta_tienda_339['quantity'])\n",
        "\n",
        "plt.xlabel('color')\n",
        "\n",
        "plt.ylabel('Cantidad')\n",
        "\n",
        "plt.title('Total de Ventas por color')\n",
        "\n",
        "plt.show()"
      ],
      "metadata": {
        "colab": {
          "base_uri": "https://localhost:8080/",
          "height": 472
        },
        "id": "L5AkSb2JnxMp",
        "outputId": "0bba1544-cdc1-41ff-bc9c-ab1c9a6c8004"
      },
      "execution_count": 46,
      "outputs": [
        {
          "output_type": "display_data",
          "data": {
            "text/plain": [
              "<Figure size 640x480 with 1 Axes>"
            ],
            "image/png": "[encoded data removed]"
          },
          "metadata": {}
        }
      ]
    },
    {
      "cell_type": "markdown",
      "source": [
        "Bien, me gustaría por favor que organicen las tiendas según sus ventas y me digan cuáles son las tres tiendas que más revenue obtuvieron, después por favor grafiquen dicha información. "
      ],
      "metadata": {
        "id": "VhH4shmabQcn"
      }
    },
    {
      "cell_type": "code",
      "source": [
        "df_total_revenue = df.groupby('Store')['revenue'].sum().reset_index()\n",
        "df_total_revenue_sorted = df_total_revenue.sort_values(by='revenue', ascending=False).head(3)\n",
        "\n",
        "plt.bar(df_total_revenue_sorted['Store'], df_total_revenue_sorted['revenue'])\n",
        "plt.xlabel('Tienda')\n",
        "plt.ylabel('Revenue Total')\n",
        "plt.title('Tiendas con mayores ingresos')\n",
        "plt.show"
      ],
      "metadata": {
        "id": "HHAezMEaR2Re",
        "outputId": "ff257a05-f119-4c1b-8e3c-c8e3faa63772",
        "colab": {
          "base_uri": "https://localhost:8080/",
          "height": 490
        }
      },
      "execution_count": 56,
      "outputs": [
        {
          "output_type": "execute_result",
          "data": {
            "text/plain": [
              "<function matplotlib.pyplot.show(close=None, block=None)>"
            ]
          },
          "metadata": {},
          "execution_count": 56
        },
        {
          "output_type": "display_data",
          "data": {
            "text/plain": [
              "<Figure size 640x480 with 1 Axes>"
            ],
            "image/png": "[encoded data removed]"
          },
          "metadata": {}
        }
      ]
    },
    {
      "cell_type": "markdown",
      "source": [
        "Me gustaría que me digan por favor, cuáles son las tiendas que vendieron prendas talla 4XL y que me digan la cantidad que prenda que vendieron dichas tiendas y su revenue (para cada una de dichas tiendas)\n",
        "\n",
        "Ahora que ya saben qué tiendas vendieron prendas 4xl, por favor hagan una gráfica en la que se observe la cantidad de prendas vs el revenue que generaron (un gráfico de líneas creo que podría ser adecuado). \n"
      ],
      "metadata": {
        "id": "l0TbrsBSR29c"
      }
    },
    {
      "cell_type": "code",
      "source": [
        "df_4x1= df[df['size']=='4XL']\n",
        "\n",
        "grouped = df_4x1.groupby('Store').agg({'quantity': 'sum', 'revenue' : 'sum'})\n",
        "plt.scatter(grouped['quantity'], grouped['revenue'])\n",
        "plt.xlabel('Cantidad de prendas vendidad')\n",
        "plt.ylabel('Revenue Generado')\n",
        "plt.title('Relacion cantidad de prendas vendidas vs revenue para talla 4XL')\n",
        "plt.show"
      ],
      "metadata": {
        "id": "EpQSDfgdTjiP",
        "outputId": "caeaf1c3-d92f-407f-8aa0-675fadf3369b",
        "colab": {
          "base_uri": "https://localhost:8080/",
          "height": 505
        }
      },
      "execution_count": 61,
      "outputs": [
        {
          "output_type": "execute_result",
          "data": {
            "text/plain": [
              "<function matplotlib.pyplot.show(close=None, block=None)>"
            ]
          },
          "metadata": {},
          "execution_count": 61
        },
        {
          "output_type": "display_data",
          "data": {
            "text/plain": [
              "<Figure size 640x480 with 1 Axes>"
            ],
            "image/png": "[encoded data removed]"
          },
          "metadata": {}
        }
      ]
    },
    {
      "cell_type": "markdown",
      "source": [
        "Finalmente, por favor tomen la variable \"unit_price\", \"quantity\" y \"revenue\", separenla en un dataframe independiente y después crucen las variables en un gráfico que me permita ver la posible correlación existente entre estas variables. "
      ],
      "metadata": {
        "id": "_k3v7lXyTtAV"
      }
    },
    {
      "cell_type": "code",
      "source": [
        "df2=df[['unit_price','quantity', 'revenue']]"
      ],
      "metadata": {
        "id": "bMO_zvSsfDTK"
      },
      "execution_count": 58,
      "outputs": []
    },
    {
      "cell_type": "code",
      "source": [
        "import matplotlib.pyplot as plt\n",
        "plt.scatter(df2['unit_price'], df2['quantity'])\n",
        "plt.xlabel('unit_price')\n",
        "plt.ylabel ('quantity')\n",
        "plt.show()\n",
        "\n",
        "plt.scatter(df2['unit_price'], df2['revenue'])\n",
        "plt.xlabel('unit_price')\n",
        "plt.ylabel('revenue')\n",
        "plt.show\n",
        "\n",
        "plt.scatter(df2['quantity'], df2['revenue'])\n",
        "plt.xlabel('quantity')\n",
        "plt.ylabel('revenue')\n",
        "plt.show"
      ],
      "metadata": {
        "id": "X9OxRW-3TsUT",
        "outputId": "2c0d5841-2beb-4324-ce73-72bc85facb1b",
        "colab": {
          "base_uri": "https://localhost:8080/",
          "height": 916
        }
      },
      "execution_count": 59,
      "outputs": [
        {
          "output_type": "display_data",
          "data": {
            "text/plain": [
              "<Figure size 640x480 with 1 Axes>"
            ],
            "image/png": "[encoded data removed]"
          },
          "metadata": {}
        },
        {
          "output_type": "execute_result",
          "data": {
            "text/plain": [
              "<function matplotlib.pyplot.show(close=None, block=None)>"
            ]
          },
          "metadata": {},
          "execution_count": 59
        },
        {
          "output_type": "display_data",
          "data": {
            "text/plain": [
              "<Figure size 640x480 with 1 Axes>"
            ],
            "image/png": "[encoded data removed]"
          },
          "metadata": {}
        }
      ]
    }
  ]
}