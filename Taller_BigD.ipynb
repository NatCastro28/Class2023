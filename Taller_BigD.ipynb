{
  "nbformat": 4,
  "nbformat_minor": 0,
  "metadata": {
    "colab": {
      "provenance": []
    },
    "kernelspec": {
      "name": "python3",
      "display_name": "Python 3"
    },
    "language_info": {
      "name": "python"
    }
  },
  "cells": [
    {
      "cell_type": "markdown",
      "source": [
        "Primero vamos a cargar el dataset que se les ha enviado. Vamos a proceder a cargar los datos y a realizar un .describe() para ver como se comportan los datos, después vamos a hacer un .info() para ver qué característica tiene el dataframe.  \n",
        "\n",
        "Pregunta: \n",
        "\n",
        "¿Cuántas variables categoricas y cuántas variables numericas hay en el dataframe?"
      ],
      "metadata": {
        "id": "dtzkS7wvUb98"
      }
    },
    {
      "cell_type": "code",
      "execution_count": null,
      "metadata": {
        "id": "IY_kuDCYR6TK"
      },
      "outputs": [],
      "source": []
    },
    {
      "cell_type": "markdown",
      "source": [
        "Por favor indiquenme cuál es el total revenue que vendió la tienda número 1, \n",
        "quiero saber también qué talla se vendió en la tienda número 1 y cuál fué el total revenué que esta tienda ha vendido. "
      ],
      "metadata": {
        "id": "mJHCanMkXM0G"
      }
    },
    {
      "cell_type": "code",
      "source": [],
      "metadata": {
        "id": "8b5Cyeb-XtnV"
      },
      "execution_count": null,
      "outputs": []
    },
    {
      "cell_type": "markdown",
      "source": [
        "Me gustaría ver una serie de gráficos aclaratorios... uno en el que se indique para la tienda número 1 el color de prenda que se vendió y el precio por unidad. En otra gráfica, me gustaría ver la cantidad de prendas vendidas contra el revenue que le generaron a la tienda (solo para la tinda número 1). "
      ],
      "metadata": {
        "id": "9jc7NEXcXuwK"
      }
    },
    {
      "cell_type": "code",
      "source": [],
      "metadata": {
        "id": "Qj9O4xtKYhJq"
      },
      "execution_count": null,
      "outputs": []
    },
    {
      "cell_type": "markdown",
      "source": [
        "Me gustaría saber cual es la cantidad de prendas vendidas para el color \"Navy Blue\" en todas las tiendas y a cuánto equivale esto en revenue. \n",
        "\n",
        "Me gustaría también que me digan cuál es el promedio de los ingresos de todas mis tiendas. "
      ],
      "metadata": {
        "id": "3iQZrUwWYhwk"
      }
    },
    {
      "cell_type": "code",
      "source": [],
      "metadata": {
        "id": "1rQQAPrPZ26g"
      },
      "execution_count": null,
      "outputs": []
    },
    {
      "cell_type": "markdown",
      "source": [
        "Quiero que organicen una nueva tabla en la que pueda ver la información de la tienda 708 y 339 juntas, pueden usar cbind o rbind para tal fin.\n",
        "\n",
        "Una vez tengan la tabla lista y organizada, por favor hagan una serie de gráficas; para comenzar, vamos a hacer una grfica que me indique en una parte de la gráfica la cantidad de productos vendidos en la tienda 339 y en otra los colores que se vendieron. \n",
        "\n",
        "Ahora, en otra gráfica diferente vamos a imprimir la misma información pero esta vez para la tienda 708."
      ],
      "metadata": {
        "id": "sEezXcMDZ3Y2"
      }
    },
    {
      "cell_type": "code",
      "source": [],
      "metadata": {
        "id": "kOYoTeIdbRKM"
      },
      "execution_count": null,
      "outputs": []
    },
    {
      "cell_type": "markdown",
      "source": [
        "Bien, me gustaría por favor que organicen las tiendas según sus ventas y me digan cuáles son las tres tiendas que más revenue obtuvieron, después por favor grafiquen dicha información. "
      ],
      "metadata": {
        "id": "VhH4shmabQcn"
      }
    },
    {
      "cell_type": "code",
      "source": [],
      "metadata": {
        "id": "HHAezMEaR2Re"
      },
      "execution_count": null,
      "outputs": []
    },
    {
      "cell_type": "markdown",
      "source": [
        "Me gustaría que me digan por favor, cuáles son las tiendas que vendieron prendas talla 4XL y que me digan la cantidad que prenda que vendieron dichas tiendas y su revenue (para cada una de dichas tiendas)\n",
        "\n",
        "Ahora que ya saben qué tiendas vendieron prendas 4xl, por favor hagan una gráfica en la que se observe la cantidad de prendas vs el revenue que generaron (un gráfico de líneas creo que podría ser adecuado). \n"
      ],
      "metadata": {
        "id": "l0TbrsBSR29c"
      }
    },
    {
      "cell_type": "code",
      "source": [],
      "metadata": {
        "id": "EpQSDfgdTjiP"
      },
      "execution_count": null,
      "outputs": []
    },
    {
      "cell_type": "markdown",
      "source": [
        "Finalmente, por favor tomen la variable \"unit_price\", \"quantity\" y \"revenue\", separenla en un dataframe independiente y después crucen las variables en un gráfico que me permita ver la posible correlación existente entre estas variables. "
      ],
      "metadata": {
        "id": "_k3v7lXyTtAV"
      }
    },
    {
      "cell_type": "code",
      "source": [],
      "metadata": {
        "id": "X9OxRW-3TsUT"
      },
      "execution_count": null,
      "outputs": []
    }
  ]
}